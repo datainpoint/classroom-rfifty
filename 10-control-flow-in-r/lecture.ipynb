{
 "cells": [
  {
   "cell_type": "markdown",
   "metadata": {
    "slideshow": {
     "slide_type": "slide"
    }
   },
   "source": [
    "# R 程式設計\n",
    "\n",
    "> 流程控制\n",
    "\n",
    "[數據交點](https://www.datainpoint.com/) | 郭耀仁 <yaojenkuo@datainpoint.com>"
   ]
  },
  {
   "cell_type": "markdown",
   "metadata": {
    "slideshow": {
     "slide_type": "subslide"
    }
   },
   "source": [
    "## 什麼是流程控制\n",
    "\n",
    "> 在程式執行時，特定區塊的程式碼執行的依據、重複次數以及先後順序等，像是特定條件成立的時候執行一段程式或者重複執行一段程式直到特定條件成立為止。\n",
    "\n",
    "Source: <https://en.wikipedia.org/wiki/Control_flow>"
   ]
  },
  {
   "cell_type": "markdown",
   "metadata": {
    "slideshow": {
     "slide_type": "subslide"
    }
   },
   "source": [
    "## 流程控制的種類\n",
    "\n",
    "- 條件判斷\n",
    "- 迴圈"
   ]
  },
  {
   "cell_type": "markdown",
   "metadata": {
    "slideshow": {
     "slide_type": "slide"
    }
   },
   "source": [
    "## 條件判斷"
   ]
  },
  {
   "cell_type": "markdown",
   "metadata": {
    "slideshow": {
     "slide_type": "subslide"
    }
   },
   "source": [
    "## 什麼是條件判斷\n",
    "\n",
    "> 條件判斷是依指定變數或者運算的布林值為真或假時，來決定是否執行一段位於某區塊內的程式，透過 `if-else` 指令可以根據指定條件是否成立，決定後續要執行的程式，也可以組合多個 `if-else` 指令進行更複雜的條件判斷。\n",
    "\n",
    "Source: https://en.wikipedia.org/wiki/Conditional_(computer_programming)"
   ]
  },
  {
   "cell_type": "markdown",
   "metadata": {
    "slideshow": {
     "slide_type": "subslide"
    }
   },
   "source": [
    "## `if` 做單一程式分支的區塊\n",
    "\n",
    "- `if` 保留字\n",
    "- `CONDITION` 是一段能產生邏輯值向量的敘述"
   ]
  },
  {
   "cell_type": "markdown",
   "metadata": {
    "slideshow": {
     "slide_type": "-"
    }
   },
   "source": [
    "```r\n",
    "# single branch\n",
    "if (CONDITION) {\n",
    "  # do something when CONDITION is evaluated as TRUE\n",
    "}\n",
    "```"
   ]
  },
  {
   "cell_type": "markdown",
   "metadata": {
    "slideshow": {
     "slide_type": "subslide"
    }
   },
   "source": [
    "## 如果一個整數除以 2 的餘數為 1 就是奇數，否則是偶數"
   ]
  },
  {
   "cell_type": "code",
   "execution_count": 1,
   "metadata": {
    "slideshow": {
     "slide_type": "-"
    }
   },
   "outputs": [
    {
     "data": {
      "text/html": [
       "'5是奇數'"
      ],
      "text/latex": [
       "'5是奇數'"
      ],
      "text/markdown": [
       "'5是奇數'"
      ],
      "text/plain": [
       "[1] \"5是奇數\""
      ]
     },
     "metadata": {},
     "output_type": "display_data"
    }
   ],
   "source": [
    "an_integer <- 5\n",
    "if (an_integer %% 2 == 1) {\n",
    "    sprintf(\"%s是奇數\", an_integer)\n",
    "}\n",
    "if (an_integer %% 2 == 0) {\n",
    "    sprintf(\"%s是偶數\", an_integer)\n",
    "}"
   ]
  },
  {
   "cell_type": "code",
   "execution_count": 2,
   "metadata": {
    "slideshow": {
     "slide_type": "subslide"
    }
   },
   "outputs": [
    {
     "data": {
      "text/html": [
       "'0是偶數'"
      ],
      "text/latex": [
       "'0是偶數'"
      ],
      "text/markdown": [
       "'0是偶數'"
      ],
      "text/plain": [
       "[1] \"0是偶數\""
      ]
     },
     "metadata": {},
     "output_type": "display_data"
    }
   ],
   "source": [
    "an_integer <- 0\n",
    "if (an_integer %% 2 == 1) {\n",
    "    sprintf(\"%s是奇數\", an_integer)\n",
    "}\n",
    "if (an_integer %% 2 == 0) {\n",
    "    sprintf(\"%s是偶數\", an_integer)\n",
    "}"
   ]
  },
  {
   "cell_type": "markdown",
   "metadata": {
    "slideshow": {
     "slide_type": "subslide"
    }
   },
   "source": [
    "## `if else` 做兩個程式分支的區塊\n",
    "\n",
    "- `if`, `else` 保留字\n",
    "- `CONDITION` 是一段能產生邏輯值向量的敘述"
   ]
  },
  {
   "cell_type": "markdown",
   "metadata": {
    "slideshow": {
     "slide_type": "-"
    }
   },
   "source": [
    "```r\n",
    "# 2 branches\n",
    "if (CONDITION) {\n",
    "  # do something when CONDITION is evaluated as TRUE\n",
    "} else {\n",
    "  # do something when CONDITION is evaluated as FALSE\n",
    "}\n",
    "```"
   ]
  },
  {
   "cell_type": "markdown",
   "metadata": {
    "slideshow": {
     "slide_type": "subslide"
    }
   },
   "source": [
    "## 如果一個整數除以 2 的餘數為 1 就是奇數，否則是偶數"
   ]
  },
  {
   "cell_type": "code",
   "execution_count": 3,
   "metadata": {},
   "outputs": [
    {
     "data": {
      "text/html": [
       "'5是奇數'"
      ],
      "text/latex": [
       "'5是奇數'"
      ],
      "text/markdown": [
       "'5是奇數'"
      ],
      "text/plain": [
       "[1] \"5是奇數\""
      ]
     },
     "metadata": {},
     "output_type": "display_data"
    }
   ],
   "source": [
    "an_integer <- 5\n",
    "if (an_integer %% 2 == 1) {\n",
    "    sprintf(\"%s是奇數\", an_integer)\n",
    "} else {\n",
    "    sprintf(\"%s是偶數\", an_integer)\n",
    "}"
   ]
  },
  {
   "cell_type": "code",
   "execution_count": 4,
   "metadata": {
    "slideshow": {
     "slide_type": "subslide"
    }
   },
   "outputs": [
    {
     "data": {
      "text/html": [
       "'0是偶數'"
      ],
      "text/latex": [
       "'0是偶數'"
      ],
      "text/markdown": [
       "'0是偶數'"
      ],
      "text/plain": [
       "[1] \"0是偶數\""
      ]
     },
     "metadata": {},
     "output_type": "display_data"
    }
   ],
   "source": [
    "an_integer <- 0\n",
    "if (an_integer %% 2 == 1) {\n",
    "    sprintf(\"%s是奇數\", an_integer)\n",
    "} else {\n",
    "    sprintf(\"%s是偶數\", an_integer)\n",
    "}"
   ]
  },
  {
   "cell_type": "markdown",
   "metadata": {
    "slideshow": {
     "slide_type": "subslide"
    }
   },
   "source": [
    "## `if-else if-else` 做三個以上程式分支的區塊\n",
    "\n",
    "- `if`, `else if`, `else` 保留字\n",
    "- `CONDITION_1`、`CONDITION_2` 皆是能產生邏輯值向量的敘述"
   ]
  },
  {
   "cell_type": "markdown",
   "metadata": {
    "slideshow": {
     "slide_type": "-"
    }
   },
   "source": [
    "```r\n",
    "# 3 branches\n",
    "if (CONDITION_1) {\n",
    "  # do something when CONDITION_1 is evaluated as TRUE\n",
    "} else if (CONDITION_2) {\n",
    "  # do something when CONDITION_2 is evaluated as TRUE\n",
    "} else {\n",
    "  # do something when CONDITION_1 & CONDITION_2 are both evaluated as FALSE\n",
    "}\n",
    "```"
   ]
  },
  {
   "cell_type": "markdown",
   "metadata": {
    "slideshow": {
     "slide_type": "subslide"
    }
   },
   "source": [
    "## 一個整數除以 3 的餘數可能為 0、1 或 2"
   ]
  },
  {
   "cell_type": "code",
   "execution_count": 5,
   "metadata": {},
   "outputs": [
    {
     "data": {
      "text/html": [
       "'3除以3的餘數為0'"
      ],
      "text/latex": [
       "'3除以3的餘數為0'"
      ],
      "text/markdown": [
       "'3除以3的餘數為0'"
      ],
      "text/plain": [
       "[1] \"3除以3的餘數為0\""
      ]
     },
     "metadata": {},
     "output_type": "display_data"
    }
   ],
   "source": [
    "an_integer <- 3\n",
    "if (an_integer %% 3 == 0) {\n",
    "    sprintf(\"%s除以3的餘數為0\", an_integer)\n",
    "} else if (an_integer %% 3 == 1) {\n",
    "    sprintf(\"%s除以3的餘數為1\", an_integer)\n",
    "} else {\n",
    "    sprintf(\"%s除以3的餘數為2\", an_integer)\n",
    "}"
   ]
  },
  {
   "cell_type": "code",
   "execution_count": 6,
   "metadata": {
    "slideshow": {
     "slide_type": "subslide"
    }
   },
   "outputs": [
    {
     "data": {
      "text/html": [
       "'4除以3的餘數為1'"
      ],
      "text/latex": [
       "'4除以3的餘數為1'"
      ],
      "text/markdown": [
       "'4除以3的餘數為1'"
      ],
      "text/plain": [
       "[1] \"4除以3的餘數為1\""
      ]
     },
     "metadata": {},
     "output_type": "display_data"
    }
   ],
   "source": [
    "an_integer <- 4\n",
    "if (an_integer %% 3 == 0) {\n",
    "    sprintf(\"%s除以3的餘數為0\", an_integer)\n",
    "} else if (an_integer %% 3 == 1) {\n",
    "    sprintf(\"%s除以3的餘數為1\", an_integer)\n",
    "} else {\n",
    "    sprintf(\"%s除以3的餘數為2\", an_integer)\n",
    "}"
   ]
  },
  {
   "cell_type": "code",
   "execution_count": 7,
   "metadata": {
    "slideshow": {
     "slide_type": "subslide"
    }
   },
   "outputs": [
    {
     "data": {
      "text/html": [
       "'5除以3的餘數為2'"
      ],
      "text/latex": [
       "'5除以3的餘數為2'"
      ],
      "text/markdown": [
       "'5除以3的餘數為2'"
      ],
      "text/plain": [
       "[1] \"5除以3的餘數為2\""
      ]
     },
     "metadata": {},
     "output_type": "display_data"
    }
   ],
   "source": [
    "an_integer <- 5\n",
    "if (an_integer %% 3 == 0) {\n",
    "    sprintf(\"%s除以3的餘數為0\", an_integer)\n",
    "} else if (an_integer %% 3 == 1) {\n",
    "    sprintf(\"%s除以3的餘數為1\", an_integer)\n",
    "} else {\n",
    "    sprintf(\"%s除以3的餘數為2\", an_integer)\n",
    "}"
   ]
  },
  {
   "cell_type": "markdown",
   "metadata": {
    "slideshow": {
     "slide_type": "slide"
    }
   },
   "source": [
    "## 迴圈"
   ]
  },
  {
   "cell_type": "markdown",
   "metadata": {
    "slideshow": {
     "slide_type": "subslide"
    }
   },
   "source": [
    "## 什麼是迴圈\n",
    "\n",
    "> 迴圈是一種常見的流程控制，雖然在程式中只會出現一次、但卻可能被連續執行多次的程式碼，迴圈中的程式碼會執行特定的次數、執行到特定條件成立時結束或者針對資料結構中的所有內容遍歷。\n",
    "\n",
    "Source: <https://en.wikipedia.org/wiki/Control_flow#Loops>"
   ]
  },
  {
   "cell_type": "markdown",
   "metadata": {
    "slideshow": {
     "slide_type": "subslide"
    }
   },
   "source": [
    "## 迴圈能夠幫我們將資料結構中的資料一筆一筆取出來\n",
    "\n",
    "- `while` 迴圈\n",
    "- `for` 迴圈"
   ]
  },
  {
   "cell_type": "markdown",
   "metadata": {
    "slideshow": {
     "slide_type": "subslide"
    }
   },
   "source": [
    "## 組成迴圈的三個要件\n",
    "\n",
    "- 起始值（start）：迭代資料的起點在哪裡？\n",
    "- 終止值（stop）：迭代資料的終點在哪裡？\n",
    "- 間隔（step）：從起點移動到終點的步幅為多少？"
   ]
  },
  {
   "cell_type": "markdown",
   "metadata": {
    "slideshow": {
     "slide_type": "subslide"
    }
   },
   "source": [
    "## `while` 迴圈的程式區塊\n",
    "\n",
    "- 保留字 `while`\n",
    "- 起始值（start）\n",
    "- 終止值（stop）：被評估為邏輯值向量的敘述 `CONDITION`\n",
    "- 間隔（step）"
   ]
  },
  {
   "cell_type": "markdown",
   "metadata": {
    "slideshow": {
     "slide_type": "subslide"
    }
   },
   "source": [
    "```r\n",
    "i <- start # start\n",
    "while (CONDITION) {  # stop\n",
    "  # Codes written here will be ran repeatedly\n",
    "  # until EXPR is evaluated as FALSE\n",
    "  i <- i + step # step\n",
    "}\n",
    "```"
   ]
  },
  {
   "cell_type": "code",
   "execution_count": 8,
   "metadata": {
    "slideshow": {
     "slide_type": "subslide"
    }
   },
   "outputs": [
    {
     "name": "stdout",
     "output_type": "stream",
     "text": [
      "[1] 1\n",
      "[1] 3\n",
      "[1] 5\n",
      "[1] 7\n",
      "[1] 9\n"
     ]
    }
   ],
   "source": [
    "i <- 1\n",
    "while (i <= 10) {\n",
    "    print(i)\n",
    "    i <- i + 2\n",
    "}"
   ]
  },
  {
   "cell_type": "markdown",
   "metadata": {
    "slideshow": {
     "slide_type": "subslide"
    }
   },
   "source": [
    "## `for` 迴圈的程式區塊\n",
    "\n",
    "- 保留字 `for` 與 `in`\n",
    "- ITERATOR 迭代變數\n",
    "- ITERABLE 可迭代的物件（指派了 start、stop 與 step）\n",
    "- 重複任務"
   ]
  },
  {
   "cell_type": "markdown",
   "metadata": {
    "slideshow": {
     "slide_type": "subslide"
    }
   },
   "source": [
    "```r\n",
    "for (i in ITERABLE) { # start/stop/step\n",
    "  # Codes written here will be ran repeatedly\n",
    "  # until i reaches the end of ITERABLE\n",
    "}\n",
    "```"
   ]
  },
  {
   "cell_type": "code",
   "execution_count": 9,
   "metadata": {},
   "outputs": [
    {
     "name": "stdout",
     "output_type": "stream",
     "text": [
      "[1] 1\n",
      "[1] 3\n",
      "[1] 5\n",
      "[1] 7\n",
      "[1] 9\n"
     ]
    }
   ],
   "source": [
    "for (i in seq(1, 10, 2)) {\n",
    "    print(i)\n",
    "}"
   ]
  },
  {
   "cell_type": "markdown",
   "metadata": {
    "slideshow": {
     "slide_type": "subslide"
    }
   },
   "source": [
    "## 常見的迴圈任務\n",
    "\n",
    "- `print()`\n",
    "- 加總（Summation）\n",
    "- 計數（Counter）\n",
    "- 乘積（Product）\n",
    "- 合併（Combine）"
   ]
  },
  {
   "cell_type": "markdown",
   "metadata": {
    "slideshow": {
     "slide_type": "subslide"
    }
   },
   "source": [
    "## 嚴格說來，如果我們面對的是向量，多數的任務不需要撰寫迴圈\n",
    "\n",
    "- 加總（Summation）\n",
    "- 計數（Counter）\n",
    "- 乘積（Product）"
   ]
  },
  {
   "cell_type": "markdown",
   "metadata": {
    "slideshow": {
     "slide_type": "subslide"
    }
   },
   "source": [
    "## 面對向量，我們尋找的是函數"
   ]
  },
  {
   "cell_type": "code",
   "execution_count": 10,
   "metadata": {
    "slideshow": {
     "slide_type": "-"
    }
   },
   "outputs": [
    {
     "data": {
      "text/html": [
       "40"
      ],
      "text/latex": [
       "40"
      ],
      "text/markdown": [
       "40"
      ],
      "text/plain": [
       "[1] 40"
      ]
     },
     "metadata": {},
     "output_type": "display_data"
    }
   ],
   "source": [
    "# 加總（Summation）\n",
    "vec <- 6:10\n",
    "sum(vec)"
   ]
  },
  {
   "cell_type": "code",
   "execution_count": 11,
   "metadata": {
    "slideshow": {
     "slide_type": "-"
    }
   },
   "outputs": [
    {
     "data": {
      "text/html": [
       "5"
      ],
      "text/latex": [
       "5"
      ],
      "text/markdown": [
       "5"
      ],
      "text/plain": [
       "[1] 5"
      ]
     },
     "metadata": {},
     "output_type": "display_data"
    }
   ],
   "source": [
    "# 計數（Counter）\n",
    "vec <- 6:10\n",
    "length(vec)"
   ]
  },
  {
   "cell_type": "code",
   "execution_count": 12,
   "metadata": {
    "slideshow": {
     "slide_type": "-"
    }
   },
   "outputs": [
    {
     "data": {
      "text/html": [
       "30240"
      ],
      "text/latex": [
       "30240"
      ],
      "text/markdown": [
       "30240"
      ],
      "text/plain": [
       "[1] 30240"
      ]
     },
     "metadata": {},
     "output_type": "display_data"
    }
   ],
   "source": [
    "# 乘積（Product）\n",
    "vec <- 6:10\n",
    "prod(vec)"
   ]
  },
  {
   "cell_type": "markdown",
   "metadata": {
    "slideshow": {
     "slide_type": "subslide"
    }
   },
   "source": [
    "## 多數的情況下，需要我們去迭代的對象是\n",
    "\n",
    "- `list`\n",
    "- `data.frame`"
   ]
  },
  {
   "cell_type": "markdown",
   "metadata": {
    "slideshow": {
     "slide_type": "subslide"
    }
   },
   "source": [
    "## 如何以 `while` 迭代一個 `list`"
   ]
  },
  {
   "cell_type": "code",
   "execution_count": 13,
   "metadata": {
    "slideshow": {
     "slide_type": "-"
    }
   },
   "outputs": [
    {
     "name": "stdout",
     "output_type": "stream",
     "text": [
      "[1] 6\n",
      "[1] 7\n",
      "[1] 8\n",
      "[1] 9\n",
      "[1] 10\n"
     ]
    }
   ],
   "source": [
    "a_list <- list(6, 7, 8, 9, 10)\n",
    "i <- 1\n",
    "while (i <= length(a_list)) {\n",
    "    print(a_list[[i]])\n",
    "    i <- i + 1\n",
    "}"
   ]
  },
  {
   "cell_type": "markdown",
   "metadata": {
    "slideshow": {
     "slide_type": "subslide"
    }
   },
   "source": [
    "## 如何以 `for` 迭代一個 `list`"
   ]
  },
  {
   "cell_type": "code",
   "execution_count": 14,
   "metadata": {},
   "outputs": [
    {
     "name": "stdout",
     "output_type": "stream",
     "text": [
      "[1] 6\n",
      "[1] 7\n",
      "[1] 8\n",
      "[1] 9\n",
      "[1] 10\n"
     ]
    }
   ],
   "source": [
    "a_list <- list(6, 7, 8, 9, 10)\n",
    "for (item in a_list) {\n",
    "    print(item)\n",
    "}"
   ]
  },
  {
   "cell_type": "markdown",
   "metadata": {
    "slideshow": {
     "slide_type": "subslide"
    }
   },
   "source": [
    "## 如何以 `while` 迭代一個 `data.frame` 的列（rows）"
   ]
  },
  {
   "cell_type": "code",
   "execution_count": 15,
   "metadata": {},
   "outputs": [],
   "source": [
    "avengers <- c(\"The Avengers\", \"Avengers: Age of Ultron\", \"Avengers: Infinity War\", \"Avengers: Endgame\")\n",
    "ratings <- c(8.0, 7.3, 8.4, 8.4)\n",
    "release_year <- c(2012, 2015, 2018, 2019)\n",
    "is_good <- ratings >= 8\n",
    "avengers_df <- data.frame(title = avengers, rating = ratings, release_year, is_good)"
   ]
  },
  {
   "cell_type": "code",
   "execution_count": 16,
   "metadata": {
    "slideshow": {
     "slide_type": "subslide"
    }
   },
   "outputs": [
    {
     "name": "stdout",
     "output_type": "stream",
     "text": [
      "         title rating release_year is_good\n",
      "1 The Avengers      8         2012    TRUE\n",
      "                    title rating release_year is_good\n",
      "2 Avengers: Age of Ultron    7.3         2015   FALSE\n",
      "                   title rating release_year is_good\n",
      "3 Avengers: Infinity War    8.4         2018    TRUE\n",
      "              title rating release_year is_good\n",
      "4 Avengers: Endgame    8.4         2019    TRUE\n"
     ]
    }
   ],
   "source": [
    "i <- 1\n",
    "while (i <= nrow(avengers_df)) {\n",
    "    print(avengers_df[i, ])\n",
    "    i <- i + 1\n",
    "}"
   ]
  },
  {
   "cell_type": "markdown",
   "metadata": {
    "slideshow": {
     "slide_type": "subslide"
    }
   },
   "source": [
    "## 如何以 `while` 迭代一個 `data.frame` 的欄（columns）"
   ]
  },
  {
   "cell_type": "code",
   "execution_count": 17,
   "metadata": {},
   "outputs": [
    {
     "name": "stdout",
     "output_type": "stream",
     "text": [
      "[1] \"The Avengers\"            \"Avengers: Age of Ultron\"\n",
      "[3] \"Avengers: Infinity War\"  \"Avengers: Endgame\"      \n",
      "[1] 8.0 7.3 8.4 8.4\n",
      "[1] 2012 2015 2018 2019\n",
      "[1]  TRUE FALSE  TRUE  TRUE\n"
     ]
    }
   ],
   "source": [
    "i <- 1\n",
    "while (i <= ncol(avengers_df)) {\n",
    "    print(avengers_df[, i])\n",
    "    i <- i + 1\n",
    "}"
   ]
  },
  {
   "cell_type": "markdown",
   "metadata": {
    "slideshow": {
     "slide_type": "subslide"
    }
   },
   "source": [
    "## 如何以 `for` 迭代一個 `data.frame` 的列"
   ]
  },
  {
   "cell_type": "code",
   "execution_count": 18,
   "metadata": {},
   "outputs": [
    {
     "name": "stdout",
     "output_type": "stream",
     "text": [
      "         title rating release_year is_good\n",
      "1 The Avengers      8         2012    TRUE\n",
      "                    title rating release_year is_good\n",
      "2 Avengers: Age of Ultron    7.3         2015   FALSE\n",
      "                   title rating release_year is_good\n",
      "3 Avengers: Infinity War    8.4         2018    TRUE\n",
      "              title rating release_year is_good\n",
      "4 Avengers: Endgame    8.4         2019    TRUE\n"
     ]
    }
   ],
   "source": [
    "for (i in 1:nrow(avengers_df)) {\n",
    "    print(avengers_df[i, ])\n",
    "}"
   ]
  },
  {
   "cell_type": "markdown",
   "metadata": {
    "slideshow": {
     "slide_type": "subslide"
    }
   },
   "source": [
    "## 如何以 `for` 迭代一個 `data.frame` 的欄"
   ]
  },
  {
   "cell_type": "code",
   "execution_count": 19,
   "metadata": {},
   "outputs": [
    {
     "name": "stdout",
     "output_type": "stream",
     "text": [
      "[1] \"The Avengers\"            \"Avengers: Age of Ultron\"\n",
      "[3] \"Avengers: Infinity War\"  \"Avengers: Endgame\"      \n",
      "[1] 8.0 7.3 8.4 8.4\n",
      "[1] 2012 2015 2018 2019\n",
      "[1]  TRUE FALSE  TRUE  TRUE\n"
     ]
    }
   ],
   "source": [
    "for (i in 1:ncol(avengers_df)) {\n",
    "    print(avengers_df[, i])\n",
    "}"
   ]
  },
  {
   "cell_type": "markdown",
   "metadata": {
    "slideshow": {
     "slide_type": "subslide"
    }
   },
   "source": [
    "## 所有的 `for` 都可以用 `while` 重現，但反之不然\n",
    "\n",
    "- 確定重複運行次數的情境：採用 `for`\n",
    "- 不確定重複運行次數的情境：採用 `while`"
   ]
  },
  {
   "cell_type": "markdown",
   "metadata": {
    "slideshow": {
     "slide_type": "subslide"
    }
   },
   "source": [
    "## 不確定重複運行次數的情境，包含\n",
    "\n",
    "- 不確定性（Uncertainty）\n",
    "- 隨機性（Randomness）"
   ]
  }
 ],
 "metadata": {
  "celltoolbar": "Slideshow",
  "kernelspec": {
   "display_name": "R",
   "language": "R",
   "name": "ir403"
  },
  "language_info": {
   "codemirror_mode": "r",
   "file_extension": ".r",
   "mimetype": "text/x-r-source",
   "name": "R",
   "pygments_lexer": "r",
   "version": "4.0.5"
  }
 },
 "nbformat": 4,
 "nbformat_minor": 2
}
