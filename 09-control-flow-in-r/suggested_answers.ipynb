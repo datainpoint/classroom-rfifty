{
 "cells": [
  {
   "cell_type": "markdown",
   "metadata": {
    "deletable": false,
    "editable": false
   },
   "source": [
    "# R 程式設計\n",
    "\n",
    "> 流程控制\n",
    "\n",
    "[數據交點](https://www.datainpoint.com/) | 郭耀仁 <yaojenkuo@datainpoint.com>"
   ]
  },
  {
   "cell_type": "markdown",
   "metadata": {
    "deletable": false,
    "editable": false
   },
   "source": [
    "## 練習題指引\n",
    "\n",
    "- 在 `### BEGIN SOLUTION` 與 `### END SOLUTION` 這兩個單行註解之間撰寫能夠得到預期結果的程式。\n",
    "- 可以先在 RStudio 寫出跟預期結果相同的程式後再複製貼上到練習題。\n",
    "- 執行測試的方式為點選上方選單的 Kernel -> Restart & Run All -> Restart and Run All Cells。\n",
    "- 可以每寫一題就執行測試，也可以全部寫完再執行測試。"
   ]
  },
  {
   "cell_type": "markdown",
   "metadata": {},
   "source": [
    "## 自訂一個函數 `calculate_circle` 能夠將輸入的半徑依照參數 `to` 計算為面積或周長，使用 $\\pi = 3.14$。\n",
    "\n",
    "\\begin{equation}\n",
    "Area = \\pi r^2 \\\\\n",
    "Perimeter = 2 \\pi r \\\\\n",
    "\\text{where} \\; \\pi = 3.14\n",
    "\\end{equation}\n",
    "\n",
    "- 預期輸入：一個數值向量、一個文字向量\n",
    "- 預期輸出：一個文字向量"
   ]
  },
  {
   "cell_type": "code",
   "execution_count": 1,
   "metadata": {},
   "outputs": [],
   "source": [
    "calculate_circle <- function(r, to) {\n",
    "    # calculate_circle(3, to='area')\n",
    "    # 28.26\n",
    "    # calculate_circle(3, to='perimeter')\n",
    "    # 18.84\n",
    "    # calculate_circle(4, to='area')\n",
    "    # 50.24\n",
    "    # calculate_circle(4, to='perimeter')\n",
    "    # 25.12\n",
    "    ### BEGIN SOLUTION\n",
    "    my_pi <- 3.14\n",
    "    if (to == 'area') {\n",
    "        return(my_pi*r**2)\n",
    "    } else {\n",
    "        return(2*my_pi*r)\n",
    "    }\n",
    "    ### END SOLUTION\n",
    "}"
   ]
  },
  {
   "cell_type": "markdown",
   "metadata": {},
   "source": [
    "## 自訂一個函數 `convert_degree` 能夠將輸入的溫度度數依照參數 `from` 與 `to` 在攝氏與華氏之間轉換。\n",
    "\n",
    "\\begin{equation}\n",
    "Fahrenheit_{(°F)} = Celsius_{(°C)} \\times \\frac{9}{5} + 32 \\\\\n",
    "Celsius_{(°C)} =  (Fahrenheit_{(°F)} - 32) \\times \\frac{5}{9}\n",
    "\\end{equation}\n",
    "\n",
    "- 預期輸入：一個數值向量、兩個文字向量\n",
    "- 預期輸出：一個數值向量"
   ]
  },
  {
   "cell_type": "code",
   "execution_count": 2,
   "metadata": {},
   "outputs": [],
   "source": [
    "convert_degree <- function(x, from, to) {\n",
    "    # convert_degree(100, from='Celsius', to='Fahrenheit')\n",
    "    # 212.0\n",
    "    # convert_degree(0, from='Celsius', to='Fahrenheit')\n",
    "    # 32.0\n",
    "    # convert_degree(212, from='Fahrenheit', to='Celsius')\n",
    "    # 100.0\n",
    "    # convert_degree(32, from='Fahrenheit', to='Celsius')\n",
    "    # 0.0\n",
    "    ### BEGIN SOLUTION\n",
    "    if (from == 'Celsius') {\n",
    "        return(x*9/5 + 32)\n",
    "    } else {\n",
    "        return((x - 32)*5/9)\n",
    "    }\n",
    "    ### END SOLUTION\n",
    "}"
   ]
  },
  {
   "cell_type": "markdown",
   "metadata": {},
   "source": [
    "## 自訂一個函數 `get_bmi_category` 能夠將輸入的身高（公分）、體重（公斤）換算為 BMI 類別。\n",
    "\n",
    "\\begin{equation}\n",
    "BMI = \\frac{weight_{kg}}{height_{m}^2}\n",
    "\\end{equation}\n",
    "\n",
    "<https://en.wikipedia.org/wiki/Body_mass_index>\n",
    "\n",
    "- 預期輸入：兩個數值向量\n",
    "- 預期輸出：一個文字向量"
   ]
  },
  {
   "cell_type": "code",
   "execution_count": 3,
   "metadata": {},
   "outputs": [],
   "source": [
    "get_bmi_category <- function(height, weight) {\n",
    "    # get_bmi_category(170, 50)\n",
    "    # 'Underweight'\n",
    "    # get_bmi_category(170, 60)\n",
    "    # 'Normal'\n",
    "    # get_bmi_category(206, 113)\n",
    "    # 'Overweight'\n",
    "    # get_bmi_category(216, 147)\n",
    "    # 'Obese'\n",
    "    ### BEGIN SOLUTION\n",
    "    bmi <- weight / (height*0.01)**2\n",
    "    if (bmi > 30) {\n",
    "        category <- 'Obese'\n",
    "    } else if (bmi >= 25) {\n",
    "        category <- 'Overweight'\n",
    "    } else if (bmi >= 18.5) {\n",
    "        category <- 'Normal'\n",
    "    } else {\n",
    "        category <- 'Underweight'\n",
    "    }\n",
    "    return(category)\n",
    "    ### END SOLUTION\n",
    "}"
   ]
  },
  {
   "cell_type": "markdown",
   "metadata": {},
   "source": [
    "## 自訂一個函數 `fizz` 依據是否為 3 的倍數回傳對應文字向量，如果是 3 的倍數輸出 `\"Fizz\"`，否則將輸入的數字直接輸出。\n",
    "\n",
    "- 預期輸入：一個數值向量\n",
    "- 預期輸出：一個文字向量或一個數值向量"
   ]
  },
  {
   "cell_type": "code",
   "execution_count": 4,
   "metadata": {},
   "outputs": [],
   "source": [
    "fizz <- function(x) {\n",
    "    # fizz(3)\n",
    "    # 'Fizz'\n",
    "    # fizz(6)\n",
    "    # 'Fizz'\n",
    "    # fizz(7)\n",
    "    # 7\n",
    "    # fizz(8)\n",
    "    # 8\n",
    "    ### BEGIN SOLUTION\n",
    "    if (x %% 3 == 0) {\n",
    "        return('Fizz')\n",
    "    } else {\n",
    "        return(x)\n",
    "    }\n",
    "    ### END SOLUTION\n",
    "}"
   ]
  },
  {
   "cell_type": "markdown",
   "metadata": {},
   "source": [
    "## 自訂一個函數 `fizz_buzz` 依據是否為 3、5 或 15 的倍數回傳對應文字向量，如果是 3 的倍數輸出 `\"Fizz\"`，如果是 5 的倍數輸出 `\"Buzz\"`，如果是 15 的倍數輸出 `\"Fizz Buzz\"`，否則將輸入的數字直接輸出。\n",
    "\n",
    "- 預期輸入：一個數值向量\n",
    "- 預期輸出：一個文字向量或一個數值向量"
   ]
  },
  {
   "cell_type": "code",
   "execution_count": 5,
   "metadata": {},
   "outputs": [],
   "source": [
    "fizz_buzz <- function(x) {\n",
    "    # fizz_buzz(3)\n",
    "    # 'Fizz'\n",
    "    # fizz_buzz(5)\n",
    "    # 'Buzz'\n",
    "    # fizz_buzz(15)\n",
    "    # 'Fizz Buzz'\n",
    "    # fizz_buzz(16)\n",
    "    # 16\n",
    "    ### BEGIN SOLUTION\n",
    "    if (x %% 15 == 0) {\n",
    "        return('Fizz Buzz')\n",
    "    } else if (x %% 3 == 0) {\n",
    "        return('Fizz')\n",
    "    } else if (x %% 5 == 0) {\n",
    "        return('Buzz')\n",
    "    } else {\n",
    "        return(x)\n",
    "    }\n",
    "    ### END SOLUTION\n",
    "}"
   ]
  },
  {
   "cell_type": "markdown",
   "metadata": {},
   "source": [
    "## 自訂一個函數 `filter_even_and_sum` 能將介於 `a` 與 `b` 之間的偶數挑出來加總後輸出，其中 $a \\leq b$。\n",
    "\n",
    "- 預期輸入：兩個 `numeric`\n",
    "- 預期輸出：一個 `numeric`"
   ]
  },
  {
   "cell_type": "code",
   "execution_count": 6,
   "metadata": {},
   "outputs": [],
   "source": [
    "filter_even_and_sum <- function(a, b) {\n",
    "    # filter_even_and_sum(2, 4)\n",
    "    # 6\n",
    "    # filter_even_and_sum(1, 5)\n",
    "    # 6\n",
    "    # filter_even_and_sum(2, 10)\n",
    "    # 30\n",
    "    # filter_even_and_sum(1, 11)\n",
    "    # 30\n",
    "    ### BEGIN SOLUTION\n",
    "    x <- a:b\n",
    "    evens <- x[x %% 2 == 0]\n",
    "    return(sum(evens))\n",
    "    ### END SOLUTION\n",
    "}"
   ]
  },
  {
   "cell_type": "markdown",
   "metadata": {},
   "source": [
    "## 自訂一個函數 `filter_negative_and_sum` 能將 `list` 中的負數挑出來加總後輸出。\n",
    "\n",
    "- 預期輸入：一個 `list`\n",
    "- 預期輸出：一個 `numeric`"
   ]
  },
  {
   "cell_type": "code",
   "execution_count": 7,
   "metadata": {},
   "outputs": [],
   "source": [
    "filter_negative_and_sum <- function(x) {\n",
    "    # filter_negative_and_sum(list(-5, 5, -6, 6))\n",
    "    # -11\n",
    "    # filter_negative_and_sum(list(-5,-5, -6, -6))\n",
    "    # -22\n",
    "    # filter_negative_and_sum(list(5, 5, 6, 6))\n",
    "    # 0\n",
    "    # filter_negative_and_sum(list(-5, -5, 6, 6))\n",
    "    # -10\n",
    "    # filter_negative_and_sum(list(5, 5, -6, -6))\n",
    "    # -12\n",
    "    ### BEGIN SOLUTION\n",
    "    negatives_sum <- 0\n",
    "    for (item in x) {\n",
    "        if (item < 0) {\n",
    "            negatives_sum <- negatives_sum + item\n",
    "        }\n",
    "    }\n",
    "    return(negatives_sum)\n",
    "    ### END SOLUTION\n",
    "}"
   ]
  },
  {
   "cell_type": "markdown",
   "metadata": {},
   "source": [
    "## 自訂一個函數 `get_factors` 能夠輸出一個正整數的所有因數。\n",
    "\n",
    "- 預期輸入：一個 `numeric`\n",
    "- 預期輸出：一個 `numeric`"
   ]
  },
  {
   "cell_type": "code",
   "execution_count": 8,
   "metadata": {},
   "outputs": [],
   "source": [
    "get_factors <- function(x) {\n",
    "    # get_factors(1)\n",
    "    # 1\n",
    "    # get_factors(2)\n",
    "    # 1 2\n",
    "    # get_factors(3)\n",
    "    # 1 3\n",
    "    # get_factors(4)\n",
    "    # 1 2 4\n",
    "    # get_factors(5)\n",
    "    # 1 5\n",
    "    ### BEGIN SOLUTION\n",
    "    possible_factors <- 1:x\n",
    "    is_factor <- x %% possible_factors == 0\n",
    "    factors <- possible_factors[is_factor]\n",
    "    return(factors)\n",
    "    ### END SOLUTION\n",
    "}"
   ]
  },
  {
   "cell_type": "markdown",
   "metadata": {},
   "source": [
    "## 自訂一個函數 `is_prime` 能夠判斷輸入的正整數是否為質數（恰好有兩個因數 1 與自身的正整數）。\n",
    "\n",
    "- 預期輸入：一個 `numeric`\n",
    "- 預期輸出：一個 `logical`"
   ]
  },
  {
   "cell_type": "code",
   "execution_count": 9,
   "metadata": {},
   "outputs": [],
   "source": [
    "is_prime <- function(x) {\n",
    "    # is_prime(1)\n",
    "    # FALSE\n",
    "    # is_prime(2)\n",
    "    # TRUE\n",
    "    # is_prime(3)\n",
    "    # TRUE\n",
    "    # is_prime(4)\n",
    "    # FALSE\n",
    "    # is_prime(5)\n",
    "    # TRUE\n",
    "    ### BEGIN SOLUTION\n",
    "    factors <- get_factors(x)\n",
    "    n_factors <- length(factors)\n",
    "    return(n_factors == 2)\n",
    "    ### END SOLUTION\n",
    "}"
   ]
  },
  {
   "cell_type": "markdown",
   "metadata": {},
   "source": [
    "## 自訂一個函數 `uppercase_firstname` 能夠將輸入人名轉換為大寫輸出。\n",
    "\n",
    "註：本題可能需要使用到 `strsplit` 與 `toupper` 函數。\n",
    "\n",
    "- 預期輸入：一個 `character`\n",
    "- 預期輸出：一個 `character`"
   ]
  },
  {
   "cell_type": "code",
   "execution_count": 10,
   "metadata": {},
   "outputs": [],
   "source": [
    "uppercase_firstname <- function(x) {\n",
    "    # uppercase_firstname('Luke Skywalker')\n",
    "    # 'LUKE'\n",
    "    # uppercase_firstname('Anakin Skywalker')\n",
    "    # 'ANAKIN'\n",
    "    # uppercase_firstname(c('Luke Skywalker', 'Anakin Skywalker'))\n",
    "    # 'LUKE' 'ANAKIN'\n",
    "    # uppercase_firstname(c('Luke Skywalker', 'Anakin Skywalker', 'Darth Vadar'))\n",
    "    # 'LUKE' 'ANAKIN' 'DARTH'\n",
    "    ### BEGIN SOLUTION\n",
    "    split_names <- strsplit(x, split = \" \")\n",
    "    split_firstnames <- sapply(split_names, FUN = function(x) x[[1]][1])\n",
    "    return(toupper(split_firstnames))\n",
    "    ### END SOLUTION\n",
    "}"
   ]
  },
  {
   "cell_type": "markdown",
   "metadata": {
    "deletable": false,
    "editable": false
   },
   "source": [
    "## 執行測試\n",
    "\n",
    "Kernel -> Restart & Run All -> Restart and Run All Cells."
   ]
  },
  {
   "cell_type": "code",
   "execution_count": 11,
   "metadata": {
    "deletable": false,
    "editable": false
   },
   "outputs": [
    {
     "name": "stdout",
     "output_type": "stream",
     "text": [
      "\u001b[32mTest passed\u001b[39m 🎉\n",
      "\u001b[32mTest passed\u001b[39m 😀\n",
      "\u001b[32mTest passed\u001b[39m 🥳\n",
      "\u001b[32mTest passed\u001b[39m 🥳\n",
      "\u001b[32mTest passed\u001b[39m 🥇\n",
      "\u001b[32mTest passed\u001b[39m 😀\n",
      "\u001b[32mTest passed\u001b[39m 🎊\n",
      "\u001b[32mTest passed\u001b[39m 🥳\n",
      "\u001b[32mTest passed\u001b[39m 😸\n",
      "\u001b[32mTest passed\u001b[39m 🎊\n"
     ]
    }
   ],
   "source": [
    "library(testthat)\n",
    "\n",
    "test_calculate_circle <- tryCatch({\n",
    "    test_that(\"test_calculate_circle\", {\n",
    "        expect_equal(calculate_circle(3, to='area'), 28.26)\n",
    "        expect_equal(calculate_circle(3, to='perimeter'), 18.84)\n",
    "        expect_equal(calculate_circle(4, to='area'), 50.24)\n",
    "        expect_equal(calculate_circle(4, to='perimeter'), 25.12)\n",
    "    })\n",
    "    }, error = function(e) {\n",
    "        FALSE\n",
    "})\n",
    "test_convert_degree <- tryCatch({\n",
    "    test_that(\"test_convert_degree\", {\n",
    "        expect_equal(convert_degree(100, from='Celsius', to='Fahrenheit'), 212.0)\n",
    "        expect_equal(convert_degree(0, from='Celsius', to='Fahrenheit'), 32.0)\n",
    "        expect_equal(convert_degree(212, from='Fahrenheit', to='Celsius'), 100.0)\n",
    "        expect_equal(convert_degree(32, from='Fahrenheit', to='Celsius'), 0.0)\n",
    "    })\n",
    "    }, error = function(e) {\n",
    "        FALSE\n",
    "})\n",
    "test_get_bmi_category <- tryCatch({\n",
    "    test_that(\"test_get_bmi_category\", {\n",
    "        expect_equal(get_bmi_category(170, 50), 'Underweight')\n",
    "        expect_equal(get_bmi_category(170, 60), 'Normal')\n",
    "        expect_equal(get_bmi_category(206, 113), 'Overweight')\n",
    "        expect_equal(get_bmi_category(216, 147), 'Obese')\n",
    "    })\n",
    "    }, error = function(e) {\n",
    "        FALSE\n",
    "})\n",
    "test_fizz <- tryCatch({\n",
    "    test_that(\"test_fizz\", {\n",
    "        expect_equal(fizz(3), 'Fizz')\n",
    "        expect_equal(fizz(6), 'Fizz')\n",
    "        expect_equal(fizz(7), 7)\n",
    "        expect_equal(fizz(8), 8)\n",
    "    })\n",
    "    }, error = function(e) {\n",
    "        FALSE\n",
    "})\n",
    "test_fizz_buzz <- tryCatch({\n",
    "    test_that(\"test_fizz\", {\n",
    "        expect_equal(fizz_buzz(3), 'Fizz')\n",
    "        expect_equal(fizz_buzz(5), 'Buzz')\n",
    "        expect_equal(fizz_buzz(15), 'Fizz Buzz')\n",
    "        expect_equal(fizz_buzz(16), 16)\n",
    "    })\n",
    "    }, error = function(e) {\n",
    "        FALSE\n",
    "})\n",
    "\n",
    "test_filter_even_and_sum <- tryCatch({\n",
    "    test_that(\"test_filter_even_and_sum\", {\n",
    "        expect_equal(filter_even_and_sum(2, 4), 6)\n",
    "        expect_equal(filter_even_and_sum(1, 5), 6)\n",
    "        expect_equal(filter_even_and_sum(2, 10), 30)\n",
    "        expect_equal(filter_even_and_sum(1, 11), 30)\n",
    "    })\n",
    "    }, error = function(e) {\n",
    "        FALSE\n",
    "})\n",
    "\n",
    "test_filter_negative_and_sum <- tryCatch({\n",
    "    test_that(\"test_filter_negative_and_sum\", {\n",
    "        expect_equal(filter_negative_and_sum(list(-5, 5, -6, 6)), -11)\n",
    "        expect_equal(filter_negative_and_sum(list(-5,-5, -6, -6)), -22)\n",
    "        expect_equal(filter_negative_and_sum(list(5, 5, 6, 6)), 0)\n",
    "        expect_equal(filter_negative_and_sum(list(-5, -5, 6, 6)), -10)\n",
    "        expect_equal(filter_negative_and_sum(list(5, 5, -6, -6)), -12)\n",
    "    })\n",
    "    }, error = function(e) {\n",
    "        FALSE\n",
    "})\n",
    "test_get_factors <- tryCatch({\n",
    "    test_that(\"test_get_factors\", {\n",
    "        expect_equal(get_factors(1), 1)\n",
    "        expect_equal(get_factors(2), c(1, 2))\n",
    "        expect_equal(get_factors(3), c(1, 3))\n",
    "        expect_equal(get_factors(4), c(1, 2, 4))\n",
    "        expect_equal(get_factors(5), c(1, 5))\n",
    "    })\n",
    "    }, error = function(e) {\n",
    "        FALSE\n",
    "})\n",
    "test_is_prime <- tryCatch({\n",
    "    test_that(\"test_is_prime\", {\n",
    "        expect_false(is_prime(1))\n",
    "        expect_true(is_prime(2))\n",
    "        expect_true(is_prime(3))\n",
    "        expect_false(is_prime(4))\n",
    "        expect_true(is_prime(5))\n",
    "    })\n",
    "    }, error = function(e) {\n",
    "        FALSE\n",
    "})\n",
    "test_uppercase_firstname <- tryCatch({\n",
    "    test_that(\"test_uppercase_firstname\", {\n",
    "        expect_equal(uppercase_firstname('Luke Skywalker'), 'LUKE')\n",
    "        expect_equal(uppercase_firstname('Anakin Skywalker'), 'ANAKIN')\n",
    "        expect_equal(uppercase_firstname(c('Luke Skywalker', 'Anakin Skywalker')), c('LUKE', 'ANAKIN'))\n",
    "        expect_equal(uppercase_firstname(c('Luke Skywalker', 'Anakin Skywalker', 'Darth Vadar')), c('LUKE', 'ANAKIN', 'DARTH'))\n",
    "    })\n",
    "    }, error = function(e) {\n",
    "        FALSE\n",
    "})"
   ]
  },
  {
   "cell_type": "code",
   "execution_count": 12,
   "metadata": {
    "deletable": false,
    "editable": false
   },
   "outputs": [
    {
     "data": {
      "text/html": [
       "'在 10 題中，您總共答對了 10 題。'"
      ],
      "text/latex": [
       "'在 10 題中，您總共答對了 10 題。'"
      ],
      "text/markdown": [
       "'在 10 題中，您總共答對了 10 題。'"
      ],
      "text/plain": [
       "[1] \"在 10 題中，您總共答對了 10 題。\""
      ]
     },
     "metadata": {},
     "output_type": "display_data"
    }
   ],
   "source": [
    "all_tests <- c(test_calculate_circle, test_convert_degree, test_get_bmi_category, test_fizz, test_fizz_buzz, test_filter_even_and_sum, test_filter_negative_and_sum, test_get_factors, test_is_prime, test_uppercase_firstname)\n",
    "passed_tests <- sum(all_tests)\n",
    "sprintf(\"在 %s 題中，您總共答對了 %s 題。\", length(all_tests), passed_tests)"
   ]
  }
 ],
 "metadata": {
  "kernelspec": {
   "display_name": "R",
   "language": "R",
   "name": "ir403"
  },
  "language_info": {
   "codemirror_mode": "r",
   "file_extension": ".r",
   "mimetype": "text/x-r-source",
   "name": "R",
   "pygments_lexer": "r",
   "version": "4.0.5"
  }
 },
 "nbformat": 4,
 "nbformat_minor": 4
}
