{
 "cells": [
  {
   "cell_type": "code",
   "execution_count": 1,
   "id": "efficient-parallel",
   "metadata": {},
   "outputs": [],
   "source": [
    "import pandas as pd\n",
    "\n",
    "url = \"https://en.wikipedia.org/wiki/All-time_Olympic_Games_medal_table\"\n",
    "tables = pd.read_html(url, match=\"Summer Olympic Games\")\n",
    "medal_table = tables[0]\n",
    "medal_table.columns = [\"team_name\", \n",
    "                       \"summer_games\", \"summer_golds\", \"summer_silvers\", \"summer_bronzes\", \"summer_total\",\n",
    "                       \"winter_games\", \"winter_golds\", \"winter_silvers\", \"winter_bronzes\", \"winter_total\",\n",
    "                       \"combined_games\", \"combined_golds\", \"combined_silvers\", \"combined_bronzes\", \"combined_total\"]\n",
    "medal_table[\"team_name\"] = medal_table[\"team_name\"].str.split(pat=\"\\xa0\\(\", expand=True)[0]"
   ]
  },
  {
   "cell_type": "code",
   "execution_count": 2,
   "id": "wanted-impact",
   "metadata": {},
   "outputs": [],
   "source": [
    "medal_table.to_csv(\"olympic_games_medal_table.csv\", index=False)"
   ]
  }
 ],
 "metadata": {
  "kernelspec": {
   "display_name": "Python Data Science",
   "language": "python",
   "name": "pyds"
  },
  "language_info": {
   "codemirror_mode": {
    "name": "ipython",
    "version": 3
   },
   "file_extension": ".py",
   "mimetype": "text/x-python",
   "name": "python",
   "nbconvert_exporter": "python",
   "pygments_lexer": "ipython3",
   "version": "3.8.10"
  }
 },
 "nbformat": 4,
 "nbformat_minor": 5
}
