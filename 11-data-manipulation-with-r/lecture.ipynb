{
 "cells": [
  {
   "cell_type": "markdown",
   "metadata": {
    "slideshow": {
     "slide_type": "slide"
    }
   },
   "source": [
    "# R 語言的五十道練習\n",
    "\n",
    "> 資料框處理\n",
    "\n",
    "[數據交點](https://www.datainpoint.com/) | 郭耀仁 <yaojenkuo@datainpoint.com>"
   ]
  },
  {
   "cell_type": "markdown",
   "metadata": {
    "slideshow": {
     "slide_type": "slide"
    }
   },
   "source": [
    "## 常用檢視資料框的函數"
   ]
  },
  {
   "cell_type": "markdown",
   "metadata": {
    "slideshow": {
     "slide_type": "subslide"
    }
   },
   "source": [
    "## 常見檢視資料框的函數一覽\n",
    "\n",
    "- `dim()`、`nrow()` 與 `ncol()` 檢視外觀。\n",
    "- `colnames()` 與 `row.names()` 檢視變數名稱與觀測值索引。\n",
    "- `summary()` 描述性統計。\n",
    "- `str()` 詳細資訊。\n",
    "- `View()`、`head()` 與 `tail()` 顯示資料框。"
   ]
  },
  {
   "cell_type": "markdown",
   "metadata": {
    "slideshow": {
     "slide_type": "subslide"
    }
   },
   "source": [
    "## 範例資料來源\n",
    "\n",
    "[COVID-19 Data Repository by the Center for Systems Science and Engineering (CSSE) at Johns Hopkins University](https://github.com/CSSEGISandData/COVID-19)"
   ]
  },
  {
   "cell_type": "code",
   "execution_count": 1,
   "metadata": {
    "slideshow": {
     "slide_type": "subslide"
    }
   },
   "outputs": [],
   "source": [
    "get_daily_report <- function() {\n",
    "    file_date <- format(Sys.Date() - 2, \"%m-%d-%Y\")\n",
    "    csv_url <- paste0(\"https://raw.githubusercontent.com/CSSEGISandData/COVID-19/master/csse_covid_19_data/\",\n",
    "                      \"csse_covid_19_daily_reports/\",\n",
    "                      file_date,\n",
    "                      \".csv\"\n",
    "                     )\n",
    "    daily_report <- read.csv(csv_url)\n",
    "    return(daily_report)\n",
    "}\n",
    "daily_report <- get_daily_report()"
   ]
  },
  {
   "cell_type": "code",
   "execution_count": 2,
   "metadata": {
    "slideshow": {
     "slide_type": "subslide"
    }
   },
   "outputs": [
    {
     "name": "stdout",
     "output_type": "stream",
     "text": [
      "[1] 3987\n",
      "[1] 14\n",
      "[1] 3987   14\n"
     ]
    }
   ],
   "source": [
    "print(nrow(daily_report))\n",
    "print(ncol(daily_report))\n",
    "print(dim(daily_report))"
   ]
  },
  {
   "cell_type": "code",
   "execution_count": 3,
   "metadata": {
    "slideshow": {
     "slide_type": "subslide"
    }
   },
   "outputs": [
    {
     "name": "stdout",
     "output_type": "stream",
     "text": [
      " [1] \"FIPS\"                \"Admin2\"              \"Province_State\"     \n",
      " [4] \"Country_Region\"      \"Last_Update\"         \"Lat\"                \n",
      " [7] \"Long_\"               \"Confirmed\"           \"Deaths\"             \n",
      "[10] \"Recovered\"           \"Active\"              \"Combined_Key\"       \n",
      "[13] \"Incident_Rate\"       \"Case_Fatality_Ratio\"\n",
      " [1] \"1\"  \"2\"  \"3\"  \"4\"  \"5\"  \"6\"  \"7\"  \"8\"  \"9\"  \"10\"\n"
     ]
    }
   ],
   "source": [
    "print(colnames(daily_report))\n",
    "print(row.names(daily_report)[1:10])"
   ]
  },
  {
   "cell_type": "code",
   "execution_count": 4,
   "metadata": {
    "slideshow": {
     "slide_type": "subslide"
    }
   },
   "outputs": [
    {
     "data": {
      "text/plain": [
       "      FIPS          Admin2          Province_State     Country_Region    \n",
       " Min.   :   66   Length:3987        Length:3987        Length:3987       \n",
       " 1st Qu.:19050   Class :character   Class :character   Class :character  \n",
       " Median :30068   Mode  :character   Mode  :character   Mode  :character  \n",
       " Mean   :32401                                                           \n",
       " 3rd Qu.:47040                                                           \n",
       " Max.   :99999                                                           \n",
       " NA's   :721                                                             \n",
       " Last_Update             Lat             Long_           Confirmed      \n",
       " Length:3987        Min.   :-52.37   Min.   :-178.12   Min.   :      0  \n",
       " Class :character   1st Qu.: 33.27   1st Qu.: -96.62   1st Qu.:   1346  \n",
       " Mode  :character   Median : 37.94   Median : -86.85   Median :   3808  \n",
       "                    Mean   : 35.95   Mean   : -71.98   Mean   :  53653  \n",
       "                    3rd Qu.: 42.22   3rd Qu.: -77.49   3rd Qu.:  15766  \n",
       "                    Max.   : 71.71   Max.   : 178.06   Max.   :6537883  \n",
       "                    NA's   :88       NA's   :88                         \n",
       "     Deaths         Recovered       Active        Combined_Key      \n",
       " Min.   :     0.0   Mode:logical   Mode:logical   Length:3987       \n",
       " 1st Qu.:    21.0   NA's:3987      NA's:3987      Class :character  \n",
       " Median :    63.0                                 Mode  :character  \n",
       " Mean   :  1119.6                                                   \n",
       " 3rd Qu.:   229.5                                                   \n",
       " Max.   :144767.0                                                   \n",
       "                                                                    \n",
       " Incident_Rate   Case_Fatality_Ratio\n",
       " Min.   :    0   Min.   :   0.000   \n",
       " 1st Qu.: 7977   1st Qu.:   1.154   \n",
       " Median :10996   Median :   1.668   \n",
       " Mean   :10399   Mean   :   2.664   \n",
       " 3rd Qu.:13281   3rd Qu.:   2.329   \n",
       " Max.   :66658   Max.   :2672.528   \n",
       " NA's   :89      NA's   :38         "
      ]
     },
     "metadata": {},
     "output_type": "display_data"
    }
   ],
   "source": [
    "summary(daily_report)"
   ]
  },
  {
   "cell_type": "code",
   "execution_count": 5,
   "metadata": {
    "slideshow": {
     "slide_type": "subslide"
    }
   },
   "outputs": [
    {
     "name": "stdout",
     "output_type": "stream",
     "text": [
      "'data.frame':\t3987 obs. of  14 variables:\n",
      " $ FIPS               : int  NA NA NA NA NA NA NA NA NA NA ...\n",
      " $ Admin2             : chr  \"\" \"\" \"\" \"\" ...\n",
      " $ Province_State     : chr  \"\" \"\" \"\" \"\" ...\n",
      " $ Country_Region     : chr  \"Afghanistan\" \"Albania\" \"Algeria\" \"Andorra\" ...\n",
      " $ Last_Update        : chr  \"2021-08-26 04:21:28\" \"2021-08-26 04:21:28\" \"2021-08-26 04:21:28\" \"2021-08-26 04:21:28\" ...\n",
      " $ Lat                : num  33.9 41.2 28 42.5 -11.2 ...\n",
      " $ Long_              : num  67.71 20.17 1.66 1.52 17.87 ...\n",
      " $ Confirmed          : int  152722 141365 193171 15014 46539 1598 5155079 239056 314 21471 ...\n",
      " $ Deaths             : int  7090 2483 5096 130 1176 43 110966 4778 3 133 ...\n",
      " $ Recovered          : logi  NA NA NA NA NA NA ...\n",
      " $ Active             : logi  NA NA NA NA NA NA ...\n",
      " $ Combined_Key       : chr  \"Afghanistan\" \"Albania\" \"Algeria\" \"Andorra\" ...\n",
      " $ Incident_Rate      : num  392 4912 441 19432 142 ...\n",
      " $ Case_Fatality_Ratio: num  4.642 1.756 2.638 0.866 2.527 ...\n"
     ]
    }
   ],
   "source": [
    "str(daily_report)"
   ]
  },
  {
   "cell_type": "code",
   "execution_count": 6,
   "metadata": {
    "slideshow": {
     "slide_type": "subslide"
    }
   },
   "outputs": [
    {
     "name": "stdout",
     "output_type": "stream",
     "text": [
      "  FIPS Admin2 Province_State      Country_Region         Last_Update       Lat\n",
      "1   NA                               Afghanistan 2021-08-26 04:21:28  33.93911\n",
      "2   NA                                   Albania 2021-08-26 04:21:28  41.15330\n",
      "3   NA                                   Algeria 2021-08-26 04:21:28  28.03390\n",
      "4   NA                                   Andorra 2021-08-26 04:21:28  42.50630\n",
      "5   NA                                    Angola 2021-08-26 04:21:28 -11.20270\n",
      "6   NA                       Antigua and Barbuda 2021-08-26 04:21:28  17.06080\n",
      "      Long_ Confirmed Deaths Recovered Active        Combined_Key Incident_Rate\n",
      "1  67.70995    152722   7090        NA     NA         Afghanistan      392.3157\n",
      "2  20.16830    141365   2483        NA     NA             Albania     4912.2594\n",
      "3   1.65960    193171   5096        NA     NA             Algeria      440.5163\n",
      "4   1.52180     15014    130        NA     NA             Andorra    19431.8255\n",
      "5  17.87390     46539   1176        NA     NA              Angola      141.6011\n",
      "6 -61.79640      1598     43        NA     NA Antigua and Barbuda     1631.8111\n",
      "  Case_Fatality_Ratio\n",
      "1           4.6424222\n",
      "2           1.7564461\n",
      "3           2.6380771\n",
      "4           0.8658585\n",
      "5           2.5269129\n",
      "6           2.6908636\n",
      "     FIPS Admin2 Province_State     Country_Region         Last_Update\n",
      "3982   NA                                Venezuela 2021-08-26 04:21:28\n",
      "3983   NA                                  Vietnam 2021-08-26 04:21:28\n",
      "3984   NA                       West Bank and Gaza 2021-08-26 04:21:28\n",
      "3985   NA                                    Yemen 2021-08-26 04:21:28\n",
      "3986   NA                                   Zambia 2021-08-26 04:21:28\n",
      "3987   NA                                 Zimbabwe 2021-08-26 04:21:28\n",
      "           Lat     Long_ Confirmed Deaths Recovered Active       Combined_Key\n",
      "3982   6.42380 -66.58970    328550   3940        NA     NA          Venezuela\n",
      "3983  14.05832 108.27720    381363   9349        NA     NA            Vietnam\n",
      "3984  31.95220  35.23320    330821   3654        NA     NA West Bank and Gaza\n",
      "3985  15.55273  48.51639      7625   1438        NA     NA              Yemen\n",
      "3986 -13.13390  27.84933    205107   3586        NA     NA             Zambia\n",
      "3987 -19.01544  29.15486    123711   4338        NA     NA           Zimbabwe\n",
      "     Incident_Rate Case_Fatality_Ratio\n",
      "3982    1155.40392            1.199209\n",
      "3983     391.79017            2.451470\n",
      "3984    6484.88577            1.104525\n",
      "3985      25.56497           18.859016\n",
      "3986    1115.68479            1.748356\n",
      "3987     832.34615            3.506560\n"
     ]
    }
   ],
   "source": [
    "print(head(daily_report))\n",
    "print(tail(daily_report))\n",
    "#View(daily_report)"
   ]
  },
  {
   "cell_type": "markdown",
   "metadata": {
    "slideshow": {
     "slide_type": "slide"
    }
   },
   "source": [
    "## 基礎資料框處理"
   ]
  },
  {
   "cell_type": "markdown",
   "metadata": {
    "slideshow": {
     "slide_type": "subslide"
    }
   },
   "source": [
    "## 基礎資料框處理的技巧\n",
    "\n",
    "- 解構資料框。\n",
    "    - 選擇。\n",
    "    - 篩選。\n",
    "    - 選擇與篩選。\n",
    "- 排序資料框。\n",
    "- 新增變數。\n",
    "- 摘要。"
   ]
  },
  {
   "cell_type": "markdown",
   "metadata": {
    "slideshow": {
     "slide_type": "subslide"
    }
   },
   "source": [
    "## 解構資料框：選擇\n",
    "\n",
    "使用 `df[[\"COLUMN_NAME\"]]`、`df[, c(\"COLUMN_NAMES\")]` 或 `df$COLUMN_NAME` 語法。"
   ]
  },
  {
   "cell_type": "code",
   "execution_count": 7,
   "metadata": {
    "slideshow": {
     "slide_type": "subslide"
    }
   },
   "outputs": [
    {
     "name": "stdout",
     "output_type": "stream",
     "text": [
      " [1] \"Afghanistan\"         \"Albania\"             \"Algeria\"            \n",
      " [4] \"Andorra\"             \"Angola\"              \"Antigua and Barbuda\"\n",
      " [7] \"Argentina\"           \"Armenia\"             \"Australia\"          \n",
      "[10] \"Australia\"          \n"
     ]
    }
   ],
   "source": [
    "# selecting a column\n",
    "print(daily_report[[\"Country_Region\"]][1:10])\n",
    "#print(daily_report[, \"Country_Region\"])\n",
    "#print(daily_report$Country_Region)"
   ]
  },
  {
   "cell_type": "code",
   "execution_count": 8,
   "metadata": {
    "slideshow": {
     "slide_type": "subslide"
    }
   },
   "outputs": [
    {
     "data": {
      "text/html": [
       "<table>\n",
       "<caption>A data.frame: 6 × 2</caption>\n",
       "<thead>\n",
       "\t<tr><th></th><th scope=col>Combined_Key</th><th scope=col>Confirmed</th></tr>\n",
       "\t<tr><th></th><th scope=col>&lt;chr&gt;</th><th scope=col>&lt;int&gt;</th></tr>\n",
       "</thead>\n",
       "<tbody>\n",
       "\t<tr><th scope=row>1</th><td>Afghanistan        </td><td>152722</td></tr>\n",
       "\t<tr><th scope=row>2</th><td>Albania            </td><td>141365</td></tr>\n",
       "\t<tr><th scope=row>3</th><td>Algeria            </td><td>193171</td></tr>\n",
       "\t<tr><th scope=row>4</th><td>Andorra            </td><td> 15014</td></tr>\n",
       "\t<tr><th scope=row>5</th><td>Angola             </td><td> 46539</td></tr>\n",
       "\t<tr><th scope=row>6</th><td>Antigua and Barbuda</td><td>  1598</td></tr>\n",
       "</tbody>\n",
       "</table>\n"
      ],
      "text/latex": [
       "A data.frame: 6 × 2\n",
       "\\begin{tabular}{r|ll}\n",
       "  & Combined\\_Key & Confirmed\\\\\n",
       "  & <chr> & <int>\\\\\n",
       "\\hline\n",
       "\t1 & Afghanistan         & 152722\\\\\n",
       "\t2 & Albania             & 141365\\\\\n",
       "\t3 & Algeria             & 193171\\\\\n",
       "\t4 & Andorra             &  15014\\\\\n",
       "\t5 & Angola              &  46539\\\\\n",
       "\t6 & Antigua and Barbuda &   1598\\\\\n",
       "\\end{tabular}\n"
      ],
      "text/markdown": [
       "\n",
       "A data.frame: 6 × 2\n",
       "\n",
       "| <!--/--> | Combined_Key &lt;chr&gt; | Confirmed &lt;int&gt; |\n",
       "|---|---|---|\n",
       "| 1 | Afghanistan         | 152722 |\n",
       "| 2 | Albania             | 141365 |\n",
       "| 3 | Algeria             | 193171 |\n",
       "| 4 | Andorra             |  15014 |\n",
       "| 5 | Angola              |  46539 |\n",
       "| 6 | Antigua and Barbuda |   1598 |\n",
       "\n"
      ],
      "text/plain": [
       "  Combined_Key        Confirmed\n",
       "1 Afghanistan         152722   \n",
       "2 Albania             141365   \n",
       "3 Algeria             193171   \n",
       "4 Andorra              15014   \n",
       "5 Angola               46539   \n",
       "6 Antigua and Barbuda   1598   "
      ]
     },
     "metadata": {},
     "output_type": "display_data"
    }
   ],
   "source": [
    "# selecting columns\n",
    "head(daily_report[, c(\"Combined_Key\", \"Confirmed\")])"
   ]
  },
  {
   "cell_type": "markdown",
   "metadata": {
    "slideshow": {
     "slide_type": "subslide"
    }
   },
   "source": [
    "## 解構資料框：篩選\n",
    "\n",
    "使用 `df[CONDITION, ]` 或 `df[ROW_INDEX, ]` 語法。"
   ]
  },
  {
   "cell_type": "code",
   "execution_count": 9,
   "metadata": {
    "slideshow": {
     "slide_type": "subslide"
    }
   },
   "outputs": [
    {
     "data": {
      "text/html": [
       "<table>\n",
       "<caption>A data.frame: 1 × 14</caption>\n",
       "<thead>\n",
       "\t<tr><th></th><th scope=col>FIPS</th><th scope=col>Admin2</th><th scope=col>Province_State</th><th scope=col>Country_Region</th><th scope=col>Last_Update</th><th scope=col>Lat</th><th scope=col>Long_</th><th scope=col>Confirmed</th><th scope=col>Deaths</th><th scope=col>Recovered</th><th scope=col>Active</th><th scope=col>Combined_Key</th><th scope=col>Incident_Rate</th><th scope=col>Case_Fatality_Ratio</th></tr>\n",
       "\t<tr><th></th><th scope=col>&lt;int&gt;</th><th scope=col>&lt;chr&gt;</th><th scope=col>&lt;chr&gt;</th><th scope=col>&lt;chr&gt;</th><th scope=col>&lt;chr&gt;</th><th scope=col>&lt;dbl&gt;</th><th scope=col>&lt;dbl&gt;</th><th scope=col>&lt;int&gt;</th><th scope=col>&lt;int&gt;</th><th scope=col>&lt;lgl&gt;</th><th scope=col>&lt;lgl&gt;</th><th scope=col>&lt;chr&gt;</th><th scope=col>&lt;dbl&gt;</th><th scope=col>&lt;dbl&gt;</th></tr>\n",
       "</thead>\n",
       "<tbody>\n",
       "\t<tr><th scope=row>648</th><td>NA</td><td></td><td></td><td>Taiwan*</td><td>2021-08-26 04:21:28</td><td>23.7</td><td>121</td><td>15939</td><td>830</td><td>NA</td><td>NA</td><td>Taiwan*</td><td>66.92342</td><td>5.207353</td></tr>\n",
       "</tbody>\n",
       "</table>\n"
      ],
      "text/latex": [
       "A data.frame: 1 × 14\n",
       "\\begin{tabular}{r|llllllllllllll}\n",
       "  & FIPS & Admin2 & Province\\_State & Country\\_Region & Last\\_Update & Lat & Long\\_ & Confirmed & Deaths & Recovered & Active & Combined\\_Key & Incident\\_Rate & Case\\_Fatality\\_Ratio\\\\\n",
       "  & <int> & <chr> & <chr> & <chr> & <chr> & <dbl> & <dbl> & <int> & <int> & <lgl> & <lgl> & <chr> & <dbl> & <dbl>\\\\\n",
       "\\hline\n",
       "\t648 & NA &  &  & Taiwan* & 2021-08-26 04:21:28 & 23.7 & 121 & 15939 & 830 & NA & NA & Taiwan* & 66.92342 & 5.207353\\\\\n",
       "\\end{tabular}\n"
      ],
      "text/markdown": [
       "\n",
       "A data.frame: 1 × 14\n",
       "\n",
       "| <!--/--> | FIPS &lt;int&gt; | Admin2 &lt;chr&gt; | Province_State &lt;chr&gt; | Country_Region &lt;chr&gt; | Last_Update &lt;chr&gt; | Lat &lt;dbl&gt; | Long_ &lt;dbl&gt; | Confirmed &lt;int&gt; | Deaths &lt;int&gt; | Recovered &lt;lgl&gt; | Active &lt;lgl&gt; | Combined_Key &lt;chr&gt; | Incident_Rate &lt;dbl&gt; | Case_Fatality_Ratio &lt;dbl&gt; |\n",
       "|---|---|---|---|---|---|---|---|---|---|---|---|---|---|---|\n",
       "| 648 | NA | <!----> | <!----> | Taiwan* | 2021-08-26 04:21:28 | 23.7 | 121 | 15939 | 830 | NA | NA | Taiwan* | 66.92342 | 5.207353 |\n",
       "\n"
      ],
      "text/plain": [
       "    FIPS Admin2 Province_State Country_Region Last_Update         Lat  Long_\n",
       "648 NA                         Taiwan*        2021-08-26 04:21:28 23.7 121  \n",
       "    Confirmed Deaths Recovered Active Combined_Key Incident_Rate\n",
       "648 15939     830    NA        NA     Taiwan*      66.92342     \n",
       "    Case_Fatality_Ratio\n",
       "648 5.207353           "
      ]
     },
     "metadata": {},
     "output_type": "display_data"
    }
   ],
   "source": [
    "# filtering a row\n",
    "daily_report[daily_report$Country_Region == \"Taiwan*\", ]"
   ]
  },
  {
   "cell_type": "code",
   "execution_count": 10,
   "metadata": {
    "slideshow": {
     "slide_type": "subslide"
    }
   },
   "outputs": [
    {
     "data": {
      "text/html": [
       "<table>\n",
       "<caption>A data.frame: 1 × 14</caption>\n",
       "<thead>\n",
       "\t<tr><th></th><th scope=col>FIPS</th><th scope=col>Admin2</th><th scope=col>Province_State</th><th scope=col>Country_Region</th><th scope=col>Last_Update</th><th scope=col>Lat</th><th scope=col>Long_</th><th scope=col>Confirmed</th><th scope=col>Deaths</th><th scope=col>Recovered</th><th scope=col>Active</th><th scope=col>Combined_Key</th><th scope=col>Incident_Rate</th><th scope=col>Case_Fatality_Ratio</th></tr>\n",
       "\t<tr><th></th><th scope=col>&lt;int&gt;</th><th scope=col>&lt;chr&gt;</th><th scope=col>&lt;chr&gt;</th><th scope=col>&lt;chr&gt;</th><th scope=col>&lt;chr&gt;</th><th scope=col>&lt;dbl&gt;</th><th scope=col>&lt;dbl&gt;</th><th scope=col>&lt;int&gt;</th><th scope=col>&lt;int&gt;</th><th scope=col>&lt;lgl&gt;</th><th scope=col>&lt;lgl&gt;</th><th scope=col>&lt;chr&gt;</th><th scope=col>&lt;dbl&gt;</th><th scope=col>&lt;dbl&gt;</th></tr>\n",
       "</thead>\n",
       "<tbody>\n",
       "\t<tr><th scope=row>648</th><td>NA</td><td></td><td></td><td>Taiwan*</td><td>2021-08-26 04:21:28</td><td>23.7</td><td>121</td><td>15939</td><td>830</td><td>NA</td><td>NA</td><td>Taiwan*</td><td>66.92342</td><td>5.207353</td></tr>\n",
       "</tbody>\n",
       "</table>\n"
      ],
      "text/latex": [
       "A data.frame: 1 × 14\n",
       "\\begin{tabular}{r|llllllllllllll}\n",
       "  & FIPS & Admin2 & Province\\_State & Country\\_Region & Last\\_Update & Lat & Long\\_ & Confirmed & Deaths & Recovered & Active & Combined\\_Key & Incident\\_Rate & Case\\_Fatality\\_Ratio\\\\\n",
       "  & <int> & <chr> & <chr> & <chr> & <chr> & <dbl> & <dbl> & <int> & <int> & <lgl> & <lgl> & <chr> & <dbl> & <dbl>\\\\\n",
       "\\hline\n",
       "\t648 & NA &  &  & Taiwan* & 2021-08-26 04:21:28 & 23.7 & 121 & 15939 & 830 & NA & NA & Taiwan* & 66.92342 & 5.207353\\\\\n",
       "\\end{tabular}\n"
      ],
      "text/markdown": [
       "\n",
       "A data.frame: 1 × 14\n",
       "\n",
       "| <!--/--> | FIPS &lt;int&gt; | Admin2 &lt;chr&gt; | Province_State &lt;chr&gt; | Country_Region &lt;chr&gt; | Last_Update &lt;chr&gt; | Lat &lt;dbl&gt; | Long_ &lt;dbl&gt; | Confirmed &lt;int&gt; | Deaths &lt;int&gt; | Recovered &lt;lgl&gt; | Active &lt;lgl&gt; | Combined_Key &lt;chr&gt; | Incident_Rate &lt;dbl&gt; | Case_Fatality_Ratio &lt;dbl&gt; |\n",
       "|---|---|---|---|---|---|---|---|---|---|---|---|---|---|---|\n",
       "| 648 | NA | <!----> | <!----> | Taiwan* | 2021-08-26 04:21:28 | 23.7 | 121 | 15939 | 830 | NA | NA | Taiwan* | 66.92342 | 5.207353 |\n",
       "\n"
      ],
      "text/plain": [
       "    FIPS Admin2 Province_State Country_Region Last_Update         Lat  Long_\n",
       "648 NA                         Taiwan*        2021-08-26 04:21:28 23.7 121  \n",
       "    Confirmed Deaths Recovered Active Combined_Key Incident_Rate\n",
       "648 15939     830    NA        NA     Taiwan*      66.92342     \n",
       "    Case_Fatality_Ratio\n",
       "648 5.207353           "
      ]
     },
     "metadata": {},
     "output_type": "display_data"
    }
   ],
   "source": [
    "# filtering a row\n",
    "tw_row_index <- row.names(daily_report[daily_report$Country_Region == \"Taiwan*\", ])\n",
    "daily_report[as.integer(tw_row_index), ]"
   ]
  },
  {
   "cell_type": "code",
   "execution_count": 11,
   "metadata": {
    "slideshow": {
     "slide_type": "subslide"
    }
   },
   "outputs": [
    {
     "data": {
      "text/html": [
       "<table>\n",
       "<caption>A data.frame: 8 × 14</caption>\n",
       "<thead>\n",
       "\t<tr><th></th><th scope=col>FIPS</th><th scope=col>Admin2</th><th scope=col>Province_State</th><th scope=col>Country_Region</th><th scope=col>Last_Update</th><th scope=col>Lat</th><th scope=col>Long_</th><th scope=col>Confirmed</th><th scope=col>Deaths</th><th scope=col>Recovered</th><th scope=col>Active</th><th scope=col>Combined_Key</th><th scope=col>Incident_Rate</th><th scope=col>Case_Fatality_Ratio</th></tr>\n",
       "\t<tr><th></th><th scope=col>&lt;int&gt;</th><th scope=col>&lt;chr&gt;</th><th scope=col>&lt;chr&gt;</th><th scope=col>&lt;chr&gt;</th><th scope=col>&lt;chr&gt;</th><th scope=col>&lt;dbl&gt;</th><th scope=col>&lt;dbl&gt;</th><th scope=col>&lt;int&gt;</th><th scope=col>&lt;int&gt;</th><th scope=col>&lt;lgl&gt;</th><th scope=col>&lt;lgl&gt;</th><th scope=col>&lt;chr&gt;</th><th scope=col>&lt;dbl&gt;</th><th scope=col>&lt;dbl&gt;</th></tr>\n",
       "</thead>\n",
       "<tbody>\n",
       "\t<tr><th scope=row>9</th><td>NA</td><td></td><td>Australian Capital Territory</td><td>Australia</td><td>2021-08-26 04:21:28</td><td>-35.4735</td><td>149.0124</td><td>  314</td><td>  3</td><td>NA</td><td>NA</td><td>Australian Capital Territory, Australia</td><td> 73.34735</td><td>0.9554140</td></tr>\n",
       "\t<tr><th scope=row>10</th><td>NA</td><td></td><td>New South Wales             </td><td>Australia</td><td>2021-08-26 04:21:28</td><td>-33.8688</td><td>151.2093</td><td>21471</td><td>133</td><td>NA</td><td>NA</td><td>New South Wales, Australia             </td><td>264.48633</td><td>0.6194402</td></tr>\n",
       "\t<tr><th scope=row>11</th><td>NA</td><td></td><td>Northern Territory          </td><td>Australia</td><td>2021-08-26 04:21:28</td><td>-12.4634</td><td>130.8456</td><td>  200</td><td>  0</td><td>NA</td><td>NA</td><td>Northern Territory, Australia          </td><td> 81.43322</td><td>0.0000000</td></tr>\n",
       "\t<tr><th scope=row>12</th><td>NA</td><td></td><td>Queensland                  </td><td>Australia</td><td>2021-08-26 04:21:28</td><td>-27.4698</td><td>153.0251</td><td> 1972</td><td>  7</td><td>NA</td><td>NA</td><td>Queensland, Australia                  </td><td> 38.54951</td><td>0.3549696</td></tr>\n",
       "\t<tr><th scope=row>13</th><td>NA</td><td></td><td>South Australia             </td><td>Australia</td><td>2021-08-26 04:21:28</td><td>-34.9285</td><td>138.6007</td><td>  870</td><td>  4</td><td>NA</td><td>NA</td><td>South Australia, Australia             </td><td> 49.53032</td><td>0.4597701</td></tr>\n",
       "\t<tr><th scope=row>14</th><td>NA</td><td></td><td>Tasmania                    </td><td>Australia</td><td>2021-08-26 04:21:28</td><td>-42.8821</td><td>147.3272</td><td>  235</td><td> 13</td><td>NA</td><td>NA</td><td>Tasmania, Australia                    </td><td> 43.88422</td><td>5.5319149</td></tr>\n",
       "\t<tr><th scope=row>15</th><td>NA</td><td></td><td>Victoria                    </td><td>Australia</td><td>2021-08-26 04:21:28</td><td>-37.8136</td><td>144.9631</td><td>21694</td><td>820</td><td>NA</td><td>NA</td><td>Victoria, Australia                    </td><td>327.21459</td><td>3.7798470</td></tr>\n",
       "\t<tr><th scope=row>16</th><td>NA</td><td></td><td>Western Australia           </td><td>Australia</td><td>2021-08-26 04:21:28</td><td>-31.9505</td><td>115.8605</td><td> 1084</td><td>  9</td><td>NA</td><td>NA</td><td>Western Australia, Australia           </td><td> 41.20733</td><td>0.8302583</td></tr>\n",
       "</tbody>\n",
       "</table>\n"
      ],
      "text/latex": [
       "A data.frame: 8 × 14\n",
       "\\begin{tabular}{r|llllllllllllll}\n",
       "  & FIPS & Admin2 & Province\\_State & Country\\_Region & Last\\_Update & Lat & Long\\_ & Confirmed & Deaths & Recovered & Active & Combined\\_Key & Incident\\_Rate & Case\\_Fatality\\_Ratio\\\\\n",
       "  & <int> & <chr> & <chr> & <chr> & <chr> & <dbl> & <dbl> & <int> & <int> & <lgl> & <lgl> & <chr> & <dbl> & <dbl>\\\\\n",
       "\\hline\n",
       "\t9 & NA &  & Australian Capital Territory & Australia & 2021-08-26 04:21:28 & -35.4735 & 149.0124 &   314 &   3 & NA & NA & Australian Capital Territory, Australia &  73.34735 & 0.9554140\\\\\n",
       "\t10 & NA &  & New South Wales              & Australia & 2021-08-26 04:21:28 & -33.8688 & 151.2093 & 21471 & 133 & NA & NA & New South Wales, Australia              & 264.48633 & 0.6194402\\\\\n",
       "\t11 & NA &  & Northern Territory           & Australia & 2021-08-26 04:21:28 & -12.4634 & 130.8456 &   200 &   0 & NA & NA & Northern Territory, Australia           &  81.43322 & 0.0000000\\\\\n",
       "\t12 & NA &  & Queensland                   & Australia & 2021-08-26 04:21:28 & -27.4698 & 153.0251 &  1972 &   7 & NA & NA & Queensland, Australia                   &  38.54951 & 0.3549696\\\\\n",
       "\t13 & NA &  & South Australia              & Australia & 2021-08-26 04:21:28 & -34.9285 & 138.6007 &   870 &   4 & NA & NA & South Australia, Australia              &  49.53032 & 0.4597701\\\\\n",
       "\t14 & NA &  & Tasmania                     & Australia & 2021-08-26 04:21:28 & -42.8821 & 147.3272 &   235 &  13 & NA & NA & Tasmania, Australia                     &  43.88422 & 5.5319149\\\\\n",
       "\t15 & NA &  & Victoria                     & Australia & 2021-08-26 04:21:28 & -37.8136 & 144.9631 & 21694 & 820 & NA & NA & Victoria, Australia                     & 327.21459 & 3.7798470\\\\\n",
       "\t16 & NA &  & Western Australia            & Australia & 2021-08-26 04:21:28 & -31.9505 & 115.8605 &  1084 &   9 & NA & NA & Western Australia, Australia            &  41.20733 & 0.8302583\\\\\n",
       "\\end{tabular}\n"
      ],
      "text/markdown": [
       "\n",
       "A data.frame: 8 × 14\n",
       "\n",
       "| <!--/--> | FIPS &lt;int&gt; | Admin2 &lt;chr&gt; | Province_State &lt;chr&gt; | Country_Region &lt;chr&gt; | Last_Update &lt;chr&gt; | Lat &lt;dbl&gt; | Long_ &lt;dbl&gt; | Confirmed &lt;int&gt; | Deaths &lt;int&gt; | Recovered &lt;lgl&gt; | Active &lt;lgl&gt; | Combined_Key &lt;chr&gt; | Incident_Rate &lt;dbl&gt; | Case_Fatality_Ratio &lt;dbl&gt; |\n",
       "|---|---|---|---|---|---|---|---|---|---|---|---|---|---|---|\n",
       "| 9 | NA | <!----> | Australian Capital Territory | Australia | 2021-08-26 04:21:28 | -35.4735 | 149.0124 |   314 |   3 | NA | NA | Australian Capital Territory, Australia |  73.34735 | 0.9554140 |\n",
       "| 10 | NA | <!----> | New South Wales              | Australia | 2021-08-26 04:21:28 | -33.8688 | 151.2093 | 21471 | 133 | NA | NA | New South Wales, Australia              | 264.48633 | 0.6194402 |\n",
       "| 11 | NA | <!----> | Northern Territory           | Australia | 2021-08-26 04:21:28 | -12.4634 | 130.8456 |   200 |   0 | NA | NA | Northern Territory, Australia           |  81.43322 | 0.0000000 |\n",
       "| 12 | NA | <!----> | Queensland                   | Australia | 2021-08-26 04:21:28 | -27.4698 | 153.0251 |  1972 |   7 | NA | NA | Queensland, Australia                   |  38.54951 | 0.3549696 |\n",
       "| 13 | NA | <!----> | South Australia              | Australia | 2021-08-26 04:21:28 | -34.9285 | 138.6007 |   870 |   4 | NA | NA | South Australia, Australia              |  49.53032 | 0.4597701 |\n",
       "| 14 | NA | <!----> | Tasmania                     | Australia | 2021-08-26 04:21:28 | -42.8821 | 147.3272 |   235 |  13 | NA | NA | Tasmania, Australia                     |  43.88422 | 5.5319149 |\n",
       "| 15 | NA | <!----> | Victoria                     | Australia | 2021-08-26 04:21:28 | -37.8136 | 144.9631 | 21694 | 820 | NA | NA | Victoria, Australia                     | 327.21459 | 3.7798470 |\n",
       "| 16 | NA | <!----> | Western Australia            | Australia | 2021-08-26 04:21:28 | -31.9505 | 115.8605 |  1084 |   9 | NA | NA | Western Australia, Australia            |  41.20733 | 0.8302583 |\n",
       "\n"
      ],
      "text/plain": [
       "   FIPS Admin2 Province_State               Country_Region Last_Update        \n",
       "9  NA          Australian Capital Territory Australia      2021-08-26 04:21:28\n",
       "10 NA          New South Wales              Australia      2021-08-26 04:21:28\n",
       "11 NA          Northern Territory           Australia      2021-08-26 04:21:28\n",
       "12 NA          Queensland                   Australia      2021-08-26 04:21:28\n",
       "13 NA          South Australia              Australia      2021-08-26 04:21:28\n",
       "14 NA          Tasmania                     Australia      2021-08-26 04:21:28\n",
       "15 NA          Victoria                     Australia      2021-08-26 04:21:28\n",
       "16 NA          Western Australia            Australia      2021-08-26 04:21:28\n",
       "   Lat      Long_    Confirmed Deaths Recovered Active\n",
       "9  -35.4735 149.0124   314       3    NA        NA    \n",
       "10 -33.8688 151.2093 21471     133    NA        NA    \n",
       "11 -12.4634 130.8456   200       0    NA        NA    \n",
       "12 -27.4698 153.0251  1972       7    NA        NA    \n",
       "13 -34.9285 138.6007   870       4    NA        NA    \n",
       "14 -42.8821 147.3272   235      13    NA        NA    \n",
       "15 -37.8136 144.9631 21694     820    NA        NA    \n",
       "16 -31.9505 115.8605  1084       9    NA        NA    \n",
       "   Combined_Key                            Incident_Rate Case_Fatality_Ratio\n",
       "9  Australian Capital Territory, Australia  73.34735     0.9554140          \n",
       "10 New South Wales, Australia              264.48633     0.6194402          \n",
       "11 Northern Territory, Australia            81.43322     0.0000000          \n",
       "12 Queensland, Australia                    38.54951     0.3549696          \n",
       "13 South Australia, Australia               49.53032     0.4597701          \n",
       "14 Tasmania, Australia                      43.88422     5.5319149          \n",
       "15 Victoria, Australia                     327.21459     3.7798470          \n",
       "16 Western Australia, Australia             41.20733     0.8302583          "
      ]
     },
     "metadata": {},
     "output_type": "display_data"
    }
   ],
   "source": [
    "# filtering rows\n",
    "daily_report[daily_report$Country_Region == \"Australia\", ]"
   ]
  },
  {
   "cell_type": "markdown",
   "metadata": {
    "slideshow": {
     "slide_type": "subslide"
    }
   },
   "source": [
    "## 解構資料框：選擇與篩選\n",
    "\n",
    "使用 `df[CONDITION, COLUMN_NAMES]` 或 `df[ROW_INDEX, COLUMN_NAMES]` 語法。"
   ]
  },
  {
   "cell_type": "code",
   "execution_count": 12,
   "metadata": {
    "slideshow": {
     "slide_type": "subslide"
    }
   },
   "outputs": [
    {
     "data": {
      "text/html": [
       "<table>\n",
       "<caption>A data.frame: 1 × 2</caption>\n",
       "<thead>\n",
       "\t<tr><th></th><th scope=col>Country_Region</th><th scope=col>Confirmed</th></tr>\n",
       "\t<tr><th></th><th scope=col>&lt;chr&gt;</th><th scope=col>&lt;int&gt;</th></tr>\n",
       "</thead>\n",
       "<tbody>\n",
       "\t<tr><th scope=row>648</th><td>Taiwan*</td><td>15939</td></tr>\n",
       "</tbody>\n",
       "</table>\n"
      ],
      "text/latex": [
       "A data.frame: 1 × 2\n",
       "\\begin{tabular}{r|ll}\n",
       "  & Country\\_Region & Confirmed\\\\\n",
       "  & <chr> & <int>\\\\\n",
       "\\hline\n",
       "\t648 & Taiwan* & 15939\\\\\n",
       "\\end{tabular}\n"
      ],
      "text/markdown": [
       "\n",
       "A data.frame: 1 × 2\n",
       "\n",
       "| <!--/--> | Country_Region &lt;chr&gt; | Confirmed &lt;int&gt; |\n",
       "|---|---|---|\n",
       "| 648 | Taiwan* | 15939 |\n",
       "\n"
      ],
      "text/plain": [
       "    Country_Region Confirmed\n",
       "648 Taiwan*        15939    "
      ]
     },
     "metadata": {},
     "output_type": "display_data"
    },
    {
     "data": {
      "text/html": [
       "<table>\n",
       "<caption>A data.frame: 1 × 2</caption>\n",
       "<thead>\n",
       "\t<tr><th></th><th scope=col>Country_Region</th><th scope=col>Confirmed</th></tr>\n",
       "\t<tr><th></th><th scope=col>&lt;chr&gt;</th><th scope=col>&lt;int&gt;</th></tr>\n",
       "</thead>\n",
       "<tbody>\n",
       "\t<tr><th scope=row>648</th><td>Taiwan*</td><td>15939</td></tr>\n",
       "</tbody>\n",
       "</table>\n"
      ],
      "text/latex": [
       "A data.frame: 1 × 2\n",
       "\\begin{tabular}{r|ll}\n",
       "  & Country\\_Region & Confirmed\\\\\n",
       "  & <chr> & <int>\\\\\n",
       "\\hline\n",
       "\t648 & Taiwan* & 15939\\\\\n",
       "\\end{tabular}\n"
      ],
      "text/markdown": [
       "\n",
       "A data.frame: 1 × 2\n",
       "\n",
       "| <!--/--> | Country_Region &lt;chr&gt; | Confirmed &lt;int&gt; |\n",
       "|---|---|---|\n",
       "| 648 | Taiwan* | 15939 |\n",
       "\n"
      ],
      "text/plain": [
       "    Country_Region Confirmed\n",
       "648 Taiwan*        15939    "
      ]
     },
     "metadata": {},
     "output_type": "display_data"
    }
   ],
   "source": [
    "daily_report[daily_report$Country_Region == \"Taiwan*\", c(\"Country_Region\", \"Confirmed\")]\n",
    "daily_report[tw_row_index, c(\"Country_Region\", \"Confirmed\")]"
   ]
  },
  {
   "cell_type": "markdown",
   "metadata": {
    "slideshow": {
     "slide_type": "subslide"
    }
   },
   "source": [
    "## 排序資料框\n",
    "\n",
    "利用 `order()` 函數取得排序後的列索引。"
   ]
  },
  {
   "cell_type": "code",
   "execution_count": 13,
   "metadata": {
    "slideshow": {
     "slide_type": "subslide"
    }
   },
   "outputs": [
    {
     "data": {
      "text/html": [
       "<table>\n",
       "<caption>A data.frame: 6 × 14</caption>\n",
       "<thead>\n",
       "\t<tr><th></th><th scope=col>FIPS</th><th scope=col>Admin2</th><th scope=col>Province_State</th><th scope=col>Country_Region</th><th scope=col>Last_Update</th><th scope=col>Lat</th><th scope=col>Long_</th><th scope=col>Confirmed</th><th scope=col>Deaths</th><th scope=col>Recovered</th><th scope=col>Active</th><th scope=col>Combined_Key</th><th scope=col>Incident_Rate</th><th scope=col>Case_Fatality_Ratio</th></tr>\n",
       "\t<tr><th></th><th scope=col>&lt;int&gt;</th><th scope=col>&lt;chr&gt;</th><th scope=col>&lt;chr&gt;</th><th scope=col>&lt;chr&gt;</th><th scope=col>&lt;chr&gt;</th><th scope=col>&lt;dbl&gt;</th><th scope=col>&lt;dbl&gt;</th><th scope=col>&lt;int&gt;</th><th scope=col>&lt;int&gt;</th><th scope=col>&lt;lgl&gt;</th><th scope=col>&lt;lgl&gt;</th><th scope=col>&lt;chr&gt;</th><th scope=col>&lt;dbl&gt;</th><th scope=col>&lt;dbl&gt;</th></tr>\n",
       "</thead>\n",
       "<tbody>\n",
       "\t<tr><th scope=row>11</th><td>NA</td><td></td><td>Northern Territory</td><td>Australia</td><td>2021-08-26 04:21:28</td><td>-12.4634</td><td>130.8456</td><td>   200</td><td>0</td><td>NA</td><td>NA</td><td>Northern Territory, Australia</td><td>   81.43322</td><td>0</td></tr>\n",
       "\t<tr><th scope=row>24</th><td>NA</td><td></td><td>Antwerp           </td><td>Belgium  </td><td>2021-08-26 04:21:28</td><td> 51.2195</td><td>  4.4024</td><td>155068</td><td>0</td><td>NA</td><td>NA</td><td>Antwerp, Belgium             </td><td> 8346.02629</td><td>0</td></tr>\n",
       "\t<tr><th scope=row>25</th><td>NA</td><td></td><td>Brussels          </td><td>Belgium  </td><td>2021-08-26 04:21:28</td><td> 50.8503</td><td>  4.3517</td><td>150646</td><td>0</td><td>NA</td><td>NA</td><td>Brussels, Belgium            </td><td>12465.10258</td><td>0</td></tr>\n",
       "\t<tr><th scope=row>26</th><td>NA</td><td></td><td>East Flanders     </td><td>Belgium  </td><td>2021-08-26 04:21:28</td><td> 51.0362</td><td>  3.7373</td><td>134713</td><td>0</td><td>NA</td><td>NA</td><td>East Flanders, Belgium       </td><td> 8891.57158</td><td>0</td></tr>\n",
       "\t<tr><th scope=row>27</th><td>NA</td><td></td><td>Flemish Brabant   </td><td>Belgium  </td><td>2021-08-26 04:21:28</td><td> 50.9167</td><td>  4.5833</td><td> 92561</td><td>0</td><td>NA</td><td>NA</td><td>Flemish Brabant, Belgium     </td><td> 8075.64290</td><td>0</td></tr>\n",
       "\t<tr><th scope=row>28</th><td>NA</td><td></td><td>Hainaut           </td><td>Belgium  </td><td>2021-08-26 04:21:28</td><td> 50.5257</td><td>  4.0621</td><td>167561</td><td>0</td><td>NA</td><td>NA</td><td>Hainaut, Belgium             </td><td>12465.10112</td><td>0</td></tr>\n",
       "</tbody>\n",
       "</table>\n"
      ],
      "text/latex": [
       "A data.frame: 6 × 14\n",
       "\\begin{tabular}{r|llllllllllllll}\n",
       "  & FIPS & Admin2 & Province\\_State & Country\\_Region & Last\\_Update & Lat & Long\\_ & Confirmed & Deaths & Recovered & Active & Combined\\_Key & Incident\\_Rate & Case\\_Fatality\\_Ratio\\\\\n",
       "  & <int> & <chr> & <chr> & <chr> & <chr> & <dbl> & <dbl> & <int> & <int> & <lgl> & <lgl> & <chr> & <dbl> & <dbl>\\\\\n",
       "\\hline\n",
       "\t11 & NA &  & Northern Territory & Australia & 2021-08-26 04:21:28 & -12.4634 & 130.8456 &    200 & 0 & NA & NA & Northern Territory, Australia &    81.43322 & 0\\\\\n",
       "\t24 & NA &  & Antwerp            & Belgium   & 2021-08-26 04:21:28 &  51.2195 &   4.4024 & 155068 & 0 & NA & NA & Antwerp, Belgium              &  8346.02629 & 0\\\\\n",
       "\t25 & NA &  & Brussels           & Belgium   & 2021-08-26 04:21:28 &  50.8503 &   4.3517 & 150646 & 0 & NA & NA & Brussels, Belgium             & 12465.10258 & 0\\\\\n",
       "\t26 & NA &  & East Flanders      & Belgium   & 2021-08-26 04:21:28 &  51.0362 &   3.7373 & 134713 & 0 & NA & NA & East Flanders, Belgium        &  8891.57158 & 0\\\\\n",
       "\t27 & NA &  & Flemish Brabant    & Belgium   & 2021-08-26 04:21:28 &  50.9167 &   4.5833 &  92561 & 0 & NA & NA & Flemish Brabant, Belgium      &  8075.64290 & 0\\\\\n",
       "\t28 & NA &  & Hainaut            & Belgium   & 2021-08-26 04:21:28 &  50.5257 &   4.0621 & 167561 & 0 & NA & NA & Hainaut, Belgium              & 12465.10112 & 0\\\\\n",
       "\\end{tabular}\n"
      ],
      "text/markdown": [
       "\n",
       "A data.frame: 6 × 14\n",
       "\n",
       "| <!--/--> | FIPS &lt;int&gt; | Admin2 &lt;chr&gt; | Province_State &lt;chr&gt; | Country_Region &lt;chr&gt; | Last_Update &lt;chr&gt; | Lat &lt;dbl&gt; | Long_ &lt;dbl&gt; | Confirmed &lt;int&gt; | Deaths &lt;int&gt; | Recovered &lt;lgl&gt; | Active &lt;lgl&gt; | Combined_Key &lt;chr&gt; | Incident_Rate &lt;dbl&gt; | Case_Fatality_Ratio &lt;dbl&gt; |\n",
       "|---|---|---|---|---|---|---|---|---|---|---|---|---|---|---|\n",
       "| 11 | NA | <!----> | Northern Territory | Australia | 2021-08-26 04:21:28 | -12.4634 | 130.8456 |    200 | 0 | NA | NA | Northern Territory, Australia |    81.43322 | 0 |\n",
       "| 24 | NA | <!----> | Antwerp            | Belgium   | 2021-08-26 04:21:28 |  51.2195 |   4.4024 | 155068 | 0 | NA | NA | Antwerp, Belgium              |  8346.02629 | 0 |\n",
       "| 25 | NA | <!----> | Brussels           | Belgium   | 2021-08-26 04:21:28 |  50.8503 |   4.3517 | 150646 | 0 | NA | NA | Brussels, Belgium             | 12465.10258 | 0 |\n",
       "| 26 | NA | <!----> | East Flanders      | Belgium   | 2021-08-26 04:21:28 |  51.0362 |   3.7373 | 134713 | 0 | NA | NA | East Flanders, Belgium        |  8891.57158 | 0 |\n",
       "| 27 | NA | <!----> | Flemish Brabant    | Belgium   | 2021-08-26 04:21:28 |  50.9167 |   4.5833 |  92561 | 0 | NA | NA | Flemish Brabant, Belgium      |  8075.64290 | 0 |\n",
       "| 28 | NA | <!----> | Hainaut            | Belgium   | 2021-08-26 04:21:28 |  50.5257 |   4.0621 | 167561 | 0 | NA | NA | Hainaut, Belgium              | 12465.10112 | 0 |\n",
       "\n"
      ],
      "text/plain": [
       "   FIPS Admin2 Province_State     Country_Region Last_Update         Lat     \n",
       "11 NA          Northern Territory Australia      2021-08-26 04:21:28 -12.4634\n",
       "24 NA          Antwerp            Belgium        2021-08-26 04:21:28  51.2195\n",
       "25 NA          Brussels           Belgium        2021-08-26 04:21:28  50.8503\n",
       "26 NA          East Flanders      Belgium        2021-08-26 04:21:28  51.0362\n",
       "27 NA          Flemish Brabant    Belgium        2021-08-26 04:21:28  50.9167\n",
       "28 NA          Hainaut            Belgium        2021-08-26 04:21:28  50.5257\n",
       "   Long_    Confirmed Deaths Recovered Active Combined_Key                 \n",
       "11 130.8456    200    0      NA        NA     Northern Territory, Australia\n",
       "24   4.4024 155068    0      NA        NA     Antwerp, Belgium             \n",
       "25   4.3517 150646    0      NA        NA     Brussels, Belgium            \n",
       "26   3.7373 134713    0      NA        NA     East Flanders, Belgium       \n",
       "27   4.5833  92561    0      NA        NA     Flemish Brabant, Belgium     \n",
       "28   4.0621 167561    0      NA        NA     Hainaut, Belgium             \n",
       "   Incident_Rate Case_Fatality_Ratio\n",
       "11    81.43322   0                  \n",
       "24  8346.02629   0                  \n",
       "25 12465.10258   0                  \n",
       "26  8891.57158   0                  \n",
       "27  8075.64290   0                  \n",
       "28 12465.10112   0                  "
      ]
     },
     "metadata": {},
     "output_type": "display_data"
    }
   ],
   "source": [
    "# ordering dataframe\n",
    "ordered_index <- order(daily_report$Deaths)\n",
    "head(daily_report[ordered_index, ])"
   ]
  },
  {
   "cell_type": "markdown",
   "metadata": {
    "slideshow": {
     "slide_type": "subslide"
    }
   },
   "source": [
    "## 新增變數"
   ]
  },
  {
   "cell_type": "code",
   "execution_count": 14,
   "metadata": {
    "slideshow": {
     "slide_type": "subslide"
    }
   },
   "outputs": [
    {
     "name": "stdout",
     "output_type": "stream",
     "text": [
      "[1] TRUE\n",
      " [1] 0.046424222 0.017564461 0.026380771 0.008658585 0.025269129 0.026908636\n",
      " [7] 0.021525567 0.019986949 0.009554140 0.006194402\n"
     ]
    }
   ],
   "source": [
    "daily_report$Death_Rate <- daily_report$Deaths / daily_report$Confirmed\n",
    "print(\"Death_Rate\" %in% colnames(daily_report))\n",
    "print(daily_report$Death_Rate[1:10])"
   ]
  },
  {
   "cell_type": "markdown",
   "metadata": {
    "slideshow": {
     "slide_type": "subslide"
    }
   },
   "source": [
    "## 摘要\n",
    "\n",
    "針對欲摘要的變數使用敘述性統計函數。"
   ]
  },
  {
   "cell_type": "code",
   "execution_count": 15,
   "metadata": {},
   "outputs": [
    {
     "name": "stdout",
     "output_type": "stream",
     "text": [
      "[1] 1119.572\n"
     ]
    }
   ],
   "source": [
    "print(mean(daily_report$Deaths))"
   ]
  },
  {
   "cell_type": "markdown",
   "metadata": {
    "slideshow": {
     "slide_type": "slide"
    }
   },
   "source": [
    "## 以 `dplyr` 函數處理資料框"
   ]
  },
  {
   "cell_type": "markdown",
   "metadata": {
    "slideshow": {
     "slide_type": "subslide"
    }
   },
   "source": [
    "## 使用 `dplyr` 處理資料框\n",
    "\n",
    "- 安裝 `dplyr` 套件。\n",
    "- 載入 `dplyr` 套件。"
   ]
  },
  {
   "cell_type": "markdown",
   "metadata": {
    "slideshow": {
     "slide_type": "subslide"
    }
   },
   "source": [
    "## 安裝 `dplyr` 套件\n",
    "\n",
    "- 透過 RStudio 的 `Packages` 功能頁籤。\n",
    "- 透過 `install.packages()` 函數。\n",
    "\n",
    "```r\n",
    "install.packages(\"dplyr\")\n",
    "```"
   ]
  },
  {
   "cell_type": "markdown",
   "metadata": {
    "slideshow": {
     "slide_type": "subslide"
    }
   },
   "source": [
    "## 載入 `dplyr` 套件\n",
    "\n",
    "- 透過 RStudio 的 `Packages` 功能頁籤。\n",
    "- 透過 `library()` 函數。"
   ]
  },
  {
   "cell_type": "code",
   "execution_count": 16,
   "metadata": {},
   "outputs": [],
   "source": [
    "suppressMessages(library(\"dplyr\"))"
   ]
  },
  {
   "cell_type": "markdown",
   "metadata": {
    "slideshow": {
     "slide_type": "subslide"
    }
   },
   "source": [
    "## 使用 `%>%` pipe 運算符鏈結函數\n",
    "\n",
    "- `%>%` 運算符來自 `magrittr`，會隨著 `dplyr` 一起被安裝。\n",
    "- 讓需要鏈結函數的資料操作可讀性更高。\n",
    "- 在 RStudio 中使用 `Ctrl-Shift-M` 快捷鍵可以叫出 `%>%` 運算符。"
   ]
  },
  {
   "cell_type": "markdown",
   "metadata": {
    "slideshow": {
     "slide_type": "subslide"
    }
   },
   "source": [
    "## 使用 `dplyr` 進行基礎資料框處理\n",
    "\n",
    "- 解構資料框。\n",
    "    - 選擇與篩選。\n",
    "- 排序資料框。\n",
    "- 新增變數。\n",
    "- 摘要。\n",
    "- 分組摘要。"
   ]
  },
  {
   "cell_type": "markdown",
   "metadata": {
    "slideshow": {
     "slide_type": "subslide"
    }
   },
   "source": [
    "## 解構資料框：選擇與篩選\n",
    "\n",
    "- 使用 `dplyr::select()` 函數選擇。\n",
    "- 使用 `dplyr::filter()` 函數篩選。"
   ]
  },
  {
   "cell_type": "code",
   "execution_count": 17,
   "metadata": {
    "slideshow": {
     "slide_type": "subslide"
    }
   },
   "outputs": [
    {
     "data": {
      "text/html": [
       "<table>\n",
       "<caption>A data.frame: 6 × 3</caption>\n",
       "<thead>\n",
       "\t<tr><th></th><th scope=col>Country_Region</th><th scope=col>Confirmed</th><th scope=col>Deaths</th></tr>\n",
       "\t<tr><th></th><th scope=col>&lt;chr&gt;</th><th scope=col>&lt;int&gt;</th><th scope=col>&lt;int&gt;</th></tr>\n",
       "</thead>\n",
       "<tbody>\n",
       "\t<tr><th scope=row>1</th><td>Afghanistan        </td><td>152722</td><td>7090</td></tr>\n",
       "\t<tr><th scope=row>2</th><td>Albania            </td><td>141365</td><td>2483</td></tr>\n",
       "\t<tr><th scope=row>3</th><td>Algeria            </td><td>193171</td><td>5096</td></tr>\n",
       "\t<tr><th scope=row>4</th><td>Andorra            </td><td> 15014</td><td> 130</td></tr>\n",
       "\t<tr><th scope=row>5</th><td>Angola             </td><td> 46539</td><td>1176</td></tr>\n",
       "\t<tr><th scope=row>6</th><td>Antigua and Barbuda</td><td>  1598</td><td>  43</td></tr>\n",
       "</tbody>\n",
       "</table>\n"
      ],
      "text/latex": [
       "A data.frame: 6 × 3\n",
       "\\begin{tabular}{r|lll}\n",
       "  & Country\\_Region & Confirmed & Deaths\\\\\n",
       "  & <chr> & <int> & <int>\\\\\n",
       "\\hline\n",
       "\t1 & Afghanistan         & 152722 & 7090\\\\\n",
       "\t2 & Albania             & 141365 & 2483\\\\\n",
       "\t3 & Algeria             & 193171 & 5096\\\\\n",
       "\t4 & Andorra             &  15014 &  130\\\\\n",
       "\t5 & Angola              &  46539 & 1176\\\\\n",
       "\t6 & Antigua and Barbuda &   1598 &   43\\\\\n",
       "\\end{tabular}\n"
      ],
      "text/markdown": [
       "\n",
       "A data.frame: 6 × 3\n",
       "\n",
       "| <!--/--> | Country_Region &lt;chr&gt; | Confirmed &lt;int&gt; | Deaths &lt;int&gt; |\n",
       "|---|---|---|---|\n",
       "| 1 | Afghanistan         | 152722 | 7090 |\n",
       "| 2 | Albania             | 141365 | 2483 |\n",
       "| 3 | Algeria             | 193171 | 5096 |\n",
       "| 4 | Andorra             |  15014 |  130 |\n",
       "| 5 | Angola              |  46539 | 1176 |\n",
       "| 6 | Antigua and Barbuda |   1598 |   43 |\n",
       "\n"
      ],
      "text/plain": [
       "  Country_Region      Confirmed Deaths\n",
       "1 Afghanistan         152722    7090  \n",
       "2 Albania             141365    2483  \n",
       "3 Algeria             193171    5096  \n",
       "4 Andorra              15014     130  \n",
       "5 Angola               46539    1176  \n",
       "6 Antigua and Barbuda   1598      43  "
      ]
     },
     "metadata": {},
     "output_type": "display_data"
    }
   ],
   "source": [
    "head(select(daily_report, c(Country_Region, Confirmed, Deaths)))"
   ]
  },
  {
   "cell_type": "code",
   "execution_count": 18,
   "metadata": {
    "slideshow": {
     "slide_type": "subslide"
    }
   },
   "outputs": [
    {
     "data": {
      "text/html": [
       "<table>\n",
       "<caption>A data.frame: 1 × 15</caption>\n",
       "<thead>\n",
       "\t<tr><th scope=col>FIPS</th><th scope=col>Admin2</th><th scope=col>Province_State</th><th scope=col>Country_Region</th><th scope=col>Last_Update</th><th scope=col>Lat</th><th scope=col>Long_</th><th scope=col>Confirmed</th><th scope=col>Deaths</th><th scope=col>Recovered</th><th scope=col>Active</th><th scope=col>Combined_Key</th><th scope=col>Incident_Rate</th><th scope=col>Case_Fatality_Ratio</th><th scope=col>Death_Rate</th></tr>\n",
       "\t<tr><th scope=col>&lt;int&gt;</th><th scope=col>&lt;chr&gt;</th><th scope=col>&lt;chr&gt;</th><th scope=col>&lt;chr&gt;</th><th scope=col>&lt;chr&gt;</th><th scope=col>&lt;dbl&gt;</th><th scope=col>&lt;dbl&gt;</th><th scope=col>&lt;int&gt;</th><th scope=col>&lt;int&gt;</th><th scope=col>&lt;lgl&gt;</th><th scope=col>&lt;lgl&gt;</th><th scope=col>&lt;chr&gt;</th><th scope=col>&lt;dbl&gt;</th><th scope=col>&lt;dbl&gt;</th><th scope=col>&lt;dbl&gt;</th></tr>\n",
       "</thead>\n",
       "<tbody>\n",
       "\t<tr><td>NA</td><td></td><td></td><td>Taiwan*</td><td>2021-08-26 04:21:28</td><td>23.7</td><td>121</td><td>15939</td><td>830</td><td>NA</td><td>NA</td><td>Taiwan*</td><td>66.92342</td><td>5.207353</td><td>0.05207353</td></tr>\n",
       "</tbody>\n",
       "</table>\n"
      ],
      "text/latex": [
       "A data.frame: 1 × 15\n",
       "\\begin{tabular}{lllllllllllllll}\n",
       " FIPS & Admin2 & Province\\_State & Country\\_Region & Last\\_Update & Lat & Long\\_ & Confirmed & Deaths & Recovered & Active & Combined\\_Key & Incident\\_Rate & Case\\_Fatality\\_Ratio & Death\\_Rate\\\\\n",
       " <int> & <chr> & <chr> & <chr> & <chr> & <dbl> & <dbl> & <int> & <int> & <lgl> & <lgl> & <chr> & <dbl> & <dbl> & <dbl>\\\\\n",
       "\\hline\n",
       "\t NA &  &  & Taiwan* & 2021-08-26 04:21:28 & 23.7 & 121 & 15939 & 830 & NA & NA & Taiwan* & 66.92342 & 5.207353 & 0.05207353\\\\\n",
       "\\end{tabular}\n"
      ],
      "text/markdown": [
       "\n",
       "A data.frame: 1 × 15\n",
       "\n",
       "| FIPS &lt;int&gt; | Admin2 &lt;chr&gt; | Province_State &lt;chr&gt; | Country_Region &lt;chr&gt; | Last_Update &lt;chr&gt; | Lat &lt;dbl&gt; | Long_ &lt;dbl&gt; | Confirmed &lt;int&gt; | Deaths &lt;int&gt; | Recovered &lt;lgl&gt; | Active &lt;lgl&gt; | Combined_Key &lt;chr&gt; | Incident_Rate &lt;dbl&gt; | Case_Fatality_Ratio &lt;dbl&gt; | Death_Rate &lt;dbl&gt; |\n",
       "|---|---|---|---|---|---|---|---|---|---|---|---|---|---|---|\n",
       "| NA | <!----> | <!----> | Taiwan* | 2021-08-26 04:21:28 | 23.7 | 121 | 15939 | 830 | NA | NA | Taiwan* | 66.92342 | 5.207353 | 0.05207353 |\n",
       "\n"
      ],
      "text/plain": [
       "  FIPS Admin2 Province_State Country_Region Last_Update         Lat  Long_\n",
       "1 NA                         Taiwan*        2021-08-26 04:21:28 23.7 121  \n",
       "  Confirmed Deaths Recovered Active Combined_Key Incident_Rate\n",
       "1 15939     830    NA        NA     Taiwan*      66.92342     \n",
       "  Case_Fatality_Ratio Death_Rate\n",
       "1 5.207353            0.05207353"
      ]
     },
     "metadata": {},
     "output_type": "display_data"
    }
   ],
   "source": [
    "filter(daily_report, Country_Region == \"Taiwan*\")"
   ]
  },
  {
   "cell_type": "code",
   "execution_count": 19,
   "metadata": {
    "slideshow": {
     "slide_type": "subslide"
    }
   },
   "outputs": [
    {
     "data": {
      "text/html": [
       "<table>\n",
       "<caption>A data.frame: 1 × 3</caption>\n",
       "<thead>\n",
       "\t<tr><th scope=col>Country_Region</th><th scope=col>Confirmed</th><th scope=col>Deaths</th></tr>\n",
       "\t<tr><th scope=col>&lt;chr&gt;</th><th scope=col>&lt;int&gt;</th><th scope=col>&lt;int&gt;</th></tr>\n",
       "</thead>\n",
       "<tbody>\n",
       "\t<tr><td>Taiwan*</td><td>15939</td><td>830</td></tr>\n",
       "</tbody>\n",
       "</table>\n"
      ],
      "text/latex": [
       "A data.frame: 1 × 3\n",
       "\\begin{tabular}{lll}\n",
       " Country\\_Region & Confirmed & Deaths\\\\\n",
       " <chr> & <int> & <int>\\\\\n",
       "\\hline\n",
       "\t Taiwan* & 15939 & 830\\\\\n",
       "\\end{tabular}\n"
      ],
      "text/markdown": [
       "\n",
       "A data.frame: 1 × 3\n",
       "\n",
       "| Country_Region &lt;chr&gt; | Confirmed &lt;int&gt; | Deaths &lt;int&gt; |\n",
       "|---|---|---|\n",
       "| Taiwan* | 15939 | 830 |\n",
       "\n"
      ],
      "text/plain": [
       "  Country_Region Confirmed Deaths\n",
       "1 Taiwan*        15939     830   "
      ]
     },
     "metadata": {},
     "output_type": "display_data"
    }
   ],
   "source": [
    "# without using %>%\n",
    "filter(select(daily_report, c(Country_Region, Confirmed, Deaths)), Country_Region == \"Taiwan*\")"
   ]
  },
  {
   "cell_type": "code",
   "execution_count": 20,
   "metadata": {
    "slideshow": {
     "slide_type": "subslide"
    }
   },
   "outputs": [
    {
     "data": {
      "text/html": [
       "<table>\n",
       "<caption>A data.frame: 1 × 3</caption>\n",
       "<thead>\n",
       "\t<tr><th scope=col>Country_Region</th><th scope=col>Confirmed</th><th scope=col>Deaths</th></tr>\n",
       "\t<tr><th scope=col>&lt;chr&gt;</th><th scope=col>&lt;int&gt;</th><th scope=col>&lt;int&gt;</th></tr>\n",
       "</thead>\n",
       "<tbody>\n",
       "\t<tr><td>Taiwan*</td><td>15939</td><td>830</td></tr>\n",
       "</tbody>\n",
       "</table>\n"
      ],
      "text/latex": [
       "A data.frame: 1 × 3\n",
       "\\begin{tabular}{lll}\n",
       " Country\\_Region & Confirmed & Deaths\\\\\n",
       " <chr> & <int> & <int>\\\\\n",
       "\\hline\n",
       "\t Taiwan* & 15939 & 830\\\\\n",
       "\\end{tabular}\n"
      ],
      "text/markdown": [
       "\n",
       "A data.frame: 1 × 3\n",
       "\n",
       "| Country_Region &lt;chr&gt; | Confirmed &lt;int&gt; | Deaths &lt;int&gt; |\n",
       "|---|---|---|\n",
       "| Taiwan* | 15939 | 830 |\n",
       "\n"
      ],
      "text/plain": [
       "  Country_Region Confirmed Deaths\n",
       "1 Taiwan*        15939     830   "
      ]
     },
     "metadata": {},
     "output_type": "display_data"
    }
   ],
   "source": [
    "# using %>%\n",
    "daily_report %>% \n",
    "    select(c(Country_Region, Confirmed, Deaths)) %>% \n",
    "    filter(Country_Region == \"Taiwan*\")"
   ]
  },
  {
   "cell_type": "markdown",
   "metadata": {
    "slideshow": {
     "slide_type": "subslide"
    }
   },
   "source": [
    "## 排序資料框\n",
    "\n",
    "使用 `dplyr::arrange()` 函數排序。"
   ]
  },
  {
   "cell_type": "code",
   "execution_count": 21,
   "metadata": {
    "slideshow": {
     "slide_type": "subslide"
    }
   },
   "outputs": [
    {
     "data": {
      "text/html": [
       "<table>\n",
       "<caption>A data.frame: 6 × 15</caption>\n",
       "<thead>\n",
       "\t<tr><th></th><th scope=col>FIPS</th><th scope=col>Admin2</th><th scope=col>Province_State</th><th scope=col>Country_Region</th><th scope=col>Last_Update</th><th scope=col>Lat</th><th scope=col>Long_</th><th scope=col>Confirmed</th><th scope=col>Deaths</th><th scope=col>Recovered</th><th scope=col>Active</th><th scope=col>Combined_Key</th><th scope=col>Incident_Rate</th><th scope=col>Case_Fatality_Ratio</th><th scope=col>Death_Rate</th></tr>\n",
       "\t<tr><th></th><th scope=col>&lt;int&gt;</th><th scope=col>&lt;chr&gt;</th><th scope=col>&lt;chr&gt;</th><th scope=col>&lt;chr&gt;</th><th scope=col>&lt;chr&gt;</th><th scope=col>&lt;dbl&gt;</th><th scope=col>&lt;dbl&gt;</th><th scope=col>&lt;int&gt;</th><th scope=col>&lt;int&gt;</th><th scope=col>&lt;lgl&gt;</th><th scope=col>&lt;lgl&gt;</th><th scope=col>&lt;chr&gt;</th><th scope=col>&lt;dbl&gt;</th><th scope=col>&lt;dbl&gt;</th><th scope=col>&lt;dbl&gt;</th></tr>\n",
       "</thead>\n",
       "<tbody>\n",
       "\t<tr><th scope=row>1</th><td>NA</td><td></td><td>Northern Territory</td><td>Australia</td><td>2021-08-26 04:21:28</td><td>-12.4634</td><td>130.8456</td><td>   200</td><td>0</td><td>NA</td><td>NA</td><td>Northern Territory, Australia</td><td>   81.43322</td><td>0</td><td>0</td></tr>\n",
       "\t<tr><th scope=row>2</th><td>NA</td><td></td><td>Antwerp           </td><td>Belgium  </td><td>2021-08-26 04:21:28</td><td> 51.2195</td><td>  4.4024</td><td>155068</td><td>0</td><td>NA</td><td>NA</td><td>Antwerp, Belgium             </td><td> 8346.02629</td><td>0</td><td>0</td></tr>\n",
       "\t<tr><th scope=row>3</th><td>NA</td><td></td><td>Brussels          </td><td>Belgium  </td><td>2021-08-26 04:21:28</td><td> 50.8503</td><td>  4.3517</td><td>150646</td><td>0</td><td>NA</td><td>NA</td><td>Brussels, Belgium            </td><td>12465.10258</td><td>0</td><td>0</td></tr>\n",
       "\t<tr><th scope=row>4</th><td>NA</td><td></td><td>East Flanders     </td><td>Belgium  </td><td>2021-08-26 04:21:28</td><td> 51.0362</td><td>  3.7373</td><td>134713</td><td>0</td><td>NA</td><td>NA</td><td>East Flanders, Belgium       </td><td> 8891.57158</td><td>0</td><td>0</td></tr>\n",
       "\t<tr><th scope=row>5</th><td>NA</td><td></td><td>Flemish Brabant   </td><td>Belgium  </td><td>2021-08-26 04:21:28</td><td> 50.9167</td><td>  4.5833</td><td> 92561</td><td>0</td><td>NA</td><td>NA</td><td>Flemish Brabant, Belgium     </td><td> 8075.64290</td><td>0</td><td>0</td></tr>\n",
       "\t<tr><th scope=row>6</th><td>NA</td><td></td><td>Hainaut           </td><td>Belgium  </td><td>2021-08-26 04:21:28</td><td> 50.5257</td><td>  4.0621</td><td>167561</td><td>0</td><td>NA</td><td>NA</td><td>Hainaut, Belgium             </td><td>12465.10112</td><td>0</td><td>0</td></tr>\n",
       "</tbody>\n",
       "</table>\n"
      ],
      "text/latex": [
       "A data.frame: 6 × 15\n",
       "\\begin{tabular}{r|lllllllllllllll}\n",
       "  & FIPS & Admin2 & Province\\_State & Country\\_Region & Last\\_Update & Lat & Long\\_ & Confirmed & Deaths & Recovered & Active & Combined\\_Key & Incident\\_Rate & Case\\_Fatality\\_Ratio & Death\\_Rate\\\\\n",
       "  & <int> & <chr> & <chr> & <chr> & <chr> & <dbl> & <dbl> & <int> & <int> & <lgl> & <lgl> & <chr> & <dbl> & <dbl> & <dbl>\\\\\n",
       "\\hline\n",
       "\t1 & NA &  & Northern Territory & Australia & 2021-08-26 04:21:28 & -12.4634 & 130.8456 &    200 & 0 & NA & NA & Northern Territory, Australia &    81.43322 & 0 & 0\\\\\n",
       "\t2 & NA &  & Antwerp            & Belgium   & 2021-08-26 04:21:28 &  51.2195 &   4.4024 & 155068 & 0 & NA & NA & Antwerp, Belgium              &  8346.02629 & 0 & 0\\\\\n",
       "\t3 & NA &  & Brussels           & Belgium   & 2021-08-26 04:21:28 &  50.8503 &   4.3517 & 150646 & 0 & NA & NA & Brussels, Belgium             & 12465.10258 & 0 & 0\\\\\n",
       "\t4 & NA &  & East Flanders      & Belgium   & 2021-08-26 04:21:28 &  51.0362 &   3.7373 & 134713 & 0 & NA & NA & East Flanders, Belgium        &  8891.57158 & 0 & 0\\\\\n",
       "\t5 & NA &  & Flemish Brabant    & Belgium   & 2021-08-26 04:21:28 &  50.9167 &   4.5833 &  92561 & 0 & NA & NA & Flemish Brabant, Belgium      &  8075.64290 & 0 & 0\\\\\n",
       "\t6 & NA &  & Hainaut            & Belgium   & 2021-08-26 04:21:28 &  50.5257 &   4.0621 & 167561 & 0 & NA & NA & Hainaut, Belgium              & 12465.10112 & 0 & 0\\\\\n",
       "\\end{tabular}\n"
      ],
      "text/markdown": [
       "\n",
       "A data.frame: 6 × 15\n",
       "\n",
       "| <!--/--> | FIPS &lt;int&gt; | Admin2 &lt;chr&gt; | Province_State &lt;chr&gt; | Country_Region &lt;chr&gt; | Last_Update &lt;chr&gt; | Lat &lt;dbl&gt; | Long_ &lt;dbl&gt; | Confirmed &lt;int&gt; | Deaths &lt;int&gt; | Recovered &lt;lgl&gt; | Active &lt;lgl&gt; | Combined_Key &lt;chr&gt; | Incident_Rate &lt;dbl&gt; | Case_Fatality_Ratio &lt;dbl&gt; | Death_Rate &lt;dbl&gt; |\n",
       "|---|---|---|---|---|---|---|---|---|---|---|---|---|---|---|---|\n",
       "| 1 | NA | <!----> | Northern Territory | Australia | 2021-08-26 04:21:28 | -12.4634 | 130.8456 |    200 | 0 | NA | NA | Northern Territory, Australia |    81.43322 | 0 | 0 |\n",
       "| 2 | NA | <!----> | Antwerp            | Belgium   | 2021-08-26 04:21:28 |  51.2195 |   4.4024 | 155068 | 0 | NA | NA | Antwerp, Belgium              |  8346.02629 | 0 | 0 |\n",
       "| 3 | NA | <!----> | Brussels           | Belgium   | 2021-08-26 04:21:28 |  50.8503 |   4.3517 | 150646 | 0 | NA | NA | Brussels, Belgium             | 12465.10258 | 0 | 0 |\n",
       "| 4 | NA | <!----> | East Flanders      | Belgium   | 2021-08-26 04:21:28 |  51.0362 |   3.7373 | 134713 | 0 | NA | NA | East Flanders, Belgium        |  8891.57158 | 0 | 0 |\n",
       "| 5 | NA | <!----> | Flemish Brabant    | Belgium   | 2021-08-26 04:21:28 |  50.9167 |   4.5833 |  92561 | 0 | NA | NA | Flemish Brabant, Belgium      |  8075.64290 | 0 | 0 |\n",
       "| 6 | NA | <!----> | Hainaut            | Belgium   | 2021-08-26 04:21:28 |  50.5257 |   4.0621 | 167561 | 0 | NA | NA | Hainaut, Belgium              | 12465.10112 | 0 | 0 |\n",
       "\n"
      ],
      "text/plain": [
       "  FIPS Admin2 Province_State     Country_Region Last_Update         Lat     \n",
       "1 NA          Northern Territory Australia      2021-08-26 04:21:28 -12.4634\n",
       "2 NA          Antwerp            Belgium        2021-08-26 04:21:28  51.2195\n",
       "3 NA          Brussels           Belgium        2021-08-26 04:21:28  50.8503\n",
       "4 NA          East Flanders      Belgium        2021-08-26 04:21:28  51.0362\n",
       "5 NA          Flemish Brabant    Belgium        2021-08-26 04:21:28  50.9167\n",
       "6 NA          Hainaut            Belgium        2021-08-26 04:21:28  50.5257\n",
       "  Long_    Confirmed Deaths Recovered Active Combined_Key                 \n",
       "1 130.8456    200    0      NA        NA     Northern Territory, Australia\n",
       "2   4.4024 155068    0      NA        NA     Antwerp, Belgium             \n",
       "3   4.3517 150646    0      NA        NA     Brussels, Belgium            \n",
       "4   3.7373 134713    0      NA        NA     East Flanders, Belgium       \n",
       "5   4.5833  92561    0      NA        NA     Flemish Brabant, Belgium     \n",
       "6   4.0621 167561    0      NA        NA     Hainaut, Belgium             \n",
       "  Incident_Rate Case_Fatality_Ratio Death_Rate\n",
       "1    81.43322   0                   0         \n",
       "2  8346.02629   0                   0         \n",
       "3 12465.10258   0                   0         \n",
       "4  8891.57158   0                   0         \n",
       "5  8075.64290   0                   0         \n",
       "6 12465.10112   0                   0         "
      ]
     },
     "metadata": {},
     "output_type": "display_data"
    }
   ],
   "source": [
    "daily_report %>% \n",
    "    arrange(Deaths) %>% \n",
    "    head()"
   ]
  },
  {
   "cell_type": "markdown",
   "metadata": {
    "slideshow": {
     "slide_type": "subslide"
    }
   },
   "source": [
    "## 新增變數\n",
    "\n",
    "使用 `dplyr::mutate()` 函數新增變數。"
   ]
  },
  {
   "cell_type": "code",
   "execution_count": 22,
   "metadata": {
    "slideshow": {
     "slide_type": "subslide"
    }
   },
   "outputs": [
    {
     "data": {
      "text/html": [
       "<table>\n",
       "<caption>A data.frame: 6 × 2</caption>\n",
       "<thead>\n",
       "\t<tr><th></th><th scope=col>Country_Region</th><th scope=col>Death_Rate</th></tr>\n",
       "\t<tr><th></th><th scope=col>&lt;chr&gt;</th><th scope=col>&lt;dbl&gt;</th></tr>\n",
       "</thead>\n",
       "<tbody>\n",
       "\t<tr><th scope=row>1</th><td>Afghanistan        </td><td>0.046424222</td></tr>\n",
       "\t<tr><th scope=row>2</th><td>Albania            </td><td>0.017564461</td></tr>\n",
       "\t<tr><th scope=row>3</th><td>Algeria            </td><td>0.026380771</td></tr>\n",
       "\t<tr><th scope=row>4</th><td>Andorra            </td><td>0.008658585</td></tr>\n",
       "\t<tr><th scope=row>5</th><td>Angola             </td><td>0.025269129</td></tr>\n",
       "\t<tr><th scope=row>6</th><td>Antigua and Barbuda</td><td>0.026908636</td></tr>\n",
       "</tbody>\n",
       "</table>\n"
      ],
      "text/latex": [
       "A data.frame: 6 × 2\n",
       "\\begin{tabular}{r|ll}\n",
       "  & Country\\_Region & Death\\_Rate\\\\\n",
       "  & <chr> & <dbl>\\\\\n",
       "\\hline\n",
       "\t1 & Afghanistan         & 0.046424222\\\\\n",
       "\t2 & Albania             & 0.017564461\\\\\n",
       "\t3 & Algeria             & 0.026380771\\\\\n",
       "\t4 & Andorra             & 0.008658585\\\\\n",
       "\t5 & Angola              & 0.025269129\\\\\n",
       "\t6 & Antigua and Barbuda & 0.026908636\\\\\n",
       "\\end{tabular}\n"
      ],
      "text/markdown": [
       "\n",
       "A data.frame: 6 × 2\n",
       "\n",
       "| <!--/--> | Country_Region &lt;chr&gt; | Death_Rate &lt;dbl&gt; |\n",
       "|---|---|---|\n",
       "| 1 | Afghanistan         | 0.046424222 |\n",
       "| 2 | Albania             | 0.017564461 |\n",
       "| 3 | Algeria             | 0.026380771 |\n",
       "| 4 | Andorra             | 0.008658585 |\n",
       "| 5 | Angola              | 0.025269129 |\n",
       "| 6 | Antigua and Barbuda | 0.026908636 |\n",
       "\n"
      ],
      "text/plain": [
       "  Country_Region      Death_Rate \n",
       "1 Afghanistan         0.046424222\n",
       "2 Albania             0.017564461\n",
       "3 Algeria             0.026380771\n",
       "4 Andorra             0.008658585\n",
       "5 Angola              0.025269129\n",
       "6 Antigua and Barbuda 0.026908636"
      ]
     },
     "metadata": {},
     "output_type": "display_data"
    }
   ],
   "source": [
    "daily_report <- get_daily_report()\n",
    "daily_report %>% \n",
    "    mutate(Death_Rate = Deaths / Confirmed) %>% \n",
    "    select(Country_Region, Death_Rate) %>% \n",
    "    head()"
   ]
  },
  {
   "cell_type": "markdown",
   "metadata": {
    "slideshow": {
     "slide_type": "subslide"
    }
   },
   "source": [
    "## 摘要\n",
    "\n",
    "使用 `dplyr::summarise()` 函數摘要。"
   ]
  },
  {
   "cell_type": "code",
   "execution_count": 23,
   "metadata": {
    "slideshow": {
     "slide_type": "subslide"
    }
   },
   "outputs": [
    {
     "data": {
      "text/html": [
       "<table>\n",
       "<caption>A data.frame: 1 × 1</caption>\n",
       "<thead>\n",
       "\t<tr><th scope=col>avg_deaths</th></tr>\n",
       "\t<tr><th scope=col>&lt;dbl&gt;</th></tr>\n",
       "</thead>\n",
       "<tbody>\n",
       "\t<tr><td>1119.572</td></tr>\n",
       "</tbody>\n",
       "</table>\n"
      ],
      "text/latex": [
       "A data.frame: 1 × 1\n",
       "\\begin{tabular}{l}\n",
       " avg\\_deaths\\\\\n",
       " <dbl>\\\\\n",
       "\\hline\n",
       "\t 1119.572\\\\\n",
       "\\end{tabular}\n"
      ],
      "text/markdown": [
       "\n",
       "A data.frame: 1 × 1\n",
       "\n",
       "| avg_deaths &lt;dbl&gt; |\n",
       "|---|\n",
       "| 1119.572 |\n",
       "\n"
      ],
      "text/plain": [
       "  avg_deaths\n",
       "1 1119.572  "
      ]
     },
     "metadata": {},
     "output_type": "display_data"
    }
   ],
   "source": [
    "daily_report %>% \n",
    "    summarise(avg_deaths = mean(Deaths))"
   ]
  },
  {
   "cell_type": "markdown",
   "metadata": {
    "slideshow": {
     "slide_type": "subslide"
    }
   },
   "source": [
    "## 分組摘要\n",
    "\n",
    "使用 `dplyr::group_by()` 搭配 `dplyr::summarise()` 函數分組摘要。"
   ]
  },
  {
   "cell_type": "code",
   "execution_count": 24,
   "metadata": {
    "slideshow": {
     "slide_type": "subslide"
    }
   },
   "outputs": [
    {
     "name": "stderr",
     "output_type": "stream",
     "text": [
      "`summarise()` ungrouping output (override with `.groups` argument)\n",
      "\n"
     ]
    },
    {
     "data": {
      "text/html": [
       "<table>\n",
       "<caption>A tibble: 6 × 2</caption>\n",
       "<thead>\n",
       "\t<tr><th scope=col>Country_Region</th><th scope=col>avg_deaths</th></tr>\n",
       "\t<tr><th scope=col>&lt;chr&gt;</th><th scope=col>&lt;dbl&gt;</th></tr>\n",
       "</thead>\n",
       "<tbody>\n",
       "\t<tr><td>Afghanistan        </td><td>7090</td></tr>\n",
       "\t<tr><td>Albania            </td><td>2483</td></tr>\n",
       "\t<tr><td>Algeria            </td><td>5096</td></tr>\n",
       "\t<tr><td>Andorra            </td><td> 130</td></tr>\n",
       "\t<tr><td>Angola             </td><td>1176</td></tr>\n",
       "\t<tr><td>Antigua and Barbuda</td><td>  43</td></tr>\n",
       "</tbody>\n",
       "</table>\n"
      ],
      "text/latex": [
       "A tibble: 6 × 2\n",
       "\\begin{tabular}{ll}\n",
       " Country\\_Region & avg\\_deaths\\\\\n",
       " <chr> & <dbl>\\\\\n",
       "\\hline\n",
       "\t Afghanistan         & 7090\\\\\n",
       "\t Albania             & 2483\\\\\n",
       "\t Algeria             & 5096\\\\\n",
       "\t Andorra             &  130\\\\\n",
       "\t Angola              & 1176\\\\\n",
       "\t Antigua and Barbuda &   43\\\\\n",
       "\\end{tabular}\n"
      ],
      "text/markdown": [
       "\n",
       "A tibble: 6 × 2\n",
       "\n",
       "| Country_Region &lt;chr&gt; | avg_deaths &lt;dbl&gt; |\n",
       "|---|---|\n",
       "| Afghanistan         | 7090 |\n",
       "| Albania             | 2483 |\n",
       "| Algeria             | 5096 |\n",
       "| Andorra             |  130 |\n",
       "| Angola              | 1176 |\n",
       "| Antigua and Barbuda |   43 |\n",
       "\n"
      ],
      "text/plain": [
       "  Country_Region      avg_deaths\n",
       "1 Afghanistan         7090      \n",
       "2 Albania             2483      \n",
       "3 Algeria             5096      \n",
       "4 Andorra              130      \n",
       "5 Angola              1176      \n",
       "6 Antigua and Barbuda   43      "
      ]
     },
     "metadata": {},
     "output_type": "display_data"
    }
   ],
   "source": [
    "daily_report %>% \n",
    "    group_by(Country_Region) %>% \n",
    "    summarise(avg_deaths = mean(Deaths)) %>% \n",
    "    head()"
   ]
  },
  {
   "cell_type": "markdown",
   "metadata": {
    "slideshow": {
     "slide_type": "slide"
    }
   },
   "source": [
    "## 進階資料框處理"
   ]
  },
  {
   "cell_type": "markdown",
   "metadata": {
    "slideshow": {
     "slide_type": "subslide"
    }
   },
   "source": [
    "## 進階資料框處理包含\n",
    "\n",
    "- 轉置資料框。\n",
    "    - 寬格式轉長格式。\n",
    "    - 長格式轉寬格式。\n",
    "- 垂直合併資料框。\n",
    "- 水平合併資料框。"
   ]
  },
  {
   "cell_type": "markdown",
   "metadata": {
    "slideshow": {
     "slide_type": "subslide"
    }
   },
   "source": [
    "## 使用 `tidyr` 轉置資料框\n",
    "\n",
    "- 安裝 `tidyr` 套件。\n",
    "- 載入 `tidyr` 套件。"
   ]
  },
  {
   "cell_type": "markdown",
   "metadata": {
    "slideshow": {
     "slide_type": "subslide"
    }
   },
   "source": [
    "## 安裝 `tidyr` 套件\n",
    "\n",
    "- 透過 RStudio 的 `Packages` 功能頁籤。\n",
    "- 透過 `install.packages()` 函數。\n",
    "\n",
    "```r\n",
    "install.packages(\"tidyr\")\n",
    "```"
   ]
  },
  {
   "cell_type": "markdown",
   "metadata": {
    "slideshow": {
     "slide_type": "subslide"
    }
   },
   "source": [
    "## 載入 `tidyr` 套件\n",
    "\n",
    "- 透過 RStudio 的 `Packages` 功能頁籤。\n",
    "- 透過 `library()` 函數。"
   ]
  },
  {
   "cell_type": "code",
   "execution_count": 25,
   "metadata": {},
   "outputs": [],
   "source": [
    "library(\"tidyr\")"
   ]
  },
  {
   "cell_type": "markdown",
   "metadata": {
    "slideshow": {
     "slide_type": "subslide"
    }
   },
   "source": [
    "## `tidyr` 最重要的兩個函數\n",
    "\n",
    "- `tidyr::pivot_longer()` 寬格式轉長格式。\n",
    "- `tidyr::pivot_wider()` 長格式轉寬格式。"
   ]
  },
  {
   "cell_type": "markdown",
   "metadata": {
    "slideshow": {
     "slide_type": "subslide"
    }
   },
   "source": [
    "## 什麼是寬格式、長格式？\n",
    "\n",
    "- 寬格式使用一個欄位，欄位名稱記錄變數類別、觀測值記錄其數值。 \n",
    "- 長格式使用兩個欄位，一個記錄變數類別、一個記錄數值。\n",
    "\n",
    "來源：<https://en.wikipedia.org/wiki/Wide_and_narrow_data>"
   ]
  },
  {
   "cell_type": "markdown",
   "metadata": {
    "slideshow": {
     "slide_type": "subslide"
    }
   },
   "source": [
    "## 為何需要轉置資料框？\n",
    "\n",
    "資料框的欄位名稱含有使用者需要的資料值或者儲存格式與應用情境不符。"
   ]
  },
  {
   "cell_type": "code",
   "execution_count": 26,
   "metadata": {
    "slideshow": {
     "slide_type": "subslide"
    }
   },
   "outputs": [
    {
     "name": "stdout",
     "output_type": "stream",
     "text": [
      "[1] 279 587\n"
     ]
    }
   ],
   "source": [
    "get_time_series_confirmed <- function() {\n",
    "    csv_url <- paste0(\"https://raw.githubusercontent.com/CSSEGISandData/COVID-19/master/\",\n",
    "                      \"csse_covid_19_data/csse_covid_19_time_series/\",\n",
    "                      \"time_series_covid19_confirmed_global.csv\")\n",
    "    time_series_confirmed <- read.csv(csv_url)\n",
    "    return(time_series_confirmed)\n",
    "}\n",
    "time_series_confirmed <- get_time_series_confirmed()\n",
    "print(dim(time_series_confirmed))"
   ]
  },
  {
   "cell_type": "markdown",
   "metadata": {
    "slideshow": {
     "slide_type": "subslide"
    }
   },
   "source": [
    "## 使用 `tidyr` 的 `pivot_longer()` 函數寬轉長\n",
    "\n",
    "- `cols`: 欲轉置的變數。\n",
    "- `names_to`: 自訂為 `Date`。\n",
    "- `values_to`: 自訂為 `Confirmed`。"
   ]
  },
  {
   "cell_type": "code",
   "execution_count": 27,
   "metadata": {
    "slideshow": {
     "slide_type": "subslide"
    }
   },
   "outputs": [],
   "source": [
    "cols_to_pivot_longer <- colnames(time_series_confirmed)[5:length(time_series_confirmed)]\n",
    "time_series_confirmed_long <- time_series_confirmed[, c(2, 5:ncol(time_series_confirmed))] %>% \n",
    "    pivot_longer(cols = all_of(cols_to_pivot_longer),\n",
    "                 names_to = \"Date\",\n",
    "                 values_to = \"Confirmed\"\n",
    "                )"
   ]
  },
  {
   "cell_type": "code",
   "execution_count": 28,
   "metadata": {
    "slideshow": {
     "slide_type": "subslide"
    }
   },
   "outputs": [
    {
     "name": "stdout",
     "output_type": "stream",
     "text": [
      "[1] 162657      3\n"
     ]
    },
    {
     "data": {
      "text/html": [
       "<table>\n",
       "<caption>A tibble: 6 × 3</caption>\n",
       "<thead>\n",
       "\t<tr><th scope=col>Country.Region</th><th scope=col>Date</th><th scope=col>Confirmed</th></tr>\n",
       "\t<tr><th scope=col>&lt;chr&gt;</th><th scope=col>&lt;chr&gt;</th><th scope=col>&lt;int&gt;</th></tr>\n",
       "</thead>\n",
       "<tbody>\n",
       "\t<tr><td>Afghanistan</td><td>X1.22.20</td><td>0</td></tr>\n",
       "\t<tr><td>Afghanistan</td><td>X1.23.20</td><td>0</td></tr>\n",
       "\t<tr><td>Afghanistan</td><td>X1.24.20</td><td>0</td></tr>\n",
       "\t<tr><td>Afghanistan</td><td>X1.25.20</td><td>0</td></tr>\n",
       "\t<tr><td>Afghanistan</td><td>X1.26.20</td><td>0</td></tr>\n",
       "\t<tr><td>Afghanistan</td><td>X1.27.20</td><td>0</td></tr>\n",
       "</tbody>\n",
       "</table>\n"
      ],
      "text/latex": [
       "A tibble: 6 × 3\n",
       "\\begin{tabular}{lll}\n",
       " Country.Region & Date & Confirmed\\\\\n",
       " <chr> & <chr> & <int>\\\\\n",
       "\\hline\n",
       "\t Afghanistan & X1.22.20 & 0\\\\\n",
       "\t Afghanistan & X1.23.20 & 0\\\\\n",
       "\t Afghanistan & X1.24.20 & 0\\\\\n",
       "\t Afghanistan & X1.25.20 & 0\\\\\n",
       "\t Afghanistan & X1.26.20 & 0\\\\\n",
       "\t Afghanistan & X1.27.20 & 0\\\\\n",
       "\\end{tabular}\n"
      ],
      "text/markdown": [
       "\n",
       "A tibble: 6 × 3\n",
       "\n",
       "| Country.Region &lt;chr&gt; | Date &lt;chr&gt; | Confirmed &lt;int&gt; |\n",
       "|---|---|---|\n",
       "| Afghanistan | X1.22.20 | 0 |\n",
       "| Afghanistan | X1.23.20 | 0 |\n",
       "| Afghanistan | X1.24.20 | 0 |\n",
       "| Afghanistan | X1.25.20 | 0 |\n",
       "| Afghanistan | X1.26.20 | 0 |\n",
       "| Afghanistan | X1.27.20 | 0 |\n",
       "\n"
      ],
      "text/plain": [
       "  Country.Region Date     Confirmed\n",
       "1 Afghanistan    X1.22.20 0        \n",
       "2 Afghanistan    X1.23.20 0        \n",
       "3 Afghanistan    X1.24.20 0        \n",
       "4 Afghanistan    X1.25.20 0        \n",
       "5 Afghanistan    X1.26.20 0        \n",
       "6 Afghanistan    X1.27.20 0        "
      ]
     },
     "metadata": {},
     "output_type": "display_data"
    }
   ],
   "source": [
    "print(dim(time_series_confirmed_long))\n",
    "head(time_series_confirmed_long)"
   ]
  },
  {
   "cell_type": "code",
   "execution_count": 29,
   "metadata": {
    "slideshow": {
     "slide_type": "subslide"
    }
   },
   "outputs": [
    {
     "name": "stderr",
     "output_type": "stream",
     "text": [
      "`summarise()` regrouping output by 'Country.Region' (override with `.groups` argument)\n",
      "\n"
     ]
    },
    {
     "name": "stdout",
     "output_type": "stream",
     "text": [
      "[1] 113685      3\n"
     ]
    }
   ],
   "source": [
    "time_series_confirmed_long  <- time_series_confirmed_long %>% \n",
    "    group_by(Country.Region, Date) %>% \n",
    "    summarise(Confirmed = sum(Confirmed))\n",
    "print(dim(time_series_confirmed_long))"
   ]
  },
  {
   "cell_type": "markdown",
   "metadata": {
    "slideshow": {
     "slide_type": "subslide"
    }
   },
   "source": [
    "## 使用 `tidyr` 的 `pivot_wider()` 函數長轉寬\n",
    "\n",
    "- `id_cols`: 用來標示獨一值的變數 `Country.Region`。\n",
    "- `names_from`: `Date`。\n",
    "- `values_from`: `Confirmed`。"
   ]
  },
  {
   "cell_type": "code",
   "execution_count": 30,
   "metadata": {
    "slideshow": {
     "slide_type": "subslide"
    }
   },
   "outputs": [
    {
     "name": "stdout",
     "output_type": "stream",
     "text": [
      "[1] 195 584\n"
     ]
    },
    {
     "data": {
      "text/html": [
       "<table>\n",
       "<caption>A grouped_df: 6 × 584</caption>\n",
       "<thead>\n",
       "\t<tr><th scope=col>Country.Region</th><th scope=col>X1.1.21</th><th scope=col>X1.10.21</th><th scope=col>X1.11.21</th><th scope=col>X1.12.21</th><th scope=col>X1.13.21</th><th scope=col>X1.14.21</th><th scope=col>X1.15.21</th><th scope=col>X1.16.21</th><th scope=col>X1.17.21</th><th scope=col>⋯</th><th scope=col>X9.28.20</th><th scope=col>X9.29.20</th><th scope=col>X9.3.20</th><th scope=col>X9.30.20</th><th scope=col>X9.4.20</th><th scope=col>X9.5.20</th><th scope=col>X9.6.20</th><th scope=col>X9.7.20</th><th scope=col>X9.8.20</th><th scope=col>X9.9.20</th></tr>\n",
       "\t<tr><th scope=col>&lt;chr&gt;</th><th scope=col>&lt;int&gt;</th><th scope=col>&lt;int&gt;</th><th scope=col>&lt;int&gt;</th><th scope=col>&lt;int&gt;</th><th scope=col>&lt;int&gt;</th><th scope=col>&lt;int&gt;</th><th scope=col>&lt;int&gt;</th><th scope=col>&lt;int&gt;</th><th scope=col>&lt;int&gt;</th><th scope=col>⋯</th><th scope=col>&lt;int&gt;</th><th scope=col>&lt;int&gt;</th><th scope=col>&lt;int&gt;</th><th scope=col>&lt;int&gt;</th><th scope=col>&lt;int&gt;</th><th scope=col>&lt;int&gt;</th><th scope=col>&lt;int&gt;</th><th scope=col>&lt;int&gt;</th><th scope=col>&lt;int&gt;</th><th scope=col>&lt;int&gt;</th></tr>\n",
       "</thead>\n",
       "<tbody>\n",
       "\t<tr><td>Afghanistan        </td><td>51526</td><td> 53489</td><td> 53538</td><td> 53584</td><td> 53584</td><td> 53775</td><td> 53831</td><td> 53938</td><td> 53984</td><td>⋯</td><td>39239</td><td>39254</td><td>38288</td><td>39268</td><td>38304</td><td>38324</td><td>38398</td><td>38494</td><td>38520</td><td>38544</td></tr>\n",
       "\t<tr><td>Albania            </td><td>58316</td><td> 63595</td><td> 63971</td><td> 64627</td><td> 65334</td><td> 65994</td><td> 66635</td><td> 67216</td><td> 67690</td><td>⋯</td><td>13391</td><td>13518</td><td> 9844</td><td>13649</td><td> 9967</td><td>10102</td><td>10255</td><td>10406</td><td>10553</td><td>10704</td></tr>\n",
       "\t<tr><td>Algeria            </td><td>99897</td><td>102144</td><td>102369</td><td>102641</td><td>102860</td><td>103127</td><td>103381</td><td>103611</td><td>103833</td><td>⋯</td><td>51213</td><td>51368</td><td>45469</td><td>51530</td><td>45773</td><td>46071</td><td>46364</td><td>46653</td><td>46938</td><td>47216</td></tr>\n",
       "\t<tr><td>Andorra            </td><td> 8117</td><td>  8586</td><td>  8586</td><td>  8682</td><td>  8818</td><td>  8868</td><td>  8946</td><td>  9038</td><td>  9083</td><td>⋯</td><td> 1966</td><td> 1966</td><td> 1199</td><td> 2050</td><td> 1215</td><td> 1215</td><td> 1215</td><td> 1261</td><td> 1261</td><td> 1301</td></tr>\n",
       "\t<tr><td>Angola             </td><td>17568</td><td> 18193</td><td> 18254</td><td> 18343</td><td> 18425</td><td> 18613</td><td> 18679</td><td> 18765</td><td> 18875</td><td>⋯</td><td> 4797</td><td> 4905</td><td> 2805</td><td> 4972</td><td> 2876</td><td> 2935</td><td> 2965</td><td> 2981</td><td> 3033</td><td> 3092</td></tr>\n",
       "\t<tr><td>Antigua and Barbuda</td><td>  159</td><td>   176</td><td>   176</td><td>   176</td><td>   176</td><td>   184</td><td>   184</td><td>   187</td><td>   189</td><td>⋯</td><td>  101</td><td>  101</td><td>   95</td><td>  101</td><td>   95</td><td>   95</td><td>   95</td><td>   95</td><td>   95</td><td>   95</td></tr>\n",
       "</tbody>\n",
       "</table>\n"
      ],
      "text/latex": [
       "A grouped\\_df: 6 × 584\n",
       "\\begin{tabular}{lllllllllllllllllllll}\n",
       " Country.Region & X1.1.21 & X1.10.21 & X1.11.21 & X1.12.21 & X1.13.21 & X1.14.21 & X1.15.21 & X1.16.21 & X1.17.21 & ⋯ & X9.28.20 & X9.29.20 & X9.3.20 & X9.30.20 & X9.4.20 & X9.5.20 & X9.6.20 & X9.7.20 & X9.8.20 & X9.9.20\\\\\n",
       " <chr> & <int> & <int> & <int> & <int> & <int> & <int> & <int> & <int> & <int> & ⋯ & <int> & <int> & <int> & <int> & <int> & <int> & <int> & <int> & <int> & <int>\\\\\n",
       "\\hline\n",
       "\t Afghanistan         & 51526 &  53489 &  53538 &  53584 &  53584 &  53775 &  53831 &  53938 &  53984 & ⋯ & 39239 & 39254 & 38288 & 39268 & 38304 & 38324 & 38398 & 38494 & 38520 & 38544\\\\\n",
       "\t Albania             & 58316 &  63595 &  63971 &  64627 &  65334 &  65994 &  66635 &  67216 &  67690 & ⋯ & 13391 & 13518 &  9844 & 13649 &  9967 & 10102 & 10255 & 10406 & 10553 & 10704\\\\\n",
       "\t Algeria             & 99897 & 102144 & 102369 & 102641 & 102860 & 103127 & 103381 & 103611 & 103833 & ⋯ & 51213 & 51368 & 45469 & 51530 & 45773 & 46071 & 46364 & 46653 & 46938 & 47216\\\\\n",
       "\t Andorra             &  8117 &   8586 &   8586 &   8682 &   8818 &   8868 &   8946 &   9038 &   9083 & ⋯ &  1966 &  1966 &  1199 &  2050 &  1215 &  1215 &  1215 &  1261 &  1261 &  1301\\\\\n",
       "\t Angola              & 17568 &  18193 &  18254 &  18343 &  18425 &  18613 &  18679 &  18765 &  18875 & ⋯ &  4797 &  4905 &  2805 &  4972 &  2876 &  2935 &  2965 &  2981 &  3033 &  3092\\\\\n",
       "\t Antigua and Barbuda &   159 &    176 &    176 &    176 &    176 &    184 &    184 &    187 &    189 & ⋯ &   101 &   101 &    95 &   101 &    95 &    95 &    95 &    95 &    95 &    95\\\\\n",
       "\\end{tabular}\n"
      ],
      "text/markdown": [
       "\n",
       "A grouped_df: 6 × 584\n",
       "\n",
       "| Country.Region &lt;chr&gt; | X1.1.21 &lt;int&gt; | X1.10.21 &lt;int&gt; | X1.11.21 &lt;int&gt; | X1.12.21 &lt;int&gt; | X1.13.21 &lt;int&gt; | X1.14.21 &lt;int&gt; | X1.15.21 &lt;int&gt; | X1.16.21 &lt;int&gt; | X1.17.21 &lt;int&gt; | ⋯ ⋯ | X9.28.20 &lt;int&gt; | X9.29.20 &lt;int&gt; | X9.3.20 &lt;int&gt; | X9.30.20 &lt;int&gt; | X9.4.20 &lt;int&gt; | X9.5.20 &lt;int&gt; | X9.6.20 &lt;int&gt; | X9.7.20 &lt;int&gt; | X9.8.20 &lt;int&gt; | X9.9.20 &lt;int&gt; |\n",
       "|---|---|---|---|---|---|---|---|---|---|---|---|---|---|---|---|---|---|---|---|---|\n",
       "| Afghanistan         | 51526 |  53489 |  53538 |  53584 |  53584 |  53775 |  53831 |  53938 |  53984 | ⋯ | 39239 | 39254 | 38288 | 39268 | 38304 | 38324 | 38398 | 38494 | 38520 | 38544 |\n",
       "| Albania             | 58316 |  63595 |  63971 |  64627 |  65334 |  65994 |  66635 |  67216 |  67690 | ⋯ | 13391 | 13518 |  9844 | 13649 |  9967 | 10102 | 10255 | 10406 | 10553 | 10704 |\n",
       "| Algeria             | 99897 | 102144 | 102369 | 102641 | 102860 | 103127 | 103381 | 103611 | 103833 | ⋯ | 51213 | 51368 | 45469 | 51530 | 45773 | 46071 | 46364 | 46653 | 46938 | 47216 |\n",
       "| Andorra             |  8117 |   8586 |   8586 |   8682 |   8818 |   8868 |   8946 |   9038 |   9083 | ⋯ |  1966 |  1966 |  1199 |  2050 |  1215 |  1215 |  1215 |  1261 |  1261 |  1301 |\n",
       "| Angola              | 17568 |  18193 |  18254 |  18343 |  18425 |  18613 |  18679 |  18765 |  18875 | ⋯ |  4797 |  4905 |  2805 |  4972 |  2876 |  2935 |  2965 |  2981 |  3033 |  3092 |\n",
       "| Antigua and Barbuda |   159 |    176 |    176 |    176 |    176 |    184 |    184 |    187 |    189 | ⋯ |   101 |   101 |    95 |   101 |    95 |    95 |    95 |    95 |    95 |    95 |\n",
       "\n"
      ],
      "text/plain": [
       "  Country.Region      X1.1.21 X1.10.21 X1.11.21 X1.12.21 X1.13.21 X1.14.21\n",
       "1 Afghanistan         51526    53489    53538    53584    53584    53775  \n",
       "2 Albania             58316    63595    63971    64627    65334    65994  \n",
       "3 Algeria             99897   102144   102369   102641   102860   103127  \n",
       "4 Andorra              8117     8586     8586     8682     8818     8868  \n",
       "5 Angola              17568    18193    18254    18343    18425    18613  \n",
       "6 Antigua and Barbuda   159      176      176      176      176      184  \n",
       "  X1.15.21 X1.16.21 X1.17.21 ⋯ X9.28.20 X9.29.20 X9.3.20 X9.30.20 X9.4.20\n",
       "1  53831    53938    53984   ⋯ 39239    39254    38288   39268    38304  \n",
       "2  66635    67216    67690   ⋯ 13391    13518     9844   13649     9967  \n",
       "3 103381   103611   103833   ⋯ 51213    51368    45469   51530    45773  \n",
       "4   8946     9038     9083   ⋯  1966     1966     1199    2050     1215  \n",
       "5  18679    18765    18875   ⋯  4797     4905     2805    4972     2876  \n",
       "6    184      187      189   ⋯   101      101       95     101       95  \n",
       "  X9.5.20 X9.6.20 X9.7.20 X9.8.20 X9.9.20\n",
       "1 38324   38398   38494   38520   38544  \n",
       "2 10102   10255   10406   10553   10704  \n",
       "3 46071   46364   46653   46938   47216  \n",
       "4  1215    1215    1261    1261    1301  \n",
       "5  2935    2965    2981    3033    3092  \n",
       "6    95      95      95      95      95  "
      ]
     },
     "metadata": {},
     "output_type": "display_data"
    }
   ],
   "source": [
    "time_series_confirmed_wide <- time_series_confirmed_long %>% \n",
    "    pivot_wider(id_cols = Country.Region,\n",
    "                names_from = \"Date\",\n",
    "                values_from = \"Confirmed\"\n",
    "               )\n",
    "print(dim(time_series_confirmed_wide))\n",
    "head(time_series_confirmed_wide)"
   ]
  },
  {
   "cell_type": "markdown",
   "metadata": {
    "slideshow": {
     "slide_type": "subslide"
    }
   },
   "source": [
    "## 使用 `dplyr` 的函數合併資料框\n",
    "\n",
    "- 垂直合併。\n",
    "    - `dplyr::bind_rows()` 函數。\n",
    "- 水平合併。\n",
    "    - `dplyr::bind_cols()` 函數。\n",
    "    - `dplyr::..._join()` 函數。"
   ]
  },
  {
   "cell_type": "markdown",
   "metadata": {
    "slideshow": {
     "slide_type": "subslide"
    }
   },
   "source": [
    "## `bind_rows()` 函數"
   ]
  },
  {
   "cell_type": "code",
   "execution_count": 31,
   "metadata": {},
   "outputs": [
    {
     "data": {
      "text/html": [
       "<table>\n",
       "<caption>A grouped_df: 2 × 584</caption>\n",
       "<thead>\n",
       "\t<tr><th scope=col>Country.Region</th><th scope=col>X1.1.21</th><th scope=col>X1.10.21</th><th scope=col>X1.11.21</th><th scope=col>X1.12.21</th><th scope=col>X1.13.21</th><th scope=col>X1.14.21</th><th scope=col>X1.15.21</th><th scope=col>X1.16.21</th><th scope=col>X1.17.21</th><th scope=col>⋯</th><th scope=col>X9.28.20</th><th scope=col>X9.29.20</th><th scope=col>X9.3.20</th><th scope=col>X9.30.20</th><th scope=col>X9.4.20</th><th scope=col>X9.5.20</th><th scope=col>X9.6.20</th><th scope=col>X9.7.20</th><th scope=col>X9.8.20</th><th scope=col>X9.9.20</th></tr>\n",
       "\t<tr><th scope=col>&lt;chr&gt;</th><th scope=col>&lt;int&gt;</th><th scope=col>&lt;int&gt;</th><th scope=col>&lt;int&gt;</th><th scope=col>&lt;int&gt;</th><th scope=col>&lt;int&gt;</th><th scope=col>&lt;int&gt;</th><th scope=col>&lt;int&gt;</th><th scope=col>&lt;int&gt;</th><th scope=col>&lt;int&gt;</th><th scope=col>⋯</th><th scope=col>&lt;int&gt;</th><th scope=col>&lt;int&gt;</th><th scope=col>&lt;int&gt;</th><th scope=col>&lt;int&gt;</th><th scope=col>&lt;int&gt;</th><th scope=col>&lt;int&gt;</th><th scope=col>&lt;int&gt;</th><th scope=col>&lt;int&gt;</th><th scope=col>&lt;int&gt;</th><th scope=col>&lt;int&gt;</th></tr>\n",
       "</thead>\n",
       "<tbody>\n",
       "\t<tr><td>Taiwan*</td><td>   802</td><td>   828</td><td>   834</td><td>   838</td><td>   842</td><td>   842</td><td>   843</td><td>   851</td><td>   855</td><td>⋯</td><td>  513</td><td>  513</td><td>  489</td><td>  514</td><td>  490</td><td>  492</td><td>  493</td><td>  494</td><td>  495</td><td>  495</td></tr>\n",
       "\t<tr><td>Japan  </td><td>239068</td><td>288818</td><td>293746</td><td>298321</td><td>304140</td><td>310734</td><td>317871</td><td>324942</td><td>330715</td><td>⋯</td><td>82484</td><td>83022</td><td>70278</td><td>83591</td><td>70866</td><td>71467</td><td>71918</td><td>72213</td><td>72724</td><td>73264</td></tr>\n",
       "</tbody>\n",
       "</table>\n"
      ],
      "text/latex": [
       "A grouped\\_df: 2 × 584\n",
       "\\begin{tabular}{lllllllllllllllllllll}\n",
       " Country.Region & X1.1.21 & X1.10.21 & X1.11.21 & X1.12.21 & X1.13.21 & X1.14.21 & X1.15.21 & X1.16.21 & X1.17.21 & ⋯ & X9.28.20 & X9.29.20 & X9.3.20 & X9.30.20 & X9.4.20 & X9.5.20 & X9.6.20 & X9.7.20 & X9.8.20 & X9.9.20\\\\\n",
       " <chr> & <int> & <int> & <int> & <int> & <int> & <int> & <int> & <int> & <int> & ⋯ & <int> & <int> & <int> & <int> & <int> & <int> & <int> & <int> & <int> & <int>\\\\\n",
       "\\hline\n",
       "\t Taiwan* &    802 &    828 &    834 &    838 &    842 &    842 &    843 &    851 &    855 & ⋯ &   513 &   513 &   489 &   514 &   490 &   492 &   493 &   494 &   495 &   495\\\\\n",
       "\t Japan   & 239068 & 288818 & 293746 & 298321 & 304140 & 310734 & 317871 & 324942 & 330715 & ⋯ & 82484 & 83022 & 70278 & 83591 & 70866 & 71467 & 71918 & 72213 & 72724 & 73264\\\\\n",
       "\\end{tabular}\n"
      ],
      "text/markdown": [
       "\n",
       "A grouped_df: 2 × 584\n",
       "\n",
       "| Country.Region &lt;chr&gt; | X1.1.21 &lt;int&gt; | X1.10.21 &lt;int&gt; | X1.11.21 &lt;int&gt; | X1.12.21 &lt;int&gt; | X1.13.21 &lt;int&gt; | X1.14.21 &lt;int&gt; | X1.15.21 &lt;int&gt; | X1.16.21 &lt;int&gt; | X1.17.21 &lt;int&gt; | ⋯ ⋯ | X9.28.20 &lt;int&gt; | X9.29.20 &lt;int&gt; | X9.3.20 &lt;int&gt; | X9.30.20 &lt;int&gt; | X9.4.20 &lt;int&gt; | X9.5.20 &lt;int&gt; | X9.6.20 &lt;int&gt; | X9.7.20 &lt;int&gt; | X9.8.20 &lt;int&gt; | X9.9.20 &lt;int&gt; |\n",
       "|---|---|---|---|---|---|---|---|---|---|---|---|---|---|---|---|---|---|---|---|---|\n",
       "| Taiwan* |    802 |    828 |    834 |    838 |    842 |    842 |    843 |    851 |    855 | ⋯ |   513 |   513 |   489 |   514 |   490 |   492 |   493 |   494 |   495 |   495 |\n",
       "| Japan   | 239068 | 288818 | 293746 | 298321 | 304140 | 310734 | 317871 | 324942 | 330715 | ⋯ | 82484 | 83022 | 70278 | 83591 | 70866 | 71467 | 71918 | 72213 | 72724 | 73264 |\n",
       "\n"
      ],
      "text/plain": [
       "  Country.Region X1.1.21 X1.10.21 X1.11.21 X1.12.21 X1.13.21 X1.14.21 X1.15.21\n",
       "1 Taiwan*           802     828      834      838      842      842      843  \n",
       "2 Japan          239068  288818   293746   298321   304140   310734   317871  \n",
       "  X1.16.21 X1.17.21 ⋯ X9.28.20 X9.29.20 X9.3.20 X9.30.20 X9.4.20 X9.5.20\n",
       "1    851      855   ⋯   513      513      489     514      490     492  \n",
       "2 324942   330715   ⋯ 82484    83022    70278   83591    70866   71467  \n",
       "  X9.6.20 X9.7.20 X9.8.20 X9.9.20\n",
       "1   493     494     495     495  \n",
       "2 71918   72213   72724   73264  "
      ]
     },
     "metadata": {},
     "output_type": "display_data"
    }
   ],
   "source": [
    "twn <- time_series_confirmed_wide[time_series_confirmed_wide$Country.Region == \"Taiwan*\", ]\n",
    "jpn <- time_series_confirmed_wide[time_series_confirmed_wide$Country.Region == \"Japan\", ]\n",
    "twn %>% \n",
    "    bind_rows(jpn)"
   ]
  },
  {
   "cell_type": "markdown",
   "metadata": {
    "slideshow": {
     "slide_type": "subslide"
    }
   },
   "source": [
    "## `bind_cols()` 函數"
   ]
  },
  {
   "cell_type": "code",
   "execution_count": 32,
   "metadata": {
    "slideshow": {
     "slide_type": "-"
    }
   },
   "outputs": [
    {
     "name": "stdout",
     "output_type": "stream",
     "text": [
      "[1] 279 587\n"
     ]
    }
   ],
   "source": [
    "get_time_series_deaths <- function() {\n",
    "    csv_url <- paste0(\"https://raw.githubusercontent.com/CSSEGISandData/COVID-19/master/\",\n",
    "                      \"csse_covid_19_data/csse_covid_19_time_series/\",\n",
    "                      \"time_series_covid19_deaths_global.csv\")\n",
    "    time_series_deaths <- read.csv(csv_url)\n",
    "    return(time_series_deaths)\n",
    "}\n",
    "time_series_deaths <- get_time_series_deaths()\n",
    "print(dim(time_series_deaths))"
   ]
  },
  {
   "cell_type": "code",
   "execution_count": 33,
   "metadata": {
    "slideshow": {
     "slide_type": "subslide"
    }
   },
   "outputs": [
    {
     "name": "stderr",
     "output_type": "stream",
     "text": [
      "`summarise()` regrouping output by 'Country.Region' (override with `.groups` argument)\n",
      "\n"
     ]
    }
   ],
   "source": [
    "time_series_deaths_long <- time_series_deaths[, c(2, 5:ncol(time_series_deaths))] %>% \n",
    "    pivot_longer(cols = all_of(cols_to_pivot_longer),\n",
    "                 names_to = \"Date\",\n",
    "                 values_to = \"Deaths\"\n",
    "                )\n",
    "time_series_deaths_long <- time_series_deaths_long %>% \n",
    "    group_by(Country.Region, Date) %>% \n",
    "    summarise(Deaths = sum(Deaths))"
   ]
  },
  {
   "cell_type": "markdown",
   "metadata": {
    "slideshow": {
     "slide_type": "subslide"
    }
   },
   "source": [
    "## `..._join()` 函數\n",
    "\n",
    "- `left_join()` 函數，保留所有左邊資料表觀測值。\n",
    "- `right_join()` 函數，保留所有右邊資料表觀測值。\n",
    "- `inner_join()` 函數，保留所有資料表交集觀測值。\n",
    "- `full_join()` 函數，保留所有資料表觀測值。"
   ]
  },
  {
   "cell_type": "code",
   "execution_count": 34,
   "metadata": {
    "slideshow": {
     "slide_type": "subslide"
    }
   },
   "outputs": [],
   "source": [
    "condition_tw_jp <- time_series_confirmed_long$Country.Region %in% c(\"Taiwan*\", \"Japan\")\n",
    "condition_tw_kr <- time_series_confirmed_long$Country.Region %in% c(\"Taiwan*\", \"Korea, South\")\n",
    "confirmed_left <- time_series_confirmed_long[condition_tw_jp, ]\n",
    "deaths_right <- time_series_deaths_long[condition_tw_kr, ]"
   ]
  },
  {
   "cell_type": "code",
   "execution_count": 35,
   "metadata": {
    "slideshow": {
     "slide_type": "subslide"
    }
   },
   "outputs": [
    {
     "data": {
      "text/html": [
       "<table>\n",
       "<caption>A grouped_df: 1166 × 4</caption>\n",
       "<thead>\n",
       "\t<tr><th scope=col>Country.Region</th><th scope=col>Date</th><th scope=col>Confirmed</th><th scope=col>Deaths</th></tr>\n",
       "\t<tr><th scope=col>&lt;chr&gt;</th><th scope=col>&lt;chr&gt;</th><th scope=col>&lt;int&gt;</th><th scope=col>&lt;int&gt;</th></tr>\n",
       "</thead>\n",
       "<tbody>\n",
       "\t<tr><td>Japan</td><td>X1.1.21 </td><td>239068</td><td>NA</td></tr>\n",
       "\t<tr><td>Japan</td><td>X1.10.21</td><td>288818</td><td>NA</td></tr>\n",
       "\t<tr><td>Japan</td><td>X1.11.21</td><td>293746</td><td>NA</td></tr>\n",
       "\t<tr><td>Japan</td><td>X1.12.21</td><td>298321</td><td>NA</td></tr>\n",
       "\t<tr><td>Japan</td><td>X1.13.21</td><td>304140</td><td>NA</td></tr>\n",
       "\t<tr><td>Japan</td><td>X1.14.21</td><td>310734</td><td>NA</td></tr>\n",
       "\t<tr><td>Japan</td><td>X1.15.21</td><td>317871</td><td>NA</td></tr>\n",
       "\t<tr><td>Japan</td><td>X1.16.21</td><td>324942</td><td>NA</td></tr>\n",
       "\t<tr><td>Japan</td><td>X1.17.21</td><td>330715</td><td>NA</td></tr>\n",
       "\t<tr><td>Japan</td><td>X1.18.21</td><td>335605</td><td>NA</td></tr>\n",
       "\t<tr><td>Japan</td><td>X1.19.21</td><td>340989</td><td>NA</td></tr>\n",
       "\t<tr><td>Japan</td><td>X1.2.21 </td><td>242097</td><td>NA</td></tr>\n",
       "\t<tr><td>Japan</td><td>X1.20.21</td><td>346508</td><td>NA</td></tr>\n",
       "\t<tr><td>Japan</td><td>X1.21.21</td><td>352129</td><td>NA</td></tr>\n",
       "\t<tr><td>Japan</td><td>X1.22.20</td><td>     2</td><td>NA</td></tr>\n",
       "\t<tr><td>Japan</td><td>X1.22.21</td><td>357174</td><td>NA</td></tr>\n",
       "\t<tr><td>Japan</td><td>X1.23.20</td><td>     2</td><td>NA</td></tr>\n",
       "\t<tr><td>Japan</td><td>X1.23.21</td><td>361928</td><td>NA</td></tr>\n",
       "\t<tr><td>Japan</td><td>X1.24.20</td><td>     2</td><td>NA</td></tr>\n",
       "\t<tr><td>Japan</td><td>X1.24.21</td><td>365899</td><td>NA</td></tr>\n",
       "\t<tr><td>Japan</td><td>X1.25.20</td><td>     2</td><td>NA</td></tr>\n",
       "\t<tr><td>Japan</td><td>X1.25.21</td><td>368684</td><td>NA</td></tr>\n",
       "\t<tr><td>Japan</td><td>X1.26.20</td><td>     4</td><td>NA</td></tr>\n",
       "\t<tr><td>Japan</td><td>X1.26.21</td><td>372545</td><td>NA</td></tr>\n",
       "\t<tr><td>Japan</td><td>X1.27.20</td><td>     4</td><td>NA</td></tr>\n",
       "\t<tr><td>Japan</td><td>X1.27.21</td><td>376482</td><td>NA</td></tr>\n",
       "\t<tr><td>Japan</td><td>X1.28.20</td><td>     7</td><td>NA</td></tr>\n",
       "\t<tr><td>Japan</td><td>X1.28.21</td><td>380644</td><td>NA</td></tr>\n",
       "\t<tr><td>Japan</td><td>X1.29.20</td><td>     7</td><td>NA</td></tr>\n",
       "\t<tr><td>Japan</td><td>X1.29.21</td><td>384180</td><td>NA</td></tr>\n",
       "\t<tr><td>⋮</td><td>⋮</td><td>⋮</td><td>⋮</td></tr>\n",
       "\t<tr><td>Taiwan*</td><td>X9.1.20 </td><td>488</td><td>7</td></tr>\n",
       "\t<tr><td>Taiwan*</td><td>X9.10.20</td><td>496</td><td>7</td></tr>\n",
       "\t<tr><td>Taiwan*</td><td>X9.11.20</td><td>498</td><td>7</td></tr>\n",
       "\t<tr><td>Taiwan*</td><td>X9.12.20</td><td>498</td><td>7</td></tr>\n",
       "\t<tr><td>Taiwan*</td><td>X9.13.20</td><td>498</td><td>7</td></tr>\n",
       "\t<tr><td>Taiwan*</td><td>X9.14.20</td><td>499</td><td>7</td></tr>\n",
       "\t<tr><td>Taiwan*</td><td>X9.15.20</td><td>499</td><td>7</td></tr>\n",
       "\t<tr><td>Taiwan*</td><td>X9.16.20</td><td>500</td><td>7</td></tr>\n",
       "\t<tr><td>Taiwan*</td><td>X9.17.20</td><td>503</td><td>7</td></tr>\n",
       "\t<tr><td>Taiwan*</td><td>X9.18.20</td><td>503</td><td>7</td></tr>\n",
       "\t<tr><td>Taiwan*</td><td>X9.19.20</td><td>506</td><td>7</td></tr>\n",
       "\t<tr><td>Taiwan*</td><td>X9.2.20 </td><td>489</td><td>7</td></tr>\n",
       "\t<tr><td>Taiwan*</td><td>X9.20.20</td><td>507</td><td>7</td></tr>\n",
       "\t<tr><td>Taiwan*</td><td>X9.21.20</td><td>509</td><td>7</td></tr>\n",
       "\t<tr><td>Taiwan*</td><td>X9.22.20</td><td>509</td><td>7</td></tr>\n",
       "\t<tr><td>Taiwan*</td><td>X9.23.20</td><td>509</td><td>7</td></tr>\n",
       "\t<tr><td>Taiwan*</td><td>X9.24.20</td><td>509</td><td>7</td></tr>\n",
       "\t<tr><td>Taiwan*</td><td>X9.25.20</td><td>510</td><td>7</td></tr>\n",
       "\t<tr><td>Taiwan*</td><td>X9.26.20</td><td>510</td><td>7</td></tr>\n",
       "\t<tr><td>Taiwan*</td><td>X9.27.20</td><td>510</td><td>7</td></tr>\n",
       "\t<tr><td>Taiwan*</td><td>X9.28.20</td><td>513</td><td>7</td></tr>\n",
       "\t<tr><td>Taiwan*</td><td>X9.29.20</td><td>513</td><td>7</td></tr>\n",
       "\t<tr><td>Taiwan*</td><td>X9.3.20 </td><td>489</td><td>7</td></tr>\n",
       "\t<tr><td>Taiwan*</td><td>X9.30.20</td><td>514</td><td>7</td></tr>\n",
       "\t<tr><td>Taiwan*</td><td>X9.4.20 </td><td>490</td><td>7</td></tr>\n",
       "\t<tr><td>Taiwan*</td><td>X9.5.20 </td><td>492</td><td>7</td></tr>\n",
       "\t<tr><td>Taiwan*</td><td>X9.6.20 </td><td>493</td><td>7</td></tr>\n",
       "\t<tr><td>Taiwan*</td><td>X9.7.20 </td><td>494</td><td>7</td></tr>\n",
       "\t<tr><td>Taiwan*</td><td>X9.8.20 </td><td>495</td><td>7</td></tr>\n",
       "\t<tr><td>Taiwan*</td><td>X9.9.20 </td><td>495</td><td>7</td></tr>\n",
       "</tbody>\n",
       "</table>\n"
      ],
      "text/latex": [
       "A grouped\\_df: 1166 × 4\n",
       "\\begin{tabular}{llll}\n",
       " Country.Region & Date & Confirmed & Deaths\\\\\n",
       " <chr> & <chr> & <int> & <int>\\\\\n",
       "\\hline\n",
       "\t Japan & X1.1.21  & 239068 & NA\\\\\n",
       "\t Japan & X1.10.21 & 288818 & NA\\\\\n",
       "\t Japan & X1.11.21 & 293746 & NA\\\\\n",
       "\t Japan & X1.12.21 & 298321 & NA\\\\\n",
       "\t Japan & X1.13.21 & 304140 & NA\\\\\n",
       "\t Japan & X1.14.21 & 310734 & NA\\\\\n",
       "\t Japan & X1.15.21 & 317871 & NA\\\\\n",
       "\t Japan & X1.16.21 & 324942 & NA\\\\\n",
       "\t Japan & X1.17.21 & 330715 & NA\\\\\n",
       "\t Japan & X1.18.21 & 335605 & NA\\\\\n",
       "\t Japan & X1.19.21 & 340989 & NA\\\\\n",
       "\t Japan & X1.2.21  & 242097 & NA\\\\\n",
       "\t Japan & X1.20.21 & 346508 & NA\\\\\n",
       "\t Japan & X1.21.21 & 352129 & NA\\\\\n",
       "\t Japan & X1.22.20 &      2 & NA\\\\\n",
       "\t Japan & X1.22.21 & 357174 & NA\\\\\n",
       "\t Japan & X1.23.20 &      2 & NA\\\\\n",
       "\t Japan & X1.23.21 & 361928 & NA\\\\\n",
       "\t Japan & X1.24.20 &      2 & NA\\\\\n",
       "\t Japan & X1.24.21 & 365899 & NA\\\\\n",
       "\t Japan & X1.25.20 &      2 & NA\\\\\n",
       "\t Japan & X1.25.21 & 368684 & NA\\\\\n",
       "\t Japan & X1.26.20 &      4 & NA\\\\\n",
       "\t Japan & X1.26.21 & 372545 & NA\\\\\n",
       "\t Japan & X1.27.20 &      4 & NA\\\\\n",
       "\t Japan & X1.27.21 & 376482 & NA\\\\\n",
       "\t Japan & X1.28.20 &      7 & NA\\\\\n",
       "\t Japan & X1.28.21 & 380644 & NA\\\\\n",
       "\t Japan & X1.29.20 &      7 & NA\\\\\n",
       "\t Japan & X1.29.21 & 384180 & NA\\\\\n",
       "\t ⋮ & ⋮ & ⋮ & ⋮\\\\\n",
       "\t Taiwan* & X9.1.20  & 488 & 7\\\\\n",
       "\t Taiwan* & X9.10.20 & 496 & 7\\\\\n",
       "\t Taiwan* & X9.11.20 & 498 & 7\\\\\n",
       "\t Taiwan* & X9.12.20 & 498 & 7\\\\\n",
       "\t Taiwan* & X9.13.20 & 498 & 7\\\\\n",
       "\t Taiwan* & X9.14.20 & 499 & 7\\\\\n",
       "\t Taiwan* & X9.15.20 & 499 & 7\\\\\n",
       "\t Taiwan* & X9.16.20 & 500 & 7\\\\\n",
       "\t Taiwan* & X9.17.20 & 503 & 7\\\\\n",
       "\t Taiwan* & X9.18.20 & 503 & 7\\\\\n",
       "\t Taiwan* & X9.19.20 & 506 & 7\\\\\n",
       "\t Taiwan* & X9.2.20  & 489 & 7\\\\\n",
       "\t Taiwan* & X9.20.20 & 507 & 7\\\\\n",
       "\t Taiwan* & X9.21.20 & 509 & 7\\\\\n",
       "\t Taiwan* & X9.22.20 & 509 & 7\\\\\n",
       "\t Taiwan* & X9.23.20 & 509 & 7\\\\\n",
       "\t Taiwan* & X9.24.20 & 509 & 7\\\\\n",
       "\t Taiwan* & X9.25.20 & 510 & 7\\\\\n",
       "\t Taiwan* & X9.26.20 & 510 & 7\\\\\n",
       "\t Taiwan* & X9.27.20 & 510 & 7\\\\\n",
       "\t Taiwan* & X9.28.20 & 513 & 7\\\\\n",
       "\t Taiwan* & X9.29.20 & 513 & 7\\\\\n",
       "\t Taiwan* & X9.3.20  & 489 & 7\\\\\n",
       "\t Taiwan* & X9.30.20 & 514 & 7\\\\\n",
       "\t Taiwan* & X9.4.20  & 490 & 7\\\\\n",
       "\t Taiwan* & X9.5.20  & 492 & 7\\\\\n",
       "\t Taiwan* & X9.6.20  & 493 & 7\\\\\n",
       "\t Taiwan* & X9.7.20  & 494 & 7\\\\\n",
       "\t Taiwan* & X9.8.20  & 495 & 7\\\\\n",
       "\t Taiwan* & X9.9.20  & 495 & 7\\\\\n",
       "\\end{tabular}\n"
      ],
      "text/markdown": [
       "\n",
       "A grouped_df: 1166 × 4\n",
       "\n",
       "| Country.Region &lt;chr&gt; | Date &lt;chr&gt; | Confirmed &lt;int&gt; | Deaths &lt;int&gt; |\n",
       "|---|---|---|---|\n",
       "| Japan | X1.1.21  | 239068 | NA |\n",
       "| Japan | X1.10.21 | 288818 | NA |\n",
       "| Japan | X1.11.21 | 293746 | NA |\n",
       "| Japan | X1.12.21 | 298321 | NA |\n",
       "| Japan | X1.13.21 | 304140 | NA |\n",
       "| Japan | X1.14.21 | 310734 | NA |\n",
       "| Japan | X1.15.21 | 317871 | NA |\n",
       "| Japan | X1.16.21 | 324942 | NA |\n",
       "| Japan | X1.17.21 | 330715 | NA |\n",
       "| Japan | X1.18.21 | 335605 | NA |\n",
       "| Japan | X1.19.21 | 340989 | NA |\n",
       "| Japan | X1.2.21  | 242097 | NA |\n",
       "| Japan | X1.20.21 | 346508 | NA |\n",
       "| Japan | X1.21.21 | 352129 | NA |\n",
       "| Japan | X1.22.20 |      2 | NA |\n",
       "| Japan | X1.22.21 | 357174 | NA |\n",
       "| Japan | X1.23.20 |      2 | NA |\n",
       "| Japan | X1.23.21 | 361928 | NA |\n",
       "| Japan | X1.24.20 |      2 | NA |\n",
       "| Japan | X1.24.21 | 365899 | NA |\n",
       "| Japan | X1.25.20 |      2 | NA |\n",
       "| Japan | X1.25.21 | 368684 | NA |\n",
       "| Japan | X1.26.20 |      4 | NA |\n",
       "| Japan | X1.26.21 | 372545 | NA |\n",
       "| Japan | X1.27.20 |      4 | NA |\n",
       "| Japan | X1.27.21 | 376482 | NA |\n",
       "| Japan | X1.28.20 |      7 | NA |\n",
       "| Japan | X1.28.21 | 380644 | NA |\n",
       "| Japan | X1.29.20 |      7 | NA |\n",
       "| Japan | X1.29.21 | 384180 | NA |\n",
       "| ⋮ | ⋮ | ⋮ | ⋮ |\n",
       "| Taiwan* | X9.1.20  | 488 | 7 |\n",
       "| Taiwan* | X9.10.20 | 496 | 7 |\n",
       "| Taiwan* | X9.11.20 | 498 | 7 |\n",
       "| Taiwan* | X9.12.20 | 498 | 7 |\n",
       "| Taiwan* | X9.13.20 | 498 | 7 |\n",
       "| Taiwan* | X9.14.20 | 499 | 7 |\n",
       "| Taiwan* | X9.15.20 | 499 | 7 |\n",
       "| Taiwan* | X9.16.20 | 500 | 7 |\n",
       "| Taiwan* | X9.17.20 | 503 | 7 |\n",
       "| Taiwan* | X9.18.20 | 503 | 7 |\n",
       "| Taiwan* | X9.19.20 | 506 | 7 |\n",
       "| Taiwan* | X9.2.20  | 489 | 7 |\n",
       "| Taiwan* | X9.20.20 | 507 | 7 |\n",
       "| Taiwan* | X9.21.20 | 509 | 7 |\n",
       "| Taiwan* | X9.22.20 | 509 | 7 |\n",
       "| Taiwan* | X9.23.20 | 509 | 7 |\n",
       "| Taiwan* | X9.24.20 | 509 | 7 |\n",
       "| Taiwan* | X9.25.20 | 510 | 7 |\n",
       "| Taiwan* | X9.26.20 | 510 | 7 |\n",
       "| Taiwan* | X9.27.20 | 510 | 7 |\n",
       "| Taiwan* | X9.28.20 | 513 | 7 |\n",
       "| Taiwan* | X9.29.20 | 513 | 7 |\n",
       "| Taiwan* | X9.3.20  | 489 | 7 |\n",
       "| Taiwan* | X9.30.20 | 514 | 7 |\n",
       "| Taiwan* | X9.4.20  | 490 | 7 |\n",
       "| Taiwan* | X9.5.20  | 492 | 7 |\n",
       "| Taiwan* | X9.6.20  | 493 | 7 |\n",
       "| Taiwan* | X9.7.20  | 494 | 7 |\n",
       "| Taiwan* | X9.8.20  | 495 | 7 |\n",
       "| Taiwan* | X9.9.20  | 495 | 7 |\n",
       "\n"
      ],
      "text/plain": [
       "     Country.Region Date     Confirmed Deaths\n",
       "1    Japan          X1.1.21  239068    NA    \n",
       "2    Japan          X1.10.21 288818    NA    \n",
       "3    Japan          X1.11.21 293746    NA    \n",
       "4    Japan          X1.12.21 298321    NA    \n",
       "5    Japan          X1.13.21 304140    NA    \n",
       "6    Japan          X1.14.21 310734    NA    \n",
       "7    Japan          X1.15.21 317871    NA    \n",
       "8    Japan          X1.16.21 324942    NA    \n",
       "9    Japan          X1.17.21 330715    NA    \n",
       "10   Japan          X1.18.21 335605    NA    \n",
       "11   Japan          X1.19.21 340989    NA    \n",
       "12   Japan          X1.2.21  242097    NA    \n",
       "13   Japan          X1.20.21 346508    NA    \n",
       "14   Japan          X1.21.21 352129    NA    \n",
       "15   Japan          X1.22.20      2    NA    \n",
       "16   Japan          X1.22.21 357174    NA    \n",
       "17   Japan          X1.23.20      2    NA    \n",
       "18   Japan          X1.23.21 361928    NA    \n",
       "19   Japan          X1.24.20      2    NA    \n",
       "20   Japan          X1.24.21 365899    NA    \n",
       "21   Japan          X1.25.20      2    NA    \n",
       "22   Japan          X1.25.21 368684    NA    \n",
       "23   Japan          X1.26.20      4    NA    \n",
       "24   Japan          X1.26.21 372545    NA    \n",
       "25   Japan          X1.27.20      4    NA    \n",
       "26   Japan          X1.27.21 376482    NA    \n",
       "27   Japan          X1.28.20      7    NA    \n",
       "28   Japan          X1.28.21 380644    NA    \n",
       "29   Japan          X1.29.20      7    NA    \n",
       "30   Japan          X1.29.21 384180    NA    \n",
       "⋮    ⋮              ⋮        ⋮         ⋮     \n",
       "1137 Taiwan*        X9.1.20  488       7     \n",
       "1138 Taiwan*        X9.10.20 496       7     \n",
       "1139 Taiwan*        X9.11.20 498       7     \n",
       "1140 Taiwan*        X9.12.20 498       7     \n",
       "1141 Taiwan*        X9.13.20 498       7     \n",
       "1142 Taiwan*        X9.14.20 499       7     \n",
       "1143 Taiwan*        X9.15.20 499       7     \n",
       "1144 Taiwan*        X9.16.20 500       7     \n",
       "1145 Taiwan*        X9.17.20 503       7     \n",
       "1146 Taiwan*        X9.18.20 503       7     \n",
       "1147 Taiwan*        X9.19.20 506       7     \n",
       "1148 Taiwan*        X9.2.20  489       7     \n",
       "1149 Taiwan*        X9.20.20 507       7     \n",
       "1150 Taiwan*        X9.21.20 509       7     \n",
       "1151 Taiwan*        X9.22.20 509       7     \n",
       "1152 Taiwan*        X9.23.20 509       7     \n",
       "1153 Taiwan*        X9.24.20 509       7     \n",
       "1154 Taiwan*        X9.25.20 510       7     \n",
       "1155 Taiwan*        X9.26.20 510       7     \n",
       "1156 Taiwan*        X9.27.20 510       7     \n",
       "1157 Taiwan*        X9.28.20 513       7     \n",
       "1158 Taiwan*        X9.29.20 513       7     \n",
       "1159 Taiwan*        X9.3.20  489       7     \n",
       "1160 Taiwan*        X9.30.20 514       7     \n",
       "1161 Taiwan*        X9.4.20  490       7     \n",
       "1162 Taiwan*        X9.5.20  492       7     \n",
       "1163 Taiwan*        X9.6.20  493       7     \n",
       "1164 Taiwan*        X9.7.20  494       7     \n",
       "1165 Taiwan*        X9.8.20  495       7     \n",
       "1166 Taiwan*        X9.9.20  495       7     "
      ]
     },
     "metadata": {},
     "output_type": "display_data"
    }
   ],
   "source": [
    "confirmed_left %>% \n",
    "    left_join(deaths_right, by = c(\"Country.Region\", \"Date\"))"
   ]
  },
  {
   "cell_type": "code",
   "execution_count": 36,
   "metadata": {
    "slideshow": {
     "slide_type": "subslide"
    }
   },
   "outputs": [
    {
     "data": {
      "text/html": [
       "<table>\n",
       "<caption>A grouped_df: 1166 × 4</caption>\n",
       "<thead>\n",
       "\t<tr><th scope=col>Country.Region</th><th scope=col>Date</th><th scope=col>Confirmed</th><th scope=col>Deaths</th></tr>\n",
       "\t<tr><th scope=col>&lt;chr&gt;</th><th scope=col>&lt;chr&gt;</th><th scope=col>&lt;int&gt;</th><th scope=col>&lt;int&gt;</th></tr>\n",
       "</thead>\n",
       "<tbody>\n",
       "\t<tr><td>Taiwan*</td><td>X1.1.21 </td><td>802</td><td>7</td></tr>\n",
       "\t<tr><td>Taiwan*</td><td>X1.10.21</td><td>828</td><td>7</td></tr>\n",
       "\t<tr><td>Taiwan*</td><td>X1.11.21</td><td>834</td><td>7</td></tr>\n",
       "\t<tr><td>Taiwan*</td><td>X1.12.21</td><td>838</td><td>7</td></tr>\n",
       "\t<tr><td>Taiwan*</td><td>X1.13.21</td><td>842</td><td>7</td></tr>\n",
       "\t<tr><td>Taiwan*</td><td>X1.14.21</td><td>842</td><td>7</td></tr>\n",
       "\t<tr><td>Taiwan*</td><td>X1.15.21</td><td>843</td><td>7</td></tr>\n",
       "\t<tr><td>Taiwan*</td><td>X1.16.21</td><td>851</td><td>7</td></tr>\n",
       "\t<tr><td>Taiwan*</td><td>X1.17.21</td><td>855</td><td>7</td></tr>\n",
       "\t<tr><td>Taiwan*</td><td>X1.18.21</td><td>862</td><td>7</td></tr>\n",
       "\t<tr><td>Taiwan*</td><td>X1.19.21</td><td>868</td><td>7</td></tr>\n",
       "\t<tr><td>Taiwan*</td><td>X1.2.21 </td><td>808</td><td>7</td></tr>\n",
       "\t<tr><td>Taiwan*</td><td>X1.20.21</td><td>870</td><td>7</td></tr>\n",
       "\t<tr><td>Taiwan*</td><td>X1.21.21</td><td>881</td><td>7</td></tr>\n",
       "\t<tr><td>Taiwan*</td><td>X1.22.20</td><td>  1</td><td>0</td></tr>\n",
       "\t<tr><td>Taiwan*</td><td>X1.22.21</td><td>881</td><td>7</td></tr>\n",
       "\t<tr><td>Taiwan*</td><td>X1.23.20</td><td>  1</td><td>0</td></tr>\n",
       "\t<tr><td>Taiwan*</td><td>X1.23.21</td><td>884</td><td>7</td></tr>\n",
       "\t<tr><td>Taiwan*</td><td>X1.24.20</td><td>  3</td><td>0</td></tr>\n",
       "\t<tr><td>Taiwan*</td><td>X1.24.21</td><td>889</td><td>7</td></tr>\n",
       "\t<tr><td>Taiwan*</td><td>X1.25.20</td><td>  3</td><td>0</td></tr>\n",
       "\t<tr><td>Taiwan*</td><td>X1.25.21</td><td>889</td><td>7</td></tr>\n",
       "\t<tr><td>Taiwan*</td><td>X1.26.20</td><td>  4</td><td>0</td></tr>\n",
       "\t<tr><td>Taiwan*</td><td>X1.26.21</td><td>890</td><td>7</td></tr>\n",
       "\t<tr><td>Taiwan*</td><td>X1.27.20</td><td>  5</td><td>0</td></tr>\n",
       "\t<tr><td>Taiwan*</td><td>X1.27.21</td><td>893</td><td>7</td></tr>\n",
       "\t<tr><td>Taiwan*</td><td>X1.28.20</td><td>  8</td><td>0</td></tr>\n",
       "\t<tr><td>Taiwan*</td><td>X1.28.21</td><td>895</td><td>7</td></tr>\n",
       "\t<tr><td>Taiwan*</td><td>X1.29.20</td><td>  8</td><td>0</td></tr>\n",
       "\t<tr><td>Taiwan*</td><td>X1.29.21</td><td>899</td><td>7</td></tr>\n",
       "\t<tr><td>⋮</td><td>⋮</td><td>⋮</td><td>⋮</td></tr>\n",
       "\t<tr><td>Korea, South</td><td>X9.1.20 </td><td>NA</td><td>326</td></tr>\n",
       "\t<tr><td>Korea, South</td><td>X9.10.20</td><td>NA</td><td>350</td></tr>\n",
       "\t<tr><td>Korea, South</td><td>X9.11.20</td><td>NA</td><td>355</td></tr>\n",
       "\t<tr><td>Korea, South</td><td>X9.12.20</td><td>NA</td><td>358</td></tr>\n",
       "\t<tr><td>Korea, South</td><td>X9.13.20</td><td>NA</td><td>363</td></tr>\n",
       "\t<tr><td>Korea, South</td><td>X9.14.20</td><td>NA</td><td>367</td></tr>\n",
       "\t<tr><td>Korea, South</td><td>X9.15.20</td><td>NA</td><td>367</td></tr>\n",
       "\t<tr><td>Korea, South</td><td>X9.16.20</td><td>NA</td><td>372</td></tr>\n",
       "\t<tr><td>Korea, South</td><td>X9.17.20</td><td>NA</td><td>377</td></tr>\n",
       "\t<tr><td>Korea, South</td><td>X9.18.20</td><td>NA</td><td>378</td></tr>\n",
       "\t<tr><td>Korea, South</td><td>X9.19.20</td><td>NA</td><td>383</td></tr>\n",
       "\t<tr><td>Korea, South</td><td>X9.2.20 </td><td>NA</td><td>329</td></tr>\n",
       "\t<tr><td>Korea, South</td><td>X9.20.20</td><td>NA</td><td>385</td></tr>\n",
       "\t<tr><td>Korea, South</td><td>X9.21.20</td><td>NA</td><td>388</td></tr>\n",
       "\t<tr><td>Korea, South</td><td>X9.22.20</td><td>NA</td><td>388</td></tr>\n",
       "\t<tr><td>Korea, South</td><td>X9.23.20</td><td>NA</td><td>393</td></tr>\n",
       "\t<tr><td>Korea, South</td><td>X9.24.20</td><td>NA</td><td>395</td></tr>\n",
       "\t<tr><td>Korea, South</td><td>X9.25.20</td><td>NA</td><td>399</td></tr>\n",
       "\t<tr><td>Korea, South</td><td>X9.26.20</td><td>NA</td><td>401</td></tr>\n",
       "\t<tr><td>Korea, South</td><td>X9.27.20</td><td>NA</td><td>406</td></tr>\n",
       "\t<tr><td>Korea, South</td><td>X9.28.20</td><td>NA</td><td>407</td></tr>\n",
       "\t<tr><td>Korea, South</td><td>X9.29.20</td><td>NA</td><td>413</td></tr>\n",
       "\t<tr><td>Korea, South</td><td>X9.3.20 </td><td>NA</td><td>331</td></tr>\n",
       "\t<tr><td>Korea, South</td><td>X9.30.20</td><td>NA</td><td>415</td></tr>\n",
       "\t<tr><td>Korea, South</td><td>X9.4.20 </td><td>NA</td><td>333</td></tr>\n",
       "\t<tr><td>Korea, South</td><td>X9.5.20 </td><td>NA</td><td>334</td></tr>\n",
       "\t<tr><td>Korea, South</td><td>X9.6.20 </td><td>NA</td><td>336</td></tr>\n",
       "\t<tr><td>Korea, South</td><td>X9.7.20 </td><td>NA</td><td>341</td></tr>\n",
       "\t<tr><td>Korea, South</td><td>X9.8.20 </td><td>NA</td><td>344</td></tr>\n",
       "\t<tr><td>Korea, South</td><td>X9.9.20 </td><td>NA</td><td>346</td></tr>\n",
       "</tbody>\n",
       "</table>\n"
      ],
      "text/latex": [
       "A grouped\\_df: 1166 × 4\n",
       "\\begin{tabular}{llll}\n",
       " Country.Region & Date & Confirmed & Deaths\\\\\n",
       " <chr> & <chr> & <int> & <int>\\\\\n",
       "\\hline\n",
       "\t Taiwan* & X1.1.21  & 802 & 7\\\\\n",
       "\t Taiwan* & X1.10.21 & 828 & 7\\\\\n",
       "\t Taiwan* & X1.11.21 & 834 & 7\\\\\n",
       "\t Taiwan* & X1.12.21 & 838 & 7\\\\\n",
       "\t Taiwan* & X1.13.21 & 842 & 7\\\\\n",
       "\t Taiwan* & X1.14.21 & 842 & 7\\\\\n",
       "\t Taiwan* & X1.15.21 & 843 & 7\\\\\n",
       "\t Taiwan* & X1.16.21 & 851 & 7\\\\\n",
       "\t Taiwan* & X1.17.21 & 855 & 7\\\\\n",
       "\t Taiwan* & X1.18.21 & 862 & 7\\\\\n",
       "\t Taiwan* & X1.19.21 & 868 & 7\\\\\n",
       "\t Taiwan* & X1.2.21  & 808 & 7\\\\\n",
       "\t Taiwan* & X1.20.21 & 870 & 7\\\\\n",
       "\t Taiwan* & X1.21.21 & 881 & 7\\\\\n",
       "\t Taiwan* & X1.22.20 &   1 & 0\\\\\n",
       "\t Taiwan* & X1.22.21 & 881 & 7\\\\\n",
       "\t Taiwan* & X1.23.20 &   1 & 0\\\\\n",
       "\t Taiwan* & X1.23.21 & 884 & 7\\\\\n",
       "\t Taiwan* & X1.24.20 &   3 & 0\\\\\n",
       "\t Taiwan* & X1.24.21 & 889 & 7\\\\\n",
       "\t Taiwan* & X1.25.20 &   3 & 0\\\\\n",
       "\t Taiwan* & X1.25.21 & 889 & 7\\\\\n",
       "\t Taiwan* & X1.26.20 &   4 & 0\\\\\n",
       "\t Taiwan* & X1.26.21 & 890 & 7\\\\\n",
       "\t Taiwan* & X1.27.20 &   5 & 0\\\\\n",
       "\t Taiwan* & X1.27.21 & 893 & 7\\\\\n",
       "\t Taiwan* & X1.28.20 &   8 & 0\\\\\n",
       "\t Taiwan* & X1.28.21 & 895 & 7\\\\\n",
       "\t Taiwan* & X1.29.20 &   8 & 0\\\\\n",
       "\t Taiwan* & X1.29.21 & 899 & 7\\\\\n",
       "\t ⋮ & ⋮ & ⋮ & ⋮\\\\\n",
       "\t Korea, South & X9.1.20  & NA & 326\\\\\n",
       "\t Korea, South & X9.10.20 & NA & 350\\\\\n",
       "\t Korea, South & X9.11.20 & NA & 355\\\\\n",
       "\t Korea, South & X9.12.20 & NA & 358\\\\\n",
       "\t Korea, South & X9.13.20 & NA & 363\\\\\n",
       "\t Korea, South & X9.14.20 & NA & 367\\\\\n",
       "\t Korea, South & X9.15.20 & NA & 367\\\\\n",
       "\t Korea, South & X9.16.20 & NA & 372\\\\\n",
       "\t Korea, South & X9.17.20 & NA & 377\\\\\n",
       "\t Korea, South & X9.18.20 & NA & 378\\\\\n",
       "\t Korea, South & X9.19.20 & NA & 383\\\\\n",
       "\t Korea, South & X9.2.20  & NA & 329\\\\\n",
       "\t Korea, South & X9.20.20 & NA & 385\\\\\n",
       "\t Korea, South & X9.21.20 & NA & 388\\\\\n",
       "\t Korea, South & X9.22.20 & NA & 388\\\\\n",
       "\t Korea, South & X9.23.20 & NA & 393\\\\\n",
       "\t Korea, South & X9.24.20 & NA & 395\\\\\n",
       "\t Korea, South & X9.25.20 & NA & 399\\\\\n",
       "\t Korea, South & X9.26.20 & NA & 401\\\\\n",
       "\t Korea, South & X9.27.20 & NA & 406\\\\\n",
       "\t Korea, South & X9.28.20 & NA & 407\\\\\n",
       "\t Korea, South & X9.29.20 & NA & 413\\\\\n",
       "\t Korea, South & X9.3.20  & NA & 331\\\\\n",
       "\t Korea, South & X9.30.20 & NA & 415\\\\\n",
       "\t Korea, South & X9.4.20  & NA & 333\\\\\n",
       "\t Korea, South & X9.5.20  & NA & 334\\\\\n",
       "\t Korea, South & X9.6.20  & NA & 336\\\\\n",
       "\t Korea, South & X9.7.20  & NA & 341\\\\\n",
       "\t Korea, South & X9.8.20  & NA & 344\\\\\n",
       "\t Korea, South & X9.9.20  & NA & 346\\\\\n",
       "\\end{tabular}\n"
      ],
      "text/markdown": [
       "\n",
       "A grouped_df: 1166 × 4\n",
       "\n",
       "| Country.Region &lt;chr&gt; | Date &lt;chr&gt; | Confirmed &lt;int&gt; | Deaths &lt;int&gt; |\n",
       "|---|---|---|---|\n",
       "| Taiwan* | X1.1.21  | 802 | 7 |\n",
       "| Taiwan* | X1.10.21 | 828 | 7 |\n",
       "| Taiwan* | X1.11.21 | 834 | 7 |\n",
       "| Taiwan* | X1.12.21 | 838 | 7 |\n",
       "| Taiwan* | X1.13.21 | 842 | 7 |\n",
       "| Taiwan* | X1.14.21 | 842 | 7 |\n",
       "| Taiwan* | X1.15.21 | 843 | 7 |\n",
       "| Taiwan* | X1.16.21 | 851 | 7 |\n",
       "| Taiwan* | X1.17.21 | 855 | 7 |\n",
       "| Taiwan* | X1.18.21 | 862 | 7 |\n",
       "| Taiwan* | X1.19.21 | 868 | 7 |\n",
       "| Taiwan* | X1.2.21  | 808 | 7 |\n",
       "| Taiwan* | X1.20.21 | 870 | 7 |\n",
       "| Taiwan* | X1.21.21 | 881 | 7 |\n",
       "| Taiwan* | X1.22.20 |   1 | 0 |\n",
       "| Taiwan* | X1.22.21 | 881 | 7 |\n",
       "| Taiwan* | X1.23.20 |   1 | 0 |\n",
       "| Taiwan* | X1.23.21 | 884 | 7 |\n",
       "| Taiwan* | X1.24.20 |   3 | 0 |\n",
       "| Taiwan* | X1.24.21 | 889 | 7 |\n",
       "| Taiwan* | X1.25.20 |   3 | 0 |\n",
       "| Taiwan* | X1.25.21 | 889 | 7 |\n",
       "| Taiwan* | X1.26.20 |   4 | 0 |\n",
       "| Taiwan* | X1.26.21 | 890 | 7 |\n",
       "| Taiwan* | X1.27.20 |   5 | 0 |\n",
       "| Taiwan* | X1.27.21 | 893 | 7 |\n",
       "| Taiwan* | X1.28.20 |   8 | 0 |\n",
       "| Taiwan* | X1.28.21 | 895 | 7 |\n",
       "| Taiwan* | X1.29.20 |   8 | 0 |\n",
       "| Taiwan* | X1.29.21 | 899 | 7 |\n",
       "| ⋮ | ⋮ | ⋮ | ⋮ |\n",
       "| Korea, South | X9.1.20  | NA | 326 |\n",
       "| Korea, South | X9.10.20 | NA | 350 |\n",
       "| Korea, South | X9.11.20 | NA | 355 |\n",
       "| Korea, South | X9.12.20 | NA | 358 |\n",
       "| Korea, South | X9.13.20 | NA | 363 |\n",
       "| Korea, South | X9.14.20 | NA | 367 |\n",
       "| Korea, South | X9.15.20 | NA | 367 |\n",
       "| Korea, South | X9.16.20 | NA | 372 |\n",
       "| Korea, South | X9.17.20 | NA | 377 |\n",
       "| Korea, South | X9.18.20 | NA | 378 |\n",
       "| Korea, South | X9.19.20 | NA | 383 |\n",
       "| Korea, South | X9.2.20  | NA | 329 |\n",
       "| Korea, South | X9.20.20 | NA | 385 |\n",
       "| Korea, South | X9.21.20 | NA | 388 |\n",
       "| Korea, South | X9.22.20 | NA | 388 |\n",
       "| Korea, South | X9.23.20 | NA | 393 |\n",
       "| Korea, South | X9.24.20 | NA | 395 |\n",
       "| Korea, South | X9.25.20 | NA | 399 |\n",
       "| Korea, South | X9.26.20 | NA | 401 |\n",
       "| Korea, South | X9.27.20 | NA | 406 |\n",
       "| Korea, South | X9.28.20 | NA | 407 |\n",
       "| Korea, South | X9.29.20 | NA | 413 |\n",
       "| Korea, South | X9.3.20  | NA | 331 |\n",
       "| Korea, South | X9.30.20 | NA | 415 |\n",
       "| Korea, South | X9.4.20  | NA | 333 |\n",
       "| Korea, South | X9.5.20  | NA | 334 |\n",
       "| Korea, South | X9.6.20  | NA | 336 |\n",
       "| Korea, South | X9.7.20  | NA | 341 |\n",
       "| Korea, South | X9.8.20  | NA | 344 |\n",
       "| Korea, South | X9.9.20  | NA | 346 |\n",
       "\n"
      ],
      "text/plain": [
       "     Country.Region Date     Confirmed Deaths\n",
       "1    Taiwan*        X1.1.21  802       7     \n",
       "2    Taiwan*        X1.10.21 828       7     \n",
       "3    Taiwan*        X1.11.21 834       7     \n",
       "4    Taiwan*        X1.12.21 838       7     \n",
       "5    Taiwan*        X1.13.21 842       7     \n",
       "6    Taiwan*        X1.14.21 842       7     \n",
       "7    Taiwan*        X1.15.21 843       7     \n",
       "8    Taiwan*        X1.16.21 851       7     \n",
       "9    Taiwan*        X1.17.21 855       7     \n",
       "10   Taiwan*        X1.18.21 862       7     \n",
       "11   Taiwan*        X1.19.21 868       7     \n",
       "12   Taiwan*        X1.2.21  808       7     \n",
       "13   Taiwan*        X1.20.21 870       7     \n",
       "14   Taiwan*        X1.21.21 881       7     \n",
       "15   Taiwan*        X1.22.20   1       0     \n",
       "16   Taiwan*        X1.22.21 881       7     \n",
       "17   Taiwan*        X1.23.20   1       0     \n",
       "18   Taiwan*        X1.23.21 884       7     \n",
       "19   Taiwan*        X1.24.20   3       0     \n",
       "20   Taiwan*        X1.24.21 889       7     \n",
       "21   Taiwan*        X1.25.20   3       0     \n",
       "22   Taiwan*        X1.25.21 889       7     \n",
       "23   Taiwan*        X1.26.20   4       0     \n",
       "24   Taiwan*        X1.26.21 890       7     \n",
       "25   Taiwan*        X1.27.20   5       0     \n",
       "26   Taiwan*        X1.27.21 893       7     \n",
       "27   Taiwan*        X1.28.20   8       0     \n",
       "28   Taiwan*        X1.28.21 895       7     \n",
       "29   Taiwan*        X1.29.20   8       0     \n",
       "30   Taiwan*        X1.29.21 899       7     \n",
       "⋮    ⋮              ⋮        ⋮         ⋮     \n",
       "1137 Korea, South   X9.1.20  NA        326   \n",
       "1138 Korea, South   X9.10.20 NA        350   \n",
       "1139 Korea, South   X9.11.20 NA        355   \n",
       "1140 Korea, South   X9.12.20 NA        358   \n",
       "1141 Korea, South   X9.13.20 NA        363   \n",
       "1142 Korea, South   X9.14.20 NA        367   \n",
       "1143 Korea, South   X9.15.20 NA        367   \n",
       "1144 Korea, South   X9.16.20 NA        372   \n",
       "1145 Korea, South   X9.17.20 NA        377   \n",
       "1146 Korea, South   X9.18.20 NA        378   \n",
       "1147 Korea, South   X9.19.20 NA        383   \n",
       "1148 Korea, South   X9.2.20  NA        329   \n",
       "1149 Korea, South   X9.20.20 NA        385   \n",
       "1150 Korea, South   X9.21.20 NA        388   \n",
       "1151 Korea, South   X9.22.20 NA        388   \n",
       "1152 Korea, South   X9.23.20 NA        393   \n",
       "1153 Korea, South   X9.24.20 NA        395   \n",
       "1154 Korea, South   X9.25.20 NA        399   \n",
       "1155 Korea, South   X9.26.20 NA        401   \n",
       "1156 Korea, South   X9.27.20 NA        406   \n",
       "1157 Korea, South   X9.28.20 NA        407   \n",
       "1158 Korea, South   X9.29.20 NA        413   \n",
       "1159 Korea, South   X9.3.20  NA        331   \n",
       "1160 Korea, South   X9.30.20 NA        415   \n",
       "1161 Korea, South   X9.4.20  NA        333   \n",
       "1162 Korea, South   X9.5.20  NA        334   \n",
       "1163 Korea, South   X9.6.20  NA        336   \n",
       "1164 Korea, South   X9.7.20  NA        341   \n",
       "1165 Korea, South   X9.8.20  NA        344   \n",
       "1166 Korea, South   X9.9.20  NA        346   "
      ]
     },
     "metadata": {},
     "output_type": "display_data"
    }
   ],
   "source": [
    "confirmed_left %>% \n",
    "    right_join(deaths_right, by = c(\"Country.Region\", \"Date\"))"
   ]
  },
  {
   "cell_type": "code",
   "execution_count": 37,
   "metadata": {
    "slideshow": {
     "slide_type": "subslide"
    }
   },
   "outputs": [
    {
     "data": {
      "text/html": [
       "<table>\n",
       "<caption>A grouped_df: 583 × 4</caption>\n",
       "<thead>\n",
       "\t<tr><th scope=col>Country.Region</th><th scope=col>Date</th><th scope=col>Confirmed</th><th scope=col>Deaths</th></tr>\n",
       "\t<tr><th scope=col>&lt;chr&gt;</th><th scope=col>&lt;chr&gt;</th><th scope=col>&lt;int&gt;</th><th scope=col>&lt;int&gt;</th></tr>\n",
       "</thead>\n",
       "<tbody>\n",
       "\t<tr><td>Taiwan*</td><td>X1.1.21 </td><td>802</td><td>7</td></tr>\n",
       "\t<tr><td>Taiwan*</td><td>X1.10.21</td><td>828</td><td>7</td></tr>\n",
       "\t<tr><td>Taiwan*</td><td>X1.11.21</td><td>834</td><td>7</td></tr>\n",
       "\t<tr><td>Taiwan*</td><td>X1.12.21</td><td>838</td><td>7</td></tr>\n",
       "\t<tr><td>Taiwan*</td><td>X1.13.21</td><td>842</td><td>7</td></tr>\n",
       "\t<tr><td>Taiwan*</td><td>X1.14.21</td><td>842</td><td>7</td></tr>\n",
       "\t<tr><td>Taiwan*</td><td>X1.15.21</td><td>843</td><td>7</td></tr>\n",
       "\t<tr><td>Taiwan*</td><td>X1.16.21</td><td>851</td><td>7</td></tr>\n",
       "\t<tr><td>Taiwan*</td><td>X1.17.21</td><td>855</td><td>7</td></tr>\n",
       "\t<tr><td>Taiwan*</td><td>X1.18.21</td><td>862</td><td>7</td></tr>\n",
       "\t<tr><td>Taiwan*</td><td>X1.19.21</td><td>868</td><td>7</td></tr>\n",
       "\t<tr><td>Taiwan*</td><td>X1.2.21 </td><td>808</td><td>7</td></tr>\n",
       "\t<tr><td>Taiwan*</td><td>X1.20.21</td><td>870</td><td>7</td></tr>\n",
       "\t<tr><td>Taiwan*</td><td>X1.21.21</td><td>881</td><td>7</td></tr>\n",
       "\t<tr><td>Taiwan*</td><td>X1.22.20</td><td>  1</td><td>0</td></tr>\n",
       "\t<tr><td>Taiwan*</td><td>X1.22.21</td><td>881</td><td>7</td></tr>\n",
       "\t<tr><td>Taiwan*</td><td>X1.23.20</td><td>  1</td><td>0</td></tr>\n",
       "\t<tr><td>Taiwan*</td><td>X1.23.21</td><td>884</td><td>7</td></tr>\n",
       "\t<tr><td>Taiwan*</td><td>X1.24.20</td><td>  3</td><td>0</td></tr>\n",
       "\t<tr><td>Taiwan*</td><td>X1.24.21</td><td>889</td><td>7</td></tr>\n",
       "\t<tr><td>Taiwan*</td><td>X1.25.20</td><td>  3</td><td>0</td></tr>\n",
       "\t<tr><td>Taiwan*</td><td>X1.25.21</td><td>889</td><td>7</td></tr>\n",
       "\t<tr><td>Taiwan*</td><td>X1.26.20</td><td>  4</td><td>0</td></tr>\n",
       "\t<tr><td>Taiwan*</td><td>X1.26.21</td><td>890</td><td>7</td></tr>\n",
       "\t<tr><td>Taiwan*</td><td>X1.27.20</td><td>  5</td><td>0</td></tr>\n",
       "\t<tr><td>Taiwan*</td><td>X1.27.21</td><td>893</td><td>7</td></tr>\n",
       "\t<tr><td>Taiwan*</td><td>X1.28.20</td><td>  8</td><td>0</td></tr>\n",
       "\t<tr><td>Taiwan*</td><td>X1.28.21</td><td>895</td><td>7</td></tr>\n",
       "\t<tr><td>Taiwan*</td><td>X1.29.20</td><td>  8</td><td>0</td></tr>\n",
       "\t<tr><td>Taiwan*</td><td>X1.29.21</td><td>899</td><td>7</td></tr>\n",
       "\t<tr><td>⋮</td><td>⋮</td><td>⋮</td><td>⋮</td></tr>\n",
       "\t<tr><td>Taiwan*</td><td>X9.1.20 </td><td>488</td><td>7</td></tr>\n",
       "\t<tr><td>Taiwan*</td><td>X9.10.20</td><td>496</td><td>7</td></tr>\n",
       "\t<tr><td>Taiwan*</td><td>X9.11.20</td><td>498</td><td>7</td></tr>\n",
       "\t<tr><td>Taiwan*</td><td>X9.12.20</td><td>498</td><td>7</td></tr>\n",
       "\t<tr><td>Taiwan*</td><td>X9.13.20</td><td>498</td><td>7</td></tr>\n",
       "\t<tr><td>Taiwan*</td><td>X9.14.20</td><td>499</td><td>7</td></tr>\n",
       "\t<tr><td>Taiwan*</td><td>X9.15.20</td><td>499</td><td>7</td></tr>\n",
       "\t<tr><td>Taiwan*</td><td>X9.16.20</td><td>500</td><td>7</td></tr>\n",
       "\t<tr><td>Taiwan*</td><td>X9.17.20</td><td>503</td><td>7</td></tr>\n",
       "\t<tr><td>Taiwan*</td><td>X9.18.20</td><td>503</td><td>7</td></tr>\n",
       "\t<tr><td>Taiwan*</td><td>X9.19.20</td><td>506</td><td>7</td></tr>\n",
       "\t<tr><td>Taiwan*</td><td>X9.2.20 </td><td>489</td><td>7</td></tr>\n",
       "\t<tr><td>Taiwan*</td><td>X9.20.20</td><td>507</td><td>7</td></tr>\n",
       "\t<tr><td>Taiwan*</td><td>X9.21.20</td><td>509</td><td>7</td></tr>\n",
       "\t<tr><td>Taiwan*</td><td>X9.22.20</td><td>509</td><td>7</td></tr>\n",
       "\t<tr><td>Taiwan*</td><td>X9.23.20</td><td>509</td><td>7</td></tr>\n",
       "\t<tr><td>Taiwan*</td><td>X9.24.20</td><td>509</td><td>7</td></tr>\n",
       "\t<tr><td>Taiwan*</td><td>X9.25.20</td><td>510</td><td>7</td></tr>\n",
       "\t<tr><td>Taiwan*</td><td>X9.26.20</td><td>510</td><td>7</td></tr>\n",
       "\t<tr><td>Taiwan*</td><td>X9.27.20</td><td>510</td><td>7</td></tr>\n",
       "\t<tr><td>Taiwan*</td><td>X9.28.20</td><td>513</td><td>7</td></tr>\n",
       "\t<tr><td>Taiwan*</td><td>X9.29.20</td><td>513</td><td>7</td></tr>\n",
       "\t<tr><td>Taiwan*</td><td>X9.3.20 </td><td>489</td><td>7</td></tr>\n",
       "\t<tr><td>Taiwan*</td><td>X9.30.20</td><td>514</td><td>7</td></tr>\n",
       "\t<tr><td>Taiwan*</td><td>X9.4.20 </td><td>490</td><td>7</td></tr>\n",
       "\t<tr><td>Taiwan*</td><td>X9.5.20 </td><td>492</td><td>7</td></tr>\n",
       "\t<tr><td>Taiwan*</td><td>X9.6.20 </td><td>493</td><td>7</td></tr>\n",
       "\t<tr><td>Taiwan*</td><td>X9.7.20 </td><td>494</td><td>7</td></tr>\n",
       "\t<tr><td>Taiwan*</td><td>X9.8.20 </td><td>495</td><td>7</td></tr>\n",
       "\t<tr><td>Taiwan*</td><td>X9.9.20 </td><td>495</td><td>7</td></tr>\n",
       "</tbody>\n",
       "</table>\n"
      ],
      "text/latex": [
       "A grouped\\_df: 583 × 4\n",
       "\\begin{tabular}{llll}\n",
       " Country.Region & Date & Confirmed & Deaths\\\\\n",
       " <chr> & <chr> & <int> & <int>\\\\\n",
       "\\hline\n",
       "\t Taiwan* & X1.1.21  & 802 & 7\\\\\n",
       "\t Taiwan* & X1.10.21 & 828 & 7\\\\\n",
       "\t Taiwan* & X1.11.21 & 834 & 7\\\\\n",
       "\t Taiwan* & X1.12.21 & 838 & 7\\\\\n",
       "\t Taiwan* & X1.13.21 & 842 & 7\\\\\n",
       "\t Taiwan* & X1.14.21 & 842 & 7\\\\\n",
       "\t Taiwan* & X1.15.21 & 843 & 7\\\\\n",
       "\t Taiwan* & X1.16.21 & 851 & 7\\\\\n",
       "\t Taiwan* & X1.17.21 & 855 & 7\\\\\n",
       "\t Taiwan* & X1.18.21 & 862 & 7\\\\\n",
       "\t Taiwan* & X1.19.21 & 868 & 7\\\\\n",
       "\t Taiwan* & X1.2.21  & 808 & 7\\\\\n",
       "\t Taiwan* & X1.20.21 & 870 & 7\\\\\n",
       "\t Taiwan* & X1.21.21 & 881 & 7\\\\\n",
       "\t Taiwan* & X1.22.20 &   1 & 0\\\\\n",
       "\t Taiwan* & X1.22.21 & 881 & 7\\\\\n",
       "\t Taiwan* & X1.23.20 &   1 & 0\\\\\n",
       "\t Taiwan* & X1.23.21 & 884 & 7\\\\\n",
       "\t Taiwan* & X1.24.20 &   3 & 0\\\\\n",
       "\t Taiwan* & X1.24.21 & 889 & 7\\\\\n",
       "\t Taiwan* & X1.25.20 &   3 & 0\\\\\n",
       "\t Taiwan* & X1.25.21 & 889 & 7\\\\\n",
       "\t Taiwan* & X1.26.20 &   4 & 0\\\\\n",
       "\t Taiwan* & X1.26.21 & 890 & 7\\\\\n",
       "\t Taiwan* & X1.27.20 &   5 & 0\\\\\n",
       "\t Taiwan* & X1.27.21 & 893 & 7\\\\\n",
       "\t Taiwan* & X1.28.20 &   8 & 0\\\\\n",
       "\t Taiwan* & X1.28.21 & 895 & 7\\\\\n",
       "\t Taiwan* & X1.29.20 &   8 & 0\\\\\n",
       "\t Taiwan* & X1.29.21 & 899 & 7\\\\\n",
       "\t ⋮ & ⋮ & ⋮ & ⋮\\\\\n",
       "\t Taiwan* & X9.1.20  & 488 & 7\\\\\n",
       "\t Taiwan* & X9.10.20 & 496 & 7\\\\\n",
       "\t Taiwan* & X9.11.20 & 498 & 7\\\\\n",
       "\t Taiwan* & X9.12.20 & 498 & 7\\\\\n",
       "\t Taiwan* & X9.13.20 & 498 & 7\\\\\n",
       "\t Taiwan* & X9.14.20 & 499 & 7\\\\\n",
       "\t Taiwan* & X9.15.20 & 499 & 7\\\\\n",
       "\t Taiwan* & X9.16.20 & 500 & 7\\\\\n",
       "\t Taiwan* & X9.17.20 & 503 & 7\\\\\n",
       "\t Taiwan* & X9.18.20 & 503 & 7\\\\\n",
       "\t Taiwan* & X9.19.20 & 506 & 7\\\\\n",
       "\t Taiwan* & X9.2.20  & 489 & 7\\\\\n",
       "\t Taiwan* & X9.20.20 & 507 & 7\\\\\n",
       "\t Taiwan* & X9.21.20 & 509 & 7\\\\\n",
       "\t Taiwan* & X9.22.20 & 509 & 7\\\\\n",
       "\t Taiwan* & X9.23.20 & 509 & 7\\\\\n",
       "\t Taiwan* & X9.24.20 & 509 & 7\\\\\n",
       "\t Taiwan* & X9.25.20 & 510 & 7\\\\\n",
       "\t Taiwan* & X9.26.20 & 510 & 7\\\\\n",
       "\t Taiwan* & X9.27.20 & 510 & 7\\\\\n",
       "\t Taiwan* & X9.28.20 & 513 & 7\\\\\n",
       "\t Taiwan* & X9.29.20 & 513 & 7\\\\\n",
       "\t Taiwan* & X9.3.20  & 489 & 7\\\\\n",
       "\t Taiwan* & X9.30.20 & 514 & 7\\\\\n",
       "\t Taiwan* & X9.4.20  & 490 & 7\\\\\n",
       "\t Taiwan* & X9.5.20  & 492 & 7\\\\\n",
       "\t Taiwan* & X9.6.20  & 493 & 7\\\\\n",
       "\t Taiwan* & X9.7.20  & 494 & 7\\\\\n",
       "\t Taiwan* & X9.8.20  & 495 & 7\\\\\n",
       "\t Taiwan* & X9.9.20  & 495 & 7\\\\\n",
       "\\end{tabular}\n"
      ],
      "text/markdown": [
       "\n",
       "A grouped_df: 583 × 4\n",
       "\n",
       "| Country.Region &lt;chr&gt; | Date &lt;chr&gt; | Confirmed &lt;int&gt; | Deaths &lt;int&gt; |\n",
       "|---|---|---|---|\n",
       "| Taiwan* | X1.1.21  | 802 | 7 |\n",
       "| Taiwan* | X1.10.21 | 828 | 7 |\n",
       "| Taiwan* | X1.11.21 | 834 | 7 |\n",
       "| Taiwan* | X1.12.21 | 838 | 7 |\n",
       "| Taiwan* | X1.13.21 | 842 | 7 |\n",
       "| Taiwan* | X1.14.21 | 842 | 7 |\n",
       "| Taiwan* | X1.15.21 | 843 | 7 |\n",
       "| Taiwan* | X1.16.21 | 851 | 7 |\n",
       "| Taiwan* | X1.17.21 | 855 | 7 |\n",
       "| Taiwan* | X1.18.21 | 862 | 7 |\n",
       "| Taiwan* | X1.19.21 | 868 | 7 |\n",
       "| Taiwan* | X1.2.21  | 808 | 7 |\n",
       "| Taiwan* | X1.20.21 | 870 | 7 |\n",
       "| Taiwan* | X1.21.21 | 881 | 7 |\n",
       "| Taiwan* | X1.22.20 |   1 | 0 |\n",
       "| Taiwan* | X1.22.21 | 881 | 7 |\n",
       "| Taiwan* | X1.23.20 |   1 | 0 |\n",
       "| Taiwan* | X1.23.21 | 884 | 7 |\n",
       "| Taiwan* | X1.24.20 |   3 | 0 |\n",
       "| Taiwan* | X1.24.21 | 889 | 7 |\n",
       "| Taiwan* | X1.25.20 |   3 | 0 |\n",
       "| Taiwan* | X1.25.21 | 889 | 7 |\n",
       "| Taiwan* | X1.26.20 |   4 | 0 |\n",
       "| Taiwan* | X1.26.21 | 890 | 7 |\n",
       "| Taiwan* | X1.27.20 |   5 | 0 |\n",
       "| Taiwan* | X1.27.21 | 893 | 7 |\n",
       "| Taiwan* | X1.28.20 |   8 | 0 |\n",
       "| Taiwan* | X1.28.21 | 895 | 7 |\n",
       "| Taiwan* | X1.29.20 |   8 | 0 |\n",
       "| Taiwan* | X1.29.21 | 899 | 7 |\n",
       "| ⋮ | ⋮ | ⋮ | ⋮ |\n",
       "| Taiwan* | X9.1.20  | 488 | 7 |\n",
       "| Taiwan* | X9.10.20 | 496 | 7 |\n",
       "| Taiwan* | X9.11.20 | 498 | 7 |\n",
       "| Taiwan* | X9.12.20 | 498 | 7 |\n",
       "| Taiwan* | X9.13.20 | 498 | 7 |\n",
       "| Taiwan* | X9.14.20 | 499 | 7 |\n",
       "| Taiwan* | X9.15.20 | 499 | 7 |\n",
       "| Taiwan* | X9.16.20 | 500 | 7 |\n",
       "| Taiwan* | X9.17.20 | 503 | 7 |\n",
       "| Taiwan* | X9.18.20 | 503 | 7 |\n",
       "| Taiwan* | X9.19.20 | 506 | 7 |\n",
       "| Taiwan* | X9.2.20  | 489 | 7 |\n",
       "| Taiwan* | X9.20.20 | 507 | 7 |\n",
       "| Taiwan* | X9.21.20 | 509 | 7 |\n",
       "| Taiwan* | X9.22.20 | 509 | 7 |\n",
       "| Taiwan* | X9.23.20 | 509 | 7 |\n",
       "| Taiwan* | X9.24.20 | 509 | 7 |\n",
       "| Taiwan* | X9.25.20 | 510 | 7 |\n",
       "| Taiwan* | X9.26.20 | 510 | 7 |\n",
       "| Taiwan* | X9.27.20 | 510 | 7 |\n",
       "| Taiwan* | X9.28.20 | 513 | 7 |\n",
       "| Taiwan* | X9.29.20 | 513 | 7 |\n",
       "| Taiwan* | X9.3.20  | 489 | 7 |\n",
       "| Taiwan* | X9.30.20 | 514 | 7 |\n",
       "| Taiwan* | X9.4.20  | 490 | 7 |\n",
       "| Taiwan* | X9.5.20  | 492 | 7 |\n",
       "| Taiwan* | X9.6.20  | 493 | 7 |\n",
       "| Taiwan* | X9.7.20  | 494 | 7 |\n",
       "| Taiwan* | X9.8.20  | 495 | 7 |\n",
       "| Taiwan* | X9.9.20  | 495 | 7 |\n",
       "\n"
      ],
      "text/plain": [
       "    Country.Region Date     Confirmed Deaths\n",
       "1   Taiwan*        X1.1.21  802       7     \n",
       "2   Taiwan*        X1.10.21 828       7     \n",
       "3   Taiwan*        X1.11.21 834       7     \n",
       "4   Taiwan*        X1.12.21 838       7     \n",
       "5   Taiwan*        X1.13.21 842       7     \n",
       "6   Taiwan*        X1.14.21 842       7     \n",
       "7   Taiwan*        X1.15.21 843       7     \n",
       "8   Taiwan*        X1.16.21 851       7     \n",
       "9   Taiwan*        X1.17.21 855       7     \n",
       "10  Taiwan*        X1.18.21 862       7     \n",
       "11  Taiwan*        X1.19.21 868       7     \n",
       "12  Taiwan*        X1.2.21  808       7     \n",
       "13  Taiwan*        X1.20.21 870       7     \n",
       "14  Taiwan*        X1.21.21 881       7     \n",
       "15  Taiwan*        X1.22.20   1       0     \n",
       "16  Taiwan*        X1.22.21 881       7     \n",
       "17  Taiwan*        X1.23.20   1       0     \n",
       "18  Taiwan*        X1.23.21 884       7     \n",
       "19  Taiwan*        X1.24.20   3       0     \n",
       "20  Taiwan*        X1.24.21 889       7     \n",
       "21  Taiwan*        X1.25.20   3       0     \n",
       "22  Taiwan*        X1.25.21 889       7     \n",
       "23  Taiwan*        X1.26.20   4       0     \n",
       "24  Taiwan*        X1.26.21 890       7     \n",
       "25  Taiwan*        X1.27.20   5       0     \n",
       "26  Taiwan*        X1.27.21 893       7     \n",
       "27  Taiwan*        X1.28.20   8       0     \n",
       "28  Taiwan*        X1.28.21 895       7     \n",
       "29  Taiwan*        X1.29.20   8       0     \n",
       "30  Taiwan*        X1.29.21 899       7     \n",
       "⋮   ⋮              ⋮        ⋮         ⋮     \n",
       "554 Taiwan*        X9.1.20  488       7     \n",
       "555 Taiwan*        X9.10.20 496       7     \n",
       "556 Taiwan*        X9.11.20 498       7     \n",
       "557 Taiwan*        X9.12.20 498       7     \n",
       "558 Taiwan*        X9.13.20 498       7     \n",
       "559 Taiwan*        X9.14.20 499       7     \n",
       "560 Taiwan*        X9.15.20 499       7     \n",
       "561 Taiwan*        X9.16.20 500       7     \n",
       "562 Taiwan*        X9.17.20 503       7     \n",
       "563 Taiwan*        X9.18.20 503       7     \n",
       "564 Taiwan*        X9.19.20 506       7     \n",
       "565 Taiwan*        X9.2.20  489       7     \n",
       "566 Taiwan*        X9.20.20 507       7     \n",
       "567 Taiwan*        X9.21.20 509       7     \n",
       "568 Taiwan*        X9.22.20 509       7     \n",
       "569 Taiwan*        X9.23.20 509       7     \n",
       "570 Taiwan*        X9.24.20 509       7     \n",
       "571 Taiwan*        X9.25.20 510       7     \n",
       "572 Taiwan*        X9.26.20 510       7     \n",
       "573 Taiwan*        X9.27.20 510       7     \n",
       "574 Taiwan*        X9.28.20 513       7     \n",
       "575 Taiwan*        X9.29.20 513       7     \n",
       "576 Taiwan*        X9.3.20  489       7     \n",
       "577 Taiwan*        X9.30.20 514       7     \n",
       "578 Taiwan*        X9.4.20  490       7     \n",
       "579 Taiwan*        X9.5.20  492       7     \n",
       "580 Taiwan*        X9.6.20  493       7     \n",
       "581 Taiwan*        X9.7.20  494       7     \n",
       "582 Taiwan*        X9.8.20  495       7     \n",
       "583 Taiwan*        X9.9.20  495       7     "
      ]
     },
     "metadata": {},
     "output_type": "display_data"
    }
   ],
   "source": [
    "confirmed_left %>% \n",
    "    inner_join(deaths_right, by = c(\"Country.Region\", \"Date\"))"
   ]
  },
  {
   "cell_type": "code",
   "execution_count": 38,
   "metadata": {
    "slideshow": {
     "slide_type": "subslide"
    }
   },
   "outputs": [
    {
     "data": {
      "text/html": [
       "<table>\n",
       "<caption>A grouped_df: 1749 × 4</caption>\n",
       "<thead>\n",
       "\t<tr><th scope=col>Country.Region</th><th scope=col>Date</th><th scope=col>Confirmed</th><th scope=col>Deaths</th></tr>\n",
       "\t<tr><th scope=col>&lt;chr&gt;</th><th scope=col>&lt;chr&gt;</th><th scope=col>&lt;int&gt;</th><th scope=col>&lt;int&gt;</th></tr>\n",
       "</thead>\n",
       "<tbody>\n",
       "\t<tr><td>Japan</td><td>X1.1.21 </td><td>239068</td><td>NA</td></tr>\n",
       "\t<tr><td>Japan</td><td>X1.10.21</td><td>288818</td><td>NA</td></tr>\n",
       "\t<tr><td>Japan</td><td>X1.11.21</td><td>293746</td><td>NA</td></tr>\n",
       "\t<tr><td>Japan</td><td>X1.12.21</td><td>298321</td><td>NA</td></tr>\n",
       "\t<tr><td>Japan</td><td>X1.13.21</td><td>304140</td><td>NA</td></tr>\n",
       "\t<tr><td>Japan</td><td>X1.14.21</td><td>310734</td><td>NA</td></tr>\n",
       "\t<tr><td>Japan</td><td>X1.15.21</td><td>317871</td><td>NA</td></tr>\n",
       "\t<tr><td>Japan</td><td>X1.16.21</td><td>324942</td><td>NA</td></tr>\n",
       "\t<tr><td>Japan</td><td>X1.17.21</td><td>330715</td><td>NA</td></tr>\n",
       "\t<tr><td>Japan</td><td>X1.18.21</td><td>335605</td><td>NA</td></tr>\n",
       "\t<tr><td>Japan</td><td>X1.19.21</td><td>340989</td><td>NA</td></tr>\n",
       "\t<tr><td>Japan</td><td>X1.2.21 </td><td>242097</td><td>NA</td></tr>\n",
       "\t<tr><td>Japan</td><td>X1.20.21</td><td>346508</td><td>NA</td></tr>\n",
       "\t<tr><td>Japan</td><td>X1.21.21</td><td>352129</td><td>NA</td></tr>\n",
       "\t<tr><td>Japan</td><td>X1.22.20</td><td>     2</td><td>NA</td></tr>\n",
       "\t<tr><td>Japan</td><td>X1.22.21</td><td>357174</td><td>NA</td></tr>\n",
       "\t<tr><td>Japan</td><td>X1.23.20</td><td>     2</td><td>NA</td></tr>\n",
       "\t<tr><td>Japan</td><td>X1.23.21</td><td>361928</td><td>NA</td></tr>\n",
       "\t<tr><td>Japan</td><td>X1.24.20</td><td>     2</td><td>NA</td></tr>\n",
       "\t<tr><td>Japan</td><td>X1.24.21</td><td>365899</td><td>NA</td></tr>\n",
       "\t<tr><td>Japan</td><td>X1.25.20</td><td>     2</td><td>NA</td></tr>\n",
       "\t<tr><td>Japan</td><td>X1.25.21</td><td>368684</td><td>NA</td></tr>\n",
       "\t<tr><td>Japan</td><td>X1.26.20</td><td>     4</td><td>NA</td></tr>\n",
       "\t<tr><td>Japan</td><td>X1.26.21</td><td>372545</td><td>NA</td></tr>\n",
       "\t<tr><td>Japan</td><td>X1.27.20</td><td>     4</td><td>NA</td></tr>\n",
       "\t<tr><td>Japan</td><td>X1.27.21</td><td>376482</td><td>NA</td></tr>\n",
       "\t<tr><td>Japan</td><td>X1.28.20</td><td>     7</td><td>NA</td></tr>\n",
       "\t<tr><td>Japan</td><td>X1.28.21</td><td>380644</td><td>NA</td></tr>\n",
       "\t<tr><td>Japan</td><td>X1.29.20</td><td>     7</td><td>NA</td></tr>\n",
       "\t<tr><td>Japan</td><td>X1.29.21</td><td>384180</td><td>NA</td></tr>\n",
       "\t<tr><td>⋮</td><td>⋮</td><td>⋮</td><td>⋮</td></tr>\n",
       "\t<tr><td>Korea, South</td><td>X9.1.20 </td><td>NA</td><td>326</td></tr>\n",
       "\t<tr><td>Korea, South</td><td>X9.10.20</td><td>NA</td><td>350</td></tr>\n",
       "\t<tr><td>Korea, South</td><td>X9.11.20</td><td>NA</td><td>355</td></tr>\n",
       "\t<tr><td>Korea, South</td><td>X9.12.20</td><td>NA</td><td>358</td></tr>\n",
       "\t<tr><td>Korea, South</td><td>X9.13.20</td><td>NA</td><td>363</td></tr>\n",
       "\t<tr><td>Korea, South</td><td>X9.14.20</td><td>NA</td><td>367</td></tr>\n",
       "\t<tr><td>Korea, South</td><td>X9.15.20</td><td>NA</td><td>367</td></tr>\n",
       "\t<tr><td>Korea, South</td><td>X9.16.20</td><td>NA</td><td>372</td></tr>\n",
       "\t<tr><td>Korea, South</td><td>X9.17.20</td><td>NA</td><td>377</td></tr>\n",
       "\t<tr><td>Korea, South</td><td>X9.18.20</td><td>NA</td><td>378</td></tr>\n",
       "\t<tr><td>Korea, South</td><td>X9.19.20</td><td>NA</td><td>383</td></tr>\n",
       "\t<tr><td>Korea, South</td><td>X9.2.20 </td><td>NA</td><td>329</td></tr>\n",
       "\t<tr><td>Korea, South</td><td>X9.20.20</td><td>NA</td><td>385</td></tr>\n",
       "\t<tr><td>Korea, South</td><td>X9.21.20</td><td>NA</td><td>388</td></tr>\n",
       "\t<tr><td>Korea, South</td><td>X9.22.20</td><td>NA</td><td>388</td></tr>\n",
       "\t<tr><td>Korea, South</td><td>X9.23.20</td><td>NA</td><td>393</td></tr>\n",
       "\t<tr><td>Korea, South</td><td>X9.24.20</td><td>NA</td><td>395</td></tr>\n",
       "\t<tr><td>Korea, South</td><td>X9.25.20</td><td>NA</td><td>399</td></tr>\n",
       "\t<tr><td>Korea, South</td><td>X9.26.20</td><td>NA</td><td>401</td></tr>\n",
       "\t<tr><td>Korea, South</td><td>X9.27.20</td><td>NA</td><td>406</td></tr>\n",
       "\t<tr><td>Korea, South</td><td>X9.28.20</td><td>NA</td><td>407</td></tr>\n",
       "\t<tr><td>Korea, South</td><td>X9.29.20</td><td>NA</td><td>413</td></tr>\n",
       "\t<tr><td>Korea, South</td><td>X9.3.20 </td><td>NA</td><td>331</td></tr>\n",
       "\t<tr><td>Korea, South</td><td>X9.30.20</td><td>NA</td><td>415</td></tr>\n",
       "\t<tr><td>Korea, South</td><td>X9.4.20 </td><td>NA</td><td>333</td></tr>\n",
       "\t<tr><td>Korea, South</td><td>X9.5.20 </td><td>NA</td><td>334</td></tr>\n",
       "\t<tr><td>Korea, South</td><td>X9.6.20 </td><td>NA</td><td>336</td></tr>\n",
       "\t<tr><td>Korea, South</td><td>X9.7.20 </td><td>NA</td><td>341</td></tr>\n",
       "\t<tr><td>Korea, South</td><td>X9.8.20 </td><td>NA</td><td>344</td></tr>\n",
       "\t<tr><td>Korea, South</td><td>X9.9.20 </td><td>NA</td><td>346</td></tr>\n",
       "</tbody>\n",
       "</table>\n"
      ],
      "text/latex": [
       "A grouped\\_df: 1749 × 4\n",
       "\\begin{tabular}{llll}\n",
       " Country.Region & Date & Confirmed & Deaths\\\\\n",
       " <chr> & <chr> & <int> & <int>\\\\\n",
       "\\hline\n",
       "\t Japan & X1.1.21  & 239068 & NA\\\\\n",
       "\t Japan & X1.10.21 & 288818 & NA\\\\\n",
       "\t Japan & X1.11.21 & 293746 & NA\\\\\n",
       "\t Japan & X1.12.21 & 298321 & NA\\\\\n",
       "\t Japan & X1.13.21 & 304140 & NA\\\\\n",
       "\t Japan & X1.14.21 & 310734 & NA\\\\\n",
       "\t Japan & X1.15.21 & 317871 & NA\\\\\n",
       "\t Japan & X1.16.21 & 324942 & NA\\\\\n",
       "\t Japan & X1.17.21 & 330715 & NA\\\\\n",
       "\t Japan & X1.18.21 & 335605 & NA\\\\\n",
       "\t Japan & X1.19.21 & 340989 & NA\\\\\n",
       "\t Japan & X1.2.21  & 242097 & NA\\\\\n",
       "\t Japan & X1.20.21 & 346508 & NA\\\\\n",
       "\t Japan & X1.21.21 & 352129 & NA\\\\\n",
       "\t Japan & X1.22.20 &      2 & NA\\\\\n",
       "\t Japan & X1.22.21 & 357174 & NA\\\\\n",
       "\t Japan & X1.23.20 &      2 & NA\\\\\n",
       "\t Japan & X1.23.21 & 361928 & NA\\\\\n",
       "\t Japan & X1.24.20 &      2 & NA\\\\\n",
       "\t Japan & X1.24.21 & 365899 & NA\\\\\n",
       "\t Japan & X1.25.20 &      2 & NA\\\\\n",
       "\t Japan & X1.25.21 & 368684 & NA\\\\\n",
       "\t Japan & X1.26.20 &      4 & NA\\\\\n",
       "\t Japan & X1.26.21 & 372545 & NA\\\\\n",
       "\t Japan & X1.27.20 &      4 & NA\\\\\n",
       "\t Japan & X1.27.21 & 376482 & NA\\\\\n",
       "\t Japan & X1.28.20 &      7 & NA\\\\\n",
       "\t Japan & X1.28.21 & 380644 & NA\\\\\n",
       "\t Japan & X1.29.20 &      7 & NA\\\\\n",
       "\t Japan & X1.29.21 & 384180 & NA\\\\\n",
       "\t ⋮ & ⋮ & ⋮ & ⋮\\\\\n",
       "\t Korea, South & X9.1.20  & NA & 326\\\\\n",
       "\t Korea, South & X9.10.20 & NA & 350\\\\\n",
       "\t Korea, South & X9.11.20 & NA & 355\\\\\n",
       "\t Korea, South & X9.12.20 & NA & 358\\\\\n",
       "\t Korea, South & X9.13.20 & NA & 363\\\\\n",
       "\t Korea, South & X9.14.20 & NA & 367\\\\\n",
       "\t Korea, South & X9.15.20 & NA & 367\\\\\n",
       "\t Korea, South & X9.16.20 & NA & 372\\\\\n",
       "\t Korea, South & X9.17.20 & NA & 377\\\\\n",
       "\t Korea, South & X9.18.20 & NA & 378\\\\\n",
       "\t Korea, South & X9.19.20 & NA & 383\\\\\n",
       "\t Korea, South & X9.2.20  & NA & 329\\\\\n",
       "\t Korea, South & X9.20.20 & NA & 385\\\\\n",
       "\t Korea, South & X9.21.20 & NA & 388\\\\\n",
       "\t Korea, South & X9.22.20 & NA & 388\\\\\n",
       "\t Korea, South & X9.23.20 & NA & 393\\\\\n",
       "\t Korea, South & X9.24.20 & NA & 395\\\\\n",
       "\t Korea, South & X9.25.20 & NA & 399\\\\\n",
       "\t Korea, South & X9.26.20 & NA & 401\\\\\n",
       "\t Korea, South & X9.27.20 & NA & 406\\\\\n",
       "\t Korea, South & X9.28.20 & NA & 407\\\\\n",
       "\t Korea, South & X9.29.20 & NA & 413\\\\\n",
       "\t Korea, South & X9.3.20  & NA & 331\\\\\n",
       "\t Korea, South & X9.30.20 & NA & 415\\\\\n",
       "\t Korea, South & X9.4.20  & NA & 333\\\\\n",
       "\t Korea, South & X9.5.20  & NA & 334\\\\\n",
       "\t Korea, South & X9.6.20  & NA & 336\\\\\n",
       "\t Korea, South & X9.7.20  & NA & 341\\\\\n",
       "\t Korea, South & X9.8.20  & NA & 344\\\\\n",
       "\t Korea, South & X9.9.20  & NA & 346\\\\\n",
       "\\end{tabular}\n"
      ],
      "text/markdown": [
       "\n",
       "A grouped_df: 1749 × 4\n",
       "\n",
       "| Country.Region &lt;chr&gt; | Date &lt;chr&gt; | Confirmed &lt;int&gt; | Deaths &lt;int&gt; |\n",
       "|---|---|---|---|\n",
       "| Japan | X1.1.21  | 239068 | NA |\n",
       "| Japan | X1.10.21 | 288818 | NA |\n",
       "| Japan | X1.11.21 | 293746 | NA |\n",
       "| Japan | X1.12.21 | 298321 | NA |\n",
       "| Japan | X1.13.21 | 304140 | NA |\n",
       "| Japan | X1.14.21 | 310734 | NA |\n",
       "| Japan | X1.15.21 | 317871 | NA |\n",
       "| Japan | X1.16.21 | 324942 | NA |\n",
       "| Japan | X1.17.21 | 330715 | NA |\n",
       "| Japan | X1.18.21 | 335605 | NA |\n",
       "| Japan | X1.19.21 | 340989 | NA |\n",
       "| Japan | X1.2.21  | 242097 | NA |\n",
       "| Japan | X1.20.21 | 346508 | NA |\n",
       "| Japan | X1.21.21 | 352129 | NA |\n",
       "| Japan | X1.22.20 |      2 | NA |\n",
       "| Japan | X1.22.21 | 357174 | NA |\n",
       "| Japan | X1.23.20 |      2 | NA |\n",
       "| Japan | X1.23.21 | 361928 | NA |\n",
       "| Japan | X1.24.20 |      2 | NA |\n",
       "| Japan | X1.24.21 | 365899 | NA |\n",
       "| Japan | X1.25.20 |      2 | NA |\n",
       "| Japan | X1.25.21 | 368684 | NA |\n",
       "| Japan | X1.26.20 |      4 | NA |\n",
       "| Japan | X1.26.21 | 372545 | NA |\n",
       "| Japan | X1.27.20 |      4 | NA |\n",
       "| Japan | X1.27.21 | 376482 | NA |\n",
       "| Japan | X1.28.20 |      7 | NA |\n",
       "| Japan | X1.28.21 | 380644 | NA |\n",
       "| Japan | X1.29.20 |      7 | NA |\n",
       "| Japan | X1.29.21 | 384180 | NA |\n",
       "| ⋮ | ⋮ | ⋮ | ⋮ |\n",
       "| Korea, South | X9.1.20  | NA | 326 |\n",
       "| Korea, South | X9.10.20 | NA | 350 |\n",
       "| Korea, South | X9.11.20 | NA | 355 |\n",
       "| Korea, South | X9.12.20 | NA | 358 |\n",
       "| Korea, South | X9.13.20 | NA | 363 |\n",
       "| Korea, South | X9.14.20 | NA | 367 |\n",
       "| Korea, South | X9.15.20 | NA | 367 |\n",
       "| Korea, South | X9.16.20 | NA | 372 |\n",
       "| Korea, South | X9.17.20 | NA | 377 |\n",
       "| Korea, South | X9.18.20 | NA | 378 |\n",
       "| Korea, South | X9.19.20 | NA | 383 |\n",
       "| Korea, South | X9.2.20  | NA | 329 |\n",
       "| Korea, South | X9.20.20 | NA | 385 |\n",
       "| Korea, South | X9.21.20 | NA | 388 |\n",
       "| Korea, South | X9.22.20 | NA | 388 |\n",
       "| Korea, South | X9.23.20 | NA | 393 |\n",
       "| Korea, South | X9.24.20 | NA | 395 |\n",
       "| Korea, South | X9.25.20 | NA | 399 |\n",
       "| Korea, South | X9.26.20 | NA | 401 |\n",
       "| Korea, South | X9.27.20 | NA | 406 |\n",
       "| Korea, South | X9.28.20 | NA | 407 |\n",
       "| Korea, South | X9.29.20 | NA | 413 |\n",
       "| Korea, South | X9.3.20  | NA | 331 |\n",
       "| Korea, South | X9.30.20 | NA | 415 |\n",
       "| Korea, South | X9.4.20  | NA | 333 |\n",
       "| Korea, South | X9.5.20  | NA | 334 |\n",
       "| Korea, South | X9.6.20  | NA | 336 |\n",
       "| Korea, South | X9.7.20  | NA | 341 |\n",
       "| Korea, South | X9.8.20  | NA | 344 |\n",
       "| Korea, South | X9.9.20  | NA | 346 |\n",
       "\n"
      ],
      "text/plain": [
       "     Country.Region Date     Confirmed Deaths\n",
       "1    Japan          X1.1.21  239068    NA    \n",
       "2    Japan          X1.10.21 288818    NA    \n",
       "3    Japan          X1.11.21 293746    NA    \n",
       "4    Japan          X1.12.21 298321    NA    \n",
       "5    Japan          X1.13.21 304140    NA    \n",
       "6    Japan          X1.14.21 310734    NA    \n",
       "7    Japan          X1.15.21 317871    NA    \n",
       "8    Japan          X1.16.21 324942    NA    \n",
       "9    Japan          X1.17.21 330715    NA    \n",
       "10   Japan          X1.18.21 335605    NA    \n",
       "11   Japan          X1.19.21 340989    NA    \n",
       "12   Japan          X1.2.21  242097    NA    \n",
       "13   Japan          X1.20.21 346508    NA    \n",
       "14   Japan          X1.21.21 352129    NA    \n",
       "15   Japan          X1.22.20      2    NA    \n",
       "16   Japan          X1.22.21 357174    NA    \n",
       "17   Japan          X1.23.20      2    NA    \n",
       "18   Japan          X1.23.21 361928    NA    \n",
       "19   Japan          X1.24.20      2    NA    \n",
       "20   Japan          X1.24.21 365899    NA    \n",
       "21   Japan          X1.25.20      2    NA    \n",
       "22   Japan          X1.25.21 368684    NA    \n",
       "23   Japan          X1.26.20      4    NA    \n",
       "24   Japan          X1.26.21 372545    NA    \n",
       "25   Japan          X1.27.20      4    NA    \n",
       "26   Japan          X1.27.21 376482    NA    \n",
       "27   Japan          X1.28.20      7    NA    \n",
       "28   Japan          X1.28.21 380644    NA    \n",
       "29   Japan          X1.29.20      7    NA    \n",
       "30   Japan          X1.29.21 384180    NA    \n",
       "⋮    ⋮              ⋮        ⋮         ⋮     \n",
       "1720 Korea, South   X9.1.20  NA        326   \n",
       "1721 Korea, South   X9.10.20 NA        350   \n",
       "1722 Korea, South   X9.11.20 NA        355   \n",
       "1723 Korea, South   X9.12.20 NA        358   \n",
       "1724 Korea, South   X9.13.20 NA        363   \n",
       "1725 Korea, South   X9.14.20 NA        367   \n",
       "1726 Korea, South   X9.15.20 NA        367   \n",
       "1727 Korea, South   X9.16.20 NA        372   \n",
       "1728 Korea, South   X9.17.20 NA        377   \n",
       "1729 Korea, South   X9.18.20 NA        378   \n",
       "1730 Korea, South   X9.19.20 NA        383   \n",
       "1731 Korea, South   X9.2.20  NA        329   \n",
       "1732 Korea, South   X9.20.20 NA        385   \n",
       "1733 Korea, South   X9.21.20 NA        388   \n",
       "1734 Korea, South   X9.22.20 NA        388   \n",
       "1735 Korea, South   X9.23.20 NA        393   \n",
       "1736 Korea, South   X9.24.20 NA        395   \n",
       "1737 Korea, South   X9.25.20 NA        399   \n",
       "1738 Korea, South   X9.26.20 NA        401   \n",
       "1739 Korea, South   X9.27.20 NA        406   \n",
       "1740 Korea, South   X9.28.20 NA        407   \n",
       "1741 Korea, South   X9.29.20 NA        413   \n",
       "1742 Korea, South   X9.3.20  NA        331   \n",
       "1743 Korea, South   X9.30.20 NA        415   \n",
       "1744 Korea, South   X9.4.20  NA        333   \n",
       "1745 Korea, South   X9.5.20  NA        334   \n",
       "1746 Korea, South   X9.6.20  NA        336   \n",
       "1747 Korea, South   X9.7.20  NA        341   \n",
       "1748 Korea, South   X9.8.20  NA        344   \n",
       "1749 Korea, South   X9.9.20  NA        346   "
      ]
     },
     "metadata": {},
     "output_type": "display_data"
    }
   ],
   "source": [
    "confirmed_left %>% \n",
    "    full_join(deaths_right, by = c(\"Country.Region\", \"Date\"))"
   ]
  },
  {
   "cell_type": "markdown",
   "metadata": {
    "slideshow": {
     "slide_type": "slide"
    }
   },
   "source": [
    "## 重點統整\n",
    "\n",
    "- 使用 `%>%` pipe 運算符鏈結函數。\n",
    "- 使用 `dplyr::select()` 函數選擇。\n",
    "- 使用 `dplyr::filter()` 函數篩選。\n",
    "- 使用 `dplyr::arrange()` 函數排序。\n",
    "- 使用 `dplyr::mutate()` 函數新增變數。\n",
    "- 使用 `dplyr::group_by()` 搭配 `dplyr::summarise()` 函數分組摘要。"
   ]
  },
  {
   "cell_type": "markdown",
   "metadata": {
    "slideshow": {
     "slide_type": "subslide"
    }
   },
   "source": [
    "## 重點統整（續）\n",
    "\n",
    "- 使用 `tidyr::pivot_longer()` 函數寬格式轉長格式。\n",
    "- 使用 `tidyr::pivot_wider()` 函數長格式轉寬格式。"
   ]
  },
  {
   "cell_type": "markdown",
   "metadata": {
    "slideshow": {
     "slide_type": "subslide"
    }
   },
   "source": [
    "## 重點統整（續）\n",
    "\n",
    "- 垂直合併。\n",
    "    - `dplyr::bind_rows()` 函數。\n",
    "- 水平合併。\n",
    "    - `dplyr::bind_cols()` 函數。\n",
    "    - `dplyr::..._join()` 函數。"
   ]
  }
 ],
 "metadata": {
  "celltoolbar": "Slideshow",
  "kernelspec": {
   "display_name": "R",
   "language": "R",
   "name": "ir"
  },
  "language_info": {
   "codemirror_mode": "r",
   "file_extension": ".r",
   "mimetype": "text/x-r-source",
   "name": "R",
   "pygments_lexer": "r",
   "version": "4.0.5"
  }
 },
 "nbformat": 4,
 "nbformat_minor": 2
}
