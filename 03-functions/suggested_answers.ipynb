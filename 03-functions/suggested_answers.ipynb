{
 "cells": [
  {
   "cell_type": "markdown",
   "metadata": {
    "deletable": false,
    "editable": false
   },
   "source": [
    "# R 程式設計\n",
    "\n",
    "> 認識向量\n",
    "\n",
    "[數據交點](https://www.datainpoint.com/) | 郭耀仁 <yaojenkuo@datainpoint.com>"
   ]
  },
  {
   "cell_type": "markdown",
   "metadata": {
    "deletable": false,
    "editable": false
   },
   "source": [
    "## 練習題指引\n",
    "\n",
    "- 在 `### BEGIN SOLUTION` 與 `### END SOLUTION` 這兩個單行註解之間撰寫能夠得到預期結果的程式。\n",
    "- 可以先在 RStudio 寫出跟預期結果相同的程式後再複製貼上到練習題。\n",
    "- 執行測試的方式為點選上方選單的 Kernel -> Restart & Run All -> Restart and Run All Cells。\n",
    "- 可以每寫一題就執行測試，也可以全部寫完再執行測試。"
   ]
  },
  {
   "cell_type": "markdown",
   "metadata": {},
   "source": [
    "## 自訂一個函數 `multiply` 能夠回傳兩數相乘的結果。\n",
    "\n",
    "- 預期輸入：兩個數值向量\n",
    "- 預期輸出：一個數值向量"
   ]
  },
  {
   "cell_type": "code",
   "execution_count": 1,
   "metadata": {},
   "outputs": [],
   "source": [
    "multiply <- function(a, b) {\n",
    "    # multiply(5, 6)\n",
    "    # 30\n",
    "    # multiply(6, 7)\n",
    "    # 42\n",
    "    # multiply(4, 7)\n",
    "    # 28\n",
    "    ### BEGIN SOLUTION\n",
    "    return(a*b)\n",
    "    ### END SOLUTION\n",
    "}"
   ]
  },
  {
   "cell_type": "markdown",
   "metadata": {},
   "source": [
    "## 自訂一個函數 `celsius_to_fahrenheit` 能夠將攝氏溫度轉換為華氏溫度。\n",
    "\n",
    "\\begin{equation}\n",
    "Fahrenheit_{(°F)} = Celsius_{(°C)} \\times \\frac{9}{5} + 32\n",
    "\\end{equation}\n",
    "\n",
    "- 預期輸入：一個數值向量\n",
    "- 預期輸出：一個數值向量"
   ]
  },
  {
   "cell_type": "code",
   "execution_count": 2,
   "metadata": {},
   "outputs": [],
   "source": [
    "celsius_to_fahrenheit <- function(d) {\n",
    "    # celsius_to_fahrenheit(0)\n",
    "    # 32\n",
    "    # celsius_to_fahrenheit(100)\n",
    "    # 212\n",
    "    ### BEGIN SOLUTION\n",
    "    return(d*9/5 + 32)\n",
    "    ### END SOLUTION\n",
    "}"
   ]
  },
  {
   "cell_type": "markdown",
   "metadata": {},
   "source": [
    "## 自訂一個函數 `fahrenheit_to_celsius` 能夠將華氏溫度轉換為攝氏溫度。\n",
    "\n",
    "\\begin{equation}\n",
    "Celsius_{(°C)} =  (Fahrenheit_{(°F)} - 32) \\times \\frac{5}{9}\n",
    "\\end{equation}\n",
    "\n",
    "- 預期輸入：一個數值向量\n",
    "- 預期輸出：一個數值向量"
   ]
  },
  {
   "cell_type": "code",
   "execution_count": 3,
   "metadata": {},
   "outputs": [],
   "source": [
    "fahrenheit_to_celsius <- function(d) {\n",
    "    # fahrenheit_to_celsius(32)\n",
    "    # 0\n",
    "    # fahrenheit_to_celsius(212)\n",
    "    # 100\n",
    "    ### BEGIN SOLUTION\n",
    "    return((d-32)*5/9)\n",
    "    ### END SOLUTION\n",
    "}"
   ]
  },
  {
   "cell_type": "markdown",
   "metadata": {},
   "source": [
    "## 自訂一個函數 `say_hello_to_anyone` 對任何輸入的人名說哈囉。\n",
    "\n",
    "- 預期輸入：一個文字向量\n",
    "- 預期輸出：一個文字向量"
   ]
  },
  {
   "cell_type": "code",
   "execution_count": 4,
   "metadata": {},
   "outputs": [],
   "source": [
    "say_hello_to_anyone <- function(anyone) {\n",
    "    # say_hello_to_anyone(\"World\")\n",
    "    # \"Hello, World!\"\n",
    "    # say_hello_to_anyone(\"John Doe\")\n",
    "    # \"Hello, John Doe!\"\n",
    "    # say_hello_to_anyone(\"Luke Skywalker\")\n",
    "    # \"Hello, Luke Skywalker!\"\n",
    "    ### BEGIN SOLUTION\n",
    "    hello_msg <- sprintf(\"Hello, %s!\", anyone)\n",
    "    return(hello_msg)\n",
    "    ### END SOLUTION\n",
    "}"
   ]
  },
  {
   "cell_type": "markdown",
   "metadata": {},
   "source": [
    "## 自訂一個函數 `is_positive` 判斷輸入的數值是否大於等於零。\n",
    "\n",
    "- 預期輸入：一個數值向量\n",
    "- 預期輸出：一個邏輯值向量"
   ]
  },
  {
   "cell_type": "code",
   "execution_count": 5,
   "metadata": {},
   "outputs": [],
   "source": [
    "is_positive <- function(x) {\n",
    "    # is_positive(5566)\n",
    "    # TRUE\n",
    "    # is_positive(0)\n",
    "    # TRUE\n",
    "    # is_positive(-56)\n",
    "    # FALSE\n",
    "    ### BEGIN SOLUTION\n",
    "    return(x >= 0)\n",
    "    ### END SOLUTION\n",
    "}"
   ]
  },
  {
   "cell_type": "markdown",
   "metadata": {},
   "source": [
    "## 自訂一個函數 `is_even` 判斷輸入的數值是否為偶數。\n",
    "\n",
    "- 預期輸入：一個數值向量\n",
    "- 預期輸出：一個邏輯值向量"
   ]
  },
  {
   "cell_type": "code",
   "execution_count": 6,
   "metadata": {},
   "outputs": [],
   "source": [
    "is_even <- function(x) {\n",
    "    # is_even(0)\n",
    "    # TRUE\n",
    "    # is_even(2)\n",
    "    # TRUE\n",
    "    # is_even(3)\n",
    "    # FALSE\n",
    "    # is_even(5)\n",
    "    # FALSE\n",
    "    ### BEGIN SOLUTION\n",
    "    return(x %% 2 == 0)\n",
    "    ### END SOLUTION\n",
    "}"
   ]
  },
  {
   "cell_type": "markdown",
   "metadata": {},
   "source": [
    "## 自訂一個函數 `a_to_b` 能夠回傳一個長度不定的數值向量，含有介於 a 到 b 之間的整數，其中 $a \\leq b$。\n",
    "\n",
    "- 預期輸入：兩個數值向量\n",
    "- 預期輸出：一個數值向量"
   ]
  },
  {
   "cell_type": "code",
   "execution_count": 7,
   "metadata": {},
   "outputs": [],
   "source": [
    "a_to_b <- function(a, b) {\n",
    "    # a_to_b(1, 1)\n",
    "    # 1\n",
    "    # a_to_b(1, 3)\n",
    "    # 1 2 3\n",
    "    # a_to_b(1, 5)\n",
    "    # 1 2 3 4 5\n",
    "    ### BEGIN SOLUTION\n",
    "    return(a:b)\n",
    "    ### END SOLUTION\n",
    "}"
   ]
  },
  {
   "cell_type": "markdown",
   "metadata": {},
   "source": [
    "## 自訂一個函數 `find_positives`，給定一個數值向量能夠回傳其中的正數。\n",
    "\n",
    "- 預期輸入：一個數值向量\n",
    "- 預期輸出：一個數值向量"
   ]
  },
  {
   "cell_type": "code",
   "execution_count": 8,
   "metadata": {},
   "outputs": [],
   "source": [
    "find_positives <- function(x) {\n",
    "    # find_positives(-3:3)\n",
    "    # 0 1 2 3\n",
    "    # find_positives(c(-1, 1, -2, 2, -3, 3))\n",
    "    # 1 2 3\n",
    "    ### BEGIN SOLUTION\n",
    "    return(x[x >= 0])\n",
    "    ### END SOLUTION\n",
    "}"
   ]
  },
  {
   "cell_type": "markdown",
   "metadata": {},
   "source": [
    "## 自訂一個函數 `find_evens`，給定起點 a 到終點 b 之間的數值向量，其中 $a \\leq b$，回傳其中的偶數。\n",
    "\n",
    "- 預期輸入：兩個數值向量\n",
    "- 預期輸出：一個數值向量"
   ]
  },
  {
   "cell_type": "code",
   "execution_count": 9,
   "metadata": {},
   "outputs": [],
   "source": [
    "find_evens <- function(a, b) {\n",
    "    # find_evens(1, 3)\n",
    "    # 2\n",
    "    # find_evens(10, 15)\n",
    "    # 10 12 14\n",
    "    # find_evens(2, 6)\n",
    "    # 2 4 6\n",
    "    ### BEGIN SOLUTION\n",
    "    x <- a:b\n",
    "    return(x[x %% 2 == 0])\n",
    "    ### END SOLUTION\n",
    "}"
   ]
  },
  {
   "cell_type": "markdown",
   "metadata": {
    "deletable": false,
    "editable": false
   },
   "source": [
    "## 執行測試\n",
    "\n",
    "Kernel -> Restart & Run All. -> Restart and Run All Cells. "
   ]
  },
  {
   "cell_type": "code",
   "execution_count": 10,
   "metadata": {
    "deletable": false,
    "editable": false
   },
   "outputs": [
    {
     "name": "stdout",
     "output_type": "stream",
     "text": [
      "\u001b[32mTest passed\u001b[39m 🥳\n",
      "\u001b[32mTest passed\u001b[39m 🥇\n",
      "\u001b[32mTest passed\u001b[39m 😀\n",
      "\u001b[32mTest passed\u001b[39m 🎊\n",
      "\u001b[32mTest passed\u001b[39m 🥇\n",
      "\u001b[32mTest passed\u001b[39m 😸\n",
      "\u001b[32mTest passed\u001b[39m 🥇\n",
      "\u001b[32mTest passed\u001b[39m 🥳\n",
      "\u001b[32mTest passed\u001b[39m 😀\n"
     ]
    }
   ],
   "source": [
    "library(testthat)\n",
    "\n",
    "test_multiply <- tryCatch({\n",
    "    test_that(\"test_multiply\", {\n",
    "        expect_equal(multiply(5, 6), 30)\n",
    "        expect_equal(multiply(6, 7), 42)\n",
    "        expect_equal(multiply(4, 7), 28)\n",
    "    })\n",
    "    }, error = function(e) {\n",
    "        FALSE\n",
    "})\n",
    "test_celsius_to_fahrenheit <- tryCatch({\n",
    "    test_that(\"test_celsius_to_fahrenheit\", {\n",
    "        expect_equal(celsius_to_fahrenheit(0), 32)\n",
    "        expect_equal(celsius_to_fahrenheit(100), 212)\n",
    "    })\n",
    "    }, error = function(e) {\n",
    "        FALSE\n",
    "})\n",
    "test_fahrenheit_to_celsius <- tryCatch({\n",
    "    test_that(\"test_fahrenheit_to_celsius\", {\n",
    "        expect_equal(fahrenheit_to_celsius(32), 0)\n",
    "        expect_equal(fahrenheit_to_celsius(212), 100)\n",
    "    })\n",
    "    }, error = function(e) {\n",
    "        FALSE\n",
    "})\n",
    "test_say_hello_to_anyone <- tryCatch({\n",
    "    test_that(\"test_say_hello_to_anyone\", {\n",
    "        expect_equal(say_hello_to_anyone(\"World\"), \"Hello, World!\")\n",
    "        expect_equal(say_hello_to_anyone(\"John Doe\"), \"Hello, John Doe!\")\n",
    "        expect_equal(say_hello_to_anyone(\"Luke Skywalker\"), \"Hello, Luke Skywalker!\")\n",
    "    })\n",
    "    }, error = function(e) {\n",
    "        FALSE\n",
    "})\n",
    "test_is_positive <- tryCatch({\n",
    "    test_that(\"test_is_positive\", {\n",
    "        expect_equal(is_positive(5566), TRUE)\n",
    "        expect_equal(is_positive(0), TRUE)\n",
    "        expect_equal(is_positive(-56), FALSE)\n",
    "    })\n",
    "    }, error = function(e) {\n",
    "        FALSE\n",
    "})\n",
    "test_is_even <- tryCatch({\n",
    "    test_that(\"test_is_even\", {\n",
    "        expect_equal(is_even(0), TRUE)\n",
    "        expect_equal(is_even(2), TRUE)\n",
    "        expect_equal(is_even(3), FALSE)\n",
    "        expect_equal(is_even(5), FALSE)\n",
    "    })\n",
    "    }, error = function(e) {\n",
    "        FALSE\n",
    "})\n",
    "test_a_to_b <- tryCatch({\n",
    "    test_that(\"test_a_to_b\", {\n",
    "        expect_equal(a_to_b(1, 1), 1)\n",
    "        expect_equal(a_to_b(1, 3), c(1, 2, 3))\n",
    "        expect_equal(a_to_b(1, 5), c(1, 2, 3, 4, 5))\n",
    "    })\n",
    "    }, error = function(e) {\n",
    "        FALSE\n",
    "})\n",
    "test_find_positives <- tryCatch({\n",
    "    test_that(\"test_find_positives\", {\n",
    "        expect_equal(find_positives(-3:3), c(0, 1, 2, 3))\n",
    "        expect_equal(find_positives(c(-1, 1, -2, 2, -3, 3)), c(1, 2, 3))\n",
    "    })\n",
    "    }, error = function(e) {\n",
    "        FALSE\n",
    "})\n",
    "test_find_evens <- tryCatch({\n",
    "    test_that(\"test_find_evens\", {\n",
    "        expect_equal(find_evens(1, 3), 2)\n",
    "        expect_equal(find_evens(10, 15), c(10, 12, 14))\n",
    "        expect_equal(find_evens(2, 6), c(2, 4, 6))\n",
    "    })\n",
    "    }, error = function(e) {\n",
    "        FALSE\n",
    "})"
   ]
  },
  {
   "cell_type": "code",
   "execution_count": 11,
   "metadata": {
    "deletable": false,
    "editable": false
   },
   "outputs": [
    {
     "data": {
      "text/html": [
       "'在 9 題中，您總共答對了 9 題。'"
      ],
      "text/latex": [
       "'在 9 題中，您總共答對了 9 題。'"
      ],
      "text/markdown": [
       "'在 9 題中，您總共答對了 9 題。'"
      ],
      "text/plain": [
       "[1] \"在 9 題中，您總共答對了 9 題。\""
      ]
     },
     "metadata": {},
     "output_type": "display_data"
    }
   ],
   "source": [
    "all_tests <- c(test_multiply, test_celsius_to_fahrenheit, test_fahrenheit_to_celsius, test_say_hello_to_anyone, test_is_positive, test_is_even, test_a_to_b, test_find_positives, test_find_evens)\n",
    "passed_tests <- sum(all_tests)\n",
    "sprintf(\"在 %s 題中，您總共答對了 %s 題。\", length(all_tests), passed_tests)"
   ]
  }
 ],
 "metadata": {
  "kernelspec": {
   "display_name": "R",
   "language": "R",
   "name": "ir403"
  },
  "language_info": {
   "codemirror_mode": "r",
   "file_extension": ".r",
   "mimetype": "text/x-r-source",
   "name": "R",
   "pygments_lexer": "r",
   "version": "4.0.5"
  }
 },
 "nbformat": 4,
 "nbformat_minor": 4
}
