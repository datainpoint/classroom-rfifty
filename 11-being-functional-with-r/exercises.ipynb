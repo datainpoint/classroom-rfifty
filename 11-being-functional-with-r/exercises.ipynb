{
 "cells": [
  {
   "cell_type": "markdown",
   "metadata": {
    "deletable": false,
    "editable": false
   },
   "source": [
    "# R 程式設計\n",
    "\n",
    "> 函數型程式設計\n",
    "\n",
    "[數據交點](https://www.datainpoint.com/) | 郭耀仁 <yaojenkuo@datainpoint.com>"
   ]
  },
  {
   "cell_type": "markdown",
   "metadata": {
    "deletable": false,
    "editable": false
   },
   "source": [
    "## 練習題指引\n",
    "\n",
    "- 在 `### BEGIN SOLUTION` 與 `### END SOLUTION` 這兩個單行註解之間撰寫能夠得到預期結果的程式。\n",
    "- 可以先在 RStudio 寫出跟預期結果相同的程式後再複製貼上到練習題。\n",
    "- 執行測試的方式為點選上方選單的 Kernel -> Restart & Run All -> Restart and Run All Cells。\n",
    "- 可以每寫一題就執行測試，也可以全部寫完再執行測試。"
   ]
  },
  {
   "cell_type": "markdown",
   "metadata": {},
   "source": [
    "## 自訂一個函數 `count_negative_integers` 能回傳輸入 `list` 之中的負數有幾個。\n",
    "\n",
    "- 預期輸入：一個 `list`\n",
    "- 預期輸出：一個 `numeric`"
   ]
  },
  {
   "cell_type": "code",
   "execution_count": 1,
   "metadata": {},
   "outputs": [],
   "source": [
    "count_negative_integers <- function(x) {\n",
    "    # count_negative_integers(list(0, 1, 2, 3, 4, 5))\n",
    "    # 0\n",
    "    # count_negative_integers(list(0, -1, -2, -3, -4, -5))\n",
    "    # 5\n",
    "    # count_negative_integers(list(0, 5, 5, -6, -6))\n",
    "    # 2\n",
    "    # count_negative_integers(list(0, -5, -5, 6, 6))\n",
    "    # 2\n",
    "    ### BEGIN SOLUTION\n",
    "    \n",
    "    ### END SOLUTION\n",
    "}"
   ]
  },
  {
   "cell_type": "markdown",
   "metadata": {},
   "source": [
    "## 自訂一個函數 `find_smallest_int` 能將輸入 `list` 之中最小的數字找出來並且回傳。\n",
    "\n",
    "- 預期輸入：一個 `list`\n",
    "- 預期輸出：一個 `numeric`"
   ]
  },
  {
   "cell_type": "code",
   "execution_count": 2,
   "metadata": {},
   "outputs": [],
   "source": [
    "find_smallest_int <- function(x) {\n",
    "    # find_smallest_int(list(1, 2, 3, 4, 5))\n",
    "    # 1\n",
    "    # find_smallest_int(list(-1, -2, -3, -4, -5))\n",
    "    # -5\n",
    "    # find_smallest_int(list(5, 5, 6, 6))\n",
    "    # 5\n",
    "    # find_smallest_int(list(-5, -5, -6, -6))\n",
    "    # -6\n",
    "    ### BEGIN SOLUTION\n",
    "    \n",
    "    ### END SOLUTION\n",
    "}"
   ]
  },
  {
   "cell_type": "markdown",
   "metadata": {},
   "source": [
    "## 自訂一個函數 `list_mean` 能計算 `list` 之中所有數字的平均值。\n",
    "\n",
    "- 預期輸入：一個 `list`\n",
    "- 預期輸出：一個 `numeric`"
   ]
  },
  {
   "cell_type": "code",
   "execution_count": 3,
   "metadata": {},
   "outputs": [],
   "source": [
    "list_mean <- function(x) {\n",
    "    # list_mean(list(1, 2, 3, 4, 5))\n",
    "    # 3\n",
    "    # list_mean(list(-1, -2, -3, -4, -5))\n",
    "    # -3\n",
    "    # list_mean(list(5, 5, 6, 6))\n",
    "    # 5.5\n",
    "    # list_mean(list(-5, -5, -6, -6))\n",
    "    # -5.5\n",
    "    ### BEGIN SOLUTION\n",
    "    \n",
    "    ### END SOLUTION\n",
    "}"
   ]
  },
  {
   "cell_type": "markdown",
   "metadata": {},
   "source": [
    "## 自訂一個函數 `count_vowels` 能計算一個文字向量中的母音字母個數（a, e, i, o, u）。\n",
    "\n",
    "- 預期輸入：一個長度為 1 的 `character`\n",
    "- 預期輸出：一個 `numeric`"
   ]
  },
  {
   "cell_type": "code",
   "execution_count": 4,
   "metadata": {},
   "outputs": [],
   "source": [
    "count_vowels <- function(x) {\n",
    "    # count_vowels(\"Anakin Skywalker\")\n",
    "    # 5\n",
    "    # count_vowels(\"Luke Skywalker\")\n",
    "    # 4\n",
    "    # count_vowels(\"Darth Vadar\")\n",
    "    # 3\n",
    "    ### BEGIN SOLUTION\n",
    "    \n",
    "    ### END SOLUTION\n",
    "}"
   ]
  },
  {
   "cell_type": "markdown",
   "metadata": {},
   "source": [
    "## 自訂一個函數 `advanced_count_vowels` 能計算一個文字向量中的母音字母個數（a, e, i, o, u），並且以 `list` 的資料結構回傳各個母音的個數。\n",
    "\n",
    "- 預期輸入：一個長度為 1 的 `character`\n",
    "- 預期輸出：一個 `list`"
   ]
  },
  {
   "cell_type": "code",
   "execution_count": 5,
   "metadata": {},
   "outputs": [],
   "source": [
    "advanced_count_vowels <- function(x) {\n",
    "    # advanced_count_vowels(\"Anakin Skywalker\")\n",
    "    # $a\n",
    "    # 3\n",
    "    # $e\n",
    "    # 1\n",
    "    # $i\n",
    "    # 1\n",
    "    # $o\n",
    "    # 0\n",
    "    # $u\n",
    "    # 0\n",
    "    # advanced_count_vowels(\"Luke Skywalker\")\n",
    "    # $a\n",
    "    # 1\n",
    "    # $e\n",
    "    # 2\n",
    "    # $i\n",
    "    # 0\n",
    "    # $o\n",
    "    # 0\n",
    "    # $u\n",
    "    # 1\n",
    "    # advanced_count_vowels(\"Darth Vadar\")\n",
    "    # $a\n",
    "    # 3\n",
    "    # $e\n",
    "    # 0\n",
    "    # $i\n",
    "    # 0\n",
    "    # $o\n",
    "    # 0\n",
    "    # $u\n",
    "    # 0\n",
    "    ### BEGIN SOLUTION\n",
    "    \n",
    "    ### END SOLUTION\n",
    "}"
   ]
  },
  {
   "cell_type": "markdown",
   "metadata": {
    "deletable": false,
    "editable": false
   },
   "source": [
    "## 執行測試\n",
    "\n",
    "Kernel -> Restart & Run All -> Restart and Run All Cells."
   ]
  },
  {
   "cell_type": "code",
   "execution_count": 6,
   "metadata": {
    "deletable": false,
    "editable": false
   },
   "outputs": [
    {
     "name": "stdout",
     "output_type": "stream",
     "text": [
      "── \u001b[1m\u001b[38;5;214mFailure\u001b[39m (<text>:5:9): test_count_negative_integers\u001b[22m ──────────────────────────\n",
      "count_negative_integers(list(0, 1, 2, 3, 4, 5)) not equal to 0.\n",
      "target is NULL, current is numeric\n",
      "\n",
      "── \u001b[1m\u001b[38;5;214mFailure\u001b[39m (<text>:6:9): test_count_negative_integers\u001b[22m ──────────────────────────\n",
      "count_negative_integers(list(0, -1, -2, -3, -4, -5)) not equal to 5.\n",
      "target is NULL, current is numeric\n",
      "\n",
      "── \u001b[1m\u001b[38;5;214mFailure\u001b[39m (<text>:7:9): test_count_negative_integers\u001b[22m ──────────────────────────\n",
      "count_negative_integers(list(0, 5, 5, -6, -6)) not equal to 2.\n",
      "target is NULL, current is numeric\n",
      "\n",
      "── \u001b[1m\u001b[38;5;214mFailure\u001b[39m (<text>:8:9): test_count_negative_integers\u001b[22m ──────────────────────────\n",
      "count_negative_integers(list(0, -5, -5, 6, 6)) not equal to 2.\n",
      "target is NULL, current is numeric\n",
      "\n",
      "── \u001b[1m\u001b[38;5;214mFailure\u001b[39m (<text>:15:9): test_find_smallest_int\u001b[22m ───────────────────────────────\n",
      "find_smallest_int(list(1, 2, 3, 4, 5)) not equal to 1.\n",
      "target is NULL, current is numeric\n",
      "\n",
      "── \u001b[1m\u001b[38;5;214mFailure\u001b[39m (<text>:16:9): test_find_smallest_int\u001b[22m ───────────────────────────────\n",
      "find_smallest_int(list(-1, -2, -3, -4, -5)) not equal to -5.\n",
      "target is NULL, current is numeric\n",
      "\n",
      "── \u001b[1m\u001b[38;5;214mFailure\u001b[39m (<text>:17:9): test_find_smallest_int\u001b[22m ───────────────────────────────\n",
      "find_smallest_int(list(5, 5, 6, 6)) not equal to 5.\n",
      "target is NULL, current is numeric\n",
      "\n",
      "── \u001b[1m\u001b[38;5;214mFailure\u001b[39m (<text>:18:9): test_find_smallest_int\u001b[22m ───────────────────────────────\n",
      "find_smallest_int(list(-5, -5, -6, -6)) not equal to -6.\n",
      "target is NULL, current is numeric\n",
      "\n",
      "── \u001b[1m\u001b[38;5;214mFailure\u001b[39m (<text>:25:9): test_list_mean\u001b[22m ───────────────────────────────────────\n",
      "list_mean(list(1, 2, 3, 4, 5)) not equal to 3.\n",
      "target is NULL, current is numeric\n",
      "\n",
      "── \u001b[1m\u001b[38;5;214mFailure\u001b[39m (<text>:26:9): test_list_mean\u001b[22m ───────────────────────────────────────\n",
      "list_mean(list(-1, -2, -3, -4, -5)) not equal to -3.\n",
      "target is NULL, current is numeric\n",
      "\n",
      "── \u001b[1m\u001b[38;5;214mFailure\u001b[39m (<text>:27:9): test_list_mean\u001b[22m ───────────────────────────────────────\n",
      "list_mean(list(5, 5, 6, 6)) not equal to 5.5.\n",
      "target is NULL, current is numeric\n",
      "\n",
      "── \u001b[1m\u001b[38;5;214mFailure\u001b[39m (<text>:28:9): test_list_mean\u001b[22m ───────────────────────────────────────\n",
      "list_mean(list(-5, -5, -6, -6)) not equal to -5.5.\n",
      "target is NULL, current is numeric\n",
      "\n",
      "── \u001b[1m\u001b[38;5;214mFailure\u001b[39m (<text>:35:9): test_count_vowels\u001b[22m ────────────────────────────────────\n",
      "count_vowels(\"Anakin Skywalker\") not equal to 5.\n",
      "target is NULL, current is numeric\n",
      "\n",
      "── \u001b[1m\u001b[38;5;214mFailure\u001b[39m (<text>:36:9): test_count_vowels\u001b[22m ────────────────────────────────────\n",
      "count_vowels(\"Luke Skywalker\") not equal to 4.\n",
      "target is NULL, current is numeric\n",
      "\n",
      "── \u001b[1m\u001b[38;5;214mFailure\u001b[39m (<text>:37:9): test_count_vowels\u001b[22m ────────────────────────────────────\n",
      "count_vowels(\"Darth Vadar\") not equal to 3.\n",
      "target is NULL, current is numeric\n",
      "\n",
      "── \u001b[1m\u001b[38;5;214mFailure\u001b[39m (<text>:44:9): test_advanced_count_vowels\u001b[22m ───────────────────────────\n",
      "advanced_count_vowels(\"Anakin Skywalker\")[[\"a\"]] not equal to 3.\n",
      "target is NULL, current is numeric\n",
      "\n",
      "── \u001b[1m\u001b[38;5;214mFailure\u001b[39m (<text>:45:9): test_advanced_count_vowels\u001b[22m ───────────────────────────\n",
      "advanced_count_vowels(\"Anakin Skywalker\")[[\"e\"]] not equal to 1.\n",
      "target is NULL, current is numeric\n",
      "\n",
      "── \u001b[1m\u001b[38;5;214mFailure\u001b[39m (<text>:46:9): test_advanced_count_vowels\u001b[22m ───────────────────────────\n",
      "advanced_count_vowels(\"Anakin Skywalker\")[[\"i\"]] not equal to 1.\n",
      "target is NULL, current is numeric\n",
      "\n",
      "── \u001b[1m\u001b[38;5;214mFailure\u001b[39m (<text>:47:9): test_advanced_count_vowels\u001b[22m ───────────────────────────\n",
      "advanced_count_vowels(\"Anakin Skywalker\")[[\"o\"]] not equal to 0.\n",
      "target is NULL, current is numeric\n",
      "\n",
      "── \u001b[1m\u001b[38;5;214mFailure\u001b[39m (<text>:48:9): test_advanced_count_vowels\u001b[22m ───────────────────────────\n",
      "advanced_count_vowels(\"Anakin Skywalker\")[[\"u\"]] not equal to 0.\n",
      "target is NULL, current is numeric\n",
      "\n",
      "── \u001b[1m\u001b[38;5;214mFailure\u001b[39m (<text>:49:9): test_advanced_count_vowels\u001b[22m ───────────────────────────\n",
      "advanced_count_vowels(\"Luke Skywalker\")[[\"a\"]] not equal to 1.\n",
      "target is NULL, current is numeric\n",
      "\n",
      "── \u001b[1m\u001b[38;5;214mFailure\u001b[39m (<text>:50:9): test_advanced_count_vowels\u001b[22m ───────────────────────────\n",
      "advanced_count_vowels(\"Luke Skywalker\")[[\"e\"]] not equal to 2.\n",
      "target is NULL, current is numeric\n",
      "\n",
      "── \u001b[1m\u001b[38;5;214mFailure\u001b[39m (<text>:51:9): test_advanced_count_vowels\u001b[22m ───────────────────────────\n",
      "advanced_count_vowels(\"Luke Skywalker\")[[\"i\"]] not equal to 0.\n",
      "target is NULL, current is numeric\n",
      "\n",
      "── \u001b[1m\u001b[38;5;214mFailure\u001b[39m (<text>:52:9): test_advanced_count_vowels\u001b[22m ───────────────────────────\n",
      "advanced_count_vowels(\"Luke Skywalker\")[[\"o\"]] not equal to 0.\n",
      "target is NULL, current is numeric\n",
      "\n",
      "── \u001b[1m\u001b[38;5;214mFailure\u001b[39m (<text>:53:9): test_advanced_count_vowels\u001b[22m ───────────────────────────\n",
      "advanced_count_vowels(\"Luke Skywalker\")[[\"u\"]] not equal to 1.\n",
      "target is NULL, current is numeric\n",
      "\n",
      "── \u001b[1m\u001b[38;5;214mFailure\u001b[39m (<text>:54:9): test_advanced_count_vowels\u001b[22m ───────────────────────────\n",
      "advanced_count_vowels(\"Darth Vadar\")[[\"a\"]] not equal to 3.\n",
      "target is NULL, current is numeric\n",
      "\n",
      "── \u001b[1m\u001b[38;5;214mFailure\u001b[39m (<text>:55:9): test_advanced_count_vowels\u001b[22m ───────────────────────────\n",
      "advanced_count_vowels(\"Darth Vadar\")[[\"e\"]] not equal to 0.\n",
      "target is NULL, current is numeric\n",
      "\n",
      "── \u001b[1m\u001b[38;5;214mFailure\u001b[39m (<text>:56:9): test_advanced_count_vowels\u001b[22m ───────────────────────────\n",
      "advanced_count_vowels(\"Darth Vadar\")[[\"i\"]] not equal to 0.\n",
      "target is NULL, current is numeric\n",
      "\n",
      "── \u001b[1m\u001b[38;5;214mFailure\u001b[39m (<text>:57:9): test_advanced_count_vowels\u001b[22m ───────────────────────────\n",
      "advanced_count_vowels(\"Darth Vadar\")[[\"o\"]] not equal to 0.\n",
      "target is NULL, current is numeric\n",
      "\n",
      "── \u001b[1m\u001b[38;5;214mFailure\u001b[39m (<text>:58:9): test_advanced_count_vowels\u001b[22m ───────────────────────────\n",
      "advanced_count_vowels(\"Darth Vadar\")[[\"u\"]] not equal to 0.\n",
      "target is NULL, current is numeric\n",
      "\n"
     ]
    }
   ],
   "source": [
    "library(testthat)\n",
    "\n",
    "test_count_negative_integers <- tryCatch({\n",
    "    test_that(\"test_count_negative_integers\", {\n",
    "        expect_equal(count_negative_integers(list(0, 1, 2, 3, 4, 5)), 0)\n",
    "        expect_equal(count_negative_integers(list(0, -1, -2, -3, -4, -5)), 5)\n",
    "        expect_equal(count_negative_integers(list(0, 5, 5, -6, -6)), 2)\n",
    "        expect_equal(count_negative_integers(list(0, -5, -5, 6, 6)), 2)\n",
    "    })\n",
    "    }, error = function(e) {\n",
    "        FALSE\n",
    "})\n",
    "test_find_smallest_int <- tryCatch({\n",
    "    test_that(\"test_find_smallest_int\", {\n",
    "        expect_equal(find_smallest_int(list(1, 2, 3, 4, 5)), 1)\n",
    "        expect_equal(find_smallest_int(list(-1, -2, -3, -4, -5)), -5)\n",
    "        expect_equal(find_smallest_int(list(5, 5, 6, 6)), 5)\n",
    "        expect_equal(find_smallest_int(list(-5, -5, -6, -6)), -6)\n",
    "    })\n",
    "    }, error = function(e) {\n",
    "        FALSE\n",
    "})\n",
    "test_list_mean <- tryCatch({\n",
    "    test_that(\"test_list_mean\", {\n",
    "        expect_equal(list_mean(list(1, 2, 3, 4, 5)), 3)\n",
    "        expect_equal(list_mean(list(-1, -2, -3, -4, -5)), -3)\n",
    "        expect_equal(list_mean(list(5, 5, 6, 6)), 5.5)\n",
    "        expect_equal(list_mean(list(-5, -5, -6, -6)), -5.5)\n",
    "    })\n",
    "    }, error = function(e) {\n",
    "        FALSE\n",
    "})\n",
    "test_count_vowels <- tryCatch({\n",
    "    test_that(\"test_count_vowels\", {\n",
    "        expect_equal(count_vowels(\"Anakin Skywalker\"), 5)\n",
    "        expect_equal(count_vowels(\"Luke Skywalker\"), 4)\n",
    "        expect_equal(count_vowels(\"Darth Vadar\"), 3)\n",
    "    })\n",
    "    }, error = function(e) {\n",
    "        FALSE\n",
    "})\n",
    "test_advanced_count_vowels <- tryCatch({\n",
    "    test_that(\"test_advanced_count_vowels\", {\n",
    "        expect_equal(advanced_count_vowels(\"Anakin Skywalker\")[['a']], 3)\n",
    "        expect_equal(advanced_count_vowels(\"Anakin Skywalker\")[['e']], 1)\n",
    "        expect_equal(advanced_count_vowels(\"Anakin Skywalker\")[['i']], 1)\n",
    "        expect_equal(advanced_count_vowels(\"Anakin Skywalker\")[['o']], 0)\n",
    "        expect_equal(advanced_count_vowels(\"Anakin Skywalker\")[['u']], 0)\n",
    "        expect_equal(advanced_count_vowels(\"Luke Skywalker\")[['a']], 1)\n",
    "        expect_equal(advanced_count_vowels(\"Luke Skywalker\")[['e']], 2)\n",
    "        expect_equal(advanced_count_vowels(\"Luke Skywalker\")[['i']], 0)\n",
    "        expect_equal(advanced_count_vowels(\"Luke Skywalker\")[['o']], 0)\n",
    "        expect_equal(advanced_count_vowels(\"Luke Skywalker\")[['u']], 1)\n",
    "        expect_equal(advanced_count_vowels(\"Darth Vadar\")[['a']], 3)\n",
    "        expect_equal(advanced_count_vowels(\"Darth Vadar\")[['e']], 0)\n",
    "        expect_equal(advanced_count_vowels(\"Darth Vadar\")[['i']], 0)\n",
    "        expect_equal(advanced_count_vowels(\"Darth Vadar\")[['o']], 0)\n",
    "        expect_equal(advanced_count_vowels(\"Darth Vadar\")[['u']], 0)\n",
    "    })\n",
    "    }, error = function(e) {\n",
    "        FALSE\n",
    "})"
   ]
  },
  {
   "cell_type": "code",
   "execution_count": 7,
   "metadata": {
    "deletable": false,
    "editable": false
   },
   "outputs": [
    {
     "data": {
      "text/html": [
       "'在 5 題中，您總共答對了 0 題。'"
      ],
      "text/latex": [
       "'在 5 題中，您總共答對了 0 題。'"
      ],
      "text/markdown": [
       "'在 5 題中，您總共答對了 0 題。'"
      ],
      "text/plain": [
       "[1] \"在 5 題中，您總共答對了 0 題。\""
      ]
     },
     "metadata": {},
     "output_type": "display_data"
    }
   ],
   "source": [
    "all_tests <- c(test_count_negative_integers, test_count_vowels, test_list_mean, test_advanced_count_vowels, test_find_smallest_int)\n",
    "passed_tests <- sum(all_tests)\n",
    "sprintf(\"在 %s 題中，您總共答對了 %s 題。\", length(all_tests), passed_tests)"
   ]
  }
 ],
 "metadata": {
  "kernelspec": {
   "display_name": "R",
   "language": "R",
   "name": "ir403"
  },
  "language_info": {
   "codemirror_mode": "r",
   "file_extension": ".r",
   "mimetype": "text/x-r-source",
   "name": "R",
   "pygments_lexer": "r",
   "version": "4.0.5"
  }
 },
 "nbformat": 4,
 "nbformat_minor": 4
}
