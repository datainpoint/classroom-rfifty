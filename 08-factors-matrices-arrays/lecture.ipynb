{
 "cells": [
  {
   "cell_type": "markdown",
   "metadata": {
    "slideshow": {
     "slide_type": "slide"
    }
   },
   "source": [
    "# R 語言的五十道練習\n",
    "\n",
    "> 資料結構：因素向量、矩陣與陣列\n",
    "\n",
    "[數據交點](https://www.datainpoint.com) | 郭耀仁 <yaojenkuo@datainpoint.com>"
   ]
  },
  {
   "cell_type": "markdown",
   "metadata": {
    "slideshow": {
     "slide_type": "subslide"
    }
   },
   "source": [
    "## R 語言中的資料結構\n",
    "\n",
    "- 向量（vector）\n",
    "- 清單（list）\n",
    "- 資料框（data.frame）\n",
    "- **因素向量（factor）**\n",
    "- **矩陣（matrix）**\n",
    "- **陣列（array）**"
   ]
  },
  {
   "cell_type": "markdown",
   "metadata": {
    "slideshow": {
     "slide_type": "slide"
    }
   },
   "source": [
    "## 什麼是因素向量"
   ]
  },
  {
   "cell_type": "markdown",
   "metadata": {
    "slideshow": {
     "slide_type": "subslide"
    }
   },
   "source": [
    "## 關於因素向量\n",
    "\n",
    "因素向量是 R 語言中的特殊文字向量，主要用來處理類別資料，因素向量除了記錄文字資料以外，還會以層級記錄獨一值，並給予每個獨一值整數編碼。"
   ]
  },
  {
   "cell_type": "markdown",
   "metadata": {
    "slideshow": {
     "slide_type": "subslide"
    }
   },
   "source": [
    "## 如何創造因素向量\n",
    "\n",
    "使用 `factor` 函數。\n",
    "\n",
    "```r\n",
    "factor(x, levels = ..., ordered = ...)\n",
    "```"
   ]
  },
  {
   "cell_type": "code",
   "execution_count": 1,
   "metadata": {
    "slideshow": {
     "slide_type": "subslide"
    }
   },
   "outputs": [
    {
     "name": "stdout",
     "output_type": "stream",
     "text": [
      "[1] \"character\"\n",
      "[1] \"factor\"\n"
     ]
    }
   ],
   "source": [
    "temperature_desc <- c(\"freezing\", \"cold\", \"cool\", \"warm\", \"hot\")\n",
    "temperature_desc_factor <- factor(temperature_desc)\n",
    "print(class(temperature_desc))\n",
    "print(class(temperature_desc_factor))"
   ]
  },
  {
   "cell_type": "code",
   "execution_count": 2,
   "metadata": {
    "slideshow": {
     "slide_type": "subslide"
    }
   },
   "outputs": [
    {
     "name": "stdout",
     "output_type": "stream",
     "text": [
      "[1] freezing cold     cool     warm     hot     \n",
      "Levels: cold cool freezing hot warm\n"
     ]
    }
   ],
   "source": [
    "print(temperature_desc_factor)"
   ]
  },
  {
   "cell_type": "markdown",
   "metadata": {
    "slideshow": {
     "slide_type": "subslide"
    }
   },
   "source": [
    "## 如何讀取因素向量\n",
    "\n",
    "與讀取向量的方式沒有差異，可以使用 `[index]` 或者邏輯。"
   ]
  },
  {
   "cell_type": "code",
   "execution_count": 3,
   "metadata": {
    "slideshow": {
     "slide_type": "subslide"
    }
   },
   "outputs": [
    {
     "name": "stdout",
     "output_type": "stream",
     "text": [
      "[1] freezing cold     cool    \n",
      "Levels: cold cool freezing hot warm\n",
      "[1] warm hot \n",
      "Levels: cold cool freezing hot warm\n"
     ]
    }
   ],
   "source": [
    "summer_feels <- temperature_desc_factor %in% c(\"warm\", \"hot\")\n",
    "print(temperature_desc_factor[1:3])\n",
    "print(temperature_desc_factor[summer_feels])"
   ]
  },
  {
   "cell_type": "markdown",
   "metadata": {
    "slideshow": {
     "slide_type": "subslide"
    }
   },
   "source": [
    "## 讀取因素向量的層級與整數編碼\n",
    "\n",
    "- 使用 `levels` 函數。\n",
    "- 使用 `as.numeric` 函數。"
   ]
  },
  {
   "cell_type": "code",
   "execution_count": 4,
   "metadata": {
    "slideshow": {
     "slide_type": "subslide"
    }
   },
   "outputs": [
    {
     "name": "stdout",
     "output_type": "stream",
     "text": [
      "[1] \"cold\"     \"cool\"     \"freezing\" \"hot\"      \"warm\"    \n",
      "[1] 3 1 2 5 4\n"
     ]
    }
   ],
   "source": [
    "print(levels(temperature_desc_factor))\n",
    "print(as.numeric(temperature_desc_factor))"
   ]
  },
  {
   "cell_type": "markdown",
   "metadata": {
    "slideshow": {
     "slide_type": "subslide"
    }
   },
   "source": [
    "## 如何更新因素向量\n",
    "\n",
    "因素向量除了文字資料值，還具有層級與整數編碼資訊，若有更新需求建議重新宣告，調整 `levels` 與 `ordered` 參數。"
   ]
  },
  {
   "cell_type": "code",
   "execution_count": 5,
   "metadata": {
    "slideshow": {
     "slide_type": "subslide"
    }
   },
   "outputs": [
    {
     "name": "stdout",
     "output_type": "stream",
     "text": [
      "[1] freezing cold     cool     warm     hot     \n",
      "Levels: freezing cold cool warm hot\n"
     ]
    }
   ],
   "source": [
    "# levels = temperature_desc\n",
    "temperature_desc <- c(\"freezing\", \"cold\", \"cool\", \"warm\", \"hot\")\n",
    "temperature_desc_factor <- factor(temperature_desc, levels = temperature_desc)\n",
    "print(temperature_desc_factor)"
   ]
  },
  {
   "cell_type": "code",
   "execution_count": 6,
   "metadata": {
    "slideshow": {
     "slide_type": "subslide"
    }
   },
   "outputs": [
    {
     "name": "stdout",
     "output_type": "stream",
     "text": [
      "[1] freezing cold     cool     warm     hot     \n",
      "Levels: freezing < cold < cool < warm < hot\n"
     ]
    }
   ],
   "source": [
    "# levels = temperature_desc, ordered = TRUE\n",
    "temperature_desc <- c(\"freezing\", \"cold\", \"cool\", \"warm\", \"hot\")\n",
    "temperature_desc_factor <- factor(temperature_desc, levels = temperature_desc, ordered = TRUE)\n",
    "print(temperature_desc_factor)"
   ]
  },
  {
   "cell_type": "markdown",
   "metadata": {
    "slideshow": {
     "slide_type": "subslide"
    }
   },
   "source": [
    "## 如何刪除因素向量\n",
    "\n",
    "使用 `rm` 函數刪除因素向量命名"
   ]
  },
  {
   "cell_type": "code",
   "execution_count": 7,
   "metadata": {},
   "outputs": [
    {
     "name": "stdout",
     "output_type": "stream",
     "text": [
      "[1] TRUE\n",
      "[1] FALSE\n"
     ]
    }
   ],
   "source": [
    "temperature_desc_factor <- factor(temperature_desc)\n",
    "environment_objects <- ls()\n",
    "print(\"temperature_desc_factor\" %in% environment_objects)\n",
    "rm(temperature_desc_factor)\n",
    "environment_objects <- ls()\n",
    "print(\"temperature_desc_factor\" %in% environment_objects)"
   ]
  },
  {
   "cell_type": "markdown",
   "metadata": {
    "slideshow": {
     "slide_type": "subslide"
    }
   },
   "source": [
    "## R 為何設計因素向量？\n",
    "\n",
    "- 因素向量具有整數的編碼。\n",
    "- 不需要做額外的資料預處理，例如虛擬變數（Dummy variables）、獨熱編碼（One-hot encoding）。\n",
    "- 讓資料處於 modeling-ready 的狀態。"
   ]
  },
  {
   "cell_type": "markdown",
   "metadata": {
    "slideshow": {
     "slide_type": "slide"
    }
   },
   "source": [
    "## 什麼是矩陣"
   ]
  },
  {
   "cell_type": "markdown",
   "metadata": {
    "slideshow": {
     "slide_type": "subslide"
    }
   },
   "source": [
    "## 關於矩陣\n",
    "\n",
    "矩陣是 R 語言中用來處理二維數值向量的資料結構，具有列（Rows）與欄（Columns）兩個維度儲存資料，一個 `m` 列 `n` 欄的矩陣外型可以被描述為 `m x n` 或者 `(m, n)`。"
   ]
  },
  {
   "cell_type": "markdown",
   "metadata": {
    "slideshow": {
     "slide_type": "subslide"
    }
   },
   "source": [
    "## 如何創造矩陣\n",
    "\n",
    "使用 `matrix` 函數。\n",
    "\n",
    "```r\n",
    "matrix(data, nrow = ..., ncol = ...)\n",
    "```"
   ]
  },
  {
   "cell_type": "code",
   "execution_count": 8,
   "metadata": {
    "slideshow": {
     "slide_type": "subslide"
    }
   },
   "outputs": [
    {
     "name": "stdout",
     "output_type": "stream",
     "text": [
      "[1] \"matrix\" \"array\" \n",
      "     [,1] [,2] [,3]\n",
      "[1,]    1    3    5\n",
      "[2,]    2    4    6\n"
     ]
    }
   ],
   "source": [
    "my_matrix <- matrix(1:6, nrow = 2)\n",
    "print(class(my_matrix))\n",
    "print(my_matrix)"
   ]
  },
  {
   "cell_type": "markdown",
   "metadata": {
    "slideshow": {
     "slide_type": "subslide"
    }
   },
   "source": [
    "## 如何讀取矩陣\n",
    "\n",
    "使用 `[m, n]` 兩個索引值來搭配選擇出位於 `m` 列 `n` 欄的資料。"
   ]
  },
  {
   "cell_type": "code",
   "execution_count": 9,
   "metadata": {},
   "outputs": [
    {
     "name": "stdout",
     "output_type": "stream",
     "text": [
      "[1] 5\n"
     ]
    }
   ],
   "source": [
    "print(my_matrix[1, 3])"
   ]
  },
  {
   "cell_type": "markdown",
   "metadata": {
    "slideshow": {
     "slide_type": "subslide"
    }
   },
   "source": [
    "## 使用 `[m, ]` 選擇 `m` 列、`[, n]` 選擇 `n` 欄的資料"
   ]
  },
  {
   "cell_type": "code",
   "execution_count": 10,
   "metadata": {},
   "outputs": [
    {
     "name": "stdout",
     "output_type": "stream",
     "text": [
      "[1] 1 3 5\n",
      "[1] 5 6\n"
     ]
    }
   ],
   "source": [
    "print(my_matrix[1, ])\n",
    "print(my_matrix[, 3])"
   ]
  },
  {
   "cell_type": "markdown",
   "metadata": {
    "slideshow": {
     "slide_type": "subslide"
    }
   },
   "source": [
    "## 以邏輯篩選符合條件的資料"
   ]
  },
  {
   "cell_type": "code",
   "execution_count": 11,
   "metadata": {},
   "outputs": [
    {
     "name": "stdout",
     "output_type": "stream",
     "text": [
      "      [,1] [,2] [,3]\n",
      "[1,] FALSE TRUE TRUE\n",
      "[2,] FALSE TRUE TRUE\n",
      "[1] 3 4 5 6\n"
     ]
    }
   ],
   "source": [
    "condition <- my_matrix > 2\n",
    "print(condition)\n",
    "print(my_matrix[condition])"
   ]
  },
  {
   "cell_type": "markdown",
   "metadata": {
    "slideshow": {
     "slide_type": "subslide"
    }
   },
   "source": [
    "## 如何更新矩陣\n",
    "\n",
    "使用 `[m, n]` 更新矩陣中的資料值。"
   ]
  },
  {
   "cell_type": "code",
   "execution_count": 12,
   "metadata": {},
   "outputs": [
    {
     "name": "stdout",
     "output_type": "stream",
     "text": [
      "     [,1] [,2] [,3]\n",
      "[1,]    1    3    5\n",
      "[2,]    2    4    6\n",
      "     [,1] [,2] [,3]\n",
      "[1,]    1    3 5566\n",
      "[2,]    2    4    6\n"
     ]
    }
   ],
   "source": [
    "print(my_matrix)\n",
    "my_matrix[1, 3] <- 5566\n",
    "print(my_matrix)"
   ]
  },
  {
   "cell_type": "markdown",
   "metadata": {
    "slideshow": {
     "slide_type": "subslide"
    }
   },
   "source": [
    "## 如何刪除矩陣\n",
    "\n",
    "使用 `rm` 函數刪除矩陣命名。"
   ]
  },
  {
   "cell_type": "code",
   "execution_count": 13,
   "metadata": {},
   "outputs": [
    {
     "name": "stdout",
     "output_type": "stream",
     "text": [
      "[1] TRUE\n",
      "[1] FALSE\n"
     ]
    }
   ],
   "source": [
    "environment_objects <- ls()\n",
    "print(\"my_matrix\" %in% environment_objects)\n",
    "rm(my_matrix)\n",
    "environment_objects <- ls()\n",
    "print(\"my_matrix\" %in% environment_objects)"
   ]
  },
  {
   "cell_type": "markdown",
   "metadata": {
    "slideshow": {
     "slide_type": "slide"
    }
   },
   "source": [
    "## 什麼是陣列"
   ]
  },
  {
   "cell_type": "markdown",
   "metadata": {
    "slideshow": {
     "slide_type": "subslide"
    }
   },
   "source": [
    "## 關於陣列\n",
    "\n",
    "陣列是 R 語言中用來處理 n 維數值向量的資料結構，具有 n 個維度儲存數值資料。"
   ]
  },
  {
   "cell_type": "markdown",
   "metadata": {
    "slideshow": {
     "slide_type": "subslide"
    }
   },
   "source": [
    "## 如何創造陣列\n",
    "\n",
    "使用 `array` 函數。\n",
    "\n",
    "```r\n",
    "array(data, dim = ...)\n",
    "```"
   ]
  },
  {
   "cell_type": "code",
   "execution_count": 14,
   "metadata": {
    "slideshow": {
     "slide_type": "subslide"
    }
   },
   "outputs": [
    {
     "name": "stdout",
     "output_type": "stream",
     "text": [
      "[1] \"array\"\n",
      ", , 1\n",
      "\n",
      "     [,1] [,2] [,3]\n",
      "[1,]    1    5    9\n",
      "[2,]    2    6   10\n",
      "[3,]    3    7   11\n",
      "[4,]    4    8   12\n",
      "\n",
      ", , 2\n",
      "\n",
      "     [,1] [,2] [,3]\n",
      "[1,]   13   17   21\n",
      "[2,]   14   18   22\n",
      "[3,]   15   19   23\n",
      "[4,]   16   20   24\n",
      "\n"
     ]
    }
   ],
   "source": [
    "my_array <- array(1:24, dim = c(4, 3, 2))\n",
    "print(class(my_array))\n",
    "print(my_array)"
   ]
  },
  {
   "cell_type": "markdown",
   "metadata": {
    "slideshow": {
     "slide_type": "subslide"
    }
   },
   "source": [
    "## 如何讀取陣列\n",
    "\n",
    "使用 n 個索引值來搭配選擇資料。"
   ]
  },
  {
   "cell_type": "code",
   "execution_count": 15,
   "metadata": {},
   "outputs": [
    {
     "name": "stdout",
     "output_type": "stream",
     "text": [
      "[1] 9\n",
      "[1] 21\n"
     ]
    }
   ],
   "source": [
    "print(my_array[1, 3, 1])\n",
    "print(my_array[1, 3, 2])"
   ]
  },
  {
   "cell_type": "markdown",
   "metadata": {
    "slideshow": {
     "slide_type": "subslide"
    }
   },
   "source": [
    "## 以邏輯篩選符合條件的資料"
   ]
  },
  {
   "cell_type": "code",
   "execution_count": 16,
   "metadata": {
    "slideshow": {
     "slide_type": "subslide"
    }
   },
   "outputs": [
    {
     "name": "stdout",
     "output_type": "stream",
     "text": [
      ", , 1\n",
      "\n",
      "      [,1]  [,2]  [,3]\n",
      "[1,] FALSE FALSE FALSE\n",
      "[2,]  TRUE  TRUE  TRUE\n",
      "[3,] FALSE FALSE FALSE\n",
      "[4,]  TRUE  TRUE  TRUE\n",
      "\n",
      ", , 2\n",
      "\n",
      "      [,1]  [,2]  [,3]\n",
      "[1,] FALSE FALSE FALSE\n",
      "[2,]  TRUE  TRUE  TRUE\n",
      "[3,] FALSE FALSE FALSE\n",
      "[4,]  TRUE  TRUE  TRUE\n",
      "\n",
      " [1]  2  4  6  8 10 12 14 16 18 20 22 24\n"
     ]
    }
   ],
   "source": [
    "condition <- my_array %% 2 == 0\n",
    "print(condition)\n",
    "print(my_array[condition])"
   ]
  },
  {
   "cell_type": "markdown",
   "metadata": {
    "slideshow": {
     "slide_type": "subslide"
    }
   },
   "source": [
    "## 如何更新陣列\n",
    "\n",
    "使用 n 個索引值更新陣列中的資料值。"
   ]
  },
  {
   "cell_type": "code",
   "execution_count": 17,
   "metadata": {},
   "outputs": [
    {
     "name": "stdout",
     "output_type": "stream",
     "text": [
      ", , 1\n",
      "\n",
      "     [,1] [,2] [,3]\n",
      "[1,]    1 5566    9\n",
      "[2,]    2    6   10\n",
      "[3,]    3    7   11\n",
      "[4,]    4    8   12\n",
      "\n",
      ", , 2\n",
      "\n",
      "     [,1] [,2] [,3]\n",
      "[1,]   13   17   21\n",
      "[2,]   14   18   22\n",
      "[3,]   15   19   23\n",
      "[4,]   16   20   24\n",
      "\n"
     ]
    }
   ],
   "source": [
    "my_array[1, 2, 1] <- 5566\n",
    "print(my_array)"
   ]
  },
  {
   "cell_type": "markdown",
   "metadata": {
    "slideshow": {
     "slide_type": "subslide"
    }
   },
   "source": [
    "## 如何刪除陣列\n",
    "\n",
    "使用 `rm()` 函數刪除陣列命名。"
   ]
  },
  {
   "cell_type": "code",
   "execution_count": 18,
   "metadata": {},
   "outputs": [
    {
     "name": "stdout",
     "output_type": "stream",
     "text": [
      "[1] TRUE\n",
      "[1] FALSE\n"
     ]
    }
   ],
   "source": [
    "environment_objects <- ls()\n",
    "print(\"my_array\" %in% environment_objects)\n",
    "rm(my_array)\n",
    "environment_objects <- ls()\n",
    "print(\"my_array\" %in% environment_objects)"
   ]
  },
  {
   "cell_type": "markdown",
   "metadata": {
    "slideshow": {
     "slide_type": "slide"
    }
   },
   "source": [
    "## 重點統整\n",
    "\n",
    "- 因素向量是 R 語言中的特殊文字向量，主要用來處理類別資料。\n",
    "- 矩陣是 R 語言中用來處理二維數值向量的資料結構。\n",
    "- 陣列是 R 語言中用來處理 n 維數值向量的資料結構。"
   ]
  },
  {
   "cell_type": "markdown",
   "metadata": {
    "slideshow": {
     "slide_type": "subslide"
    }
   },
   "source": [
    "## 重點統整（續）\n",
    "\n",
    "- 以 `factor()` 函數創造因素向量。\n",
    "- 以 `matrix()` 函數創造矩陣。\n",
    "- 以 `array()` 函數創造陣列。"
   ]
  }
 ],
 "metadata": {
  "celltoolbar": "Slideshow",
  "kernelspec": {
   "display_name": "R",
   "language": "R",
   "name": "ir"
  },
  "language_info": {
   "codemirror_mode": "r",
   "file_extension": ".r",
   "mimetype": "text/x-r-source",
   "name": "R",
   "pygments_lexer": "r",
   "version": "4.0.5"
  }
 },
 "nbformat": 4,
 "nbformat_minor": 2
}
