{
 "cells": [
  {
   "cell_type": "markdown",
   "metadata": {
    "slideshow": {
     "slide_type": "slide"
    }
   },
   "source": [
    "# R 語言的五十道練習\n",
    "\n",
    "> 起步走\n",
    "\n",
    "[數據交點](https://www.datainpoint.com) | 郭耀仁 <yaojenkuo@datainpoint.com>"
   ]
  },
  {
   "cell_type": "markdown",
   "metadata": {
    "slideshow": {
     "slide_type": "slide"
    }
   },
   "source": [
    "## 建立學習環境"
   ]
  },
  {
   "cell_type": "markdown",
   "metadata": {
    "slideshow": {
     "slide_type": "subslide"
    }
   },
   "source": [
    "## 如何建立 R 語言的學習環境\n",
    "\n",
    "- 下載與安裝 R 語言（直譯器）。\n",
    "- 下載與安裝 RStudio（整合開發環境 Integrated Development Environment, IDE）。"
   ]
  },
  {
   "cell_type": "markdown",
   "metadata": {
    "slideshow": {
     "slide_type": "subslide"
    }
   },
   "source": [
    "## 下載與安裝 R 語言（直譯器）\n",
    "\n",
    "直譯器（Interpreter）是能夠將程式語言翻譯為電腦語言的程式，運作的原理是逐句翻譯，同時讓電腦逐句執行。依賴於直譯器的程式執行速度比較慢，佔用的空間比較小。\n",
    "\n",
    "來源：<https://en.wikipedia.org/wiki/Interpreter_(computing)>"
   ]
  },
  {
   "cell_type": "markdown",
   "metadata": {
    "slideshow": {
     "slide_type": "subslide"
    }
   },
   "source": [
    "## 在 [CRAN(Comprehensive R Archive Network)](https://cran.r-project.org/)下載最新版本的 R 語言\n",
    "\n",
    "- [Windows 使用者的下載連結](https://cran.r-project.org/bin/windows/base/)\n",
    "- [macOS 使用者的下載連結](https://cran.r-project.org/bin/macosx/)"
   ]
  },
  {
   "cell_type": "markdown",
   "metadata": {
    "slideshow": {
     "slide_type": "subslide"
    }
   },
   "source": [
    "## 也可以選擇下載與課程相同版本的 R-4.1.0\n",
    "\n",
    "- [R-4.1.0-win.exe](https://cran.r-project.org/bin/windows/base/R-4.1.0-win.exe)\n",
    "- [R-4.1.0.pkg](https://cran.r-project.org/bin/macosx/base/R-4.1.0.pkg)"
   ]
  },
  {
   "cell_type": "markdown",
   "metadata": {
    "slideshow": {
     "slide_type": "subslide"
    }
   },
   "source": [
    "## 在 Windows 安裝 R 語言\n",
    "\n",
    "過程中可以選擇不要安裝 32 位元檔案。\n",
    "\n",
    "![](install-r-win.png)"
   ]
  },
  {
   "cell_type": "markdown",
   "metadata": {
    "slideshow": {
     "slide_type": "subslide"
    }
   },
   "source": [
    "## 在 macOS 安裝 R 語言"
   ]
  },
  {
   "cell_type": "markdown",
   "metadata": {
    "slideshow": {
     "slide_type": "subslide"
    }
   },
   "source": [
    "## 下載與安裝 RStudio（整合開發環境 Integrated Development Environment, IDE）\n",
    "\n",
    "- 整合開發環境（Integrated Development Environment, IDE）是一種讓「撰寫程式」與「執行程式」更加方便的軟體。\n",
    "- RStudio 就是設計給 R 語言使用者的整合開發環境，也是 R 語言使用者最喜愛的整合開發環境。"
   ]
  },
  {
   "cell_type": "markdown",
   "metadata": {
    "slideshow": {
     "slide_type": "subslide"
    }
   },
   "source": [
    "## （沒什麼用的）冷知識\n",
    "\n",
    "開發設計 RStudio 的公司就叫 [RStudio, Inc.](https://www.rstudio.com/)。"
   ]
  },
  {
   "cell_type": "markdown",
   "metadata": {
    "slideshow": {
     "slide_type": "subslide"
    }
   },
   "source": [
    "## 在 RStudio 網站下載最新版本的 RStudio\n",
    "\n",
    "[RStudio 的下載連結](https://www.rstudio.com/products/rstudio/download)"
   ]
  },
  {
   "cell_type": "markdown",
   "metadata": {
    "slideshow": {
     "slide_type": "subslide"
    }
   },
   "source": [
    "## 也可以選擇下載與課程相同版本的 RStudio-1.4.1717\n",
    "\n",
    "- [RStudio-1.4.1717.exe](https://download1.rstudio.org/desktop/windows/RStudio-1.4.1717.exe)\n",
    "- [RStudio-1.4.1717.dmg](https://download1.rstudio.org/desktop/macos/RStudio-1.4.1717.dmg)"
   ]
  },
  {
   "cell_type": "markdown",
   "metadata": {
    "slideshow": {
     "slide_type": "subslide"
    }
   },
   "source": [
    "## 在 Windows 安裝 RStudio"
   ]
  },
  {
   "cell_type": "markdown",
   "metadata": {
    "slideshow": {
     "slide_type": "subslide"
    }
   },
   "source": [
    "## 在 macOS 安裝 RStudio"
   ]
  },
  {
   "cell_type": "markdown",
   "metadata": {
    "slideshow": {
     "slide_type": "slide"
    }
   },
   "source": [
    "## 確認學習環境能妥善運行"
   ]
  },
  {
   "cell_type": "markdown",
   "metadata": {
    "slideshow": {
     "slide_type": "subslide"
    }
   },
   "source": [
    "## 哈囉世界！Hello, World!\n",
    "\n",
    "> 哈囉世界是指在電腦螢幕顯示 `\"Hello, World!\"` 的電腦程式，用來確認一個程式語言的編譯器、程式開發環境及運行環境是否已經安裝妥當。\n",
    "\n",
    "來源：<https://en.wikipedia.org/wiki/%22Hello,_World!%22_program>"
   ]
  },
  {
   "cell_type": "markdown",
   "metadata": {
    "slideshow": {
     "slide_type": "subslide"
    }
   },
   "source": [
    "## RStudio 的四個主要功能面板\n",
    "\n",
    "1. 來源\n",
    "2. 命令列\n",
    "3. 環境與歷史\n",
    "4. 檔案、圖形、套件、查詢與預覽器"
   ]
  },
  {
   "cell_type": "code",
   "execution_count": 1,
   "metadata": {
    "slideshow": {
     "slide_type": "subslide"
    }
   },
   "outputs": [
    {
     "name": "stdout",
     "output_type": "stream",
     "text": [
      "[1] \"Hello, World!\"\n"
     ]
    }
   ],
   "source": [
    "print(\"Hello, World!\")"
   ]
  },
  {
   "cell_type": "markdown",
   "metadata": {
    "slideshow": {
     "slide_type": "subslide"
    }
   },
   "source": [
    "## 好用的命令列操作技巧\n",
    "\n",
    "- 使用 `Ctrl - L` 清空命令列。\n",
    "- 使用方向鍵「上」與「下」顯示執行過的程式。"
   ]
  },
  {
   "cell_type": "markdown",
   "metadata": {
    "slideshow": {
     "slide_type": "subslide"
    }
   },
   "source": [
    "## 當命令列卡住，一直出現 `+` 該如何排除故障\n",
    "\n",
    "- 因為 R 語言還在期待未完成的輸入，像是成雙出現的符號（例如小括號或引號等）並沒有如預期地被執行。\n",
    "- 按 `esc` 排除故障，再重新執行一次程式碼。"
   ]
  },
  {
   "cell_type": "markdown",
   "metadata": {
    "slideshow": {
     "slide_type": "subslide"
    }
   },
   "source": [
    "## 挑選 RStudio 佈景主題\n",
    "\n",
    "- 點選工具列 > Tools > Global Options > Apperance 選擇一個偏愛的佈景主題。\n",
    "- 長時間盯著電腦螢幕的使用者通常偏好使用深色的佈景主題減少刺眼的感覺。"
   ]
  },
  {
   "cell_type": "markdown",
   "metadata": {
    "slideshow": {
     "slide_type": "slide"
    }
   },
   "source": [
    "## 解析「哈囉世界！Hello, World!」"
   ]
  },
  {
   "cell_type": "markdown",
   "metadata": {
    "slideshow": {
     "slide_type": "subslide"
    }
   },
   "source": [
    "## 在「哈囉世界！Hello, World!」的例子中\n",
    "\n",
    "- `print` 是一個內建函數。\n",
    "- `\"Hello, World!\"` 是一個長度 1 的文字向量。"
   ]
  },
  {
   "cell_type": "markdown",
   "metadata": {
    "slideshow": {
     "slide_type": "subslide"
    }
   },
   "source": [
    "## `print` 是一個內建函數\n",
    "\n",
    "「內建」函數所指的意思是不需要先行「定義」就可以使用的函數。"
   ]
  },
  {
   "cell_type": "markdown",
   "metadata": {
    "slideshow": {
     "slide_type": "subslide"
    }
   },
   "source": [
    "## `\"Hello, World!\"` 是一個長度為 1 的文字向量\n",
    "\n",
    "- 長度為 1 的「向量」是 R 語言最基本的資料結構。\n",
    "- `print` 輸出時候前面的 `[1]` 就是在標註向量的第一個元素。\n",
    "- 使用內建函數 `length` 來觀察向量的長度。"
   ]
  },
  {
   "cell_type": "code",
   "execution_count": 2,
   "metadata": {
    "slideshow": {
     "slide_type": "subslide"
    }
   },
   "outputs": [
    {
     "name": "stdout",
     "output_type": "stream",
     "text": [
      "[1] \"Hello, World!\"\n",
      "[1] 1\n"
     ]
    }
   ],
   "source": [
    "print(\"Hello, World!\")\n",
    "print(length(\"Hello, World!\"))"
   ]
  },
  {
   "cell_type": "markdown",
   "metadata": {
    "slideshow": {
     "slide_type": "slide"
    }
   },
   "source": [
    "## 什麼是註解"
   ]
  },
  {
   "cell_type": "markdown",
   "metadata": {
    "slideshow": {
     "slide_type": "subslide"
    }
   },
   "source": [
    "## 什麼是註解\n",
    "\n",
    "註解是撰寫在程式碼中的文字，在 R 語言解讀及執行程式碼的時候，註解不會被納入解讀與執行，我們可以將註解理解成為關於程式碼內容的說明文字。"
   ]
  },
  {
   "cell_type": "markdown",
   "metadata": {
    "slideshow": {
     "slide_type": "subslide"
    }
   },
   "source": [
    "## 用 `#` 來撰寫 R 語言註解\n",
    "\n",
    "- 單行註解\n",
    "- 行末註解"
   ]
  },
  {
   "cell_type": "code",
   "execution_count": 3,
   "metadata": {},
   "outputs": [
    {
     "name": "stdout",
     "output_type": "stream",
     "text": [
      "[1] \"Hello, World!\"\n"
     ]
    }
   ],
   "source": [
    "# 確認學習環境能妥善運行（單行註解）\n",
    "print(\"Hello, World!\") # 確認學習環境能妥善運行（行末註解）"
   ]
  },
  {
   "cell_type": "markdown",
   "metadata": {
    "slideshow": {
     "slide_type": "slide"
    }
   },
   "source": [
    "## 什麼是物件"
   ]
  },
  {
   "cell_type": "markdown",
   "metadata": {
    "slideshow": {
     "slide_type": "subslide"
    }
   },
   "source": [
    "## 什麼是物件\n",
    "\n",
    "物件指的是一種將「資料」儲存在「結構」、將「運算邏輯」儲存在「函數」的機制，這個過程有時也稱為「宣告」、「賦值」或者「定義」，一但完成物件的宣告，使用者就能夠在後續程式碼中以物件名稱來取得已經定義妥當的「資料結構」或者「函數」來運用。"
   ]
  },
  {
   "cell_type": "markdown",
   "metadata": {
    "slideshow": {
     "slide_type": "subslide"
    }
   },
   "source": [
    "## R 語言中的兩大類物件\n",
    "\n",
    "1. 資料結構。\n",
    "2. 函數。"
   ]
  },
  {
   "cell_type": "markdown",
   "metadata": {
    "slideshow": {
     "slide_type": "subslide"
    }
   },
   "source": [
    "## R 語言的核心觀念\n",
    "\n",
    "> 對資料結構應用函數來獲得理想的結果。"
   ]
  },
  {
   "cell_type": "markdown",
   "metadata": {
    "slideshow": {
     "slide_type": "subslide"
    }
   },
   "source": [
    "## R 語言中的資料結構\n",
    "\n",
    "- 向量（vector）\n",
    "- 清單（list）\n",
    "- 資料框（data.frame）\n",
    "- 因素向量（factor）\n",
    "- 矩陣（matrix）\n",
    "- 陣列（array）"
   ]
  },
  {
   "cell_type": "markdown",
   "metadata": {
    "slideshow": {
     "slide_type": "subslide"
    }
   },
   "source": [
    "## R 語言中的函數\n",
    "\n",
    "- 內建函數\n",
    "- 自訂函數\n",
    "- 套件函數"
   ]
  },
  {
   "cell_type": "markdown",
   "metadata": {
    "slideshow": {
     "slide_type": "subslide"
    }
   },
   "source": [
    "## 用 `<-` 建立 R 語言的物件\n",
    "\n",
    "在 RStudio 中可以用 `Alt -` 生成 ` <- `。"
   ]
  },
  {
   "cell_type": "code",
   "execution_count": 4,
   "metadata": {
    "slideshow": {
     "slide_type": "subslide"
    }
   },
   "outputs": [
    {
     "name": "stdout",
     "output_type": "stream",
     "text": [
      "[1] \"Hello, World!\"\n"
     ]
    }
   ],
   "source": [
    "# Create a character vector\n",
    "hello_world <- \"Hello, World!\"\n",
    "print(hello_world)"
   ]
  },
  {
   "cell_type": "code",
   "execution_count": 5,
   "metadata": {
    "slideshow": {
     "slide_type": "subslide"
    }
   },
   "outputs": [
    {
     "name": "stdout",
     "output_type": "stream",
     "text": [
      "[1] -5566\n"
     ]
    }
   ],
   "source": [
    "# Create a numeric vector\n",
    "negative_number <- -5566\n",
    "print(negative_number)"
   ]
  },
  {
   "cell_type": "markdown",
   "metadata": {
    "slideshow": {
     "slide_type": "subslide"
    }
   },
   "source": [
    "## R 語言物件的命名風格 \n",
    "\n",
    "- 小寫英文。\n",
    "- 以 `_` 分隔不同單字。\n",
    "- 不使用保留字與內建函數做物件命名。\n",
    "\n",
    "來源：<https://style.tidyverse.org/>"
   ]
  },
  {
   "cell_type": "markdown",
   "metadata": {
    "slideshow": {
     "slide_type": "subslide"
    }
   },
   "source": [
    "## R 語言的保留字\n",
    "\n",
    "`if` `else` `repeat` `while` `function` `for` `in` `next` `break`\n",
    "\n",
    "`TRUE` `FALSE` `NULL` `Inf` `NaN`\n",
    "\n",
    "來源：`help(reserved)`"
   ]
  },
  {
   "cell_type": "markdown",
   "metadata": {
    "slideshow": {
     "slide_type": "subslide"
    }
   },
   "source": [
    "## 簡單的範例：何謂對資料結構應用函數"
   ]
  },
  {
   "cell_type": "code",
   "execution_count": 6,
   "metadata": {},
   "outputs": [
    {
     "name": "stdout",
     "output_type": "stream",
     "text": [
      "[1] \"HELLO, WORLD!\"\n"
     ]
    }
   ],
   "source": [
    "hello_world <- \"Hello, World!\" # 資料結構 hello_world\n",
    "result <- toupper(hello_world) # 對資料結構 hello_world 應用 toupper 函數\n",
    "print(result)"
   ]
  },
  {
   "cell_type": "markdown",
   "metadata": {
    "slideshow": {
     "slide_type": "subslide"
    }
   },
   "source": [
    "## 簡單的範例：何謂對資料結構應用函數（Cont'd）"
   ]
  },
  {
   "cell_type": "code",
   "execution_count": 7,
   "metadata": {},
   "outputs": [
    {
     "name": "stdout",
     "output_type": "stream",
     "text": [
      "[1] 5566\n"
     ]
    }
   ],
   "source": [
    "negative_number <- -5566       # 資料結構 negative_number\n",
    "result <- abs(negative_number) # 對資料結構 negative_number 應用 abs 函數\n",
    "print(result)"
   ]
  },
  {
   "cell_type": "markdown",
   "metadata": {
    "slideshow": {
     "slide_type": "slide"
    }
   },
   "source": [
    "## 認識基礎向量類型"
   ]
  },
  {
   "cell_type": "markdown",
   "metadata": {
    "slideshow": {
     "slide_type": "subslide"
    }
   },
   "source": [
    "## 基礎向量類型\n",
    "\n",
    "- 數值 `numeric`。\n",
    "- 整數 `integer`。\n",
    "- 文字 `character`。\n",
    "- 邏輯 `logical`。"
   ]
  },
  {
   "cell_type": "markdown",
   "metadata": {
    "slideshow": {
     "slide_type": "subslide"
    }
   },
   "source": [
    "## 使用內建函數 `class` 辨識物件對應儲存的向量類型"
   ]
  },
  {
   "cell_type": "code",
   "execution_count": 8,
   "metadata": {},
   "outputs": [
    {
     "name": "stdout",
     "output_type": "stream",
     "text": [
      "[1] \"character\"\n"
     ]
    }
   ],
   "source": [
    "hello_world <- \"Hello, World!\"\n",
    "print(class(hello_world))"
   ]
  },
  {
   "cell_type": "markdown",
   "metadata": {
    "slideshow": {
     "slide_type": "subslide"
    }
   },
   "source": [
    "## 認識基礎向量類型：數值與整數\n",
    "\n",
    "- R 語言中用於計算的向量類型是數值 `numeric` 與整數 `integer`。\n",
    "- 我們可以對這類向量使用數值運算符號進行運算（例如加減乘除），也能夠對它應用統計函數（例如總和或平均）。"
   ]
  },
  {
   "cell_type": "markdown",
   "metadata": {
    "slideshow": {
     "slide_type": "subslide"
    }
   },
   "source": [
    "## 數值 `numeric` 與整數 `integer`\n",
    "\n",
    "- 數值不需要特別標註。\n",
    "- 用 `L` 來標註整數。"
   ]
  },
  {
   "cell_type": "code",
   "execution_count": 9,
   "metadata": {
    "slideshow": {
     "slide_type": "subslide"
    }
   },
   "outputs": [
    {
     "name": "stdout",
     "output_type": "stream",
     "text": [
      "[1] \"numeric\"\n",
      "[1] \"integer\"\n"
     ]
    }
   ],
   "source": [
    "num <- 5566\n",
    "int <- 5566L\n",
    "print(class(num))\n",
    "print(class(int))"
   ]
  },
  {
   "cell_type": "markdown",
   "metadata": {
    "slideshow": {
     "slide_type": "subslide"
    }
   },
   "source": [
    "## 數值運算符號\n",
    "\n",
    "- 加減乘除 `+` `-` `*` `/`。\n",
    "- 次方 `^` 或 `**`。\n",
    "- 計算餘數 `%%`。\n",
    "- 計算商數 `%/%`。\n",
    "- 優先計算 `()`。"
   ]
  },
  {
   "cell_type": "code",
   "execution_count": 10,
   "metadata": {
    "slideshow": {
     "slide_type": "subslide"
    }
   },
   "outputs": [
    {
     "name": "stdout",
     "output_type": "stream",
     "text": [
      "[1] 9\n",
      "[1] 1\n",
      "[1] 20\n",
      "[1] 1.25\n"
     ]
    }
   ],
   "source": [
    "add_numbers <- 5 + 4\n",
    "subtract_numbers <- 5 - 4\n",
    "multiply_numbers <- 5 * 4\n",
    "divide_numbers <- 5 / 4\n",
    "print(add_numbers)\n",
    "print(subtract_numbers)\n",
    "print(multiply_numbers)\n",
    "print(divide_numbers)"
   ]
  },
  {
   "cell_type": "code",
   "execution_count": 11,
   "metadata": {
    "slideshow": {
     "slide_type": "subslide"
    }
   },
   "outputs": [
    {
     "name": "stdout",
     "output_type": "stream",
     "text": [
      "[1] 125\n",
      "[1] 2\n",
      "[1] 1\n",
      "[1] 64\n"
     ]
    }
   ],
   "source": [
    "power_numbers <- 5**3\n",
    "mod_numbers <- 5 %% 3\n",
    "quotient_numbers <- 5 %/% 3\n",
    "add_then_power_numbers <- (5 + 3)**2 # different to 5 + 3**2\n",
    "print(power_numbers)\n",
    "print(mod_numbers)\n",
    "print(quotient_numbers)\n",
    "print(add_then_power_numbers)"
   ]
  },
  {
   "cell_type": "markdown",
   "metadata": {
    "slideshow": {
     "slide_type": "subslide"
    }
   },
   "source": [
    "## 認識基礎向量類型：文字\n",
    "\n",
    "- R 語言中用於表達的向量類型是文字 `character`。\n",
    "- 使用單引號（`''`）或雙引號（`\"\"`）括起來建立文字向量。\n",
    "- 依據[風格指南](https://style.tidyverse.org/)多數時候我們使用雙引號建立文字向量。\n",
    "- 我們對文字向量應用文字處理函數（例如調整大小寫、搜尋取代或者擷取文字段落）。"
   ]
  },
  {
   "cell_type": "code",
   "execution_count": 12,
   "metadata": {
    "slideshow": {
     "slide_type": "subslide"
    }
   },
   "outputs": [
    {
     "name": "stdout",
     "output_type": "stream",
     "text": [
      "[1] \"Luke Skywalker\"\n",
      "[1] \"character\"\n"
     ]
    }
   ],
   "source": [
    "luke_skywalker <- \"Luke Skywalker\"\n",
    "print(luke_skywalker)\n",
    "print(class(luke_skywalker))"
   ]
  },
  {
   "cell_type": "code",
   "execution_count": 13,
   "metadata": {
    "slideshow": {
     "slide_type": "subslide"
    }
   },
   "outputs": [
    {
     "name": "stdout",
     "output_type": "stream",
     "text": [
      "[1] \"LUKE SKYWALKER\"\n",
      "[1] \"Anakin Skywalker\"\n",
      "[1] \"Luke\"\n"
     ]
    }
   ],
   "source": [
    "print(toupper(luke_skywalker))                                       # upper-cased\n",
    "print(sub(pattern = \"Luke\", replacement = \"Anakin\", luke_skywalker)) # search pattern and replace\n",
    "print(substr(luke_skywalker, start = 1, stop = 4))                   # slice the first 4 strings"
   ]
  },
  {
   "cell_type": "markdown",
   "metadata": {
    "slideshow": {
     "slide_type": "subslide"
    }
   },
   "source": [
    "## 認識基礎向量類型：邏輯\n",
    "\n",
    "- R 語言中用於「真偽」的向量類型是邏輯 `logical`。\n",
    "- 使用 `TRUE` 或 `FALSE` 建立邏輯向量，亦可以使用縮寫 `T` 或 `F`。\n",
    "- 也可以使用**關係運算符**或**邏輯運算符**建立邏輯向量。"
   ]
  },
  {
   "cell_type": "code",
   "execution_count": 14,
   "metadata": {
    "slideshow": {
     "slide_type": "subslide"
    }
   },
   "outputs": [
    {
     "name": "stdout",
     "output_type": "stream",
     "text": [
      "[1] \"logical\"\n",
      "[1] \"logical\"\n"
     ]
    }
   ],
   "source": [
    "logical_true <- TRUE   # logical_true <- T\n",
    "logical_false <- FALSE # logical_false <- F\n",
    "print(class(logical_true))\n",
    "print(class(logical_false))"
   ]
  },
  {
   "cell_type": "markdown",
   "metadata": {
    "slideshow": {
     "slide_type": "subslide"
    }
   },
   "source": [
    "## 使用關係運算符建立邏輯向量\n",
    "\n",
    "- `<` 小於。\n",
    "- `>` 大於。\n",
    "- `<=` 小於等於。\n",
    "- `>=` 大於等於。\n",
    "- `==` 等於。\n",
    "- `!=` 不等於。"
   ]
  },
  {
   "cell_type": "code",
   "execution_count": 15,
   "metadata": {
    "slideshow": {
     "slide_type": "subslide"
    }
   },
   "outputs": [
    {
     "name": "stdout",
     "output_type": "stream",
     "text": [
      "[1] TRUE\n",
      "[1] FALSE\n"
     ]
    }
   ],
   "source": [
    "x <- 55\n",
    "y <- 66\n",
    "logical_true <- x < y\n",
    "logical_false <- x > y\n",
    "print(logical_true)\n",
    "print(logical_false)"
   ]
  },
  {
   "cell_type": "markdown",
   "metadata": {
    "slideshow": {
     "slide_type": "subslide"
    }
   },
   "source": [
    "## 使用邏輯運算符建立邏輯向量\n",
    "\n",
    "- `&` 交集（and/intersection）。\n",
    "- `|` 聯集（or/union）。\n",
    "- `!` 非（not）。"
   ]
  },
  {
   "cell_type": "code",
   "execution_count": 16,
   "metadata": {
    "slideshow": {
     "slide_type": "subslide"
    }
   },
   "outputs": [
    {
     "name": "stdout",
     "output_type": "stream",
     "text": [
      "[1] FALSE\n",
      "[1] TRUE\n",
      "[1] FALSE\n",
      "[1] TRUE\n"
     ]
    }
   ],
   "source": [
    "logical_true <- TRUE\n",
    "logical_false <- FALSE\n",
    "print(logical_true & logical_false)\n",
    "print(logical_true | logical_false)\n",
    "print(!logical_true)\n",
    "print(!logical_false)"
   ]
  },
  {
   "cell_type": "markdown",
   "metadata": {
    "slideshow": {
     "slide_type": "subslide"
    }
   },
   "source": [
    "## 使用 `is.向量類型`系列函數判斷\n",
    "\n",
    "- `is.numeric`：判斷物件是否為數值向量類型。\n",
    "- `is.integer`：判斷物件是否為整數向量類型。\n",
    "- `is.character`：判斷物件是否為文字向量類型。\n",
    "- `is.logical`：判斷物件是否為邏輯向量類型。"
   ]
  },
  {
   "cell_type": "code",
   "execution_count": 17,
   "metadata": {
    "slideshow": {
     "slide_type": "subslide"
    }
   },
   "outputs": [],
   "source": [
    "x <- 5566\n",
    "y <- \"5566\"\n",
    "z <- x != y"
   ]
  },
  {
   "cell_type": "code",
   "execution_count": 18,
   "metadata": {
    "slideshow": {
     "slide_type": "-"
    }
   },
   "outputs": [
    {
     "name": "stdout",
     "output_type": "stream",
     "text": [
      "[1] TRUE\n",
      "[1] FALSE\n",
      "[1] FALSE\n",
      "[1] FALSE\n"
     ]
    }
   ],
   "source": [
    "# replace x, y, z, respectively\n",
    "print(is.numeric(x))\n",
    "print(is.integer(x))\n",
    "print(is.character(x))\n",
    "print(is.logical(x))"
   ]
  },
  {
   "cell_type": "markdown",
   "metadata": {
    "slideshow": {
     "slide_type": "subslide"
    }
   },
   "source": [
    "## 使用 `as.向量類型`系列函數轉換\n",
    "\n",
    "- `as.numeric`：轉換物件為數值向量類型。\n",
    "- `as.integer`：轉換物件為整數向量類型。\n",
    "- `as.character`：轉換物件為文字向量類型。\n",
    "- `as.logical`：轉換物件為邏輯向量類型。"
   ]
  },
  {
   "cell_type": "code",
   "execution_count": 19,
   "metadata": {
    "slideshow": {
     "slide_type": "subslide"
    }
   },
   "outputs": [],
   "source": [
    "x <- 5566\n",
    "y <- \"5566\"\n",
    "z <- x != y"
   ]
  },
  {
   "cell_type": "code",
   "execution_count": 20,
   "metadata": {},
   "outputs": [
    {
     "name": "stdout",
     "output_type": "stream",
     "text": [
      "[1] 5566\n",
      "[1] 5566\n",
      "[1] \"5566\"\n",
      "[1] TRUE\n"
     ]
    }
   ],
   "source": [
    "# replace x, y, z, respectively\n",
    "print(as.numeric(x))\n",
    "print(as.integer(x))\n",
    "print(as.character(x))\n",
    "print(as.logical(x))"
   ]
  },
  {
   "cell_type": "markdown",
   "metadata": {
    "slideshow": {
     "slide_type": "slide"
    }
   },
   "source": [
    "## 如何尋求協助"
   ]
  },
  {
   "cell_type": "markdown",
   "metadata": {
    "slideshow": {
     "slide_type": "subslide"
    }
   },
   "source": [
    "## 學習 R 語言過程中卡住了該怎麼辦\n",
    "\n",
    "1. 仔細閱讀命令列的訊息。\n",
    "2. 善用 Google 與 StackOverflow。\n",
    "3. 善用 `help` 函數查詢函數的說明。\n",
    "4. 善用課程平台的問題討論。"
   ]
  },
  {
   "cell_type": "code",
   "execution_count": 21,
   "metadata": {
    "slideshow": {
     "slide_type": "subslide"
    }
   },
   "outputs": [],
   "source": [
    "help(reserved) # lookup what are the reserved words in R"
   ]
  },
  {
   "cell_type": "markdown",
   "metadata": {
    "slideshow": {
     "slide_type": "slide"
    }
   },
   "source": [
    "## 重點統整\n",
    "\n",
    "- 在 CRAN(Comprehensive R Archive Network) 下載 R 語言：<https://cran.r-project.org>。\n",
    "- RStudio 是 R 語言使用者最喜愛的整合開發環境。\n",
    "- 在 RStudio 網站下載 RStudio：<https://www.rstudio.com/products/rstudio/download>。"
   ]
  },
  {
   "cell_type": "markdown",
   "metadata": {
    "slideshow": {
     "slide_type": "subslide"
    }
   },
   "source": [
    "## 重點統整（續）\n",
    "\n",
    "- RStudio 使用介面有四個主要功能面板，哈囉世界使用到了來源與命令列。\n",
    "- 使用 `Ctrl - L` 可以清空命令列。\n",
    "- 當命令列卡住，一直出現 `+` 時可以按 `esc` 間排除故障。"
   ]
  },
  {
   "cell_type": "markdown",
   "metadata": {
    "slideshow": {
     "slide_type": "subslide"
    }
   },
   "source": [
    "## 重點統整（續）\n",
    "\n",
    "- 在「哈囉世界！Hello, World!」的例子中\n",
    "    - `print` 是一個內建函數\n",
    "    - `\"Hello, World!\"` 是一個長度 1 的文字向量。\n",
    "- 用 `#` 來撰寫 R 語言註解。\n",
    "- 用 ` <- ` 來建立 R 語言的物件。"
   ]
  },
  {
   "cell_type": "markdown",
   "metadata": {
    "slideshow": {
     "slide_type": "subslide"
    }
   },
   "source": [
    "## 重點統整（續）\n",
    "\n",
    "- 使用內建函數 `class` 辨識向量類型。\n",
    "- 可以對數值向量使用數值運算符號進行運算，也能夠對它應用統計函數。\n",
    "- 使用雙引號建立文字向量。"
   ]
  },
  {
   "cell_type": "markdown",
   "metadata": {
    "slideshow": {
     "slide_type": "subslide"
    }
   },
   "source": [
    "## 重點統整（續）\n",
    "\n",
    "- 使用關係運算符或邏輯運算符建立邏輯向量。\n",
    "- 使用 `is.向量類型`系列函數判斷。\n",
    "- 使用 `as.向量類型`系列函數轉換。"
   ]
  }
 ],
 "metadata": {
  "celltoolbar": "Slideshow",
  "kernelspec": {
   "display_name": "R",
   "language": "R",
   "name": "ir"
  },
  "language_info": {
   "codemirror_mode": "r",
   "file_extension": ".r",
   "mimetype": "text/x-r-source",
   "name": "R",
   "pygments_lexer": "r",
   "version": "4.0.5"
  }
 },
 "nbformat": 4,
 "nbformat_minor": 2
}
