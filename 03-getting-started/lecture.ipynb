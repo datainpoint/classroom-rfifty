{
 "cells": [
  {
   "cell_type": "markdown",
   "metadata": {
    "slideshow": {
     "slide_type": "slide"
    }
   },
   "source": [
    "# R 語言的五十道練習\n",
    "\n",
    "> 起步走\n",
    "\n",
    "[數據交點](https://www.datainpoint.com) | 郭耀仁 <yaojenkuo@datainpoint.com>"
   ]
  },
  {
   "cell_type": "markdown",
   "metadata": {
    "slideshow": {
     "slide_type": "slide"
    }
   },
   "source": [
    "## 解析「哈囉世界！Hello, World!」"
   ]
  },
  {
   "cell_type": "markdown",
   "metadata": {
    "slideshow": {
     "slide_type": "subslide"
    }
   },
   "source": [
    "## 在「哈囉世界！Hello, World!」的例子中\n",
    "\n",
    "- `print` 是一個內建函數。\n",
    "- `\"Hello, World!\"` 是一個長度 1 的文字向量。"
   ]
  },
  {
   "cell_type": "markdown",
   "metadata": {
    "slideshow": {
     "slide_type": "subslide"
    }
   },
   "source": [
    "## `print` 是一個內建函數\n",
    "\n",
    "「內建」函數所指的意思是不需要先行「定義」就可以使用的函數。"
   ]
  },
  {
   "cell_type": "markdown",
   "metadata": {
    "slideshow": {
     "slide_type": "subslide"
    }
   },
   "source": [
    "## `\"Hello, World!\"` 是一個長度為 1 的文字向量\n",
    "\n",
    "- 長度為 1 的「向量」是 R 語言最基本的資料結構。\n",
    "- `print` 輸出時候前面的 `[1]` 就是在標註向量的第一個元素。\n",
    "- 使用內建函數 `length` 來觀察向量的長度。"
   ]
  },
  {
   "cell_type": "code",
   "execution_count": 1,
   "metadata": {
    "slideshow": {
     "slide_type": "subslide"
    }
   },
   "outputs": [
    {
     "name": "stdout",
     "output_type": "stream",
     "text": [
      "[1] \"Hello, World!\"\n",
      "[1] 1\n"
     ]
    }
   ],
   "source": [
    "print(\"Hello, World!\")\n",
    "print(length(\"Hello, World!\"))"
   ]
  },
  {
   "cell_type": "markdown",
   "metadata": {
    "slideshow": {
     "slide_type": "slide"
    }
   },
   "source": [
    "## 什麼是註解"
   ]
  },
  {
   "cell_type": "markdown",
   "metadata": {
    "slideshow": {
     "slide_type": "subslide"
    }
   },
   "source": [
    "## 什麼是註解\n",
    "\n",
    "註解是撰寫在程式碼中的文字，在 R 語言解讀及執行程式碼的時候，註解不會被納入解讀與執行，我們可以將註解理解成為關於程式碼內容的說明文字。"
   ]
  },
  {
   "cell_type": "markdown",
   "metadata": {
    "slideshow": {
     "slide_type": "subslide"
    }
   },
   "source": [
    "## 用 `#` 來撰寫 R 語言註解\n",
    "\n",
    "- 單行註解\n",
    "- 行末註解"
   ]
  },
  {
   "cell_type": "code",
   "execution_count": 2,
   "metadata": {},
   "outputs": [
    {
     "name": "stdout",
     "output_type": "stream",
     "text": [
      "[1] \"Hello, World!\"\n"
     ]
    }
   ],
   "source": [
    "# 確認學習環境能妥善運行（單行註解）\n",
    "print(\"Hello, World!\") # 確認學習環境能妥善運行（行末註解）"
   ]
  },
  {
   "cell_type": "markdown",
   "metadata": {
    "slideshow": {
     "slide_type": "slide"
    }
   },
   "source": [
    "## 什麼是物件"
   ]
  },
  {
   "cell_type": "markdown",
   "metadata": {
    "slideshow": {
     "slide_type": "subslide"
    }
   },
   "source": [
    "## 什麼是物件\n",
    "\n",
    "物件指的是一種將「資料」儲存在「結構」、將「運算邏輯」儲存在「函數」的機制，這個過程有時也稱為「宣告」、「賦值」或者「定義」，一但完成物件的宣告，使用者就能夠在後續程式碼中以物件名稱來取得已經定義妥當的「資料結構」或者「函數」來運用。"
   ]
  },
  {
   "cell_type": "markdown",
   "metadata": {
    "slideshow": {
     "slide_type": "subslide"
    }
   },
   "source": [
    "## R 語言中的兩大類物件\n",
    "\n",
    "1. 資料結構。\n",
    "2. 函數。"
   ]
  },
  {
   "cell_type": "markdown",
   "metadata": {
    "slideshow": {
     "slide_type": "subslide"
    }
   },
   "source": [
    "## R 語言的核心觀念\n",
    "\n",
    "> 對資料結構應用函數來獲得理想的結果。"
   ]
  },
  {
   "cell_type": "markdown",
   "metadata": {
    "slideshow": {
     "slide_type": "subslide"
    }
   },
   "source": [
    "## R 語言中的資料結構\n",
    "\n",
    "- 向量（vector）\n",
    "- 清單（list）\n",
    "- 資料框（data.frame）\n",
    "- 因素向量（factor）\n",
    "- 矩陣（matrix）\n",
    "- 陣列（array）"
   ]
  },
  {
   "cell_type": "markdown",
   "metadata": {
    "slideshow": {
     "slide_type": "subslide"
    }
   },
   "source": [
    "## R 語言中的函數\n",
    "\n",
    "- 內建函數\n",
    "- 自訂函數\n",
    "- 套件函數"
   ]
  },
  {
   "cell_type": "markdown",
   "metadata": {
    "slideshow": {
     "slide_type": "subslide"
    }
   },
   "source": [
    "## 用 `<-` 建立 R 語言的物件\n",
    "\n",
    "在 RStudio 中可以用 `Alt -` 生成 ` <- `。"
   ]
  },
  {
   "cell_type": "code",
   "execution_count": 3,
   "metadata": {
    "slideshow": {
     "slide_type": "subslide"
    }
   },
   "outputs": [
    {
     "name": "stdout",
     "output_type": "stream",
     "text": [
      "[1] \"Hello, World!\"\n"
     ]
    }
   ],
   "source": [
    "# 建立一個文字向量\n",
    "hello_world <- \"Hello, World!\"\n",
    "print(hello_world)"
   ]
  },
  {
   "cell_type": "code",
   "execution_count": 4,
   "metadata": {
    "slideshow": {
     "slide_type": "subslide"
    }
   },
   "outputs": [
    {
     "name": "stdout",
     "output_type": "stream",
     "text": [
      "[1] -5566\n"
     ]
    }
   ],
   "source": [
    "# 建立一個數值向量\n",
    "negative_number <- -5566\n",
    "print(negative_number)"
   ]
  },
  {
   "cell_type": "markdown",
   "metadata": {
    "slideshow": {
     "slide_type": "subslide"
    }
   },
   "source": [
    "## R 語言物件的命名風格 \n",
    "\n",
    "- 小寫英文。\n",
    "- 以 `_` 分隔不同單字。\n",
    "- 不使用保留字與內建函數做物件命名。\n",
    "\n",
    "資料來源：<https://style.tidyverse.org/>"
   ]
  },
  {
   "cell_type": "markdown",
   "metadata": {
    "slideshow": {
     "slide_type": "subslide"
    }
   },
   "source": [
    "## R 語言的保留字\n",
    "\n",
    "`if` `else` `repeat` `while` `function` `for` `in` `next` `break`\n",
    "\n",
    "`TRUE` `FALSE` `NULL` `Inf` `NaN`\n",
    "\n",
    "資料來源：`help(reserved)`"
   ]
  },
  {
   "cell_type": "markdown",
   "metadata": {
    "slideshow": {
     "slide_type": "subslide"
    }
   },
   "source": [
    "## 簡單的範例：何謂對資料結構應用函數"
   ]
  },
  {
   "cell_type": "code",
   "execution_count": 5,
   "metadata": {},
   "outputs": [
    {
     "name": "stdout",
     "output_type": "stream",
     "text": [
      "[1] \"HELLO, WORLD!\"\n"
     ]
    }
   ],
   "source": [
    "hello_world <- \"Hello, World!\" # 資料結構 hello_world\n",
    "result <- toupper(hello_world) # 對資料結構 hello_world 應用 toupper 函數\n",
    "print(result)"
   ]
  },
  {
   "cell_type": "markdown",
   "metadata": {
    "slideshow": {
     "slide_type": "subslide"
    }
   },
   "source": [
    "## 簡單的範例：何謂對資料結構應用函數（Cont'd）"
   ]
  },
  {
   "cell_type": "code",
   "execution_count": 6,
   "metadata": {},
   "outputs": [
    {
     "name": "stdout",
     "output_type": "stream",
     "text": [
      "[1] 5566\n"
     ]
    }
   ],
   "source": [
    "negative_number <- -5566       # 資料結構 negative_number\n",
    "result <- abs(negative_number) # 對資料結構 negative_number 應用 abs 函數\n",
    "print(result)"
   ]
  },
  {
   "cell_type": "markdown",
   "metadata": {
    "slideshow": {
     "slide_type": "slide"
    }
   },
   "source": [
    "## 認識基礎向量類型"
   ]
  },
  {
   "cell_type": "markdown",
   "metadata": {
    "slideshow": {
     "slide_type": "subslide"
    }
   },
   "source": [
    "## 基礎向量類型\n",
    "\n",
    "- 數值 `numeric`。\n",
    "- 整數 `integer`。\n",
    "- 文字 `character`。\n",
    "- 邏輯 `logical`。"
   ]
  },
  {
   "cell_type": "markdown",
   "metadata": {
    "slideshow": {
     "slide_type": "subslide"
    }
   },
   "source": [
    "## 使用內建函數 `class` 辨識物件對應儲存的向量類型"
   ]
  },
  {
   "cell_type": "code",
   "execution_count": 7,
   "metadata": {},
   "outputs": [
    {
     "name": "stdout",
     "output_type": "stream",
     "text": [
      "[1] \"character\"\n"
     ]
    }
   ],
   "source": [
    "hello_world <- \"Hello, World!\"\n",
    "print(class(hello_world))"
   ]
  },
  {
   "cell_type": "markdown",
   "metadata": {
    "slideshow": {
     "slide_type": "subslide"
    }
   },
   "source": [
    "## 認識基礎向量類型：數值與整數\n",
    "\n",
    "- R 語言中用於計算的向量類型是數值 `numeric` 與整數 `integer`。\n",
    "- 我們可以對這類向量使用數值運算符號進行運算（例如加減乘除），也能夠對它應用統計函數（例如總和或平均）。"
   ]
  },
  {
   "cell_type": "markdown",
   "metadata": {
    "slideshow": {
     "slide_type": "subslide"
    }
   },
   "source": [
    "## 數值 `numeric` 與整數 `integer`\n",
    "\n",
    "- 數值不需要特別標註。\n",
    "- 用 `L` 來標註整數。"
   ]
  },
  {
   "cell_type": "code",
   "execution_count": 8,
   "metadata": {
    "slideshow": {
     "slide_type": "subslide"
    }
   },
   "outputs": [
    {
     "name": "stdout",
     "output_type": "stream",
     "text": [
      "[1] \"numeric\"\n",
      "[1] \"integer\"\n"
     ]
    }
   ],
   "source": [
    "num <- 5566\n",
    "int <- 5566L\n",
    "print(class(num))\n",
    "print(class(int))"
   ]
  },
  {
   "cell_type": "markdown",
   "metadata": {
    "slideshow": {
     "slide_type": "subslide"
    }
   },
   "source": [
    "## 數值運算符號\n",
    "\n",
    "- 加減乘除 `+` `-` `*` `/`。\n",
    "- 次方 `^` 或 `**`。\n",
    "- 計算餘數 `%%`。\n",
    "- 計算商數 `%/%`。\n",
    "- 優先計算 `()`。"
   ]
  },
  {
   "cell_type": "code",
   "execution_count": 9,
   "metadata": {
    "slideshow": {
     "slide_type": "subslide"
    }
   },
   "outputs": [
    {
     "name": "stdout",
     "output_type": "stream",
     "text": [
      "[1] 9\n",
      "[1] 1\n",
      "[1] 20\n",
      "[1] 1.25\n"
     ]
    }
   ],
   "source": [
    "add_numbers <- 5 + 4\n",
    "subtract_numbers <- 5 - 4\n",
    "multiply_numbers <- 5 * 4\n",
    "divide_numbers <- 5 / 4\n",
    "print(add_numbers)\n",
    "print(subtract_numbers)\n",
    "print(multiply_numbers)\n",
    "print(divide_numbers)"
   ]
  },
  {
   "cell_type": "code",
   "execution_count": 10,
   "metadata": {
    "slideshow": {
     "slide_type": "subslide"
    }
   },
   "outputs": [
    {
     "name": "stdout",
     "output_type": "stream",
     "text": [
      "[1] 125\n",
      "[1] 2\n",
      "[1] 1\n",
      "[1] 64\n"
     ]
    }
   ],
   "source": [
    "power_numbers <- 5**3\n",
    "mod_numbers <- 5 %% 3\n",
    "quotient_numbers <- 5 %/% 3\n",
    "add_then_power_numbers <- (5 + 3)**2 # different to 5 + 3**2\n",
    "print(power_numbers)\n",
    "print(mod_numbers)\n",
    "print(quotient_numbers)\n",
    "print(add_then_power_numbers)"
   ]
  },
  {
   "cell_type": "markdown",
   "metadata": {
    "slideshow": {
     "slide_type": "subslide"
    }
   },
   "source": [
    "## 認識基礎向量類型：文字\n",
    "\n",
    "- R 語言中用於表達的向量類型是文字 `character`。\n",
    "- 使用單引號（`''`）或雙引號（`\"\"`）括起來建立文字向量。\n",
    "- 依據[風格指南](https://style.tidyverse.org/)多數時候我們使用雙引號建立文字向量。\n",
    "- 我們對文字向量應用文字處理函數（例如調整大小寫、搜尋取代或者擷取文字段落）。"
   ]
  },
  {
   "cell_type": "code",
   "execution_count": 11,
   "metadata": {
    "slideshow": {
     "slide_type": "subslide"
    }
   },
   "outputs": [
    {
     "name": "stdout",
     "output_type": "stream",
     "text": [
      "[1] \"Luke Skywalker\"\n",
      "[1] \"character\"\n"
     ]
    }
   ],
   "source": [
    "luke_skywalker <- \"Luke Skywalker\"\n",
    "print(luke_skywalker)\n",
    "print(class(luke_skywalker))"
   ]
  },
  {
   "cell_type": "code",
   "execution_count": 12,
   "metadata": {
    "slideshow": {
     "slide_type": "subslide"
    }
   },
   "outputs": [
    {
     "name": "stdout",
     "output_type": "stream",
     "text": [
      "[1] \"LUKE SKYWALKER\"\n",
      "[1] \"Anakin Skywalker\"\n",
      "[1] \"Luke\"\n"
     ]
    }
   ],
   "source": [
    "print(toupper(luke_skywalker))                                       # upper-cased\n",
    "print(sub(pattern = \"Luke\", replacement = \"Anakin\", luke_skywalker)) # search pattern and replace\n",
    "print(substr(luke_skywalker, start = 1, stop = 4))                   # slice the first 4 strings"
   ]
  },
  {
   "cell_type": "markdown",
   "metadata": {
    "slideshow": {
     "slide_type": "subslide"
    }
   },
   "source": [
    "## 認識基礎向量類型：邏輯\n",
    "\n",
    "- R 語言中用於「真偽」的向量類型是邏輯 `logical`。\n",
    "- 使用 `TRUE` 或 `FALSE` 建立邏輯向量，亦可以使用縮寫 `T` 或 `F`。\n",
    "- 也可以使用**關係運算符**或**邏輯運算符**建立邏輯向量。"
   ]
  },
  {
   "cell_type": "code",
   "execution_count": 13,
   "metadata": {
    "slideshow": {
     "slide_type": "subslide"
    }
   },
   "outputs": [
    {
     "name": "stdout",
     "output_type": "stream",
     "text": [
      "[1] \"logical\"\n",
      "[1] \"logical\"\n"
     ]
    }
   ],
   "source": [
    "logical_true <- TRUE   # logical_true <- T\n",
    "logical_false <- FALSE # logical_false <- F\n",
    "print(class(logical_true))\n",
    "print(class(logical_false))"
   ]
  },
  {
   "cell_type": "markdown",
   "metadata": {
    "slideshow": {
     "slide_type": "subslide"
    }
   },
   "source": [
    "## 使用關係運算符建立邏輯向量\n",
    "\n",
    "- `<` 小於。\n",
    "- `>` 大於。\n",
    "- `<=` 小於等於。\n",
    "- `>=` 大於等於。\n",
    "- `==` 等於。\n",
    "- `!=` 不等於。"
   ]
  },
  {
   "cell_type": "code",
   "execution_count": 14,
   "metadata": {
    "slideshow": {
     "slide_type": "subslide"
    }
   },
   "outputs": [
    {
     "name": "stdout",
     "output_type": "stream",
     "text": [
      "[1] TRUE\n",
      "[1] FALSE\n"
     ]
    }
   ],
   "source": [
    "x <- 55\n",
    "y <- 66\n",
    "logical_true <- x < y\n",
    "logical_false <- x > y\n",
    "print(logical_true)\n",
    "print(logical_false)"
   ]
  },
  {
   "cell_type": "markdown",
   "metadata": {
    "slideshow": {
     "slide_type": "subslide"
    }
   },
   "source": [
    "## 使用邏輯運算符建立邏輯向量\n",
    "\n",
    "- `&` 交集（and/intersection）。\n",
    "- `|` 聯集（or/union）。\n",
    "- `!` 非（not）。"
   ]
  },
  {
   "cell_type": "code",
   "execution_count": 15,
   "metadata": {
    "slideshow": {
     "slide_type": "subslide"
    }
   },
   "outputs": [
    {
     "name": "stdout",
     "output_type": "stream",
     "text": [
      "[1] FALSE\n",
      "[1] TRUE\n",
      "[1] FALSE\n",
      "[1] TRUE\n"
     ]
    }
   ],
   "source": [
    "logical_true <- TRUE\n",
    "logical_false <- FALSE\n",
    "print(logical_true & logical_false)\n",
    "print(logical_true | logical_false)\n",
    "print(!logical_true)\n",
    "print(!logical_false)"
   ]
  },
  {
   "cell_type": "markdown",
   "metadata": {
    "slideshow": {
     "slide_type": "subslide"
    }
   },
   "source": [
    "## 使用 `is.向量類型`系列函數判斷\n",
    "\n",
    "- `is.numeric`：判斷物件是否為數值向量類型。\n",
    "- `is.integer`：判斷物件是否為整數向量類型。\n",
    "- `is.character`：判斷物件是否為文字向量類型。\n",
    "- `is.logical`：判斷物件是否為邏輯向量類型。"
   ]
  },
  {
   "cell_type": "code",
   "execution_count": 16,
   "metadata": {
    "slideshow": {
     "slide_type": "subslide"
    }
   },
   "outputs": [],
   "source": [
    "x <- 5566\n",
    "y <- \"5566\"\n",
    "z <- x != y"
   ]
  },
  {
   "cell_type": "code",
   "execution_count": 17,
   "metadata": {
    "slideshow": {
     "slide_type": "-"
    }
   },
   "outputs": [
    {
     "name": "stdout",
     "output_type": "stream",
     "text": [
      "[1] TRUE\n",
      "[1] FALSE\n",
      "[1] FALSE\n",
      "[1] FALSE\n"
     ]
    }
   ],
   "source": [
    "# replace x, y, z, respectively\n",
    "print(is.numeric(x))\n",
    "print(is.integer(x))\n",
    "print(is.character(x))\n",
    "print(is.logical(x))"
   ]
  },
  {
   "cell_type": "markdown",
   "metadata": {
    "slideshow": {
     "slide_type": "subslide"
    }
   },
   "source": [
    "## 使用 `as.向量類型`系列函數轉換\n",
    "\n",
    "- `as.numeric`：轉換物件為數值向量類型。\n",
    "- `as.integer`：轉換物件為整數向量類型。\n",
    "- `as.character`：轉換物件為文字向量類型。\n",
    "- `as.logical`：轉換物件為邏輯向量類型。"
   ]
  },
  {
   "cell_type": "code",
   "execution_count": 18,
   "metadata": {
    "slideshow": {
     "slide_type": "subslide"
    }
   },
   "outputs": [],
   "source": [
    "x <- 5566\n",
    "y <- \"5566\"\n",
    "z <- x != y"
   ]
  },
  {
   "cell_type": "code",
   "execution_count": 19,
   "metadata": {},
   "outputs": [
    {
     "name": "stdout",
     "output_type": "stream",
     "text": [
      "[1] 5566\n",
      "[1] 5566\n",
      "[1] \"5566\"\n",
      "[1] TRUE\n"
     ]
    }
   ],
   "source": [
    "# replace x, y, z, respectively\n",
    "print(as.numeric(x))\n",
    "print(as.integer(x))\n",
    "print(as.character(x))\n",
    "print(as.logical(x))"
   ]
  },
  {
   "cell_type": "markdown",
   "metadata": {
    "slideshow": {
     "slide_type": "slide"
    }
   },
   "source": [
    "## 如何尋求協助"
   ]
  },
  {
   "cell_type": "markdown",
   "metadata": {
    "slideshow": {
     "slide_type": "subslide"
    }
   },
   "source": [
    "## 學習 R 語言過程中卡住了該怎麼辦\n",
    "\n",
    "1. 仔細閱讀命令列的訊息。\n",
    "2. 善用 Google 與 StackOverflow。\n",
    "3. 善用 `help` 函數查詢函數的說明。\n",
    "4. 善用課程平台的問與答。"
   ]
  },
  {
   "cell_type": "code",
   "execution_count": 20,
   "metadata": {
    "slideshow": {
     "slide_type": "subslide"
    }
   },
   "outputs": [],
   "source": [
    "help(reserved) # lookup what are the reserved words in R"
   ]
  },
  {
   "cell_type": "markdown",
   "metadata": {
    "slideshow": {
     "slide_type": "slide"
    }
   },
   "source": [
    "## 重點統整\n",
    "\n",
    "- 在「哈囉世界！Hello, World!」的例子中\n",
    "    - `print` 是一個內建函數\n",
    "    - `\"Hello, World!\"` 是一個長度 1 的文字向量。\n",
    "- 用 `#` 來撰寫 R 語言註解。\n",
    "- 用 ` <- ` 來建立 R 語言的物件。"
   ]
  },
  {
   "cell_type": "markdown",
   "metadata": {
    "slideshow": {
     "slide_type": "subslide"
    }
   },
   "source": [
    "## 重點統整（續）\n",
    "\n",
    "- 使用內建函數 `class` 辨識向量類型。\n",
    "- 可以對數值向量使用數值運算符號進行運算，也能夠對它應用統計函數。\n",
    "- 使用雙引號建立文字向量。"
   ]
  },
  {
   "cell_type": "markdown",
   "metadata": {
    "slideshow": {
     "slide_type": "subslide"
    }
   },
   "source": [
    "## 重點統整（續）\n",
    "\n",
    "- 使用關係運算符或邏輯運算符建立邏輯向量。\n",
    "- 使用 `is.向量類型`系列函數判斷。\n",
    "- 使用 `as.向量類型`系列函數轉換。"
   ]
  }
 ],
 "metadata": {
  "celltoolbar": "Slideshow",
  "kernelspec": {
   "display_name": "R",
   "language": "R",
   "name": "ir"
  },
  "language_info": {
   "codemirror_mode": "r",
   "file_extension": ".r",
   "mimetype": "text/x-r-source",
   "name": "R",
   "pygments_lexer": "r",
   "version": "4.0.5"
  }
 },
 "nbformat": 4,
 "nbformat_minor": 2
}
