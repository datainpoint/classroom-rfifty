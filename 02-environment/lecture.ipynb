{
 "cells": [
  {
   "cell_type": "markdown",
   "metadata": {
    "slideshow": {
     "slide_type": "slide"
    }
   },
   "source": [
    "# R 語言的五十道練習\n",
    "\n",
    "> 建立學習環境\n",
    "\n",
    "[數據交點](https://www.datainpoint.com) | 郭耀仁 <yaojenkuo@datainpoint.com>"
   ]
  },
  {
   "cell_type": "markdown",
   "metadata": {
    "slideshow": {
     "slide_type": "slide"
    }
   },
   "source": [
    "## 下載與安裝 R 語言"
   ]
  },
  {
   "cell_type": "markdown",
   "metadata": {
    "slideshow": {
     "slide_type": "subslide"
    }
   },
   "source": [
    "## 在 [CRAN(Comprehensive R Archive Network)](https://cran.r-project.org/)下載最新版本的 R 語言\n",
    "\n",
    "- [Windows 使用者的下載連結](https://cran.r-project.org/bin/windows/base/)\n",
    "- [macOS 使用者的下載連結](https://cran.r-project.org/bin/macosx/)"
   ]
  },
  {
   "cell_type": "markdown",
   "metadata": {
    "slideshow": {
     "slide_type": "subslide"
    }
   },
   "source": [
    "## 也可以選擇下載與課程相同版本的 R-4.0.5\n",
    "\n",
    "- [R-4.0.5-win.exe](https://cran.r-project.org/bin/windows/base/R-4.0.5-win.exe)\n",
    "- [R-4.0.5.pkg](https://cran.r-project.org/bin/macosx/R-4.0.5.pkg)"
   ]
  },
  {
   "cell_type": "markdown",
   "metadata": {
    "slideshow": {
     "slide_type": "subslide"
    }
   },
   "source": [
    "## 在 Windows 安裝 R 語言\n",
    "\n",
    "過程中可以選擇不要安裝 32 位元檔案。\n",
    "\n",
    "![](install-r-win.png)"
   ]
  },
  {
   "cell_type": "markdown",
   "metadata": {
    "slideshow": {
     "slide_type": "subslide"
    }
   },
   "source": [
    "## 在 macOS 安裝 R 語言"
   ]
  },
  {
   "cell_type": "markdown",
   "metadata": {
    "slideshow": {
     "slide_type": "slide"
    }
   },
   "source": [
    "## 下載與安裝 RStudio"
   ]
  },
  {
   "cell_type": "markdown",
   "metadata": {
    "slideshow": {
     "slide_type": "subslide"
    }
   },
   "source": [
    "## RStudio 是 R 語言使用者最喜愛的整合開發環境\n",
    "\n",
    "- 整合開發環境（Integrated Development Environment, IDE）是一種讓「撰寫程式」與「執行程式」更加方便的軟體。\n",
    "- RStudio 就是設計給 R 語言使用者的整合開發環境。"
   ]
  },
  {
   "cell_type": "markdown",
   "metadata": {
    "slideshow": {
     "slide_type": "subslide"
    }
   },
   "source": [
    "## RStudio 冷知識\n",
    "\n",
    "開發設計 RStudio 的公司就叫 [RStudio, Inc.](https://www.rstudio.com/)。"
   ]
  },
  {
   "cell_type": "markdown",
   "metadata": {
    "slideshow": {
     "slide_type": "subslide"
    }
   },
   "source": [
    "## 在 RStudio 網站下載最新版本的 RStudio\n",
    "\n",
    "[RStudio 的下載連結](https://www.rstudio.com/products/rstudio/download)"
   ]
  },
  {
   "cell_type": "markdown",
   "metadata": {
    "slideshow": {
     "slide_type": "subslide"
    }
   },
   "source": [
    "## 也可以選擇下載與課程相同版本的 RStudio-1.4.1106\n",
    "\n",
    "- [RStudio-1.4.1106.exe](https://download1.rstudio.org/desktop/windows/RStudio-1.4.1106.exe)\n",
    "- [RStudio-1.4.1106.dmg](https://download1.rstudio.org/desktop/macos/RStudio-1.4.1106.dmg)"
   ]
  },
  {
   "cell_type": "markdown",
   "metadata": {
    "slideshow": {
     "slide_type": "subslide"
    }
   },
   "source": [
    "## 在 Windows 安裝 RStudio"
   ]
  },
  {
   "cell_type": "markdown",
   "metadata": {
    "slideshow": {
     "slide_type": "subslide"
    }
   },
   "source": [
    "## 在 macOS 安裝 RStudio"
   ]
  },
  {
   "cell_type": "markdown",
   "metadata": {
    "slideshow": {
     "slide_type": "slide"
    }
   },
   "source": [
    "## 確認學習環境能妥善運行"
   ]
  },
  {
   "cell_type": "markdown",
   "metadata": {
    "slideshow": {
     "slide_type": "subslide"
    }
   },
   "source": [
    "## 哈囉世界！Hello, World!\n",
    "\n",
    "> 哈囉世界是指在電腦螢幕顯示 `\"Hello, World!\"` 的電腦程式，用來確認一個程式語言的編譯器、程式開發環境及運行環境是否已經安裝妥當。\n",
    "\n",
    "Source: <https://en.wikipedia.org/wiki/%22Hello,_World!%22_program>"
   ]
  },
  {
   "cell_type": "markdown",
   "metadata": {
    "slideshow": {
     "slide_type": "subslide"
    }
   },
   "source": [
    "## RStudio 的四個主要功能面板\n",
    "\n",
    "1. 來源\n",
    "2. 命令列\n",
    "3. 環境與歷史\n",
    "4. 檔案、圖形、套件、查詢與預覽器"
   ]
  },
  {
   "cell_type": "code",
   "execution_count": 1,
   "metadata": {
    "slideshow": {
     "slide_type": "subslide"
    }
   },
   "outputs": [
    {
     "name": "stdout",
     "output_type": "stream",
     "text": [
      "[1] \"Hello, World!\"\n"
     ]
    }
   ],
   "source": [
    "print(\"Hello, World!\")"
   ]
  },
  {
   "cell_type": "markdown",
   "metadata": {
    "slideshow": {
     "slide_type": "subslide"
    }
   },
   "source": [
    "## 好用的命令列操作技巧\n",
    "\n",
    "- 使用 `Ctrl - L` 清空命令列。\n",
    "- 使用方向鍵「上」與「下」顯示執行過的程式。"
   ]
  },
  {
   "cell_type": "markdown",
   "metadata": {
    "slideshow": {
     "slide_type": "subslide"
    }
   },
   "source": [
    "## 當命令列卡住，一直出現 `+` 該如何排除故障\n",
    "\n",
    "- 因為 R 語言還在期待未完成的輸入，像是成雙出現的符號（例如小括號或引號等）並沒有如預期地被執行。\n",
    "- 按 `esc` 排除故障，再重新執行一次程式碼。"
   ]
  },
  {
   "cell_type": "markdown",
   "metadata": {
    "slideshow": {
     "slide_type": "subslide"
    }
   },
   "source": [
    "## 挑選 RStudio 佈景主題\n",
    "\n",
    "- 點選工具列 > Tools > Global Options > Apperance 選擇一個偏愛的佈景主題。\n",
    "- 長時間盯著電腦螢幕的使用者通常偏好使用深色的佈景主題減少刺眼的感覺。"
   ]
  },
  {
   "cell_type": "markdown",
   "metadata": {
    "slideshow": {
     "slide_type": "slide"
    }
   },
   "source": [
    "## 重點統整\n",
    "\n",
    "- 在 CRAN(Comprehensive R Archive Network) 下載 R 語言：<https://cran.r-project.org>。\n",
    "- RStudio 是 R 語言使用者最喜愛的整合開發環境。\n",
    "- 在 RStudio 網站下載 RStudio：<https://www.rstudio.com/products/rstudio/download>。"
   ]
  },
  {
   "cell_type": "markdown",
   "metadata": {
    "slideshow": {
     "slide_type": "subslide"
    }
   },
   "source": [
    "## 重點統整（續）\n",
    "\n",
    "- RStudio 使用介面有四個主要功能面板，哈囉世界使用到了來源與命令列。\n",
    "- 使用 `Ctrl - L` 可以清空命令列。\n",
    "- 當命令列卡住，一直出現 `+` 時可以按 `esc` 間排除故障。"
   ]
  }
 ],
 "metadata": {
  "celltoolbar": "Slideshow",
  "kernelspec": {
   "display_name": "R",
   "language": "R",
   "name": "ir403"
  },
  "language_info": {
   "codemirror_mode": "r",
   "file_extension": ".r",
   "mimetype": "text/x-r-source",
   "name": "R",
   "pygments_lexer": "r",
   "version": "4.0.5"
  }
 },
 "nbformat": 4,
 "nbformat_minor": 2
}
