{
 "cells": [
  {
   "cell_type": "markdown",
   "metadata": {
    "slideshow": {
     "slide_type": "slide"
    }
   },
   "source": [
    "# R 語言的五十道練習\n",
    "\n",
    "> 簡介\n",
    "\n",
    "[數據交點](https://www.datainpoint.com) | 郭耀仁 <yaojenkuo@datainpoint.com>"
   ]
  },
  {
   "cell_type": "markdown",
   "metadata": {
    "slideshow": {
     "slide_type": "slide"
    }
   },
   "source": [
    "## 什麼是 R 語言"
   ]
  },
  {
   "cell_type": "markdown",
   "metadata": {
    "slideshow": {
     "slide_type": "subslide"
    }
   },
   "source": [
    "## R 語言冷知識\n",
    "\n",
    "- R 語言的命名由來：為什麼命名為 R？\n",
    "- 因為 R 語言的前身是一個被稱為 S 語言的統計程式語言（A language for **S**tatistics）。"
   ]
  },
  {
   "cell_type": "markdown",
   "metadata": {
    "slideshow": {
     "slide_type": "subslide"
    }
   },
   "source": [
    "## R 在英文字母的排序在 S 前一個"
   ]
  },
  {
   "cell_type": "code",
   "execution_count": 1,
   "metadata": {
    "slideshow": {
     "slide_type": "skip"
    }
   },
   "outputs": [],
   "source": [
    "import string\n",
    "\n",
    "A2Z = string.ascii_uppercase"
   ]
  },
  {
   "cell_type": "code",
   "execution_count": 2,
   "metadata": {
    "slideshow": {
     "slide_type": "-"
    }
   },
   "outputs": [
    {
     "data": {
      "text/plain": [
       "'ABCDEFGHIJKLMNOPQRSTUVWXYZ'"
      ]
     },
     "execution_count": 2,
     "metadata": {},
     "output_type": "execute_result"
    }
   ],
   "source": [
    "A2Z"
   ]
  },
  {
   "cell_type": "markdown",
   "metadata": {
    "slideshow": {
     "slide_type": "subslide"
    }
   },
   "source": [
    "## 程式語言的分類\n",
    "\n",
    "- 廣泛用途（General-purposed）程式語言。\n",
    "- 專門用途（Special-purposed）程式語言。"
   ]
  },
  {
   "cell_type": "markdown",
   "metadata": {
    "slideshow": {
     "slide_type": "subslide"
    }
   },
   "source": [
    "## 從 IEEE Top Programming Languages 2020 暸解程式語言分類\n",
    "\n",
    "![](ieee-ranking-2020.png)\n",
    "\n",
    "Source: <https://spectrum.ieee.org/static/interactive-the-top-programming-languages-2020>"
   ]
  },
  {
   "cell_type": "markdown",
   "metadata": {
    "slideshow": {
     "slide_type": "subslide"
    }
   },
   "source": [
    "## R 語言是一個專門用途的程式語言\n",
    "\n",
    "- 由紐西蘭奧克蘭大學的 Ross Ihaka 和 Robert Gentleman 所開發設計。\n",
    "- 目前由 [R 開發核心團隊](https://www.r-project.org/)開發維護。\n",
    "- 專注在資料科學應用領域的「統計程式語言」。"
   ]
  },
  {
   "cell_type": "markdown",
   "metadata": {
    "slideshow": {
     "slide_type": "subslide"
    }
   },
   "source": [
    "## R 語言與其他廣泛用途的程式語言相對比較\n",
    "\n",
    "- 向量化運算是內建的功能。\n",
    "- 以「函數」（Functions）作為主體。\n",
    "- 使用者不需要學習類別（Class），因此學習路線比較短。"
   ]
  },
  {
   "cell_type": "markdown",
   "metadata": {
    "slideshow": {
     "slide_type": "subslide"
    }
   },
   "source": [
    "## R 語言與其他資料科學的專門用途程式語言相對比較\n",
    "\n",
    "- 授權種類的不同：Matlab、SAS 屬於商業授權，R 語言則是屬於開源授權。\n",
    "- 使用者數量的不同：Julia 是相對年輕的程式語言，相較之下 R 語言的開發者更多、使用者社群更龐大。\n",
    "\n",
    "Source: <https://spectrum.ieee.org/static/interactive-the-top-programming-languages-2020>"
   ]
  },
  {
   "cell_type": "markdown",
   "metadata": {
    "slideshow": {
     "slide_type": "slide"
    }
   },
   "source": [
    "## 為什麼 R 語言是重要的"
   ]
  },
  {
   "cell_type": "markdown",
   "metadata": {
    "slideshow": {
     "slide_type": "subslide"
    }
   },
   "source": [
    "## 2020 Kaggle ML&DS Survey 中 R 語言在資料科學家日常頻繁使用語言中排名第三。\n",
    "\n",
    "Source: <https://www.kaggle.com/c/kaggle-survey-2020>"
   ]
  },
  {
   "cell_type": "code",
   "execution_count": 3,
   "metadata": {
    "slideshow": {
     "slide_type": "skip"
    }
   },
   "outputs": [],
   "source": [
    "from ks2020 import KaggleSurvey2020\n",
    "\n",
    "def plot_kaggle():\n",
    "    kaggle_survey_2020 = KaggleSurvey2020('kaggle_survey_2020_responses.csv')\n",
    "    kaggle_survey_2020.plot_summary('Q7')"
   ]
  },
  {
   "cell_type": "code",
   "execution_count": 4,
   "metadata": {
    "slideshow": {
     "slide_type": "subslide"
    }
   },
   "outputs": [
    {
     "data": {
      "image/png": "[encoded data removed]",
      "text/plain": [
       "<Figure size 864x576 with 1 Axes>"
      ]
     },
     "metadata": {
      "needs_background": "light"
     },
     "output_type": "display_data"
    }
   ],
   "source": [
    "plot_kaggle()"
   ]
  },
  {
   "cell_type": "markdown",
   "metadata": {
    "slideshow": {
     "slide_type": "subslide"
    }
   },
   "source": [
    "## R 語言在資料科學專門用途程式語言中社群討論度最高\n",
    "\n",
    "![](stack-overflow-trends.png)\n",
    "\n",
    "Source: <https://insights.stackoverflow.com/trends>"
   ]
  },
  {
   "cell_type": "markdown",
   "metadata": {
    "slideshow": {
     "slide_type": "subslide"
    }
   },
   "source": [
    "## Google 的資料分析師證照將 R 語言列入為必修程式語言。\n",
    "\n",
    "![](coursera-google-data-analytics.png)\n",
    "\n",
    "Source: <https://www.coursera.org/professional-certificates/google-data-analytics>"
   ]
  },
  {
   "cell_type": "markdown",
   "metadata": {
    "slideshow": {
     "slide_type": "slide"
    }
   },
   "source": [
    "## 重點統整\n",
    "\n",
    "- R 語言的前身是一個被稱為 S 語言的統計程式語言。\n",
    "- R 語言是一個專注在資料科學應用的專門用途程式語言。"
   ]
  },
  {
   "cell_type": "markdown",
   "metadata": {
    "slideshow": {
     "slide_type": "subslide"
    }
   },
   "source": [
    "## 重點統整（續）\n",
    "\n",
    "- 為什麼 R 語言是重要的？\n",
    "    - R 語言在資料科學家日常頻繁使用語言中排名第三。\n",
    "    - R 語言在資料科學專門用途程式語言中社群討論度最高。\n",
    "    - R 語言被 Google 的資料分析師證照列入為必修程式語言。"
   ]
  }
 ],
 "metadata": {
  "celltoolbar": "Slideshow",
  "kernelspec": {
   "display_name": "Python Data Analysis",
   "language": "python",
   "name": "pyda"
  },
  "language_info": {
   "codemirror_mode": {
    "name": "ipython",
    "version": 3
   },
   "file_extension": ".py",
   "mimetype": "text/x-python",
   "name": "python",
   "nbconvert_exporter": "python",
   "pygments_lexer": "ipython3",
   "version": "3.6.8"
  }
 },
 "nbformat": 4,
 "nbformat_minor": 2
}
