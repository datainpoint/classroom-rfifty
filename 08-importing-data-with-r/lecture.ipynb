{
 "cells": [
  {
   "cell_type": "markdown",
   "metadata": {
    "slideshow": {
     "slide_type": "slide"
    }
   },
   "source": [
    "# R 語言的五十道練習\n",
    "\n",
    "> 載入資料\n",
    "\n",
    "[數據交點](https://www.datainpoint.com) | 郭耀仁 <yaojenkuo@datainpoint.com>"
   ]
  },
  {
   "cell_type": "markdown",
   "metadata": {
    "slideshow": {
     "slide_type": "slide"
    }
   },
   "source": [
    "## 內建資料"
   ]
  },
  {
   "cell_type": "markdown",
   "metadata": {
    "slideshow": {
     "slide_type": "subslide"
    }
   },
   "source": [
    "## 豐富的內建資料\n",
    "\n",
    "以 `data()` 函數觀察"
   ]
  },
  {
   "cell_type": "code",
   "execution_count": 1,
   "metadata": {},
   "outputs": [],
   "source": [
    "data()"
   ]
  },
  {
   "cell_type": "markdown",
   "metadata": {
    "slideshow": {
     "slide_type": "subslide"
    }
   },
   "source": [
    "## 資料也有說明文件可以讀"
   ]
  },
  {
   "cell_type": "code",
   "execution_count": 2,
   "metadata": {},
   "outputs": [],
   "source": [
    "help(iris) # ?iris will do\n",
    "help(cars) # ?cars will do"
   ]
  },
  {
   "cell_type": "markdown",
   "metadata": {
    "slideshow": {
     "slide_type": "slide"
    }
   },
   "source": [
    "## 輸入表格式資料"
   ]
  },
  {
   "cell_type": "markdown",
   "metadata": {
    "slideshow": {
     "slide_type": "subslide"
    }
   },
   "source": [
    "## 常見的表格式（tabular）資料有哪些？\n",
    "\n",
    "- 以不同符號分隔變數的文字檔（`.txt`、`.csv`）\n",
    "- Excel 試算表（`.xlsx`）\n",
    "- JSON（`.json`）\n",
    "- 資料庫表格（`.db`）"
   ]
  },
  {
   "cell_type": "markdown",
   "metadata": {
    "slideshow": {
     "slide_type": "subslide"
    }
   },
   "source": [
    "## 以逗號分隔值的文字檔：`.csv`\n",
    "\n",
    "Comma-Separated Values，CSV，有時也稱為字元分隔值，因為分隔字元也可以不是逗號，其檔案以純文字形式儲存表格資料。\n",
    "\n",
    "來源：<https://en.wikipedia.org/wiki/Comma-separated_values>"
   ]
  },
  {
   "cell_type": "markdown",
   "metadata": {
    "slideshow": {
     "slide_type": "subslide"
    }
   },
   "source": [
    "## 載入工作目錄中的 `movies.csv`\n",
    "\n",
    "使用 `read.csv()` 函數。\n",
    "\n",
    "```r\n",
    "read.csv(file, sep = \",\", header = TRUE)\n",
    "```"
   ]
  },
  {
   "cell_type": "code",
   "execution_count": 3,
   "metadata": {
    "slideshow": {
     "slide_type": "subslide"
    }
   },
   "outputs": [
    {
     "data": {
      "text/html": [
       "<table>\n",
       "<caption>A data.frame: 6 × 6</caption>\n",
       "<thead>\n",
       "\t<tr><th></th><th scope=col>id</th><th scope=col>title</th><th scope=col>release_year</th><th scope=col>rating</th><th scope=col>director</th><th scope=col>runtime</th></tr>\n",
       "\t<tr><th></th><th scope=col>&lt;int&gt;</th><th scope=col>&lt;chr&gt;</th><th scope=col>&lt;int&gt;</th><th scope=col>&lt;dbl&gt;</th><th scope=col>&lt;chr&gt;</th><th scope=col>&lt;int&gt;</th></tr>\n",
       "</thead>\n",
       "<tbody>\n",
       "\t<tr><th scope=row>1</th><td>1</td><td>The Shawshank Redemption</td><td>1994</td><td>9.3</td><td>Frank Darabont      </td><td>142</td></tr>\n",
       "\t<tr><th scope=row>2</th><td>2</td><td>The Godfather           </td><td>1972</td><td>9.2</td><td>Francis Ford Coppola</td><td>175</td></tr>\n",
       "\t<tr><th scope=row>3</th><td>3</td><td>The Godfather: Part II  </td><td>1974</td><td>9.0</td><td>Francis Ford Coppola</td><td>202</td></tr>\n",
       "\t<tr><th scope=row>4</th><td>4</td><td>The Dark Knight         </td><td>2008</td><td>9.0</td><td>Christopher Nolan   </td><td>152</td></tr>\n",
       "\t<tr><th scope=row>5</th><td>5</td><td>12 Angry Men            </td><td>1957</td><td>9.0</td><td>Sidney Lumet        </td><td> 96</td></tr>\n",
       "\t<tr><th scope=row>6</th><td>6</td><td>Schindler's List        </td><td>1993</td><td>8.9</td><td>Steven Spielberg    </td><td>195</td></tr>\n",
       "</tbody>\n",
       "</table>\n"
      ],
      "text/latex": [
       "A data.frame: 6 × 6\n",
       "\\begin{tabular}{r|llllll}\n",
       "  & id & title & release\\_year & rating & director & runtime\\\\\n",
       "  & <int> & <chr> & <int> & <dbl> & <chr> & <int>\\\\\n",
       "\\hline\n",
       "\t1 & 1 & The Shawshank Redemption & 1994 & 9.3 & Frank Darabont       & 142\\\\\n",
       "\t2 & 2 & The Godfather            & 1972 & 9.2 & Francis Ford Coppola & 175\\\\\n",
       "\t3 & 3 & The Godfather: Part II   & 1974 & 9.0 & Francis Ford Coppola & 202\\\\\n",
       "\t4 & 4 & The Dark Knight          & 2008 & 9.0 & Christopher Nolan    & 152\\\\\n",
       "\t5 & 5 & 12 Angry Men             & 1957 & 9.0 & Sidney Lumet         &  96\\\\\n",
       "\t6 & 6 & Schindler's List         & 1993 & 8.9 & Steven Spielberg     & 195\\\\\n",
       "\\end{tabular}\n"
      ],
      "text/markdown": [
       "\n",
       "A data.frame: 6 × 6\n",
       "\n",
       "| <!--/--> | id &lt;int&gt; | title &lt;chr&gt; | release_year &lt;int&gt; | rating &lt;dbl&gt; | director &lt;chr&gt; | runtime &lt;int&gt; |\n",
       "|---|---|---|---|---|---|---|\n",
       "| 1 | 1 | The Shawshank Redemption | 1994 | 9.3 | Frank Darabont       | 142 |\n",
       "| 2 | 2 | The Godfather            | 1972 | 9.2 | Francis Ford Coppola | 175 |\n",
       "| 3 | 3 | The Godfather: Part II   | 1974 | 9.0 | Francis Ford Coppola | 202 |\n",
       "| 4 | 4 | The Dark Knight          | 2008 | 9.0 | Christopher Nolan    | 152 |\n",
       "| 5 | 5 | 12 Angry Men             | 1957 | 9.0 | Sidney Lumet         |  96 |\n",
       "| 6 | 6 | Schindler's List         | 1993 | 8.9 | Steven Spielberg     | 195 |\n",
       "\n"
      ],
      "text/plain": [
       "  id title                    release_year rating director             runtime\n",
       "1 1  The Shawshank Redemption 1994         9.3    Frank Darabont       142    \n",
       "2 2  The Godfather            1972         9.2    Francis Ford Coppola 175    \n",
       "3 3  The Godfather: Part II   1974         9.0    Francis Ford Coppola 202    \n",
       "4 4  The Dark Knight          2008         9.0    Christopher Nolan    152    \n",
       "5 5  12 Angry Men             1957         9.0    Sidney Lumet          96    \n",
       "6 6  Schindler's List         1993         8.9    Steven Spielberg     195    "
      ]
     },
     "metadata": {},
     "output_type": "display_data"
    }
   ],
   "source": [
    "movies <- read.csv(\"movies.csv\", sep = \",\", header = TRUE)\n",
    "head(movies)"
   ]
  },
  {
   "cell_type": "markdown",
   "metadata": {
    "slideshow": {
     "slide_type": "subslide"
    }
   },
   "source": [
    "## 文字檔：`.txt`\n",
    "\n",
    "文字檔（text file）是不包含樣式的控制元素、只有字元構成的檔案，能夠被最簡單的文字編輯器直接讀取。\n",
    "\n",
    "來源：<https://en.wikipedia.org/wiki/Text_file>"
   ]
  },
  {
   "cell_type": "markdown",
   "metadata": {
    "slideshow": {
     "slide_type": "subslide"
    }
   },
   "source": [
    "## 載入工作目錄中的 `movies.txt`\n",
    "\n",
    "使用 `read.csv()` 函數。\n",
    "\n",
    "```r\n",
    "read.csv(file, sep = \";\", header = TRUE)\n",
    "```"
   ]
  },
  {
   "cell_type": "code",
   "execution_count": 4,
   "metadata": {
    "slideshow": {
     "slide_type": "subslide"
    }
   },
   "outputs": [
    {
     "data": {
      "text/html": [
       "<table>\n",
       "<caption>A data.frame: 6 × 6</caption>\n",
       "<thead>\n",
       "\t<tr><th></th><th scope=col>id</th><th scope=col>title</th><th scope=col>release_year</th><th scope=col>rating</th><th scope=col>director</th><th scope=col>runtime</th></tr>\n",
       "\t<tr><th></th><th scope=col>&lt;int&gt;</th><th scope=col>&lt;chr&gt;</th><th scope=col>&lt;int&gt;</th><th scope=col>&lt;dbl&gt;</th><th scope=col>&lt;chr&gt;</th><th scope=col>&lt;int&gt;</th></tr>\n",
       "</thead>\n",
       "<tbody>\n",
       "\t<tr><th scope=row>1</th><td>1</td><td>The Shawshank Redemption</td><td>1994</td><td>9.3</td><td>Frank Darabont      </td><td>142</td></tr>\n",
       "\t<tr><th scope=row>2</th><td>2</td><td>The Godfather           </td><td>1972</td><td>9.2</td><td>Francis Ford Coppola</td><td>175</td></tr>\n",
       "\t<tr><th scope=row>3</th><td>3</td><td>The Godfather: Part II  </td><td>1974</td><td>9.0</td><td>Francis Ford Coppola</td><td>202</td></tr>\n",
       "\t<tr><th scope=row>4</th><td>4</td><td>The Dark Knight         </td><td>2008</td><td>9.0</td><td>Christopher Nolan   </td><td>152</td></tr>\n",
       "\t<tr><th scope=row>5</th><td>5</td><td>12 Angry Men            </td><td>1957</td><td>9.0</td><td>Sidney Lumet        </td><td> 96</td></tr>\n",
       "\t<tr><th scope=row>6</th><td>6</td><td>Schindler's List        </td><td>1993</td><td>8.9</td><td>Steven Spielberg    </td><td>195</td></tr>\n",
       "</tbody>\n",
       "</table>\n"
      ],
      "text/latex": [
       "A data.frame: 6 × 6\n",
       "\\begin{tabular}{r|llllll}\n",
       "  & id & title & release\\_year & rating & director & runtime\\\\\n",
       "  & <int> & <chr> & <int> & <dbl> & <chr> & <int>\\\\\n",
       "\\hline\n",
       "\t1 & 1 & The Shawshank Redemption & 1994 & 9.3 & Frank Darabont       & 142\\\\\n",
       "\t2 & 2 & The Godfather            & 1972 & 9.2 & Francis Ford Coppola & 175\\\\\n",
       "\t3 & 3 & The Godfather: Part II   & 1974 & 9.0 & Francis Ford Coppola & 202\\\\\n",
       "\t4 & 4 & The Dark Knight          & 2008 & 9.0 & Christopher Nolan    & 152\\\\\n",
       "\t5 & 5 & 12 Angry Men             & 1957 & 9.0 & Sidney Lumet         &  96\\\\\n",
       "\t6 & 6 & Schindler's List         & 1993 & 8.9 & Steven Spielberg     & 195\\\\\n",
       "\\end{tabular}\n"
      ],
      "text/markdown": [
       "\n",
       "A data.frame: 6 × 6\n",
       "\n",
       "| <!--/--> | id &lt;int&gt; | title &lt;chr&gt; | release_year &lt;int&gt; | rating &lt;dbl&gt; | director &lt;chr&gt; | runtime &lt;int&gt; |\n",
       "|---|---|---|---|---|---|---|\n",
       "| 1 | 1 | The Shawshank Redemption | 1994 | 9.3 | Frank Darabont       | 142 |\n",
       "| 2 | 2 | The Godfather            | 1972 | 9.2 | Francis Ford Coppola | 175 |\n",
       "| 3 | 3 | The Godfather: Part II   | 1974 | 9.0 | Francis Ford Coppola | 202 |\n",
       "| 4 | 4 | The Dark Knight          | 2008 | 9.0 | Christopher Nolan    | 152 |\n",
       "| 5 | 5 | 12 Angry Men             | 1957 | 9.0 | Sidney Lumet         |  96 |\n",
       "| 6 | 6 | Schindler's List         | 1993 | 8.9 | Steven Spielberg     | 195 |\n",
       "\n"
      ],
      "text/plain": [
       "  id title                    release_year rating director             runtime\n",
       "1 1  The Shawshank Redemption 1994         9.3    Frank Darabont       142    \n",
       "2 2  The Godfather            1972         9.2    Francis Ford Coppola 175    \n",
       "3 3  The Godfather: Part II   1974         9.0    Francis Ford Coppola 202    \n",
       "4 4  The Dark Knight          2008         9.0    Christopher Nolan    152    \n",
       "5 5  12 Angry Men             1957         9.0    Sidney Lumet          96    \n",
       "6 6  Schindler's List         1993         8.9    Steven Spielberg     195    "
      ]
     },
     "metadata": {},
     "output_type": "display_data"
    }
   ],
   "source": [
    "movies <- read.csv(\"movies.txt\", sep = \";\", header = TRUE)\n",
    "head(movies)"
   ]
  },
  {
   "cell_type": "markdown",
   "metadata": {
    "slideshow": {
     "slide_type": "subslide"
    }
   },
   "source": [
    "## Excel 試算表\n",
    "\n",
    "Microsoft Excel 是 Microsoft 為使用 Windows 和 Apple Macintosh 作業系統的電腦編寫的一款試算表軟體。直觀的介面、出色的計算功能和圖表工具，再加上成功的市場行銷，使 Excel 成為最流行的個人電腦資料處理軟體。\n",
    "\n",
    "來源：<https://en.wikipedia.org/wiki/Microsoft_Excel>"
   ]
  },
  {
   "cell_type": "markdown",
   "metadata": {
    "slideshow": {
     "slide_type": "subslide"
    }
   },
   "source": [
    "## 使用 `readxl` 套件中的 `read_excel()` 函數\n",
    "\n",
    "- 安裝 `readxl` 套件。\n",
    "- 載入 `readxl` 套件。\n",
    "- 使用 `readxl` 套件的 `read_excel()` 函數。"
   ]
  },
  {
   "cell_type": "markdown",
   "metadata": {
    "slideshow": {
     "slide_type": "subslide"
    }
   },
   "source": [
    "## 安裝 `readxl` 套件\n",
    "\n",
    "- 透過 RStudio 的 `Packages` 功能頁籤。\n",
    "- 透過 `install.packages()` 函數。\n",
    "\n",
    "```r\n",
    "install.packages(\"readxl\")\n",
    "```"
   ]
  },
  {
   "cell_type": "markdown",
   "metadata": {
    "slideshow": {
     "slide_type": "subslide"
    }
   },
   "source": [
    "## 載入 `readxl` 套件\n",
    "\n",
    "- 透過 RStudio 的 `Packages` 功能頁籤。\n",
    "- 透過 `library()` 函數。\n",
    "\n",
    "```r\n",
    "library(\"readxl\")\n",
    "```"
   ]
  },
  {
   "cell_type": "markdown",
   "metadata": {
    "slideshow": {
     "slide_type": "subslide"
    }
   },
   "source": [
    "## 載入工作目錄的 `movies.xlsx`"
   ]
  },
  {
   "cell_type": "code",
   "execution_count": 5,
   "metadata": {},
   "outputs": [
    {
     "data": {
      "text/html": [
       "<table>\n",
       "<caption>A tibble: 6 × 6</caption>\n",
       "<thead>\n",
       "\t<tr><th scope=col>id</th><th scope=col>title</th><th scope=col>release_year</th><th scope=col>rating</th><th scope=col>director</th><th scope=col>runtime</th></tr>\n",
       "\t<tr><th scope=col>&lt;dbl&gt;</th><th scope=col>&lt;chr&gt;</th><th scope=col>&lt;dbl&gt;</th><th scope=col>&lt;dbl&gt;</th><th scope=col>&lt;chr&gt;</th><th scope=col>&lt;dbl&gt;</th></tr>\n",
       "</thead>\n",
       "<tbody>\n",
       "\t<tr><td>1</td><td>The Shawshank Redemption</td><td>1994</td><td>9.3</td><td>Frank Darabont      </td><td>142</td></tr>\n",
       "\t<tr><td>2</td><td>The Godfather           </td><td>1972</td><td>9.2</td><td>Francis Ford Coppola</td><td>175</td></tr>\n",
       "\t<tr><td>3</td><td>The Godfather: Part II  </td><td>1974</td><td>9.0</td><td>Francis Ford Coppola</td><td>202</td></tr>\n",
       "\t<tr><td>4</td><td>The Dark Knight         </td><td>2008</td><td>9.0</td><td>Christopher Nolan   </td><td>152</td></tr>\n",
       "\t<tr><td>5</td><td>12 Angry Men            </td><td>1957</td><td>9.0</td><td>Sidney Lumet        </td><td> 96</td></tr>\n",
       "\t<tr><td>6</td><td>Schindler's List        </td><td>1993</td><td>8.9</td><td>Steven Spielberg    </td><td>195</td></tr>\n",
       "</tbody>\n",
       "</table>\n"
      ],
      "text/latex": [
       "A tibble: 6 × 6\n",
       "\\begin{tabular}{llllll}\n",
       " id & title & release\\_year & rating & director & runtime\\\\\n",
       " <dbl> & <chr> & <dbl> & <dbl> & <chr> & <dbl>\\\\\n",
       "\\hline\n",
       "\t 1 & The Shawshank Redemption & 1994 & 9.3 & Frank Darabont       & 142\\\\\n",
       "\t 2 & The Godfather            & 1972 & 9.2 & Francis Ford Coppola & 175\\\\\n",
       "\t 3 & The Godfather: Part II   & 1974 & 9.0 & Francis Ford Coppola & 202\\\\\n",
       "\t 4 & The Dark Knight          & 2008 & 9.0 & Christopher Nolan    & 152\\\\\n",
       "\t 5 & 12 Angry Men             & 1957 & 9.0 & Sidney Lumet         &  96\\\\\n",
       "\t 6 & Schindler's List         & 1993 & 8.9 & Steven Spielberg     & 195\\\\\n",
       "\\end{tabular}\n"
      ],
      "text/markdown": [
       "\n",
       "A tibble: 6 × 6\n",
       "\n",
       "| id &lt;dbl&gt; | title &lt;chr&gt; | release_year &lt;dbl&gt; | rating &lt;dbl&gt; | director &lt;chr&gt; | runtime &lt;dbl&gt; |\n",
       "|---|---|---|---|---|---|\n",
       "| 1 | The Shawshank Redemption | 1994 | 9.3 | Frank Darabont       | 142 |\n",
       "| 2 | The Godfather            | 1972 | 9.2 | Francis Ford Coppola | 175 |\n",
       "| 3 | The Godfather: Part II   | 1974 | 9.0 | Francis Ford Coppola | 202 |\n",
       "| 4 | The Dark Knight          | 2008 | 9.0 | Christopher Nolan    | 152 |\n",
       "| 5 | 12 Angry Men             | 1957 | 9.0 | Sidney Lumet         |  96 |\n",
       "| 6 | Schindler's List         | 1993 | 8.9 | Steven Spielberg     | 195 |\n",
       "\n"
      ],
      "text/plain": [
       "  id title                    release_year rating director             runtime\n",
       "1 1  The Shawshank Redemption 1994         9.3    Frank Darabont       142    \n",
       "2 2  The Godfather            1972         9.2    Francis Ford Coppola 175    \n",
       "3 3  The Godfather: Part II   1974         9.0    Francis Ford Coppola 202    \n",
       "4 4  The Dark Knight          2008         9.0    Christopher Nolan    152    \n",
       "5 5  12 Angry Men             1957         9.0    Sidney Lumet          96    \n",
       "6 6  Schindler's List         1993         8.9    Steven Spielberg     195    "
      ]
     },
     "metadata": {},
     "output_type": "display_data"
    }
   ],
   "source": [
    "library(\"readxl\")\n",
    "\n",
    "movies <- read_excel(\"movies.xlsx\")\n",
    "head(movies)"
   ]
  },
  {
   "cell_type": "markdown",
   "metadata": {
    "slideshow": {
     "slide_type": "subslide"
    }
   },
   "source": [
    "## JSON\n",
    "\n",
    "JSON (JavaScript Object Notation) 是一種輕量的資料交換格式，是一種文字檔案但是其格式能夠被輕易地被 C, C++, C#, Java, JavaScript, Perl, Python 等程式語言解析與生成，主要的 JSON 格式有兩種：具有鍵和值的結構與具有順序性的結構，其中具有鍵和值的結構常被稱為 dict、hash table 等，具有順序性的結構常被稱為 array、list 等。\n",
    "\n",
    "來源：<https://www.json.org/json-en.html>"
   ]
  },
  {
   "cell_type": "markdown",
   "metadata": {
    "slideshow": {
     "slide_type": "subslide"
    }
   },
   "source": [
    "## 使用 `jsonlite` 套件中的 `fromJSON()` 函數\n",
    "\n",
    "- 安裝 `jsonlite` 套件。\n",
    "- 載入 `jsonlite` 套件。\n",
    "- 使用 `jsonlite` 套件中的 `fromJSON()` 函數。"
   ]
  },
  {
   "cell_type": "markdown",
   "metadata": {
    "slideshow": {
     "slide_type": "subslide"
    }
   },
   "source": [
    "## 安裝 `jsonlite` 套件\n",
    "\n",
    "- 透過 RStudio 的 `Packages` 功能頁籤。\n",
    "- 透過 `install.packages()` 函數。\n",
    "\n",
    "```r\n",
    "install.packages(\"jsonlite\")\n",
    "```"
   ]
  },
  {
   "cell_type": "markdown",
   "metadata": {
    "slideshow": {
     "slide_type": "subslide"
    }
   },
   "source": [
    "## 載入 `jsonlite` 套件\n",
    "\n",
    "- 透過 RStudio 的 `Packages` 功能頁籤\n",
    "- 透過 `library()` 函數\n",
    "\n",
    "```r\n",
    "library(\"jsonlite\")\n",
    "```"
   ]
  },
  {
   "cell_type": "markdown",
   "metadata": {
    "slideshow": {
     "slide_type": "subslide"
    }
   },
   "source": [
    "## 載入工作目錄的 `movies.json`"
   ]
  },
  {
   "cell_type": "code",
   "execution_count": 6,
   "metadata": {},
   "outputs": [
    {
     "data": {
      "text/html": [
       "<table>\n",
       "<caption>A data.frame: 6 × 6</caption>\n",
       "<thead>\n",
       "\t<tr><th></th><th scope=col>id</th><th scope=col>title</th><th scope=col>release_year</th><th scope=col>rating</th><th scope=col>director</th><th scope=col>runtime</th></tr>\n",
       "\t<tr><th></th><th scope=col>&lt;int&gt;</th><th scope=col>&lt;chr&gt;</th><th scope=col>&lt;int&gt;</th><th scope=col>&lt;dbl&gt;</th><th scope=col>&lt;chr&gt;</th><th scope=col>&lt;int&gt;</th></tr>\n",
       "</thead>\n",
       "<tbody>\n",
       "\t<tr><th scope=row>1</th><td>1</td><td>The Shawshank Redemption</td><td>1994</td><td>9.3</td><td>Frank Darabont      </td><td>142</td></tr>\n",
       "\t<tr><th scope=row>2</th><td>2</td><td>The Godfather           </td><td>1972</td><td>9.2</td><td>Francis Ford Coppola</td><td>175</td></tr>\n",
       "\t<tr><th scope=row>3</th><td>3</td><td>The Godfather: Part II  </td><td>1974</td><td>9.0</td><td>Francis Ford Coppola</td><td>202</td></tr>\n",
       "\t<tr><th scope=row>4</th><td>4</td><td>The Dark Knight         </td><td>2008</td><td>9.0</td><td>Christopher Nolan   </td><td>152</td></tr>\n",
       "\t<tr><th scope=row>5</th><td>5</td><td>12 Angry Men            </td><td>1957</td><td>9.0</td><td>Sidney Lumet        </td><td> 96</td></tr>\n",
       "\t<tr><th scope=row>6</th><td>6</td><td>Schindler's List        </td><td>1993</td><td>8.9</td><td>Steven Spielberg    </td><td>195</td></tr>\n",
       "</tbody>\n",
       "</table>\n"
      ],
      "text/latex": [
       "A data.frame: 6 × 6\n",
       "\\begin{tabular}{r|llllll}\n",
       "  & id & title & release\\_year & rating & director & runtime\\\\\n",
       "  & <int> & <chr> & <int> & <dbl> & <chr> & <int>\\\\\n",
       "\\hline\n",
       "\t1 & 1 & The Shawshank Redemption & 1994 & 9.3 & Frank Darabont       & 142\\\\\n",
       "\t2 & 2 & The Godfather            & 1972 & 9.2 & Francis Ford Coppola & 175\\\\\n",
       "\t3 & 3 & The Godfather: Part II   & 1974 & 9.0 & Francis Ford Coppola & 202\\\\\n",
       "\t4 & 4 & The Dark Knight          & 2008 & 9.0 & Christopher Nolan    & 152\\\\\n",
       "\t5 & 5 & 12 Angry Men             & 1957 & 9.0 & Sidney Lumet         &  96\\\\\n",
       "\t6 & 6 & Schindler's List         & 1993 & 8.9 & Steven Spielberg     & 195\\\\\n",
       "\\end{tabular}\n"
      ],
      "text/markdown": [
       "\n",
       "A data.frame: 6 × 6\n",
       "\n",
       "| <!--/--> | id &lt;int&gt; | title &lt;chr&gt; | release_year &lt;int&gt; | rating &lt;dbl&gt; | director &lt;chr&gt; | runtime &lt;int&gt; |\n",
       "|---|---|---|---|---|---|---|\n",
       "| 1 | 1 | The Shawshank Redemption | 1994 | 9.3 | Frank Darabont       | 142 |\n",
       "| 2 | 2 | The Godfather            | 1972 | 9.2 | Francis Ford Coppola | 175 |\n",
       "| 3 | 3 | The Godfather: Part II   | 1974 | 9.0 | Francis Ford Coppola | 202 |\n",
       "| 4 | 4 | The Dark Knight          | 2008 | 9.0 | Christopher Nolan    | 152 |\n",
       "| 5 | 5 | 12 Angry Men             | 1957 | 9.0 | Sidney Lumet         |  96 |\n",
       "| 6 | 6 | Schindler's List         | 1993 | 8.9 | Steven Spielberg     | 195 |\n",
       "\n"
      ],
      "text/plain": [
       "  id title                    release_year rating director             runtime\n",
       "1 1  The Shawshank Redemption 1994         9.3    Frank Darabont       142    \n",
       "2 2  The Godfather            1972         9.2    Francis Ford Coppola 175    \n",
       "3 3  The Godfather: Part II   1974         9.0    Francis Ford Coppola 202    \n",
       "4 4  The Dark Knight          2008         9.0    Christopher Nolan    152    \n",
       "5 5  12 Angry Men             1957         9.0    Sidney Lumet          96    \n",
       "6 6  Schindler's List         1993         8.9    Steven Spielberg     195    "
      ]
     },
     "metadata": {},
     "output_type": "display_data"
    }
   ],
   "source": [
    "library(\"jsonlite\")\n",
    "\n",
    "movies <- fromJSON(\"movies.json\")\n",
    "head(movies)"
   ]
  },
  {
   "cell_type": "markdown",
   "metadata": {
    "slideshow": {
     "slide_type": "subslide"
    }
   },
   "source": [
    "## 資料庫表格\n",
    "\n",
    "在關聯式資料庫中，資料表又稱表格，是一個二維的資料結構，由水平的列和垂直的欄組成。\n",
    "\n",
    "來源：<https://en.wikipedia.org/wiki/Table_(database)>"
   ]
  },
  {
   "cell_type": "markdown",
   "metadata": {
    "slideshow": {
     "slide_type": "subslide"
    }
   },
   "source": [
    "## 使用 `RSQLite` 套件與 `DBI` 套件\n",
    "\n",
    "- 安裝 `RSQLite` 套件。\n",
    "- 載入 `DBI` 套件。\n",
    "- 使用 `RSQLite::SQLite()` 建立連線。"
   ]
  },
  {
   "cell_type": "markdown",
   "metadata": {
    "slideshow": {
     "slide_type": "subslide"
    }
   },
   "source": [
    "## 使用 `RSQLite` 套件與 `DBI` 套件（續）\n",
    "\n",
    "- 使用 `DBI` 套件的 `dbReadTable()` 函數載入表格。\n",
    "- 使用 `DBI` 套件的 `dbSendQuery()` 搭配 `dbFetch()` 函數查詢表格。\n",
    "- 使用 `DBI` 套件的 `dbClearResult()` 函數清除查詢結果。\n",
    "- 使用 `DBI` 套件的 `dbDisconnect()` 函數關閉資料庫連線。"
   ]
  },
  {
   "cell_type": "markdown",
   "metadata": {
    "slideshow": {
     "slide_type": "subslide"
    }
   },
   "source": [
    "## 安裝 `RSQLite` 套件\n",
    "\n",
    "- 透過 RStudio 的 `Packages` 功能頁籤\n",
    "- 透過 `install.packages()` 函數\n",
    "\n",
    "```r\n",
    "install.packages(\"RSQLite\")\n",
    "```"
   ]
  },
  {
   "cell_type": "markdown",
   "metadata": {
    "slideshow": {
     "slide_type": "subslide"
    }
   },
   "source": [
    "## 載入 `DBI` 套件\n",
    "\n",
    "- 透過 RStudio 的 `Packages` 功能頁籤\n",
    "- 透過 `library()` 函數\n",
    "\n",
    "```r\n",
    "library(\"DBI\")\n",
    "```"
   ]
  },
  {
   "cell_type": "markdown",
   "metadata": {
    "slideshow": {
     "slide_type": "subslide"
    }
   },
   "source": [
    "## 使用 `DBI` 套件的 `dbConnect()` 函數建立連線\n",
    "\n",
    "工作目錄的 `imdb.db`"
   ]
  },
  {
   "cell_type": "code",
   "execution_count": 7,
   "metadata": {},
   "outputs": [
    {
     "name": "stdout",
     "output_type": "stream",
     "text": [
      "[1] \"actors\"  \"casting\" \"movies\" \n"
     ]
    }
   ],
   "source": [
    "library(\"DBI\")\n",
    "\n",
    "con <- dbConnect(RSQLite::SQLite(), \"imdb.db\")\n",
    "print(dbListTables(con))"
   ]
  },
  {
   "cell_type": "markdown",
   "metadata": {
    "slideshow": {
     "slide_type": "subslide"
    }
   },
   "source": [
    "## 使用 `DBI` 套件的 `dbReadTable()` 函數載入表格"
   ]
  },
  {
   "cell_type": "code",
   "execution_count": 8,
   "metadata": {},
   "outputs": [
    {
     "data": {
      "text/html": [
       "<table>\n",
       "<caption>A data.frame: 6 × 6</caption>\n",
       "<thead>\n",
       "\t<tr><th></th><th scope=col>id</th><th scope=col>title</th><th scope=col>release_year</th><th scope=col>rating</th><th scope=col>director</th><th scope=col>runtime</th></tr>\n",
       "\t<tr><th></th><th scope=col>&lt;int&gt;</th><th scope=col>&lt;chr&gt;</th><th scope=col>&lt;int&gt;</th><th scope=col>&lt;dbl&gt;</th><th scope=col>&lt;chr&gt;</th><th scope=col>&lt;int&gt;</th></tr>\n",
       "</thead>\n",
       "<tbody>\n",
       "\t<tr><th scope=row>1</th><td>1</td><td>The Shawshank Redemption</td><td>1994</td><td>9.3</td><td>Frank Darabont      </td><td>142</td></tr>\n",
       "\t<tr><th scope=row>2</th><td>2</td><td>The Godfather           </td><td>1972</td><td>9.2</td><td>Francis Ford Coppola</td><td>175</td></tr>\n",
       "\t<tr><th scope=row>3</th><td>3</td><td>The Godfather: Part II  </td><td>1974</td><td>9.0</td><td>Francis Ford Coppola</td><td>202</td></tr>\n",
       "\t<tr><th scope=row>4</th><td>4</td><td>The Dark Knight         </td><td>2008</td><td>9.0</td><td>Christopher Nolan   </td><td>152</td></tr>\n",
       "\t<tr><th scope=row>5</th><td>5</td><td>12 Angry Men            </td><td>1957</td><td>9.0</td><td>Sidney Lumet        </td><td> 96</td></tr>\n",
       "\t<tr><th scope=row>6</th><td>6</td><td>Schindler's List        </td><td>1993</td><td>8.9</td><td>Steven Spielberg    </td><td>195</td></tr>\n",
       "</tbody>\n",
       "</table>\n"
      ],
      "text/latex": [
       "A data.frame: 6 × 6\n",
       "\\begin{tabular}{r|llllll}\n",
       "  & id & title & release\\_year & rating & director & runtime\\\\\n",
       "  & <int> & <chr> & <int> & <dbl> & <chr> & <int>\\\\\n",
       "\\hline\n",
       "\t1 & 1 & The Shawshank Redemption & 1994 & 9.3 & Frank Darabont       & 142\\\\\n",
       "\t2 & 2 & The Godfather            & 1972 & 9.2 & Francis Ford Coppola & 175\\\\\n",
       "\t3 & 3 & The Godfather: Part II   & 1974 & 9.0 & Francis Ford Coppola & 202\\\\\n",
       "\t4 & 4 & The Dark Knight          & 2008 & 9.0 & Christopher Nolan    & 152\\\\\n",
       "\t5 & 5 & 12 Angry Men             & 1957 & 9.0 & Sidney Lumet         &  96\\\\\n",
       "\t6 & 6 & Schindler's List         & 1993 & 8.9 & Steven Spielberg     & 195\\\\\n",
       "\\end{tabular}\n"
      ],
      "text/markdown": [
       "\n",
       "A data.frame: 6 × 6\n",
       "\n",
       "| <!--/--> | id &lt;int&gt; | title &lt;chr&gt; | release_year &lt;int&gt; | rating &lt;dbl&gt; | director &lt;chr&gt; | runtime &lt;int&gt; |\n",
       "|---|---|---|---|---|---|---|\n",
       "| 1 | 1 | The Shawshank Redemption | 1994 | 9.3 | Frank Darabont       | 142 |\n",
       "| 2 | 2 | The Godfather            | 1972 | 9.2 | Francis Ford Coppola | 175 |\n",
       "| 3 | 3 | The Godfather: Part II   | 1974 | 9.0 | Francis Ford Coppola | 202 |\n",
       "| 4 | 4 | The Dark Knight          | 2008 | 9.0 | Christopher Nolan    | 152 |\n",
       "| 5 | 5 | 12 Angry Men             | 1957 | 9.0 | Sidney Lumet         |  96 |\n",
       "| 6 | 6 | Schindler's List         | 1993 | 8.9 | Steven Spielberg     | 195 |\n",
       "\n"
      ],
      "text/plain": [
       "  id title                    release_year rating director             runtime\n",
       "1 1  The Shawshank Redemption 1994         9.3    Frank Darabont       142    \n",
       "2 2  The Godfather            1972         9.2    Francis Ford Coppola 175    \n",
       "3 3  The Godfather: Part II   1974         9.0    Francis Ford Coppola 202    \n",
       "4 4  The Dark Knight          2008         9.0    Christopher Nolan    152    \n",
       "5 5  12 Angry Men             1957         9.0    Sidney Lumet          96    \n",
       "6 6  Schindler's List         1993         8.9    Steven Spielberg     195    "
      ]
     },
     "metadata": {},
     "output_type": "display_data"
    }
   ],
   "source": [
    "movies <- dbReadTable(con, \"movies\")\n",
    "head(movies)"
   ]
  },
  {
   "cell_type": "markdown",
   "metadata": {
    "slideshow": {
     "slide_type": "subslide"
    }
   },
   "source": [
    "## 使用 `DBI` 套件的 `dbSendQuery()` 搭配 `dbFetch()` 函數查詢表格"
   ]
  },
  {
   "cell_type": "code",
   "execution_count": 9,
   "metadata": {},
   "outputs": [
    {
     "data": {
      "text/html": [
       "<table>\n",
       "<caption>A data.frame: 5 × 6</caption>\n",
       "<thead>\n",
       "\t<tr><th scope=col>id</th><th scope=col>title</th><th scope=col>release_year</th><th scope=col>rating</th><th scope=col>director</th><th scope=col>runtime</th></tr>\n",
       "\t<tr><th scope=col>&lt;int&gt;</th><th scope=col>&lt;chr&gt;</th><th scope=col>&lt;int&gt;</th><th scope=col>&lt;dbl&gt;</th><th scope=col>&lt;chr&gt;</th><th scope=col>&lt;int&gt;</th></tr>\n",
       "</thead>\n",
       "<tbody>\n",
       "\t<tr><td> 1</td><td>The Shawshank Redemption</td><td>1994</td><td>9.3</td><td>Frank Darabont   </td><td>142</td></tr>\n",
       "\t<tr><td> 8</td><td>Pulp Fiction            </td><td>1994</td><td>8.9</td><td>Quentin Tarantino</td><td>154</td></tr>\n",
       "\t<tr><td>12</td><td>Forrest Gump            </td><td>1994</td><td>8.8</td><td>Robert Zemeckis  </td><td>142</td></tr>\n",
       "\t<tr><td>31</td><td>Léon: The Professional  </td><td>1994</td><td>8.5</td><td>Luc Besson       </td><td>110</td></tr>\n",
       "\t<tr><td>34</td><td>The Lion King           </td><td>1994</td><td>8.5</td><td>Roger Allers     </td><td> 88</td></tr>\n",
       "</tbody>\n",
       "</table>\n"
      ],
      "text/latex": [
       "A data.frame: 5 × 6\n",
       "\\begin{tabular}{llllll}\n",
       " id & title & release\\_year & rating & director & runtime\\\\\n",
       " <int> & <chr> & <int> & <dbl> & <chr> & <int>\\\\\n",
       "\\hline\n",
       "\t  1 & The Shawshank Redemption & 1994 & 9.3 & Frank Darabont    & 142\\\\\n",
       "\t  8 & Pulp Fiction             & 1994 & 8.9 & Quentin Tarantino & 154\\\\\n",
       "\t 12 & Forrest Gump             & 1994 & 8.8 & Robert Zemeckis   & 142\\\\\n",
       "\t 31 & Léon: The Professional   & 1994 & 8.5 & Luc Besson        & 110\\\\\n",
       "\t 34 & The Lion King            & 1994 & 8.5 & Roger Allers      &  88\\\\\n",
       "\\end{tabular}\n"
      ],
      "text/markdown": [
       "\n",
       "A data.frame: 5 × 6\n",
       "\n",
       "| id &lt;int&gt; | title &lt;chr&gt; | release_year &lt;int&gt; | rating &lt;dbl&gt; | director &lt;chr&gt; | runtime &lt;int&gt; |\n",
       "|---|---|---|---|---|---|\n",
       "|  1 | The Shawshank Redemption | 1994 | 9.3 | Frank Darabont    | 142 |\n",
       "|  8 | Pulp Fiction             | 1994 | 8.9 | Quentin Tarantino | 154 |\n",
       "| 12 | Forrest Gump             | 1994 | 8.8 | Robert Zemeckis   | 142 |\n",
       "| 31 | Léon: The Professional   | 1994 | 8.5 | Luc Besson        | 110 |\n",
       "| 34 | The Lion King            | 1994 | 8.5 | Roger Allers      |  88 |\n",
       "\n"
      ],
      "text/plain": [
       "  id title                    release_year rating director          runtime\n",
       "1  1 The Shawshank Redemption 1994         9.3    Frank Darabont    142    \n",
       "2  8 Pulp Fiction             1994         8.9    Quentin Tarantino 154    \n",
       "3 12 Forrest Gump             1994         8.8    Robert Zemeckis   142    \n",
       "4 31 Léon: The Professional   1994         8.5    Luc Besson        110    \n",
       "5 34 The Lion King            1994         8.5    Roger Allers       88    "
      ]
     },
     "metadata": {},
     "output_type": "display_data"
    }
   ],
   "source": [
    "sql_query <- \"SELECT * FROM movies WHERE release_year = 1994;\"\n",
    "res <- dbSendQuery(con, sql_query)\n",
    "dbFetch(res)"
   ]
  },
  {
   "cell_type": "markdown",
   "metadata": {
    "slideshow": {
     "slide_type": "subslide"
    }
   },
   "source": [
    "## 完成查詢之後\n",
    "\n",
    "- 使用 `DBI` 套件的 `dbClearResult()` 函數清除查詢結果。\n",
    "- 使用 `DBI` 套件的 `dbDisconnect()` 函數關閉資料庫連線。"
   ]
  },
  {
   "cell_type": "code",
   "execution_count": 10,
   "metadata": {
    "slideshow": {
     "slide_type": "-"
    }
   },
   "outputs": [],
   "source": [
    "dbClearResult(res)\n",
    "dbDisconnect(con)"
   ]
  },
  {
   "cell_type": "markdown",
   "metadata": {
    "slideshow": {
     "slide_type": "slide"
    }
   },
   "source": [
    "## 輸出表格式資料"
   ]
  },
  {
   "cell_type": "markdown",
   "metadata": {
    "slideshow": {
     "slide_type": "subslide"
    }
   },
   "source": [
    "## 常用作表格式資料輸出的檔案格式\n",
    "\n",
    "- 表格式文字檔 `.txt` 或 `.csv`\n",
    "- JSON `.json`"
   ]
  },
  {
   "cell_type": "markdown",
   "metadata": {
    "slideshow": {
     "slide_type": "subslide"
    }
   },
   "source": [
    "## 表格式文字檔 `.txt` 或 `.csv`\n",
    "\n",
    "使用 `write.table()` 函數。"
   ]
  },
  {
   "cell_type": "code",
   "execution_count": 11,
   "metadata": {},
   "outputs": [],
   "source": [
    "write.table(iris, file = \"iris.txt\", row.names = FALSE) # do not output row names\n",
    "write.table(iris, file = \"iris.csv\", sep = \",\", row.names = FALSE) # \",\" as the separator"
   ]
  },
  {
   "cell_type": "markdown",
   "metadata": {
    "slideshow": {
     "slide_type": "subslide"
    }
   },
   "source": [
    "## JSON `.json`\n",
    "\n",
    "使用 `jsonlite` 的 `toJSON()` 函數搭配 `writeLines()` 函數。"
   ]
  },
  {
   "cell_type": "code",
   "execution_count": 12,
   "metadata": {},
   "outputs": [],
   "source": [
    "library(\"jsonlite\")\n",
    "\n",
    "json_char <- toJSON(iris)\n",
    "writeLines(json_char, \"iris.json\")"
   ]
  },
  {
   "cell_type": "markdown",
   "metadata": {
    "slideshow": {
     "slide_type": "slide"
    }
   },
   "source": [
    "## 重點統整\n",
    "\n",
    "- 以 `read.csv()` 函數載入 `.csv` 與 `.txt` 的表格式文字。\n",
    "- 以 `readxl` 套件的 `read_excel()` 函數載入 `.xlsx` 的試算表。\n",
    "- 以 `jsonlite` 套件的 `fromJSON()` 函數載入 `.json` 的表格式 JSON 檔案。\n",
    "- 以 `RSQLite` 與 `DBI` 套件載入 SQLite 關聯式資料庫管理系統的資料表。"
   ]
  },
  {
   "cell_type": "markdown",
   "metadata": {
    "slideshow": {
     "slide_type": "subslide"
    }
   },
   "source": [
    "## 重點統整（續）\n",
    "\n",
    "- 以 `write.table()` 函數輸出表格式資料為文字檔案。\n",
    "- 以 `jsonlite` 套件的 `toJSON()` 函數與內建 `writeLines()` 函數輸出表格式資料為 JSON 檔案。"
   ]
  }
 ],
 "metadata": {
  "celltoolbar": "Slideshow",
  "kernelspec": {
   "display_name": "R",
   "language": "R",
   "name": "ir"
  },
  "language_info": {
   "codemirror_mode": "r",
   "file_extension": ".r",
   "mimetype": "text/x-r-source",
   "name": "R",
   "pygments_lexer": "r",
   "version": "4.0.5"
  }
 },
 "nbformat": 4,
 "nbformat_minor": 2
}
