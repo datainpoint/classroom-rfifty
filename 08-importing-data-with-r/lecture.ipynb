{
 "cells": [
  {
   "cell_type": "markdown",
   "metadata": {
    "slideshow": {
     "slide_type": "slide"
    }
   },
   "source": [
    "# R 語言的五十道練習\n",
    "\n",
    "> 如何載入資料\n",
    "\n",
    "[數據交點](https://www.datainpoint.com) | 郭耀仁 <yaojenkuo@datainpoint.com>"
   ]
  },
  {
   "cell_type": "markdown",
   "metadata": {
    "slideshow": {
     "slide_type": "slide"
    }
   },
   "source": [
    "## 內建資料"
   ]
  },
  {
   "cell_type": "markdown",
   "metadata": {
    "slideshow": {
     "slide_type": "subslide"
    }
   },
   "source": [
    "## 豐富的內建資料\n",
    "\n",
    "以 `data()` 函數觀察"
   ]
  },
  {
   "cell_type": "code",
   "execution_count": 1,
   "metadata": {},
   "outputs": [],
   "source": [
    "data()"
   ]
  },
  {
   "cell_type": "markdown",
   "metadata": {
    "slideshow": {
     "slide_type": "subslide"
    }
   },
   "source": [
    "## 資料也有說明文件可以讀"
   ]
  },
  {
   "cell_type": "code",
   "execution_count": 2,
   "metadata": {},
   "outputs": [],
   "source": [
    "help(iris) # ?iris will do\n",
    "help(cars) # ?cars will do"
   ]
  },
  {
   "cell_type": "markdown",
   "metadata": {
    "slideshow": {
     "slide_type": "slide"
    }
   },
   "source": [
    "## 輸入表格式資料"
   ]
  },
  {
   "cell_type": "markdown",
   "metadata": {
    "slideshow": {
     "slide_type": "subslide"
    }
   },
   "source": [
    "## 常見的表格式（tabular）資料有哪些？\n",
    "\n",
    "- 以不同符號分隔變數的文字檔（`.txt`、`.csv`）\n",
    "- Excel 試算表（`.xlsx`）\n",
    "- JSON（`.json`）\n",
    "- 資料庫表格（`.db`）"
   ]
  },
  {
   "cell_type": "markdown",
   "metadata": {
    "slideshow": {
     "slide_type": "subslide"
    }
   },
   "source": [
    "## 以逗號分隔值的文字檔：`.csv`\n",
    "\n",
    "Comma-Separated Values，CSV，有時也稱為字元分隔值，因為分隔字元也可以不是逗號，其檔案以純文字形式儲存表格資料。\n",
    "\n",
    "來源：<https://en.wikipedia.org/wiki/Comma-separated_values>"
   ]
  },
  {
   "cell_type": "markdown",
   "metadata": {
    "slideshow": {
     "slide_type": "subslide"
    }
   },
   "source": [
    "## 載入工作目錄中的 `imdb_top_rated.csv`\n",
    "\n",
    "使用 `read.csv()` 函數。\n",
    "\n",
    "```r\n",
    "read.csv(file, sep = \",\", header = TRUE)\n",
    "```"
   ]
  },
  {
   "cell_type": "code",
   "execution_count": 3,
   "metadata": {
    "slideshow": {
     "slide_type": "subslide"
    }
   },
   "outputs": [
    {
     "data": {
      "text/html": [
       "<table>\n",
       "<caption>A data.frame: 6 × 3</caption>\n",
       "<thead>\n",
       "\t<tr><th></th><th scope=col>title</th><th scope=col>release_year</th><th scope=col>imdb_rating</th></tr>\n",
       "\t<tr><th></th><th scope=col>&lt;chr&gt;</th><th scope=col>&lt;int&gt;</th><th scope=col>&lt;dbl&gt;</th></tr>\n",
       "</thead>\n",
       "<tbody>\n",
       "\t<tr><th scope=row>1</th><td>The Shawshank Redemption</td><td>1994</td><td>9.2</td></tr>\n",
       "\t<tr><th scope=row>2</th><td>The Godfather           </td><td>1972</td><td>9.1</td></tr>\n",
       "\t<tr><th scope=row>3</th><td>The Godfather: Part II  </td><td>1974</td><td>9.0</td></tr>\n",
       "\t<tr><th scope=row>4</th><td>The Dark Knight         </td><td>2008</td><td>9.0</td></tr>\n",
       "\t<tr><th scope=row>5</th><td>12 Angry Men            </td><td>1957</td><td>8.9</td></tr>\n",
       "\t<tr><th scope=row>6</th><td>Schindler's List        </td><td>1993</td><td>8.9</td></tr>\n",
       "</tbody>\n",
       "</table>\n"
      ],
      "text/latex": [
       "A data.frame: 6 × 3\n",
       "\\begin{tabular}{r|lll}\n",
       "  & title & release\\_year & imdb\\_rating\\\\\n",
       "  & <chr> & <int> & <dbl>\\\\\n",
       "\\hline\n",
       "\t1 & The Shawshank Redemption & 1994 & 9.2\\\\\n",
       "\t2 & The Godfather            & 1972 & 9.1\\\\\n",
       "\t3 & The Godfather: Part II   & 1974 & 9.0\\\\\n",
       "\t4 & The Dark Knight          & 2008 & 9.0\\\\\n",
       "\t5 & 12 Angry Men             & 1957 & 8.9\\\\\n",
       "\t6 & Schindler's List         & 1993 & 8.9\\\\\n",
       "\\end{tabular}\n"
      ],
      "text/markdown": [
       "\n",
       "A data.frame: 6 × 3\n",
       "\n",
       "| <!--/--> | title &lt;chr&gt; | release_year &lt;int&gt; | imdb_rating &lt;dbl&gt; |\n",
       "|---|---|---|---|\n",
       "| 1 | The Shawshank Redemption | 1994 | 9.2 |\n",
       "| 2 | The Godfather            | 1972 | 9.1 |\n",
       "| 3 | The Godfather: Part II   | 1974 | 9.0 |\n",
       "| 4 | The Dark Knight          | 2008 | 9.0 |\n",
       "| 5 | 12 Angry Men             | 1957 | 8.9 |\n",
       "| 6 | Schindler's List         | 1993 | 8.9 |\n",
       "\n"
      ],
      "text/plain": [
       "  title                    release_year imdb_rating\n",
       "1 The Shawshank Redemption 1994         9.2        \n",
       "2 The Godfather            1972         9.1        \n",
       "3 The Godfather: Part II   1974         9.0        \n",
       "4 The Dark Knight          2008         9.0        \n",
       "5 12 Angry Men             1957         8.9        \n",
       "6 Schindler's List         1993         8.9        "
      ]
     },
     "metadata": {},
     "output_type": "display_data"
    }
   ],
   "source": [
    "imdb_top_rated_csv <- read.csv(\"imdb_top_rated.csv\", sep = \",\", header = TRUE)\n",
    "head(imdb_top_rated_csv)"
   ]
  },
  {
   "cell_type": "markdown",
   "metadata": {
    "slideshow": {
     "slide_type": "subslide"
    }
   },
   "source": [
    "## 文字檔：`.txt`\n",
    "\n",
    "文字檔（text file）是不包含樣式的控制元素、只有字元構成的檔案，能夠被最簡單的文字編輯器直接讀取。\n",
    "\n",
    "來源：<https://en.wikipedia.org/wiki/Text_file>"
   ]
  },
  {
   "cell_type": "markdown",
   "metadata": {
    "slideshow": {
     "slide_type": "subslide"
    }
   },
   "source": [
    "## 載入工作目錄中的 `imdb_top_rated.txt`\n",
    "\n",
    "使用 `read.csv()` 函數。\n",
    "\n",
    "```r\n",
    "read.csv(file, sep = \";\", header = TRUE)\n",
    "```"
   ]
  },
  {
   "cell_type": "code",
   "execution_count": 4,
   "metadata": {
    "slideshow": {
     "slide_type": "subslide"
    }
   },
   "outputs": [
    {
     "data": {
      "text/html": [
       "<table>\n",
       "<caption>A data.frame: 6 × 3</caption>\n",
       "<thead>\n",
       "\t<tr><th></th><th scope=col>title</th><th scope=col>release_year</th><th scope=col>imdb_rating</th></tr>\n",
       "\t<tr><th></th><th scope=col>&lt;chr&gt;</th><th scope=col>&lt;int&gt;</th><th scope=col>&lt;dbl&gt;</th></tr>\n",
       "</thead>\n",
       "<tbody>\n",
       "\t<tr><th scope=row>1</th><td>The Shawshank Redemption</td><td>1994</td><td>9.2</td></tr>\n",
       "\t<tr><th scope=row>2</th><td>The Godfather           </td><td>1972</td><td>9.1</td></tr>\n",
       "\t<tr><th scope=row>3</th><td>The Godfather: Part II  </td><td>1974</td><td>9.0</td></tr>\n",
       "\t<tr><th scope=row>4</th><td>The Dark Knight         </td><td>2008</td><td>9.0</td></tr>\n",
       "\t<tr><th scope=row>5</th><td>12 Angry Men            </td><td>1957</td><td>8.9</td></tr>\n",
       "\t<tr><th scope=row>6</th><td>Schindler's List        </td><td>1993</td><td>8.9</td></tr>\n",
       "</tbody>\n",
       "</table>\n"
      ],
      "text/latex": [
       "A data.frame: 6 × 3\n",
       "\\begin{tabular}{r|lll}\n",
       "  & title & release\\_year & imdb\\_rating\\\\\n",
       "  & <chr> & <int> & <dbl>\\\\\n",
       "\\hline\n",
       "\t1 & The Shawshank Redemption & 1994 & 9.2\\\\\n",
       "\t2 & The Godfather            & 1972 & 9.1\\\\\n",
       "\t3 & The Godfather: Part II   & 1974 & 9.0\\\\\n",
       "\t4 & The Dark Knight          & 2008 & 9.0\\\\\n",
       "\t5 & 12 Angry Men             & 1957 & 8.9\\\\\n",
       "\t6 & Schindler's List         & 1993 & 8.9\\\\\n",
       "\\end{tabular}\n"
      ],
      "text/markdown": [
       "\n",
       "A data.frame: 6 × 3\n",
       "\n",
       "| <!--/--> | title &lt;chr&gt; | release_year &lt;int&gt; | imdb_rating &lt;dbl&gt; |\n",
       "|---|---|---|---|\n",
       "| 1 | The Shawshank Redemption | 1994 | 9.2 |\n",
       "| 2 | The Godfather            | 1972 | 9.1 |\n",
       "| 3 | The Godfather: Part II   | 1974 | 9.0 |\n",
       "| 4 | The Dark Knight          | 2008 | 9.0 |\n",
       "| 5 | 12 Angry Men             | 1957 | 8.9 |\n",
       "| 6 | Schindler's List         | 1993 | 8.9 |\n",
       "\n"
      ],
      "text/plain": [
       "  title                    release_year imdb_rating\n",
       "1 The Shawshank Redemption 1994         9.2        \n",
       "2 The Godfather            1972         9.1        \n",
       "3 The Godfather: Part II   1974         9.0        \n",
       "4 The Dark Knight          2008         9.0        \n",
       "5 12 Angry Men             1957         8.9        \n",
       "6 Schindler's List         1993         8.9        "
      ]
     },
     "metadata": {},
     "output_type": "display_data"
    }
   ],
   "source": [
    "imdb_top_rated_txt <- read.csv(\"imdb_top_rated.txt\", sep = \";\", header = TRUE)\n",
    "head(imdb_top_rated_txt)"
   ]
  },
  {
   "cell_type": "markdown",
   "metadata": {
    "slideshow": {
     "slide_type": "subslide"
    }
   },
   "source": [
    "## Excel 試算表\n",
    "\n",
    "工作目錄的 `imdb_top_rated.xlsx`。"
   ]
  },
  {
   "cell_type": "markdown",
   "metadata": {
    "slideshow": {
     "slide_type": "subslide"
    }
   },
   "source": [
    "## 使用 `readxl` 套件中的 `read_excel()` 函數\n",
    "\n",
    "- 安裝 `readxl` 套件。\n",
    "- 載入 `readxl` 套件。\n",
    "- 使用 `readxl` 套件的 `read_excel()` 函數。"
   ]
  },
  {
   "cell_type": "markdown",
   "metadata": {
    "slideshow": {
     "slide_type": "subslide"
    }
   },
   "source": [
    "## 安裝 `readxl` 套件\n",
    "\n",
    "- 透過 RStudio 的 `Packages` 功能頁籤。\n",
    "- 透過 `install.packages()` 函數。\n",
    "\n",
    "```r\n",
    "install.packages(\"readxl\")\n",
    "```"
   ]
  },
  {
   "cell_type": "markdown",
   "metadata": {
    "slideshow": {
     "slide_type": "subslide"
    }
   },
   "source": [
    "## 載入 `readxl` 套件\n",
    "\n",
    "- 透過 RStudio 的 `Packages` 功能頁籤。\n",
    "- 透過 `library()` 函數。\n",
    "\n",
    "```r\n",
    "library(\"readxl\")\n",
    "```"
   ]
  },
  {
   "cell_type": "markdown",
   "metadata": {
    "slideshow": {
     "slide_type": "subslide"
    }
   },
   "source": [
    "## 載入工作目錄的 `imdb_top_rated.xlsx`"
   ]
  },
  {
   "cell_type": "code",
   "execution_count": 5,
   "metadata": {},
   "outputs": [
    {
     "data": {
      "text/html": [
       "<table>\n",
       "<caption>A tibble: 6 × 3</caption>\n",
       "<thead>\n",
       "\t<tr><th scope=col>title</th><th scope=col>release_year</th><th scope=col>imdb_rating</th></tr>\n",
       "\t<tr><th scope=col>&lt;chr&gt;</th><th scope=col>&lt;dbl&gt;</th><th scope=col>&lt;dbl&gt;</th></tr>\n",
       "</thead>\n",
       "<tbody>\n",
       "\t<tr><td>The Shawshank Redemption</td><td>1994</td><td>9.2</td></tr>\n",
       "\t<tr><td>The Godfather           </td><td>1972</td><td>9.1</td></tr>\n",
       "\t<tr><td>The Godfather: Part II  </td><td>1974</td><td>9.0</td></tr>\n",
       "\t<tr><td>The Dark Knight         </td><td>2008</td><td>9.0</td></tr>\n",
       "\t<tr><td>12 Angry Men            </td><td>1957</td><td>8.9</td></tr>\n",
       "\t<tr><td>Schindler's List        </td><td>1993</td><td>8.9</td></tr>\n",
       "</tbody>\n",
       "</table>\n"
      ],
      "text/latex": [
       "A tibble: 6 × 3\n",
       "\\begin{tabular}{lll}\n",
       " title & release\\_year & imdb\\_rating\\\\\n",
       " <chr> & <dbl> & <dbl>\\\\\n",
       "\\hline\n",
       "\t The Shawshank Redemption & 1994 & 9.2\\\\\n",
       "\t The Godfather            & 1972 & 9.1\\\\\n",
       "\t The Godfather: Part II   & 1974 & 9.0\\\\\n",
       "\t The Dark Knight          & 2008 & 9.0\\\\\n",
       "\t 12 Angry Men             & 1957 & 8.9\\\\\n",
       "\t Schindler's List         & 1993 & 8.9\\\\\n",
       "\\end{tabular}\n"
      ],
      "text/markdown": [
       "\n",
       "A tibble: 6 × 3\n",
       "\n",
       "| title &lt;chr&gt; | release_year &lt;dbl&gt; | imdb_rating &lt;dbl&gt; |\n",
       "|---|---|---|\n",
       "| The Shawshank Redemption | 1994 | 9.2 |\n",
       "| The Godfather            | 1972 | 9.1 |\n",
       "| The Godfather: Part II   | 1974 | 9.0 |\n",
       "| The Dark Knight          | 2008 | 9.0 |\n",
       "| 12 Angry Men             | 1957 | 8.9 |\n",
       "| Schindler's List         | 1993 | 8.9 |\n",
       "\n"
      ],
      "text/plain": [
       "  title                    release_year imdb_rating\n",
       "1 The Shawshank Redemption 1994         9.2        \n",
       "2 The Godfather            1972         9.1        \n",
       "3 The Godfather: Part II   1974         9.0        \n",
       "4 The Dark Knight          2008         9.0        \n",
       "5 12 Angry Men             1957         8.9        \n",
       "6 Schindler's List         1993         8.9        "
      ]
     },
     "metadata": {},
     "output_type": "display_data"
    }
   ],
   "source": [
    "library(\"readxl\")\n",
    "\n",
    "imdb_top_rated_xlsx <- read_excel(\"imdb_top_rated.xlsx\")\n",
    "head(imdb_top_rated_xlsx)"
   ]
  },
  {
   "cell_type": "markdown",
   "metadata": {
    "slideshow": {
     "slide_type": "subslide"
    }
   },
   "source": [
    "## JSON\n",
    "\n",
    "JSON (JavaScript Object Notation) 是一種輕量的資料交換格式，是一種文字檔案但是其格式能夠被輕易地被 C, C++, C#, Java, JavaScript, Perl, Python 等程式語言解析與生成，主要的 JSON 格式有兩種：具有鍵和值的結構與具有順序性的結構，其中具有鍵和值的結構常被稱為 dict、hash table 等，具有順序性的結構常被稱為 array、list 等。\n",
    "\n",
    "來源：<https://www.json.org/json-en.html>"
   ]
  },
  {
   "cell_type": "markdown",
   "metadata": {
    "slideshow": {
     "slide_type": "subslide"
    }
   },
   "source": [
    "## 使用 `jsonlite` 套件中的 `fromJSON()` 函數\n",
    "\n",
    "- 安裝 `jsonlite` 套件。\n",
    "- 載入 `jsonlite` 套件。\n",
    "- 使用 `jsonlite` 套件中的 `fromJSON()` 函數。"
   ]
  },
  {
   "cell_type": "markdown",
   "metadata": {
    "slideshow": {
     "slide_type": "subslide"
    }
   },
   "source": [
    "## 安裝 `jsonlite` 套件\n",
    "\n",
    "- 透過 RStudio 的 `Packages` 功能頁籤。\n",
    "- 透過 `install.packages()` 函數。\n",
    "\n",
    "```r\n",
    "install.packages(\"jsonlite\")\n",
    "```"
   ]
  },
  {
   "cell_type": "markdown",
   "metadata": {
    "slideshow": {
     "slide_type": "subslide"
    }
   },
   "source": [
    "## 載入 `jsonlite` 套件\n",
    "\n",
    "- 透過 RStudio 的 `Packages` 功能頁籤\n",
    "- 透過 `library()` 函數\n",
    "\n",
    "```r\n",
    "library(\"jsonlite\")\n",
    "```"
   ]
  },
  {
   "cell_type": "markdown",
   "metadata": {
    "slideshow": {
     "slide_type": "subslide"
    }
   },
   "source": [
    "## 載入工作目錄的 `imdb_top_rated.json`"
   ]
  },
  {
   "cell_type": "code",
   "execution_count": 6,
   "metadata": {},
   "outputs": [
    {
     "data": {
      "text/html": [
       "<table>\n",
       "<caption>A data.frame: 6 × 3</caption>\n",
       "<thead>\n",
       "\t<tr><th></th><th scope=col>title</th><th scope=col>release_year</th><th scope=col>imdb_rating</th></tr>\n",
       "\t<tr><th></th><th scope=col>&lt;chr&gt;</th><th scope=col>&lt;int&gt;</th><th scope=col>&lt;dbl&gt;</th></tr>\n",
       "</thead>\n",
       "<tbody>\n",
       "\t<tr><th scope=row>1</th><td>The Shawshank Redemption</td><td>1994</td><td>9.2</td></tr>\n",
       "\t<tr><th scope=row>2</th><td>The Godfather           </td><td>1972</td><td>9.1</td></tr>\n",
       "\t<tr><th scope=row>3</th><td>The Godfather: Part II  </td><td>1974</td><td>9.0</td></tr>\n",
       "\t<tr><th scope=row>4</th><td>The Dark Knight         </td><td>2008</td><td>9.0</td></tr>\n",
       "\t<tr><th scope=row>5</th><td>12 Angry Men            </td><td>1957</td><td>8.9</td></tr>\n",
       "\t<tr><th scope=row>6</th><td>Schindler's List        </td><td>1993</td><td>8.9</td></tr>\n",
       "</tbody>\n",
       "</table>\n"
      ],
      "text/latex": [
       "A data.frame: 6 × 3\n",
       "\\begin{tabular}{r|lll}\n",
       "  & title & release\\_year & imdb\\_rating\\\\\n",
       "  & <chr> & <int> & <dbl>\\\\\n",
       "\\hline\n",
       "\t1 & The Shawshank Redemption & 1994 & 9.2\\\\\n",
       "\t2 & The Godfather            & 1972 & 9.1\\\\\n",
       "\t3 & The Godfather: Part II   & 1974 & 9.0\\\\\n",
       "\t4 & The Dark Knight          & 2008 & 9.0\\\\\n",
       "\t5 & 12 Angry Men             & 1957 & 8.9\\\\\n",
       "\t6 & Schindler's List         & 1993 & 8.9\\\\\n",
       "\\end{tabular}\n"
      ],
      "text/markdown": [
       "\n",
       "A data.frame: 6 × 3\n",
       "\n",
       "| <!--/--> | title &lt;chr&gt; | release_year &lt;int&gt; | imdb_rating &lt;dbl&gt; |\n",
       "|---|---|---|---|\n",
       "| 1 | The Shawshank Redemption | 1994 | 9.2 |\n",
       "| 2 | The Godfather            | 1972 | 9.1 |\n",
       "| 3 | The Godfather: Part II   | 1974 | 9.0 |\n",
       "| 4 | The Dark Knight          | 2008 | 9.0 |\n",
       "| 5 | 12 Angry Men             | 1957 | 8.9 |\n",
       "| 6 | Schindler's List         | 1993 | 8.9 |\n",
       "\n"
      ],
      "text/plain": [
       "  title                    release_year imdb_rating\n",
       "1 The Shawshank Redemption 1994         9.2        \n",
       "2 The Godfather            1972         9.1        \n",
       "3 The Godfather: Part II   1974         9.0        \n",
       "4 The Dark Knight          2008         9.0        \n",
       "5 12 Angry Men             1957         8.9        \n",
       "6 Schindler's List         1993         8.9        "
      ]
     },
     "metadata": {},
     "output_type": "display_data"
    }
   ],
   "source": [
    "library(\"jsonlite\")\n",
    "\n",
    "imdb_top_rated_json <- fromJSON(\"imdb_top_rated.json\")\n",
    "head(imdb_top_rated_json)"
   ]
  },
  {
   "cell_type": "markdown",
   "metadata": {
    "slideshow": {
     "slide_type": "subslide"
    }
   },
   "source": [
    "## 資料庫表格\n",
    "\n",
    "在關聯式資料庫中，資料表又稱表格，是一個二維的資料結構，由水平的列和垂直的欄組成。\n",
    "\n",
    "來源：<https://en.wikipedia.org/wiki/Table_(database)>"
   ]
  },
  {
   "cell_type": "markdown",
   "metadata": {
    "slideshow": {
     "slide_type": "subslide"
    }
   },
   "source": [
    "## 使用 `RSQLite` 套件與 `DBI` 套件\n",
    "\n",
    "- 安裝 `RSQLite` 套件。\n",
    "- 載入 `DBI` 套件。\n",
    "- 使用 `RSQLite::SQLite()` 建立連線。"
   ]
  },
  {
   "cell_type": "markdown",
   "metadata": {
    "slideshow": {
     "slide_type": "subslide"
    }
   },
   "source": [
    "## 使用 `RSQLite` 套件與 `DBI` 套件（續）\n",
    "\n",
    "- 使用 `DBI` 套件的 `dbReadTable()` 函數載入表格。\n",
    "- 使用 `DBI` 套件的 `dbSendQuery()` 搭配 `dbFetch()` 函數查詢表格。\n",
    "- 使用 `DBI` 套件的 `dbClearResult()` 函數清除查詢結果。\n",
    "- 使用 `DBI` 套件的 `dbDisconnect()` 函數關閉資料庫連線。"
   ]
  },
  {
   "cell_type": "markdown",
   "metadata": {
    "slideshow": {
     "slide_type": "subslide"
    }
   },
   "source": [
    "## 安裝 `RSQLite` 套件\n",
    "\n",
    "- 透過 RStudio 的 `Packages` 功能頁籤\n",
    "- 透過 `install.packages()` 函數\n",
    "\n",
    "```r\n",
    "install.packages(\"RSQLite\")\n",
    "```"
   ]
  },
  {
   "cell_type": "markdown",
   "metadata": {
    "slideshow": {
     "slide_type": "subslide"
    }
   },
   "source": [
    "## 載入 `DBI` 套件\n",
    "\n",
    "- 透過 RStudio 的 `Packages` 功能頁籤\n",
    "- 透過 `library()` 函數\n",
    "\n",
    "```r\n",
    "library(\"DBI\")\n",
    "```"
   ]
  },
  {
   "cell_type": "markdown",
   "metadata": {
    "slideshow": {
     "slide_type": "subslide"
    }
   },
   "source": [
    "## 使用 `DBI` 套件的 `dbConnect()` 函數建立連線"
   ]
  },
  {
   "cell_type": "code",
   "execution_count": 7,
   "metadata": {},
   "outputs": [
    {
     "data": {
      "text/html": [
       "'top_rated'"
      ],
      "text/latex": [
       "'top\\_rated'"
      ],
      "text/markdown": [
       "'top_rated'"
      ],
      "text/plain": [
       "[1] \"top_rated\""
      ]
     },
     "metadata": {},
     "output_type": "display_data"
    }
   ],
   "source": [
    "library(\"DBI\")\n",
    "\n",
    "con <- dbConnect(RSQLite::SQLite(), \"imdb.db\")\n",
    "dbListTables(con)"
   ]
  },
  {
   "cell_type": "markdown",
   "metadata": {
    "slideshow": {
     "slide_type": "subslide"
    }
   },
   "source": [
    "## 使用 `DBI` 套件的 `dbReadTable()` 函數載入表格"
   ]
  },
  {
   "cell_type": "code",
   "execution_count": 8,
   "metadata": {},
   "outputs": [
    {
     "data": {
      "text/html": [
       "<table>\n",
       "<caption>A data.frame: 6 × 3</caption>\n",
       "<thead>\n",
       "\t<tr><th></th><th scope=col>title</th><th scope=col>release_year</th><th scope=col>imdb_rating</th></tr>\n",
       "\t<tr><th></th><th scope=col>&lt;chr&gt;</th><th scope=col>&lt;int&gt;</th><th scope=col>&lt;dbl&gt;</th></tr>\n",
       "</thead>\n",
       "<tbody>\n",
       "\t<tr><th scope=row>1</th><td>The Shawshank Redemption</td><td>1994</td><td>9.2</td></tr>\n",
       "\t<tr><th scope=row>2</th><td>The Godfather           </td><td>1972</td><td>9.1</td></tr>\n",
       "\t<tr><th scope=row>3</th><td>The Godfather: Part II  </td><td>1974</td><td>9.0</td></tr>\n",
       "\t<tr><th scope=row>4</th><td>The Dark Knight         </td><td>2008</td><td>9.0</td></tr>\n",
       "\t<tr><th scope=row>5</th><td>12 Angry Men            </td><td>1957</td><td>8.9</td></tr>\n",
       "\t<tr><th scope=row>6</th><td>Schindler's List        </td><td>1993</td><td>8.9</td></tr>\n",
       "</tbody>\n",
       "</table>\n"
      ],
      "text/latex": [
       "A data.frame: 6 × 3\n",
       "\\begin{tabular}{r|lll}\n",
       "  & title & release\\_year & imdb\\_rating\\\\\n",
       "  & <chr> & <int> & <dbl>\\\\\n",
       "\\hline\n",
       "\t1 & The Shawshank Redemption & 1994 & 9.2\\\\\n",
       "\t2 & The Godfather            & 1972 & 9.1\\\\\n",
       "\t3 & The Godfather: Part II   & 1974 & 9.0\\\\\n",
       "\t4 & The Dark Knight          & 2008 & 9.0\\\\\n",
       "\t5 & 12 Angry Men             & 1957 & 8.9\\\\\n",
       "\t6 & Schindler's List         & 1993 & 8.9\\\\\n",
       "\\end{tabular}\n"
      ],
      "text/markdown": [
       "\n",
       "A data.frame: 6 × 3\n",
       "\n",
       "| <!--/--> | title &lt;chr&gt; | release_year &lt;int&gt; | imdb_rating &lt;dbl&gt; |\n",
       "|---|---|---|---|\n",
       "| 1 | The Shawshank Redemption | 1994 | 9.2 |\n",
       "| 2 | The Godfather            | 1972 | 9.1 |\n",
       "| 3 | The Godfather: Part II   | 1974 | 9.0 |\n",
       "| 4 | The Dark Knight          | 2008 | 9.0 |\n",
       "| 5 | 12 Angry Men             | 1957 | 8.9 |\n",
       "| 6 | Schindler's List         | 1993 | 8.9 |\n",
       "\n"
      ],
      "text/plain": [
       "  title                    release_year imdb_rating\n",
       "1 The Shawshank Redemption 1994         9.2        \n",
       "2 The Godfather            1972         9.1        \n",
       "3 The Godfather: Part II   1974         9.0        \n",
       "4 The Dark Knight          2008         9.0        \n",
       "5 12 Angry Men             1957         8.9        \n",
       "6 Schindler's List         1993         8.9        "
      ]
     },
     "metadata": {},
     "output_type": "display_data"
    }
   ],
   "source": [
    "imdb_top_rated_db <- dbReadTable(con, \"top_rated\")\n",
    "head(imdb_top_rated_db)"
   ]
  },
  {
   "cell_type": "markdown",
   "metadata": {
    "slideshow": {
     "slide_type": "subslide"
    }
   },
   "source": [
    "## 使用 `DBI` 套件的 `dbSendQuery()` 搭配 `dbFetch()` 函數查詢表格"
   ]
  },
  {
   "cell_type": "code",
   "execution_count": 9,
   "metadata": {},
   "outputs": [
    {
     "data": {
      "text/html": [
       "<table>\n",
       "<caption>A data.frame: 5 × 3</caption>\n",
       "<thead>\n",
       "\t<tr><th scope=col>title</th><th scope=col>release_year</th><th scope=col>imdb_rating</th></tr>\n",
       "\t<tr><th scope=col>&lt;chr&gt;</th><th scope=col>&lt;int&gt;</th><th scope=col>&lt;dbl&gt;</th></tr>\n",
       "</thead>\n",
       "<tbody>\n",
       "\t<tr><td>The Shawshank Redemption</td><td>1994</td><td>9.2</td></tr>\n",
       "\t<tr><td>Pulp Fiction            </td><td>1994</td><td>8.8</td></tr>\n",
       "\t<tr><td>Forrest Gump            </td><td>1994</td><td>8.8</td></tr>\n",
       "\t<tr><td>Léon: The Professional  </td><td>1994</td><td>8.5</td></tr>\n",
       "\t<tr><td>The Lion King           </td><td>1994</td><td>8.5</td></tr>\n",
       "</tbody>\n",
       "</table>\n"
      ],
      "text/latex": [
       "A data.frame: 5 × 3\n",
       "\\begin{tabular}{lll}\n",
       " title & release\\_year & imdb\\_rating\\\\\n",
       " <chr> & <int> & <dbl>\\\\\n",
       "\\hline\n",
       "\t The Shawshank Redemption & 1994 & 9.2\\\\\n",
       "\t Pulp Fiction             & 1994 & 8.8\\\\\n",
       "\t Forrest Gump             & 1994 & 8.8\\\\\n",
       "\t Léon: The Professional   & 1994 & 8.5\\\\\n",
       "\t The Lion King            & 1994 & 8.5\\\\\n",
       "\\end{tabular}\n"
      ],
      "text/markdown": [
       "\n",
       "A data.frame: 5 × 3\n",
       "\n",
       "| title &lt;chr&gt; | release_year &lt;int&gt; | imdb_rating &lt;dbl&gt; |\n",
       "|---|---|---|\n",
       "| The Shawshank Redemption | 1994 | 9.2 |\n",
       "| Pulp Fiction             | 1994 | 8.8 |\n",
       "| Forrest Gump             | 1994 | 8.8 |\n",
       "| Léon: The Professional   | 1994 | 8.5 |\n",
       "| The Lion King            | 1994 | 8.5 |\n",
       "\n"
      ],
      "text/plain": [
       "  title                    release_year imdb_rating\n",
       "1 The Shawshank Redemption 1994         9.2        \n",
       "2 Pulp Fiction             1994         8.8        \n",
       "3 Forrest Gump             1994         8.8        \n",
       "4 Léon: The Professional   1994         8.5        \n",
       "5 The Lion King            1994         8.5        "
      ]
     },
     "metadata": {},
     "output_type": "display_data"
    }
   ],
   "source": [
    "sql_query <- \"SELECT * FROM top_rated WHERE release_year = 1994;\"\n",
    "res <- dbSendQuery(con, sql_query)\n",
    "dbFetch(res)"
   ]
  },
  {
   "cell_type": "markdown",
   "metadata": {
    "slideshow": {
     "slide_type": "subslide"
    }
   },
   "source": [
    "## 完成查詢之後\n",
    "\n",
    "- 使用 `DBI` 套件的 `dbClearResult()` 函數清除查詢結果。\n",
    "- 使用 `DBI` 套件的 `dbDisconnect()` 函數關閉資料庫連線。"
   ]
  },
  {
   "cell_type": "code",
   "execution_count": 10,
   "metadata": {
    "slideshow": {
     "slide_type": "-"
    }
   },
   "outputs": [],
   "source": [
    "dbClearResult(res)\n",
    "dbDisconnect(con)"
   ]
  },
  {
   "cell_type": "markdown",
   "metadata": {
    "slideshow": {
     "slide_type": "slide"
    }
   },
   "source": [
    "## 輸出表格式資料"
   ]
  },
  {
   "cell_type": "markdown",
   "metadata": {
    "slideshow": {
     "slide_type": "subslide"
    }
   },
   "source": [
    "## 常用作表格式資料輸出的檔案格式\n",
    "\n",
    "- 表格式文字檔 `.txt` 或 `.csv`\n",
    "- JSON `.json`"
   ]
  },
  {
   "cell_type": "markdown",
   "metadata": {
    "slideshow": {
     "slide_type": "subslide"
    }
   },
   "source": [
    "## 表格式文字檔 `.txt` 或 `.csv`\n",
    "\n",
    "使用 `write.table()` 函數。"
   ]
  },
  {
   "cell_type": "code",
   "execution_count": 11,
   "metadata": {},
   "outputs": [],
   "source": [
    "write.table(iris, file = \"iris.txt\", row.names = FALSE) # do not output row names\n",
    "write.table(iris, file = \"iris.csv\", sep = \",\", row.names = FALSE) # \",\" as the separator"
   ]
  },
  {
   "cell_type": "markdown",
   "metadata": {
    "slideshow": {
     "slide_type": "subslide"
    }
   },
   "source": [
    "## JSON `.json`\n",
    "\n",
    "使用 `jsonlite` 的 `toJSON()` 函數搭配 `writeLines()` 函數。"
   ]
  },
  {
   "cell_type": "code",
   "execution_count": 12,
   "metadata": {},
   "outputs": [],
   "source": [
    "library(\"jsonlite\")\n",
    "\n",
    "json_char <- toJSON(iris)\n",
    "writeLines(json_char, \"iris.json\")"
   ]
  }
 ],
 "metadata": {
  "celltoolbar": "Slideshow",
  "kernelspec": {
   "display_name": "R",
   "language": "R",
   "name": "ir"
  },
  "language_info": {
   "codemirror_mode": "r",
   "file_extension": ".r",
   "mimetype": "text/x-r-source",
   "name": "R",
   "pygments_lexer": "r",
   "version": "4.0.5"
  }
 },
 "nbformat": 4,
 "nbformat_minor": 2
}
