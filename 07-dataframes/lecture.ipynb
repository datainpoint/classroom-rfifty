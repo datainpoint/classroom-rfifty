{
 "cells": [
  {
   "cell_type": "markdown",
   "metadata": {
    "slideshow": {
     "slide_type": "slide"
    }
   },
   "source": [
    "# R 語言的五十道練習\n",
    "\n",
    "> 資料結構：資料框 \n",
    "\n",
    "[數據交點](https://www.datainpoint.com) | 郭耀仁 <yaojenkuo@datainpoint.com>"
   ]
  },
  {
   "cell_type": "markdown",
   "metadata": {
    "slideshow": {
     "slide_type": "subslide"
    }
   },
   "source": [
    "## R 語言中的資料結構\n",
    "\n",
    "- 向量（vector）\n",
    "- 清單（list）\n",
    "- **資料框（data.frame）**\n",
    "- 因素向量（factor）\n",
    "- 矩陣（matrix）\n",
    "- 陣列（array）"
   ]
  },
  {
   "cell_type": "markdown",
   "metadata": {
    "slideshow": {
     "slide_type": "slide"
    }
   },
   "source": [
    "## 什麼是資料框"
   ]
  },
  {
   "cell_type": "markdown",
   "metadata": {
    "slideshow": {
     "slide_type": "subslide"
    }
   },
   "source": [
    "## 關於資料框\n",
    "\n",
    "資料框是 R 語言中用來處理「表格式」的首選資料結構，具有列（Rows）與欄（Columns）兩個維度儲存資料，列常被稱為觀測值、欄常被稱為變數，一個 `m` 列 `n` 欄的資料框外型可以被描述為 `m x n` 或者 `(m, n)`。"
   ]
  },
  {
   "cell_type": "markdown",
   "metadata": {
    "slideshow": {
     "slide_type": "subslide"
    }
   },
   "source": [
    "## 資料框的索引\n",
    "\n",
    "- 資料框的每一欄都儲存不同類型資料，並且能夠取出成為向量。\n",
    "- 資料框除了列與欄，亦有列索引以及欄標籤用來標記資料方便選取。"
   ]
  },
  {
   "cell_type": "markdown",
   "metadata": {
    "slideshow": {
     "slide_type": "slide"
    }
   },
   "source": [
    "## 如何創造資料框"
   ]
  },
  {
   "cell_type": "markdown",
   "metadata": {
    "slideshow": {
     "slide_type": "subslide"
    }
   },
   "source": [
    "## 使用 `data.frame` 函數\n",
    "\n",
    "```r\n",
    "data.frame(...)\n",
    "```"
   ]
  },
  {
   "cell_type": "code",
   "execution_count": 1,
   "metadata": {
    "slideshow": {
     "slide_type": "subslide"
    }
   },
   "outputs": [
    {
     "name": "stdout",
     "output_type": "stream",
     "text": [
      "[1] \"data.frame\"\n"
     ]
    }
   ],
   "source": [
    "titles <- c(\"The Fellowship of the Ring\", \"The Two Towers\", \"The Return of the King\")\n",
    "release_years <- c(2001, 2002, 2003)\n",
    "box_offices <- c(897690072, 947495095, 1146030912)\n",
    "director <- \"Peter Jackson\"\n",
    "df <- data.frame(titles, release_years, box_offices, director)\n",
    "print(class(df))"
   ]
  },
  {
   "cell_type": "code",
   "execution_count": 2,
   "metadata": {
    "slideshow": {
     "slide_type": "subslide"
    }
   },
   "outputs": [
    {
     "data": {
      "text/html": [
       "<table>\n",
       "<caption>A data.frame: 3 × 4</caption>\n",
       "<thead>\n",
       "\t<tr><th scope=col>titles</th><th scope=col>release_years</th><th scope=col>box_offices</th><th scope=col>director</th></tr>\n",
       "\t<tr><th scope=col>&lt;chr&gt;</th><th scope=col>&lt;dbl&gt;</th><th scope=col>&lt;dbl&gt;</th><th scope=col>&lt;chr&gt;</th></tr>\n",
       "</thead>\n",
       "<tbody>\n",
       "\t<tr><td>The Fellowship of the Ring</td><td>2001</td><td> 897690072</td><td>Peter Jackson</td></tr>\n",
       "\t<tr><td>The Two Towers            </td><td>2002</td><td> 947495095</td><td>Peter Jackson</td></tr>\n",
       "\t<tr><td>The Return of the King    </td><td>2003</td><td>1146030912</td><td>Peter Jackson</td></tr>\n",
       "</tbody>\n",
       "</table>\n"
      ],
      "text/latex": [
       "A data.frame: 3 × 4\n",
       "\\begin{tabular}{llll}\n",
       " titles & release\\_years & box\\_offices & director\\\\\n",
       " <chr> & <dbl> & <dbl> & <chr>\\\\\n",
       "\\hline\n",
       "\t The Fellowship of the Ring & 2001 &  897690072 & Peter Jackson\\\\\n",
       "\t The Two Towers             & 2002 &  947495095 & Peter Jackson\\\\\n",
       "\t The Return of the King     & 2003 & 1146030912 & Peter Jackson\\\\\n",
       "\\end{tabular}\n"
      ],
      "text/markdown": [
       "\n",
       "A data.frame: 3 × 4\n",
       "\n",
       "| titles &lt;chr&gt; | release_years &lt;dbl&gt; | box_offices &lt;dbl&gt; | director &lt;chr&gt; |\n",
       "|---|---|---|---|\n",
       "| The Fellowship of the Ring | 2001 |  897690072 | Peter Jackson |\n",
       "| The Two Towers             | 2002 |  947495095 | Peter Jackson |\n",
       "| The Return of the King     | 2003 | 1146030912 | Peter Jackson |\n",
       "\n"
      ],
      "text/plain": [
       "  titles                     release_years box_offices director     \n",
       "1 The Fellowship of the Ring 2001           897690072  Peter Jackson\n",
       "2 The Two Towers             2002           947495095  Peter Jackson\n",
       "3 The Return of the King     2003          1146030912  Peter Jackson"
      ]
     },
     "metadata": {},
     "output_type": "display_data"
    }
   ],
   "source": [
    "df"
   ]
  },
  {
   "cell_type": "markdown",
   "metadata": {
    "slideshow": {
     "slide_type": "subslide"
    }
   },
   "source": [
    "## 在創造資料框時可以命名變數名稱"
   ]
  },
  {
   "cell_type": "code",
   "execution_count": 3,
   "metadata": {
    "slideshow": {
     "slide_type": "-"
    }
   },
   "outputs": [],
   "source": [
    "df <- data.frame(\n",
    "    title = titles,\n",
    "    release_year = release_years,\n",
    "    box_office = box_offices,\n",
    "    director = director\n",
    ")"
   ]
  },
  {
   "cell_type": "code",
   "execution_count": 4,
   "metadata": {
    "slideshow": {
     "slide_type": "subslide"
    }
   },
   "outputs": [
    {
     "data": {
      "text/html": [
       "<table>\n",
       "<caption>A data.frame: 3 × 4</caption>\n",
       "<thead>\n",
       "\t<tr><th scope=col>title</th><th scope=col>release_year</th><th scope=col>box_office</th><th scope=col>director</th></tr>\n",
       "\t<tr><th scope=col>&lt;chr&gt;</th><th scope=col>&lt;dbl&gt;</th><th scope=col>&lt;dbl&gt;</th><th scope=col>&lt;chr&gt;</th></tr>\n",
       "</thead>\n",
       "<tbody>\n",
       "\t<tr><td>The Fellowship of the Ring</td><td>2001</td><td> 897690072</td><td>Peter Jackson</td></tr>\n",
       "\t<tr><td>The Two Towers            </td><td>2002</td><td> 947495095</td><td>Peter Jackson</td></tr>\n",
       "\t<tr><td>The Return of the King    </td><td>2003</td><td>1146030912</td><td>Peter Jackson</td></tr>\n",
       "</tbody>\n",
       "</table>\n"
      ],
      "text/latex": [
       "A data.frame: 3 × 4\n",
       "\\begin{tabular}{llll}\n",
       " title & release\\_year & box\\_office & director\\\\\n",
       " <chr> & <dbl> & <dbl> & <chr>\\\\\n",
       "\\hline\n",
       "\t The Fellowship of the Ring & 2001 &  897690072 & Peter Jackson\\\\\n",
       "\t The Two Towers             & 2002 &  947495095 & Peter Jackson\\\\\n",
       "\t The Return of the King     & 2003 & 1146030912 & Peter Jackson\\\\\n",
       "\\end{tabular}\n"
      ],
      "text/markdown": [
       "\n",
       "A data.frame: 3 × 4\n",
       "\n",
       "| title &lt;chr&gt; | release_year &lt;dbl&gt; | box_office &lt;dbl&gt; | director &lt;chr&gt; |\n",
       "|---|---|---|---|\n",
       "| The Fellowship of the Ring | 2001 |  897690072 | Peter Jackson |\n",
       "| The Two Towers             | 2002 |  947495095 | Peter Jackson |\n",
       "| The Return of the King     | 2003 | 1146030912 | Peter Jackson |\n",
       "\n"
      ],
      "text/plain": [
       "  title                      release_year box_office director     \n",
       "1 The Fellowship of the Ring 2001          897690072 Peter Jackson\n",
       "2 The Two Towers             2002          947495095 Peter Jackson\n",
       "3 The Return of the King     2003         1146030912 Peter Jackson"
      ]
     },
     "metadata": {},
     "output_type": "display_data"
    }
   ],
   "source": [
    "df"
   ]
  },
  {
   "cell_type": "markdown",
   "metadata": {
    "slideshow": {
     "slide_type": "slide"
    }
   },
   "source": [
    "## 如何讀取資料框"
   ]
  },
  {
   "cell_type": "markdown",
   "metadata": {
    "slideshow": {
     "slide_type": "subslide"
    }
   },
   "source": [
    "## 讀取資料框的變數\n",
    "\n",
    "- 使用兩組中括號 `[[\"column_name\"]]`。\n",
    "- 使用錢號 `$column_name`。\n",
    "- 使用欄位順序 `[, column_index]`。"
   ]
  },
  {
   "cell_type": "code",
   "execution_count": 5,
   "metadata": {
    "slideshow": {
     "slide_type": "subslide"
    }
   },
   "outputs": [
    {
     "name": "stdout",
     "output_type": "stream",
     "text": [
      "[1] \"The Fellowship of the Ring\" \"The Two Towers\"            \n",
      "[3] \"The Return of the King\"    \n",
      "[1] 2001 2002 2003\n",
      "[1]  897690072  947495095 1146030912\n"
     ]
    }
   ],
   "source": [
    "df <- data.frame(\n",
    "    title = titles,\n",
    "    release_year = release_years,\n",
    "    box_office = box_offices,\n",
    "    director = director\n",
    ")\n",
    "print(df[[\"title\"]])\n",
    "print(df$release_year)\n",
    "print(df[, 3])"
   ]
  },
  {
   "cell_type": "markdown",
   "metadata": {
    "slideshow": {
     "slide_type": "subslide"
    }
   },
   "source": [
    "## 讀取資料框的多個變數"
   ]
  },
  {
   "cell_type": "code",
   "execution_count": 6,
   "metadata": {},
   "outputs": [
    {
     "data": {
      "text/html": [
       "<table>\n",
       "<caption>A data.frame: 3 × 2</caption>\n",
       "<thead>\n",
       "\t<tr><th scope=col>title</th><th scope=col>director</th></tr>\n",
       "\t<tr><th scope=col>&lt;chr&gt;</th><th scope=col>&lt;chr&gt;</th></tr>\n",
       "</thead>\n",
       "<tbody>\n",
       "\t<tr><td>The Fellowship of the Ring</td><td>Peter Jackson</td></tr>\n",
       "\t<tr><td>The Two Towers            </td><td>Peter Jackson</td></tr>\n",
       "\t<tr><td>The Return of the King    </td><td>Peter Jackson</td></tr>\n",
       "</tbody>\n",
       "</table>\n"
      ],
      "text/latex": [
       "A data.frame: 3 × 2\n",
       "\\begin{tabular}{ll}\n",
       " title & director\\\\\n",
       " <chr> & <chr>\\\\\n",
       "\\hline\n",
       "\t The Fellowship of the Ring & Peter Jackson\\\\\n",
       "\t The Two Towers             & Peter Jackson\\\\\n",
       "\t The Return of the King     & Peter Jackson\\\\\n",
       "\\end{tabular}\n"
      ],
      "text/markdown": [
       "\n",
       "A data.frame: 3 × 2\n",
       "\n",
       "| title &lt;chr&gt; | director &lt;chr&gt; |\n",
       "|---|---|\n",
       "| The Fellowship of the Ring | Peter Jackson |\n",
       "| The Two Towers             | Peter Jackson |\n",
       "| The Return of the King     | Peter Jackson |\n",
       "\n"
      ],
      "text/plain": [
       "  title                      director     \n",
       "1 The Fellowship of the Ring Peter Jackson\n",
       "2 The Two Towers             Peter Jackson\n",
       "3 The Return of the King     Peter Jackson"
      ]
     },
     "metadata": {},
     "output_type": "display_data"
    },
    {
     "data": {
      "text/html": [
       "<table>\n",
       "<caption>A data.frame: 3 × 2</caption>\n",
       "<thead>\n",
       "\t<tr><th scope=col>title</th><th scope=col>director</th></tr>\n",
       "\t<tr><th scope=col>&lt;chr&gt;</th><th scope=col>&lt;chr&gt;</th></tr>\n",
       "</thead>\n",
       "<tbody>\n",
       "\t<tr><td>The Fellowship of the Ring</td><td>Peter Jackson</td></tr>\n",
       "\t<tr><td>The Two Towers            </td><td>Peter Jackson</td></tr>\n",
       "\t<tr><td>The Return of the King    </td><td>Peter Jackson</td></tr>\n",
       "</tbody>\n",
       "</table>\n"
      ],
      "text/latex": [
       "A data.frame: 3 × 2\n",
       "\\begin{tabular}{ll}\n",
       " title & director\\\\\n",
       " <chr> & <chr>\\\\\n",
       "\\hline\n",
       "\t The Fellowship of the Ring & Peter Jackson\\\\\n",
       "\t The Two Towers             & Peter Jackson\\\\\n",
       "\t The Return of the King     & Peter Jackson\\\\\n",
       "\\end{tabular}\n"
      ],
      "text/markdown": [
       "\n",
       "A data.frame: 3 × 2\n",
       "\n",
       "| title &lt;chr&gt; | director &lt;chr&gt; |\n",
       "|---|---|\n",
       "| The Fellowship of the Ring | Peter Jackson |\n",
       "| The Two Towers             | Peter Jackson |\n",
       "| The Return of the King     | Peter Jackson |\n",
       "\n"
      ],
      "text/plain": [
       "  title                      director     \n",
       "1 The Fellowship of the Ring Peter Jackson\n",
       "2 The Two Towers             Peter Jackson\n",
       "3 The Return of the King     Peter Jackson"
      ]
     },
     "metadata": {},
     "output_type": "display_data"
    }
   ],
   "source": [
    "df[, c(\"title\", \"director\")]\n",
    "df[, c(1, 4)]"
   ]
  },
  {
   "cell_type": "markdown",
   "metadata": {
    "slideshow": {
     "slide_type": "subslide"
    }
   },
   "source": [
    "## 讀取資料框的觀測值\n",
    "\n",
    "- 使用列數 `[row_index,]` 讀取對應的觀測值。\n",
    "- 使用邏輯值向量 `[logicals,]` 讀取判斷結果為 `TRUE` 的觀測值。"
   ]
  },
  {
   "cell_type": "markdown",
   "metadata": {
    "slideshow": {
     "slide_type": "subslide"
    }
   },
   "source": [
    "## 使用列數讀取對應的觀測值"
   ]
  },
  {
   "cell_type": "code",
   "execution_count": 7,
   "metadata": {},
   "outputs": [
    {
     "data": {
      "text/html": [
       "<table>\n",
       "<caption>A data.frame: 2 × 4</caption>\n",
       "<thead>\n",
       "\t<tr><th></th><th scope=col>title</th><th scope=col>release_year</th><th scope=col>box_office</th><th scope=col>director</th></tr>\n",
       "\t<tr><th></th><th scope=col>&lt;chr&gt;</th><th scope=col>&lt;dbl&gt;</th><th scope=col>&lt;dbl&gt;</th><th scope=col>&lt;chr&gt;</th></tr>\n",
       "</thead>\n",
       "<tbody>\n",
       "\t<tr><th scope=row>1</th><td>The Fellowship of the Ring</td><td>2001</td><td> 897690072</td><td>Peter Jackson</td></tr>\n",
       "\t<tr><th scope=row>3</th><td>The Return of the King    </td><td>2003</td><td>1146030912</td><td>Peter Jackson</td></tr>\n",
       "</tbody>\n",
       "</table>\n"
      ],
      "text/latex": [
       "A data.frame: 2 × 4\n",
       "\\begin{tabular}{r|llll}\n",
       "  & title & release\\_year & box\\_office & director\\\\\n",
       "  & <chr> & <dbl> & <dbl> & <chr>\\\\\n",
       "\\hline\n",
       "\t1 & The Fellowship of the Ring & 2001 &  897690072 & Peter Jackson\\\\\n",
       "\t3 & The Return of the King     & 2003 & 1146030912 & Peter Jackson\\\\\n",
       "\\end{tabular}\n"
      ],
      "text/markdown": [
       "\n",
       "A data.frame: 2 × 4\n",
       "\n",
       "| <!--/--> | title &lt;chr&gt; | release_year &lt;dbl&gt; | box_office &lt;dbl&gt; | director &lt;chr&gt; |\n",
       "|---|---|---|---|---|\n",
       "| 1 | The Fellowship of the Ring | 2001 |  897690072 | Peter Jackson |\n",
       "| 3 | The Return of the King     | 2003 | 1146030912 | Peter Jackson |\n",
       "\n"
      ],
      "text/plain": [
       "  title                      release_year box_office director     \n",
       "1 The Fellowship of the Ring 2001          897690072 Peter Jackson\n",
       "3 The Return of the King     2003         1146030912 Peter Jackson"
      ]
     },
     "metadata": {},
     "output_type": "display_data"
    }
   ],
   "source": [
    "df[c(1, 3),]"
   ]
  },
  {
   "cell_type": "markdown",
   "metadata": {
    "slideshow": {
     "slide_type": "subslide"
    }
   },
   "source": [
    "## 使用邏輯值向量讀取判斷結果為 `TRUE` 的觀測值"
   ]
  },
  {
   "cell_type": "code",
   "execution_count": 8,
   "metadata": {
    "slideshow": {
     "slide_type": "-"
    }
   },
   "outputs": [
    {
     "name": "stdout",
     "output_type": "stream",
     "text": [
      "[1]  TRUE FALSE  TRUE\n"
     ]
    },
    {
     "data": {
      "text/html": [
       "<table>\n",
       "<caption>A data.frame: 2 × 4</caption>\n",
       "<thead>\n",
       "\t<tr><th></th><th scope=col>title</th><th scope=col>release_year</th><th scope=col>box_office</th><th scope=col>director</th></tr>\n",
       "\t<tr><th></th><th scope=col>&lt;chr&gt;</th><th scope=col>&lt;dbl&gt;</th><th scope=col>&lt;dbl&gt;</th><th scope=col>&lt;chr&gt;</th></tr>\n",
       "</thead>\n",
       "<tbody>\n",
       "\t<tr><th scope=row>1</th><td>The Fellowship of the Ring</td><td>2001</td><td> 897690072</td><td>Peter Jackson</td></tr>\n",
       "\t<tr><th scope=row>3</th><td>The Return of the King    </td><td>2003</td><td>1146030912</td><td>Peter Jackson</td></tr>\n",
       "</tbody>\n",
       "</table>\n"
      ],
      "text/latex": [
       "A data.frame: 2 × 4\n",
       "\\begin{tabular}{r|llll}\n",
       "  & title & release\\_year & box\\_office & director\\\\\n",
       "  & <chr> & <dbl> & <dbl> & <chr>\\\\\n",
       "\\hline\n",
       "\t1 & The Fellowship of the Ring & 2001 &  897690072 & Peter Jackson\\\\\n",
       "\t3 & The Return of the King     & 2003 & 1146030912 & Peter Jackson\\\\\n",
       "\\end{tabular}\n"
      ],
      "text/markdown": [
       "\n",
       "A data.frame: 2 × 4\n",
       "\n",
       "| <!--/--> | title &lt;chr&gt; | release_year &lt;dbl&gt; | box_office &lt;dbl&gt; | director &lt;chr&gt; |\n",
       "|---|---|---|---|---|\n",
       "| 1 | The Fellowship of the Ring | 2001 |  897690072 | Peter Jackson |\n",
       "| 3 | The Return of the King     | 2003 | 1146030912 | Peter Jackson |\n",
       "\n"
      ],
      "text/plain": [
       "  title                      release_year box_office director     \n",
       "1 The Fellowship of the Ring 2001          897690072 Peter Jackson\n",
       "3 The Return of the King     2003         1146030912 Peter Jackson"
      ]
     },
     "metadata": {},
     "output_type": "display_data"
    }
   ],
   "source": [
    "exclude_tt <- df$title != \"The Two Towers\"\n",
    "print(exclude_tt)\n",
    "df[exclude_tt,]"
   ]
  },
  {
   "cell_type": "code",
   "execution_count": 9,
   "metadata": {
    "slideshow": {
     "slide_type": "subslide"
    }
   },
   "outputs": [
    {
     "name": "stdout",
     "output_type": "stream",
     "text": [
      "[1]  TRUE FALSE  TRUE\n"
     ]
    },
    {
     "data": {
      "text/html": [
       "<table>\n",
       "<caption>A data.frame: 2 × 4</caption>\n",
       "<thead>\n",
       "\t<tr><th></th><th scope=col>title</th><th scope=col>release_year</th><th scope=col>box_office</th><th scope=col>director</th></tr>\n",
       "\t<tr><th></th><th scope=col>&lt;chr&gt;</th><th scope=col>&lt;dbl&gt;</th><th scope=col>&lt;dbl&gt;</th><th scope=col>&lt;chr&gt;</th></tr>\n",
       "</thead>\n",
       "<tbody>\n",
       "\t<tr><th scope=row>1</th><td>The Fellowship of the Ring</td><td>2001</td><td> 897690072</td><td>Peter Jackson</td></tr>\n",
       "\t<tr><th scope=row>3</th><td>The Return of the King    </td><td>2003</td><td>1146030912</td><td>Peter Jackson</td></tr>\n",
       "</tbody>\n",
       "</table>\n"
      ],
      "text/latex": [
       "A data.frame: 2 × 4\n",
       "\\begin{tabular}{r|llll}\n",
       "  & title & release\\_year & box\\_office & director\\\\\n",
       "  & <chr> & <dbl> & <dbl> & <chr>\\\\\n",
       "\\hline\n",
       "\t1 & The Fellowship of the Ring & 2001 &  897690072 & Peter Jackson\\\\\n",
       "\t3 & The Return of the King     & 2003 & 1146030912 & Peter Jackson\\\\\n",
       "\\end{tabular}\n"
      ],
      "text/markdown": [
       "\n",
       "A data.frame: 2 × 4\n",
       "\n",
       "| <!--/--> | title &lt;chr&gt; | release_year &lt;dbl&gt; | box_office &lt;dbl&gt; | director &lt;chr&gt; |\n",
       "|---|---|---|---|---|\n",
       "| 1 | The Fellowship of the Ring | 2001 |  897690072 | Peter Jackson |\n",
       "| 3 | The Return of the King     | 2003 | 1146030912 | Peter Jackson |\n",
       "\n"
      ],
      "text/plain": [
       "  title                      release_year box_office director     \n",
       "1 The Fellowship of the Ring 2001          897690072 Peter Jackson\n",
       "3 The Return of the King     2003         1146030912 Peter Jackson"
      ]
     },
     "metadata": {},
     "output_type": "display_data"
    }
   ],
   "source": [
    "exclude_tt <- df$release_year != 2002\n",
    "print(exclude_tt)\n",
    "df[exclude_tt,]"
   ]
  },
  {
   "cell_type": "markdown",
   "metadata": {
    "slideshow": {
     "slide_type": "subslide"
    }
   },
   "source": [
    "## 常用來觀察資料框的函數\n",
    "\n",
    "- `View`：顯示漂亮的資料框外觀。\n",
    "- `head`：顯示前 n 列。\n",
    "- `tail`：顯示後 n 列。\n",
    "- `colnames`：欄標籤。\n",
    "- `row.names`：列索引。"
   ]
  },
  {
   "cell_type": "code",
   "execution_count": 10,
   "metadata": {
    "slideshow": {
     "slide_type": "subslide"
    }
   },
   "outputs": [
    {
     "data": {
      "text/html": [
       "<table>\n",
       "<caption>A data.frame: 1 × 4</caption>\n",
       "<thead>\n",
       "\t<tr><th></th><th scope=col>title</th><th scope=col>release_year</th><th scope=col>box_office</th><th scope=col>director</th></tr>\n",
       "\t<tr><th></th><th scope=col>&lt;chr&gt;</th><th scope=col>&lt;dbl&gt;</th><th scope=col>&lt;dbl&gt;</th><th scope=col>&lt;chr&gt;</th></tr>\n",
       "</thead>\n",
       "<tbody>\n",
       "\t<tr><th scope=row>1</th><td>The Fellowship of the Ring</td><td>2001</td><td>897690072</td><td>Peter Jackson</td></tr>\n",
       "</tbody>\n",
       "</table>\n"
      ],
      "text/latex": [
       "A data.frame: 1 × 4\n",
       "\\begin{tabular}{r|llll}\n",
       "  & title & release\\_year & box\\_office & director\\\\\n",
       "  & <chr> & <dbl> & <dbl> & <chr>\\\\\n",
       "\\hline\n",
       "\t1 & The Fellowship of the Ring & 2001 & 897690072 & Peter Jackson\\\\\n",
       "\\end{tabular}\n"
      ],
      "text/markdown": [
       "\n",
       "A data.frame: 1 × 4\n",
       "\n",
       "| <!--/--> | title &lt;chr&gt; | release_year &lt;dbl&gt; | box_office &lt;dbl&gt; | director &lt;chr&gt; |\n",
       "|---|---|---|---|---|\n",
       "| 1 | The Fellowship of the Ring | 2001 | 897690072 | Peter Jackson |\n",
       "\n"
      ],
      "text/plain": [
       "  title                      release_year box_office director     \n",
       "1 The Fellowship of the Ring 2001         897690072  Peter Jackson"
      ]
     },
     "metadata": {},
     "output_type": "display_data"
    },
    {
     "data": {
      "text/html": [
       "<table>\n",
       "<caption>A data.frame: 1 × 4</caption>\n",
       "<thead>\n",
       "\t<tr><th></th><th scope=col>title</th><th scope=col>release_year</th><th scope=col>box_office</th><th scope=col>director</th></tr>\n",
       "\t<tr><th></th><th scope=col>&lt;chr&gt;</th><th scope=col>&lt;dbl&gt;</th><th scope=col>&lt;dbl&gt;</th><th scope=col>&lt;chr&gt;</th></tr>\n",
       "</thead>\n",
       "<tbody>\n",
       "\t<tr><th scope=row>3</th><td>The Return of the King</td><td>2003</td><td>1146030912</td><td>Peter Jackson</td></tr>\n",
       "</tbody>\n",
       "</table>\n"
      ],
      "text/latex": [
       "A data.frame: 1 × 4\n",
       "\\begin{tabular}{r|llll}\n",
       "  & title & release\\_year & box\\_office & director\\\\\n",
       "  & <chr> & <dbl> & <dbl> & <chr>\\\\\n",
       "\\hline\n",
       "\t3 & The Return of the King & 2003 & 1146030912 & Peter Jackson\\\\\n",
       "\\end{tabular}\n"
      ],
      "text/markdown": [
       "\n",
       "A data.frame: 1 × 4\n",
       "\n",
       "| <!--/--> | title &lt;chr&gt; | release_year &lt;dbl&gt; | box_office &lt;dbl&gt; | director &lt;chr&gt; |\n",
       "|---|---|---|---|---|\n",
       "| 3 | The Return of the King | 2003 | 1146030912 | Peter Jackson |\n",
       "\n"
      ],
      "text/plain": [
       "  title                  release_year box_office director     \n",
       "3 The Return of the King 2003         1146030912 Peter Jackson"
      ]
     },
     "metadata": {},
     "output_type": "display_data"
    },
    {
     "name": "stdout",
     "output_type": "stream",
     "text": [
      "[1] \"title\"        \"release_year\" \"box_office\"   \"director\"    \n",
      "[1] \"1\" \"2\" \"3\"\n"
     ]
    }
   ],
   "source": [
    "# View(df) # This function call works in RStudio\n",
    "head(df, n=1)\n",
    "tail(df, n=1)\n",
    "print(colnames(df))\n",
    "print(row.names(df))"
   ]
  },
  {
   "cell_type": "markdown",
   "metadata": {
    "slideshow": {
     "slide_type": "subslide"
    }
   },
   "source": [
    "## 常用來觀察資料框的函數（Cont'd）\n",
    "\n",
    "- `summary`：顯示描述性統計。\n",
    "- `str`：顯示結構。\n",
    "- `dim`：顯示維度。\n",
    "- `nrow`：顯示列數。\n",
    "- `ncol`：顯示欄數。"
   ]
  },
  {
   "cell_type": "code",
   "execution_count": 11,
   "metadata": {
    "slideshow": {
     "slide_type": "subslide"
    }
   },
   "outputs": [
    {
     "data": {
      "text/plain": [
       "    title            release_year    box_office          director        \n",
       " Length:3           Min.   :2001   Min.   :8.977e+08   Length:3          \n",
       " Class :character   1st Qu.:2002   1st Qu.:9.226e+08   Class :character  \n",
       " Mode  :character   Median :2002   Median :9.475e+08   Mode  :character  \n",
       "                    Mean   :2002   Mean   :9.971e+08                     \n",
       "                    3rd Qu.:2002   3rd Qu.:1.047e+09                     \n",
       "                    Max.   :2003   Max.   :1.146e+09                     "
      ]
     },
     "metadata": {},
     "output_type": "display_data"
    },
    {
     "name": "stdout",
     "output_type": "stream",
     "text": [
      "'data.frame':\t3 obs. of  4 variables:\n",
      " $ title       : chr  \"The Fellowship of the Ring\" \"The Two Towers\" \"The Return of the King\"\n",
      " $ release_year: num  2001 2002 2003\n",
      " $ box_office  : num  8.98e+08 9.47e+08 1.15e+09\n",
      " $ director    : chr  \"Peter Jackson\" \"Peter Jackson\" \"Peter Jackson\"\n",
      "[1] 3 4\n",
      "[1] 3\n",
      "[1] 4\n"
     ]
    }
   ],
   "source": [
    "summary(df)\n",
    "str(df)\n",
    "print(dim(df))\n",
    "print(nrow(df))\n",
    "print(ncol(df))"
   ]
  },
  {
   "cell_type": "markdown",
   "metadata": {
    "slideshow": {
     "slide_type": "slide"
    }
   },
   "source": [
    "## 如何更新資料框"
   ]
  },
  {
   "cell_type": "markdown",
   "metadata": {
    "slideshow": {
     "slide_type": "subslide"
    }
   },
   "source": [
    "## 更新資料框變數命名\n",
    "\n",
    "使用 `colnames` 函數。\n",
    "\n",
    "```r\n",
    "colnames(x)\n",
    "```"
   ]
  },
  {
   "cell_type": "code",
   "execution_count": 12,
   "metadata": {
    "slideshow": {
     "slide_type": "subslide"
    }
   },
   "outputs": [
    {
     "data": {
      "text/html": [
       "<table>\n",
       "<caption>A data.frame: 3 × 4</caption>\n",
       "<thead>\n",
       "\t<tr><th scope=col>title</th><th scope=col>release_year</th><th scope=col>box_office</th><th scope=col>director</th></tr>\n",
       "\t<tr><th scope=col>&lt;chr&gt;</th><th scope=col>&lt;dbl&gt;</th><th scope=col>&lt;dbl&gt;</th><th scope=col>&lt;chr&gt;</th></tr>\n",
       "</thead>\n",
       "<tbody>\n",
       "\t<tr><td>The Fellowship of the Ring</td><td>2001</td><td> 897690072</td><td>Peter Jackson</td></tr>\n",
       "\t<tr><td>The Two Towers            </td><td>2002</td><td> 947495095</td><td>Peter Jackson</td></tr>\n",
       "\t<tr><td>The Return of the King    </td><td>2003</td><td>1146030912</td><td>Peter Jackson</td></tr>\n",
       "</tbody>\n",
       "</table>\n"
      ],
      "text/latex": [
       "A data.frame: 3 × 4\n",
       "\\begin{tabular}{llll}\n",
       " title & release\\_year & box\\_office & director\\\\\n",
       " <chr> & <dbl> & <dbl> & <chr>\\\\\n",
       "\\hline\n",
       "\t The Fellowship of the Ring & 2001 &  897690072 & Peter Jackson\\\\\n",
       "\t The Two Towers             & 2002 &  947495095 & Peter Jackson\\\\\n",
       "\t The Return of the King     & 2003 & 1146030912 & Peter Jackson\\\\\n",
       "\\end{tabular}\n"
      ],
      "text/markdown": [
       "\n",
       "A data.frame: 3 × 4\n",
       "\n",
       "| title &lt;chr&gt; | release_year &lt;dbl&gt; | box_office &lt;dbl&gt; | director &lt;chr&gt; |\n",
       "|---|---|---|---|\n",
       "| The Fellowship of the Ring | 2001 |  897690072 | Peter Jackson |\n",
       "| The Two Towers             | 2002 |  947495095 | Peter Jackson |\n",
       "| The Return of the King     | 2003 | 1146030912 | Peter Jackson |\n",
       "\n"
      ],
      "text/plain": [
       "  title                      release_year box_office director     \n",
       "1 The Fellowship of the Ring 2001          897690072 Peter Jackson\n",
       "2 The Two Towers             2002          947495095 Peter Jackson\n",
       "3 The Return of the King     2003         1146030912 Peter Jackson"
      ]
     },
     "metadata": {},
     "output_type": "display_data"
    }
   ],
   "source": [
    "df <- data.frame(titles, release_years, box_offices, director)\n",
    "colnames(df) <- c(\"title\", \"release_year\", \"box_office\", \"director\")\n",
    "df"
   ]
  },
  {
   "cell_type": "markdown",
   "metadata": {
    "slideshow": {
     "slide_type": "subslide"
    }
   },
   "source": [
    "## 除了變數命名可以更新，列索引也可以自訂\n",
    "\n",
    "使用 `row.names` 函數。\n",
    "\n",
    "```r\n",
    "row.names(x)\n",
    "```"
   ]
  },
  {
   "cell_type": "code",
   "execution_count": 13,
   "metadata": {
    "slideshow": {
     "slide_type": "subslide"
    }
   },
   "outputs": [
    {
     "data": {
      "text/html": [
       "<table>\n",
       "<caption>A data.frame: 3 × 4</caption>\n",
       "<thead>\n",
       "\t<tr><th></th><th scope=col>title</th><th scope=col>release_year</th><th scope=col>box_office</th><th scope=col>director</th></tr>\n",
       "\t<tr><th></th><th scope=col>&lt;chr&gt;</th><th scope=col>&lt;dbl&gt;</th><th scope=col>&lt;dbl&gt;</th><th scope=col>&lt;chr&gt;</th></tr>\n",
       "</thead>\n",
       "<tbody>\n",
       "\t<tr><th scope=row>first</th><td>The Fellowship of the Ring</td><td>2001</td><td> 897690072</td><td>Peter Jackson</td></tr>\n",
       "\t<tr><th scope=row>second</th><td>The Two Towers            </td><td>2002</td><td> 947495095</td><td>Peter Jackson</td></tr>\n",
       "\t<tr><th scope=row>third</th><td>The Return of the King    </td><td>2003</td><td>1146030912</td><td>Peter Jackson</td></tr>\n",
       "</tbody>\n",
       "</table>\n"
      ],
      "text/latex": [
       "A data.frame: 3 × 4\n",
       "\\begin{tabular}{r|llll}\n",
       "  & title & release\\_year & box\\_office & director\\\\\n",
       "  & <chr> & <dbl> & <dbl> & <chr>\\\\\n",
       "\\hline\n",
       "\tfirst & The Fellowship of the Ring & 2001 &  897690072 & Peter Jackson\\\\\n",
       "\tsecond & The Two Towers             & 2002 &  947495095 & Peter Jackson\\\\\n",
       "\tthird & The Return of the King     & 2003 & 1146030912 & Peter Jackson\\\\\n",
       "\\end{tabular}\n"
      ],
      "text/markdown": [
       "\n",
       "A data.frame: 3 × 4\n",
       "\n",
       "| <!--/--> | title &lt;chr&gt; | release_year &lt;dbl&gt; | box_office &lt;dbl&gt; | director &lt;chr&gt; |\n",
       "|---|---|---|---|---|\n",
       "| first | The Fellowship of the Ring | 2001 |  897690072 | Peter Jackson |\n",
       "| second | The Two Towers             | 2002 |  947495095 | Peter Jackson |\n",
       "| third | The Return of the King     | 2003 | 1146030912 | Peter Jackson |\n",
       "\n"
      ],
      "text/plain": [
       "       title                      release_year box_office director     \n",
       "first  The Fellowship of the Ring 2001          897690072 Peter Jackson\n",
       "second The Two Towers             2002          947495095 Peter Jackson\n",
       "third  The Return of the King     2003         1146030912 Peter Jackson"
      ]
     },
     "metadata": {},
     "output_type": "display_data"
    }
   ],
   "source": [
    "row.names(df) <- c(\"first\", \"second\", \"third\")\n",
    "df"
   ]
  },
  {
   "cell_type": "markdown",
   "metadata": {
    "slideshow": {
     "slide_type": "subslide"
    }
   },
   "source": [
    "## 新增變數：宣告名稱與資料值"
   ]
  },
  {
   "cell_type": "code",
   "execution_count": 14,
   "metadata": {},
   "outputs": [
    {
     "data": {
      "text/html": [
       "<table>\n",
       "<caption>A data.frame: 3 × 5</caption>\n",
       "<thead>\n",
       "\t<tr><th></th><th scope=col>title</th><th scope=col>release_year</th><th scope=col>box_office</th><th scope=col>director</th><th scope=col>length</th></tr>\n",
       "\t<tr><th></th><th scope=col>&lt;chr&gt;</th><th scope=col>&lt;dbl&gt;</th><th scope=col>&lt;dbl&gt;</th><th scope=col>&lt;chr&gt;</th><th scope=col>&lt;dbl&gt;</th></tr>\n",
       "</thead>\n",
       "<tbody>\n",
       "\t<tr><th scope=row>first</th><td>The Fellowship of the Ring</td><td>2001</td><td> 897690072</td><td>Peter Jackson</td><td>178</td></tr>\n",
       "\t<tr><th scope=row>second</th><td>The Two Towers            </td><td>2002</td><td> 947495095</td><td>Peter Jackson</td><td>179</td></tr>\n",
       "\t<tr><th scope=row>third</th><td>The Return of the King    </td><td>2003</td><td>1146030912</td><td>Peter Jackson</td><td>201</td></tr>\n",
       "</tbody>\n",
       "</table>\n"
      ],
      "text/latex": [
       "A data.frame: 3 × 5\n",
       "\\begin{tabular}{r|lllll}\n",
       "  & title & release\\_year & box\\_office & director & length\\\\\n",
       "  & <chr> & <dbl> & <dbl> & <chr> & <dbl>\\\\\n",
       "\\hline\n",
       "\tfirst & The Fellowship of the Ring & 2001 &  897690072 & Peter Jackson & 178\\\\\n",
       "\tsecond & The Two Towers             & 2002 &  947495095 & Peter Jackson & 179\\\\\n",
       "\tthird & The Return of the King     & 2003 & 1146030912 & Peter Jackson & 201\\\\\n",
       "\\end{tabular}\n"
      ],
      "text/markdown": [
       "\n",
       "A data.frame: 3 × 5\n",
       "\n",
       "| <!--/--> | title &lt;chr&gt; | release_year &lt;dbl&gt; | box_office &lt;dbl&gt; | director &lt;chr&gt; | length &lt;dbl&gt; |\n",
       "|---|---|---|---|---|---|\n",
       "| first | The Fellowship of the Ring | 2001 |  897690072 | Peter Jackson | 178 |\n",
       "| second | The Two Towers             | 2002 |  947495095 | Peter Jackson | 179 |\n",
       "| third | The Return of the King     | 2003 | 1146030912 | Peter Jackson | 201 |\n",
       "\n"
      ],
      "text/plain": [
       "       title                      release_year box_office director      length\n",
       "first  The Fellowship of the Ring 2001          897690072 Peter Jackson 178   \n",
       "second The Two Towers             2002          947495095 Peter Jackson 179   \n",
       "third  The Return of the King     2003         1146030912 Peter Jackson 201   "
      ]
     },
     "metadata": {},
     "output_type": "display_data"
    }
   ],
   "source": [
    "df[[\"length\"]] <- c(178, 179, 201)\n",
    "df"
   ]
  },
  {
   "cell_type": "markdown",
   "metadata": {
    "slideshow": {
     "slide_type": "subslide"
    }
   },
   "source": [
    "## 新增變數：使用 `cbind` 函數"
   ]
  },
  {
   "cell_type": "code",
   "execution_count": 15,
   "metadata": {},
   "outputs": [
    {
     "data": {
      "text/html": [
       "<table>\n",
       "<caption>A data.frame: 3 × 6</caption>\n",
       "<thead>\n",
       "\t<tr><th></th><th scope=col>title</th><th scope=col>release_year</th><th scope=col>box_office</th><th scope=col>director</th><th scope=col>length</th><th scope=col>movie_length</th></tr>\n",
       "\t<tr><th></th><th scope=col>&lt;chr&gt;</th><th scope=col>&lt;dbl&gt;</th><th scope=col>&lt;dbl&gt;</th><th scope=col>&lt;chr&gt;</th><th scope=col>&lt;dbl&gt;</th><th scope=col>&lt;dbl&gt;</th></tr>\n",
       "</thead>\n",
       "<tbody>\n",
       "\t<tr><th scope=row>first</th><td>The Fellowship of the Ring</td><td>2001</td><td> 897690072</td><td>Peter Jackson</td><td>178</td><td>178</td></tr>\n",
       "\t<tr><th scope=row>second</th><td>The Two Towers            </td><td>2002</td><td> 947495095</td><td>Peter Jackson</td><td>179</td><td>179</td></tr>\n",
       "\t<tr><th scope=row>third</th><td>The Return of the King    </td><td>2003</td><td>1146030912</td><td>Peter Jackson</td><td>201</td><td>201</td></tr>\n",
       "</tbody>\n",
       "</table>\n"
      ],
      "text/latex": [
       "A data.frame: 3 × 6\n",
       "\\begin{tabular}{r|llllll}\n",
       "  & title & release\\_year & box\\_office & director & length & movie\\_length\\\\\n",
       "  & <chr> & <dbl> & <dbl> & <chr> & <dbl> & <dbl>\\\\\n",
       "\\hline\n",
       "\tfirst & The Fellowship of the Ring & 2001 &  897690072 & Peter Jackson & 178 & 178\\\\\n",
       "\tsecond & The Two Towers             & 2002 &  947495095 & Peter Jackson & 179 & 179\\\\\n",
       "\tthird & The Return of the King     & 2003 & 1146030912 & Peter Jackson & 201 & 201\\\\\n",
       "\\end{tabular}\n"
      ],
      "text/markdown": [
       "\n",
       "A data.frame: 3 × 6\n",
       "\n",
       "| <!--/--> | title &lt;chr&gt; | release_year &lt;dbl&gt; | box_office &lt;dbl&gt; | director &lt;chr&gt; | length &lt;dbl&gt; | movie_length &lt;dbl&gt; |\n",
       "|---|---|---|---|---|---|---|\n",
       "| first | The Fellowship of the Ring | 2001 |  897690072 | Peter Jackson | 178 | 178 |\n",
       "| second | The Two Towers             | 2002 |  947495095 | Peter Jackson | 179 | 179 |\n",
       "| third | The Return of the King     | 2003 | 1146030912 | Peter Jackson | 201 | 201 |\n",
       "\n"
      ],
      "text/plain": [
       "       title                      release_year box_office director      length\n",
       "first  The Fellowship of the Ring 2001          897690072 Peter Jackson 178   \n",
       "second The Two Towers             2002          947495095 Peter Jackson 179   \n",
       "third  The Return of the King     2003         1146030912 Peter Jackson 201   \n",
       "       movie_length\n",
       "first  178         \n",
       "second 179         \n",
       "third  201         "
      ]
     },
     "metadata": {},
     "output_type": "display_data"
    }
   ],
   "source": [
    "movie_length <- c(178, 179, 201)\n",
    "df <- cbind(df, movie_length)\n",
    "df"
   ]
  },
  {
   "cell_type": "markdown",
   "metadata": {
    "slideshow": {
     "slide_type": "subslide"
    }
   },
   "source": [
    "## 新增觀測值：使用 `rbind` 函數"
   ]
  },
  {
   "cell_type": "code",
   "execution_count": 16,
   "metadata": {
    "slideshow": {
     "slide_type": "-"
    }
   },
   "outputs": [
    {
     "ename": "ERROR",
     "evalue": "Error in rbind(deparse.level, ...): numbers of columns of arguments do not match\n",
     "output_type": "error",
     "traceback": [
      "Error in rbind(deparse.level, ...): numbers of columns of arguments do not match\nTraceback:\n",
      "1. rbind(df, hobbit_df)",
      "2. rbind(deparse.level, ...)",
      "3. stop(\"numbers of columns of arguments do not match\")"
     ]
    }
   ],
   "source": [
    "hobbit_df <- list(\n",
    "    title = \"The Hobbit: An Unexpected Journey\",\n",
    "    release_year = 2012,\n",
    "    box_office = 1017003568,\n",
    "    director = \"Peter Jackson\"\n",
    ")\n",
    "rbind(df, hobbit_df)"
   ]
  },
  {
   "cell_type": "markdown",
   "metadata": {
    "slideshow": {
     "slide_type": "slide"
    }
   },
   "source": [
    "## 如何刪除資料框"
   ]
  },
  {
   "cell_type": "markdown",
   "metadata": {
    "slideshow": {
     "slide_type": "subslide"
    }
   },
   "source": [
    "## 刪除資料框的變數\n",
    "\n",
    "- 使用 `[, -index]`。\n",
    "- 以空值 `NULL` 更新。"
   ]
  },
  {
   "cell_type": "markdown",
   "metadata": {
    "slideshow": {
     "slide_type": "subslide"
    }
   },
   "source": [
    "## 使用 `[, -index]`"
   ]
  },
  {
   "cell_type": "code",
   "execution_count": null,
   "metadata": {},
   "outputs": [],
   "source": [
    "df <- data.frame(\n",
    "    title = titles,\n",
    "    release_year = release_years,\n",
    "    box_office = box_offices,\n",
    "    director = director\n",
    ")\n",
    "df[, -4]"
   ]
  },
  {
   "cell_type": "code",
   "execution_count": null,
   "metadata": {
    "slideshow": {
     "slide_type": "subslide"
    }
   },
   "outputs": [],
   "source": [
    "df[, -c(3, 4)]"
   ]
  },
  {
   "cell_type": "markdown",
   "metadata": {
    "slideshow": {
     "slide_type": "subslide"
    }
   },
   "source": [
    "## 以空值 `NULL` 更新"
   ]
  },
  {
   "cell_type": "code",
   "execution_count": null,
   "metadata": {
    "slideshow": {
     "slide_type": "-"
    }
   },
   "outputs": [],
   "source": [
    "df[\"director\"] <- NULL\n",
    "df[\"box_office\"] <- NULL\n",
    "df"
   ]
  },
  {
   "cell_type": "markdown",
   "metadata": {
    "slideshow": {
     "slide_type": "subslide"
    }
   },
   "source": [
    "## 刪除資料框的觀測值\n",
    "\n",
    "- 使用 `[-index,]`。\n",
    "- 使用邏輯值 `[CONDITION,]`。"
   ]
  },
  {
   "cell_type": "markdown",
   "metadata": {
    "slideshow": {
     "slide_type": "subslide"
    }
   },
   "source": [
    "## 使用 `[-index,]`"
   ]
  },
  {
   "cell_type": "code",
   "execution_count": null,
   "metadata": {},
   "outputs": [],
   "source": [
    "df <- data.frame(\n",
    "    title = titles,\n",
    "    release_year = release_years,\n",
    "    box_office = box_offices,\n",
    "    director = director\n",
    ")\n",
    "df[-2,]"
   ]
  },
  {
   "cell_type": "code",
   "execution_count": null,
   "metadata": {
    "slideshow": {
     "slide_type": "subslide"
    }
   },
   "outputs": [],
   "source": [
    "df[-c(1, 3),]"
   ]
  },
  {
   "cell_type": "markdown",
   "metadata": {
    "slideshow": {
     "slide_type": "subslide"
    }
   },
   "source": [
    "## 使用邏輯值 `[CONDITION,]`"
   ]
  },
  {
   "cell_type": "code",
   "execution_count": null,
   "metadata": {},
   "outputs": [],
   "source": [
    "exclude_tt <- df$title != \"The Two Towers\"\n",
    "df[exclude_tt,]"
   ]
  },
  {
   "cell_type": "markdown",
   "metadata": {
    "slideshow": {
     "slide_type": "subslide"
    }
   },
   "source": [
    "## 使用 `rm` 函數刪除資料框命名"
   ]
  },
  {
   "cell_type": "code",
   "execution_count": null,
   "metadata": {},
   "outputs": [],
   "source": [
    "df <- data.frame(\n",
    "    title = titles,\n",
    "    release_year = release_years,\n",
    "    box_office = box_offices,\n",
    "    director = director\n",
    ")\n",
    "environment_objects <- ls()\n",
    "print(\"df\" %in% environment_objects)\n",
    "rm(df)\n",
    "environment_objects <- ls()\n",
    "print(\"df\" %in% environment_objects)"
   ]
  },
  {
   "cell_type": "markdown",
   "metadata": {
    "slideshow": {
     "slide_type": "slide"
    }
   },
   "source": [
    "## 重點統整\n",
    "\n",
    "- 資料框是 R 語言中用來處理「表格式」的資料結構\n",
    "- 資料框具有列（Rows）與欄（Columns）兩個維度儲存資料，列常被稱為觀測值、欄常被稱為變數，\n",
    "- 一個 `m` 列 `n` 欄的資料框外型可以被描述為 `m x n` 或者 `(m, n)`。"
   ]
  },
  {
   "cell_type": "markdown",
   "metadata": {
    "slideshow": {
     "slide_type": "subslide"
    }
   },
   "source": [
    "## 重點統整（續）\n",
    "\n",
    "- 使用 `data.frame` 函數創造資料框。\n",
    "- 如何讀取資料框的變數：\n",
    "    - 使用兩組中括號 `[[\"column_name\"]]`。\n",
    "    - 使用錢號 `$column_name`。\n",
    "    - 使用欄位順序 `[, column_index]`。"
   ]
  },
  {
   "cell_type": "markdown",
   "metadata": {
    "slideshow": {
     "slide_type": "subslide"
    }
   },
   "source": [
    "## 重點統整（續）\n",
    "\n",
    "- 如何讀取資料框的觀測值：\n",
    "    - 使用列數 `[row_index,]` 讀取對應的觀測值。\n",
    "    - 使用邏輯值向量 `[logicals,]` 讀取判斷結果為 TRUE 的觀測值。\n",
    "- 如何讀取資料框的列索引與欄標籤：\n",
    "    - 使用 `row.names` 函數讀取列索引。\n",
    "    - 使用 `colnames` 函數讀取欄標籤。"
   ]
  }
 ],
 "metadata": {
  "celltoolbar": "Slideshow",
  "kernelspec": {
   "display_name": "R",
   "language": "R",
   "name": "ir"
  },
  "language_info": {
   "codemirror_mode": "r",
   "file_extension": ".r",
   "mimetype": "text/x-r-source",
   "name": "R",
   "pygments_lexer": "r",
   "version": "4.0.5"
  }
 },
 "nbformat": 4,
 "nbformat_minor": 2
}
